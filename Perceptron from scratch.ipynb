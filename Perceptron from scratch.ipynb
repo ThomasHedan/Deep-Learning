{
 "cells": [
  {
   "cell_type": "code",
   "execution_count": 2,
   "id": "70009e73",
   "metadata": {},
   "outputs": [],
   "source": [
    "import random as rd\n",
    "import numpy as np"
   ]
  },
  {
   "attachments": {},
   "cell_type": "markdown",
   "id": "26a68731",
   "metadata": {},
   "source": [
    "## 1: initialize the neural network"
   ]
  },
  {
   "cell_type": "code",
   "execution_count": 3,
   "id": "2da9564a",
   "metadata": {},
   "outputs": [],
   "source": [
    "def initialize_network ( n_inputs , n_hidden , n_outputs ) :\n",
    "    network = list()\n",
    "    hidden_layer = [{ 'weights':[ rd.random() for i in range(n_inputs+1)]} for i in range(n_hidden)]\n",
    "    network.append( hidden_layer )\n",
    "    output_layer = [{ 'weights':[ rd.random() for i in range(n_hidden+1)]} for i in range(n_outputs)]\n",
    "    network.append( output_layer )\n",
    "    return network\n"
   ]
  },
  {
   "cell_type": "code",
   "execution_count": 4,
   "id": "2a492183",
   "metadata": {},
   "outputs": [],
   "source": [
    "rd.seed(1)\n",
    "my_network = initialize_network(2,2,2)"
   ]
  },
  {
   "cell_type": "code",
   "execution_count": 5,
   "id": "81039551",
   "metadata": {},
   "outputs": [
    {
     "name": "stdout",
     "output_type": "stream",
     "text": [
      "hidden layer :  [{'weights': [0.13436424411240122, 0.8474337369372327, 0.763774618976614]}, {'weights': [0.2550690257394217, 0.49543508709194095, 0.4494910647887381]}]\n",
      "output layer :  [{'weights': [0.651592972722763, 0.7887233511355132, 0.0938595867742349]}, {'weights': [0.02834747652200631, 0.8357651039198697, 0.43276706790505337]}]\n"
     ]
    }
   ],
   "source": [
    "print('hidden layer : ' , my_network[0])\n",
    "print('output layer : ' , my_network[1])"
   ]
  },
  {
   "attachments": {},
   "cell_type": "markdown",
   "id": "ed02c4af",
   "metadata": {},
   "source": [
    "## 2 Create a write function to understand the structure of our network:"
   ]
  },
  {
   "cell_type": "code",
   "execution_count": 7,
   "id": "d2f7f3f2",
   "metadata": {},
   "outputs": [],
   "source": [
    "def write(network):\n",
    "    for i in range(len(network)):\n",
    "        layer = network[i]\n",
    "        print('layer :',i+1,'\\n')\n",
    "        for neuron in layer:\n",
    "            print(neuron,'\\n')"
   ]
  },
  {
   "cell_type": "code",
   "execution_count": 8,
   "id": "527832c0",
   "metadata": {},
   "outputs": [
    {
     "name": "stdout",
     "output_type": "stream",
     "text": [
      "layer : 1 \n",
      "\n",
      "{'weights': [0.13436424411240122, 0.8474337369372327, 0.763774618976614]} \n",
      "\n",
      "{'weights': [0.2550690257394217, 0.49543508709194095, 0.4494910647887381]} \n",
      "\n",
      "layer : 2 \n",
      "\n",
      "{'weights': [0.651592972722763, 0.7887233511355132, 0.0938595867742349]} \n",
      "\n",
      "{'weights': [0.02834747652200631, 0.8357651039198697, 0.43276706790505337]} \n",
      "\n"
     ]
    }
   ],
   "source": [
    "write(my_network)"
   ]
  },
  {
   "attachments": {},
   "cell_type": "markdown",
   "id": "a8216669",
   "metadata": {},
   "source": [
    "## 3: the activation"
   ]
  },
  {
   "cell_type": "code",
   "execution_count": 9,
   "id": "ba507766",
   "metadata": {},
   "outputs": [],
   "source": [
    "def activation(weights,inputs):\n",
    "    return np.sum(np.array(weights[:-1])*np.array(inputs)) + weights[-1]"
   ]
  },
  {
   "cell_type": "code",
   "execution_count": 10,
   "id": "c541e3f9",
   "metadata": {},
   "outputs": [
    {
     "name": "stdout",
     "output_type": "stream",
     "text": [
      "3.5\n"
     ]
    }
   ],
   "source": [
    "L=np.array([1,2])\n",
    "L2=np.array([0.5,1,1])\n",
    "print(activation(L2,L))"
   ]
  },
  {
   "attachments": {},
   "cell_type": "markdown",
   "id": "7ff77797",
   "metadata": {},
   "source": [
    "## 4: the activation function"
   ]
  },
  {
   "cell_type": "code",
   "execution_count": 11,
   "id": "a19c5955",
   "metadata": {},
   "outputs": [],
   "source": [
    "def sigmoid(x):\n",
    "    return 1/(1+np.exp(-x))"
   ]
  },
  {
   "cell_type": "code",
   "execution_count": 12,
   "id": "68259b69",
   "metadata": {},
   "outputs": [
    {
     "data": {
      "text/plain": [
       "0.5"
      ]
     },
     "execution_count": 12,
     "metadata": {},
     "output_type": "execute_result"
    }
   ],
   "source": [
    "sigmoid(0)"
   ]
  },
  {
   "attachments": {},
   "cell_type": "markdown",
   "id": "59458cf1",
   "metadata": {},
   "source": [
    "## 5: Foward propagation"
   ]
  },
  {
   "cell_type": "code",
   "execution_count": 13,
   "id": "8674a054",
   "metadata": {},
   "outputs": [],
   "source": [
    "def foward_propagate( network , row ):\n",
    "    inputs = row\n",
    "    for layer in network :\n",
    "        new_inputs = []\n",
    "        for neuron in layer :\n",
    "            neuron ['output'] = sigmoid(activation(neuron['weights'],inputs))\n",
    "            new_inputs.append(neuron ['output'])\n",
    "        inputs = new_inputs\n",
    "    return inputs\n"
   ]
  },
  {
   "attachments": {},
   "cell_type": "markdown",
   "id": "f4958857",
   "metadata": {},
   "source": [
    "## 6: test the foward propagation"
   ]
  },
  {
   "cell_type": "code",
   "execution_count": 14,
   "id": "908f92a7",
   "metadata": {},
   "outputs": [],
   "source": [
    "network = initialize_network(3, 2, 2)"
   ]
  },
  {
   "cell_type": "code",
   "execution_count": 15,
   "id": "6490221e",
   "metadata": {},
   "outputs": [
    {
     "data": {
      "text/plain": [
       "[0.7936401903916153, 0.7043763230494378]"
      ]
     },
     "execution_count": 15,
     "metadata": {},
     "output_type": "execute_result"
    }
   ],
   "source": [
    "foward_propagate(network,row=[rd.randint(0, 1) for i in range(3)])"
   ]
  },
  {
   "cell_type": "code",
   "execution_count": 16,
   "id": "95e11b74",
   "metadata": {},
   "outputs": [
    {
     "name": "stdout",
     "output_type": "stream",
     "text": [
      "layer : 1 \n",
      "\n",
      "{'weights': [0.762280082457942, 0.0021060533511106927, 0.4453871940548014, 0.7215400323407826], 'output': 0.7625891484250534} \n",
      "\n",
      "{'weights': [0.22876222127045265, 0.9452706955539223, 0.9014274576114836, 0.030589983033553536], 'output': 0.7174844011571567} \n",
      "\n",
      "layer : 2 \n",
      "\n",
      "{'weights': [0.0254458609934608, 0.5414124727934966, 0.9391491627785106], 'output': 0.7936401903916153} \n",
      "\n",
      "{'weights': [0.38120423768821243, 0.21659939713061338, 0.4221165755827173], 'output': 0.7043763230494378} \n",
      "\n"
     ]
    }
   ],
   "source": [
    "write(network)"
   ]
  },
  {
   "attachments": {},
   "cell_type": "markdown",
   "id": "a3083066",
   "metadata": {},
   "source": [
    "## 7: transfer derivative"
   ]
  },
  {
   "cell_type": "code",
   "execution_count": 17,
   "id": "5d3def0d",
   "metadata": {},
   "outputs": [],
   "source": [
    "def transfer_derivative(output):\n",
    "    return output*(1.-output)"
   ]
  },
  {
   "cell_type": "code",
   "execution_count": 18,
   "id": "f1e867f1",
   "metadata": {},
   "outputs": [
    {
     "data": {
      "text/plain": [
       "0.25"
      ]
     },
     "execution_count": 18,
     "metadata": {},
     "output_type": "execute_result"
    }
   ],
   "source": [
    "transfer_derivative(1/2)"
   ]
  },
  {
   "attachments": {},
   "cell_type": "markdown",
   "id": "1aa26741",
   "metadata": {},
   "source": [
    "## 8: Backward propagation"
   ]
  },
  {
   "cell_type": "code",
   "execution_count": 19,
   "id": "5dbe4966",
   "metadata": {},
   "outputs": [],
   "source": [
    "def backward_propagate_error(network,expected):\n",
    "    for i in reversed(range(len(network))):\n",
    "        layer = network[i]\n",
    "        errors = list()\n",
    "        if(i != len(network)-1):\n",
    "            for j in range(len(layer)):\n",
    "                error=0.0\n",
    "                for neuron in network[i+1]:\n",
    "                    error += (neuron['weights'][j]*neuron['delta'])\n",
    "                errors.append(error)\n",
    "        else:\n",
    "            for j in range(len(layer)):\n",
    "                neuron = layer[j]\n",
    "                errors.append(expected[j]-neuron['output'])\n",
    "                \n",
    "        for j in range(len(layer)):\n",
    "            neuron = layer[j]\n",
    "            neuron['delta'] = errors[j] * transfer_derivative(neuron['output'])\n",
    "            \n",
    "            "
   ]
  },
  {
   "attachments": {},
   "cell_type": "markdown",
   "id": "dee54563",
   "metadata": {},
   "source": [
    "## 9: test the back propagation"
   ]
  },
  {
   "cell_type": "code",
   "execution_count": 20,
   "id": "76f8dccc",
   "metadata": {},
   "outputs": [],
   "source": [
    "backward_propagate_error(network,[5,6])"
   ]
  },
  {
   "cell_type": "code",
   "execution_count": 21,
   "id": "d1c9c8b1",
   "metadata": {},
   "outputs": [
    {
     "name": "stdout",
     "output_type": "stream",
     "text": [
      "layer : 1 \n",
      "\n",
      "{'weights': [0.762280082457942, 0.0021060533511106927, 0.4453871940548014, 0.7215400323407826], 'output': 0.7625891484250534, 'delta': 0.07927812126589516} \n",
      "\n",
      "{'weights': [0.22876222127045265, 0.9452706955539223, 0.9014274576114836, 0.030589983033553536], 'output': 0.7174844011571567, 'delta': 0.12401713152131084} \n",
      "\n",
      "layer : 2 \n",
      "\n",
      "{'weights': [0.0254458609934608, 0.5414124727934966, 0.9391491627785106], 'output': 0.7936401903916153, 'delta': 0.6888984226724005} \n",
      "\n",
      "{'weights': [0.38120423768821243, 0.21659939713061338, 0.4221165755827173], 'output': 0.7043763230494378, 'delta': 1.1027094053142175} \n",
      "\n"
     ]
    }
   ],
   "source": [
    "write(network)"
   ]
  },
  {
   "cell_type": "code",
   "execution_count": 22,
   "id": "8ceebc0a",
   "metadata": {},
   "outputs": [],
   "source": [
    "backward_propagate_error(network,[0,0])"
   ]
  },
  {
   "cell_type": "code",
   "execution_count": 23,
   "id": "388aa20d",
   "metadata": {},
   "outputs": [
    {
     "name": "stdout",
     "output_type": "stream",
     "text": [
      "layer : 1 \n",
      "\n",
      "{'weights': [0.762280082457942, 0.0021060533511106927, 0.4453871940548014, 0.7215400323407826], 'output': 0.7625891484250534, 'delta': -0.010721527790011133} \n",
      "\n",
      "{'weights': [0.22876222127045265, 0.9452706955539223, 0.9014274576114836, 0.030589983033553536], 'output': 0.7174844011571567, 'delta': -0.02070409695677861} \n",
      "\n",
      "layer : 2 \n",
      "\n",
      "{'weights': [0.0254458609934608, 0.5414124727934966, 0.9391491627785106], 'output': 0.7936401903916153, 'delta': -0.12997877026147914} \n",
      "\n",
      "{'weights': [0.38120423768821243, 0.21659939713061338, 0.4221165755827173], 'output': 0.7043763230494378, 'delta': -0.14667250614653368} \n",
      "\n"
     ]
    }
   ],
   "source": [
    "write(network)"
   ]
  },
  {
   "attachments": {},
   "cell_type": "markdown",
   "id": "5cd517e8",
   "metadata": {},
   "source": [
    "## 10: Update weights"
   ]
  },
  {
   "cell_type": "code",
   "execution_count": 24,
   "id": "17c3afca",
   "metadata": {},
   "outputs": [],
   "source": [
    "def update_weights(network,row,l_rate):\n",
    "    for i in range(len(network)):\n",
    "        inputs = row[:-1]\n",
    "        if i != 0:\n",
    "            inputs = [neuron['output'] for neuron in network[i - 1]]\n",
    "        for neuron in network[i]:\n",
    "            for j in range(len(inputs)):\n",
    "                neuron['weights'][j] += l_rate * neuron['delta'] * inputs[j]\n",
    "            neuron['weights'][-1] += l_rate * neuron['delta']"
   ]
  },
  {
   "cell_type": "code",
   "execution_count": 25,
   "id": "155e06cc",
   "metadata": {},
   "outputs": [
    {
     "name": "stdout",
     "output_type": "stream",
     "text": [
      "layer : 1 \n",
      "\n",
      "{'weights': [0.7515585546679309, -0.00861547443890044, 0.4453871940548014, 0.7108185045507714], 'output': 0.7625891484250534, 'delta': -0.010721527790011133} \n",
      "\n",
      "{'weights': [0.20805812431367404, 0.9245665985971436, 0.9014274576114836, 0.009885886076774927], 'output': 0.7174844011571567, 'delta': -0.02070409695677861} \n",
      "\n",
      "layer : 2 \n",
      "\n",
      "{'weights': [-0.07367453873357624, 0.44815473264929556, 0.8091703925170315], 'output': 0.7936401903916153, 'delta': -0.12997877026147914} \n",
      "\n",
      "{'weights': [0.2693533761285589, 0.11136416189184828, 0.2754440694361836], 'output': 0.7043763230494378, 'delta': -0.14667250614653368} \n",
      "\n"
     ]
    }
   ],
   "source": [
    "update_weights(network,[1,1,1],1)\n",
    "write(network)"
   ]
  },
  {
   "attachments": {},
   "cell_type": "markdown",
   "id": "c93c8cc3",
   "metadata": {},
   "source": [
    "## 11: define the train"
   ]
  },
  {
   "cell_type": "code",
   "execution_count": 26,
   "id": "9550dffc",
   "metadata": {},
   "outputs": [],
   "source": [
    "def train_network(network,train,l_rate,n_epoch,n_outputs):\n",
    "    for epoch in range(n_epoch):\n",
    "        sum_error = 0\n",
    "        for row in train :\n",
    "            outputs = np.array(foward_propagate(network,row[:-1]))\n",
    "            expected = np.array([0 for i in range(n_outputs)])\n",
    "            expected [row[-1]] = 1\n",
    "            sum_error += sum([(expected[i]-outputs[i])**2 for i in range(len(expected))])\n",
    "            backward_propagate_error(network,expected)\n",
    "            update_weights(network,row,l_rate)\n",
    "        sum_error /= len(train) \n",
    "        print ('>epoch =%d, lrate =%.3f, error =%.3f' % ( epoch , l_rate ,\n",
    "sum_error ) )\n",
    "            "
   ]
  },
  {
   "attachments": {},
   "cell_type": "markdown",
   "id": "579d733a",
   "metadata": {},
   "source": [
    "## 12: first test"
   ]
  },
  {
   "cell_type": "code",
   "execution_count": 27,
   "id": "1c75fbd0",
   "metadata": {},
   "outputs": [
    {
     "name": "stdout",
     "output_type": "stream",
     "text": [
      "il y a  3  0 sur  10  dans les train\n",
      "il y a  5  0 sur  10  dans les test\n"
     ]
    }
   ],
   "source": [
    "train =[[10*rd.random(),10*rd.random(),rd.randint(0,1)] for i in range(10)]\n",
    "test =[[10*rd.random(),10*rd.random(),rd.randint(0,1)] for i in range(10)]\n",
    "\n",
    "def repartition(train,test):\n",
    "    train_z = 0\n",
    "    test_z = 0\n",
    "    for e in train:\n",
    "        if(e[-1]==0): train_z+=1\n",
    "    for k in test:\n",
    "        if(k[-1]==0): test_z+=1\n",
    "    return train_z,test_z\n",
    "\n",
    "train_z,test_z = repartition(train,test)\n",
    "\n",
    "print('il y a ', train_z,' 0 sur ', len(train),' dans les train')\n",
    "print('il y a ', test_z,' 0 sur ', len(test),' dans les test')\n"
   ]
  },
  {
   "cell_type": "code",
   "execution_count": 28,
   "id": "deacd70f",
   "metadata": {},
   "outputs": [
    {
     "name": "stdout",
     "output_type": "stream",
     "text": [
      "layer : 1 \n",
      "\n",
      "{'weights': [0.518678283523002, 0.561357864778379, 0.4260906796881502]} \n",
      "\n",
      "{'weights': [0.05612329752074041, 0.8700101551766398, 0.5699993338763802]} \n",
      "\n",
      "layer : 2 \n",
      "\n",
      "{'weights': [0.19983942017714307, 0.5047204674288633, 0.48492511222773416]} \n",
      "\n",
      "{'weights': [0.3567899645449557, 0.3460779190181549, 0.5384787957378443]} \n",
      "\n"
     ]
    }
   ],
   "source": [
    "model12 = initialize_network(2,2,2)\n",
    "write(model12)"
   ]
  },
  {
   "cell_type": "code",
   "execution_count": 29,
   "id": "ef9258d0",
   "metadata": {},
   "outputs": [
    {
     "name": "stdout",
     "output_type": "stream",
     "text": [
      ">epoch =0, lrate =1.000, error =0.577\n",
      ">epoch =1, lrate =1.000, error =0.479\n",
      ">epoch =2, lrate =1.000, error =0.471\n",
      ">epoch =3, lrate =1.000, error =0.470\n",
      ">epoch =4, lrate =1.000, error =0.469\n",
      ">epoch =5, lrate =1.000, error =0.469\n",
      ">epoch =6, lrate =1.000, error =0.469\n",
      ">epoch =7, lrate =1.000, error =0.469\n",
      ">epoch =8, lrate =1.000, error =0.469\n",
      ">epoch =9, lrate =1.000, error =0.469\n"
     ]
    }
   ],
   "source": [
    "train_network(model12,train,l_rate=1,n_epoch=10,n_outputs=2)"
   ]
  },
  {
   "cell_type": "code",
   "execution_count": 30,
   "id": "e5fb18d6",
   "metadata": {},
   "outputs": [
    {
     "name": "stdout",
     "output_type": "stream",
     "text": [
      "layer : 1 \n",
      "\n",
      "{'weights': [0.5787669702368702, 0.6617638568969454, 0.4610165582708684], 'output': 0.9997145710895293, 'delta': 1.159351920143778e-05} \n",
      "\n",
      "{'weights': [0.05490032263452195, 0.8964384499884853, 0.5843962722620777], 'output': 0.9994551597721532, 'delta': 8.277266926339073e-06} \n",
      "\n",
      "layer : 2 \n",
      "\n",
      "{'weights': [-0.45490699378473937, -0.15216195020285897, -0.2289459483674425], 'output': 0.35650043297574513, 'delta': -0.08178400650310833} \n",
      "\n",
      "{'weights': [0.20528557025302846, 0.1970815222457392, 0.43122816847895795], 'output': 0.6427939180775952, 'delta': 0.0820180516637062} \n",
      "\n"
     ]
    }
   ],
   "source": [
    "write(model12)"
   ]
  },
  {
   "attachments": {},
   "cell_type": "markdown",
   "id": "7c16070f",
   "metadata": {},
   "source": [
    "## 13: predict function"
   ]
  },
  {
   "cell_type": "code",
   "execution_count": 31,
   "id": "8f11dbfe",
   "metadata": {},
   "outputs": [],
   "source": [
    "def predict(network,row):\n",
    "    return foward_propagate(network,row[:-1])\n"
   ]
  },
  {
   "cell_type": "code",
   "execution_count": 32,
   "id": "22701514",
   "metadata": {},
   "outputs": [],
   "source": [
    "def predict_dataset(network,dataset):\n",
    "    preds  =[]\n",
    "    for e in dataset:\n",
    "        preds.append(predict(network,e))\n",
    "    return preds"
   ]
  },
  {
   "cell_type": "code",
   "execution_count": 33,
   "id": "451e725e",
   "metadata": {},
   "outputs": [],
   "source": [
    "def expected(preds,dataset):\n",
    "    for i in range(len(preds)):\n",
    "        print('expected = ', dataset[i][-1],'  output = ', np.argmax(preds[i]))"
   ]
  },
  {
   "cell_type": "code",
   "execution_count": 34,
   "id": "58c7ead7",
   "metadata": {},
   "outputs": [],
   "source": [
    "def accuracy(preds,dataset):\n",
    "    acc=0\n",
    "    for i in range(len(preds)):\n",
    "        if(np.argmax(preds[i])==dataset[i][-1]): acc+=1\n",
    "    return acc/len(preds)*100"
   ]
  },
  {
   "cell_type": "code",
   "execution_count": 35,
   "id": "5f515260",
   "metadata": {},
   "outputs": [],
   "source": [
    "def MSE(preds,dataset):\n",
    "    s = 0\n",
    "    for i in range(len(dataset)):\n",
    "        s+=(dataset[i][-1]-np.argmax(preds[i]))**2\n",
    "    return s/len(preds)"
   ]
  },
  {
   "attachments": {},
   "cell_type": "markdown",
   "id": "d0e281b4",
   "metadata": {},
   "source": [
    "## 14: test the predict function"
   ]
  },
  {
   "cell_type": "code",
   "execution_count": 36,
   "id": "2f58e0bf",
   "metadata": {},
   "outputs": [
    {
     "name": "stdout",
     "output_type": "stream",
     "text": [
      "il y a  4  0 sur  10  dans les train\n",
      "il y a  4  0 sur  10  dans les test\n"
     ]
    }
   ],
   "source": [
    "train2 =[[rd.random(),rd.random(),rd.randint(0,1)] for i in range(10)]\n",
    "test2 =[[rd.random(),rd.random(),rd.randint(0,1)] for i in range(10)]\n",
    "\n",
    "def repartition(train,test):\n",
    "    train_z = 0\n",
    "    test_z = 0\n",
    "    for e in train:\n",
    "        if(e[-1]==0): train_z+=1\n",
    "    for k in test:\n",
    "        if(k[-1]==0): test_z+=1\n",
    "    return train_z,test_z\n",
    "\n",
    "train_z2,test_z2 = repartition(train2,test2)\n",
    "\n",
    "print('il y a ', train_z2,' 0 sur ', len(train2),' dans les train')\n",
    "print('il y a ', test_z2,' 0 sur ', len(test2),' dans les test')\n"
   ]
  },
  {
   "cell_type": "code",
   "execution_count": 37,
   "id": "62dfa3ec",
   "metadata": {},
   "outputs": [
    {
     "name": "stdout",
     "output_type": "stream",
     "text": [
      "layer : 1 \n",
      "\n",
      "{'weights': [0.058785116206491295, 0.29860594962301334, 0.9679033101508892]} \n",
      "\n",
      "{'weights': [0.8755342442351592, 0.30638662033324593, 0.8585144063565593]} \n",
      "\n",
      "{'weights': [0.31036362735313405, 0.9392884321352825, 0.7438421186671211]} \n",
      "\n",
      "{'weights': [0.4161722627650255, 0.25235810227983535, 0.008480262463668842]} \n",
      "\n",
      "{'weights': [0.8787178982088466, 0.03791653059858058, 0.8194141106127972]} \n",
      "\n",
      "layer : 2 \n",
      "\n",
      "{'weights': [0.962201125180818, 0.5702805702451802, 0.17151709517771863, 0.8677810644349934, 0.9737752361596916, 0.7040231423300713]} \n",
      "\n",
      "{'weights': [0.5088737460778905, 0.37796883434360806, 0.34693088456262167, 0.2057617572947047, 0.6741530142468641, 0.4329501211003163]} \n",
      "\n"
     ]
    }
   ],
   "source": [
    "model14 = initialize_network(2,5,2)\n",
    "write(model14)"
   ]
  },
  {
   "cell_type": "code",
   "execution_count": 548,
   "id": "11d2f6ed",
   "metadata": {},
   "outputs": [
    {
     "name": "stdout",
     "output_type": "stream",
     "text": [
      ">epoch =0, lrate =0.500, error =0.815\n",
      ">epoch =1, lrate =0.500, error =0.707\n",
      ">epoch =2, lrate =0.500, error =0.604\n",
      ">epoch =3, lrate =0.500, error =0.561\n",
      ">epoch =4, lrate =0.500, error =0.552\n",
      ">epoch =5, lrate =0.500, error =0.550\n",
      ">epoch =6, lrate =0.500, error =0.550\n",
      ">epoch =7, lrate =0.500, error =0.550\n",
      ">epoch =8, lrate =0.500, error =0.549\n",
      ">epoch =9, lrate =0.500, error =0.549\n",
      ">epoch =10, lrate =0.500, error =0.549\n",
      ">epoch =11, lrate =0.500, error =0.548\n",
      ">epoch =12, lrate =0.500, error =0.548\n",
      ">epoch =13, lrate =0.500, error =0.548\n",
      ">epoch =14, lrate =0.500, error =0.547\n",
      ">epoch =15, lrate =0.500, error =0.547\n",
      ">epoch =16, lrate =0.500, error =0.547\n",
      ">epoch =17, lrate =0.500, error =0.546\n",
      ">epoch =18, lrate =0.500, error =0.546\n",
      ">epoch =19, lrate =0.500, error =0.546\n",
      ">epoch =20, lrate =0.500, error =0.546\n",
      ">epoch =21, lrate =0.500, error =0.545\n",
      ">epoch =22, lrate =0.500, error =0.545\n",
      ">epoch =23, lrate =0.500, error =0.545\n",
      ">epoch =24, lrate =0.500, error =0.544\n",
      ">epoch =25, lrate =0.500, error =0.544\n",
      ">epoch =26, lrate =0.500, error =0.544\n",
      ">epoch =27, lrate =0.500, error =0.543\n",
      ">epoch =28, lrate =0.500, error =0.543\n",
      ">epoch =29, lrate =0.500, error =0.543\n",
      ">epoch =30, lrate =0.500, error =0.543\n",
      ">epoch =31, lrate =0.500, error =0.542\n",
      ">epoch =32, lrate =0.500, error =0.542\n",
      ">epoch =33, lrate =0.500, error =0.542\n",
      ">epoch =34, lrate =0.500, error =0.541\n",
      ">epoch =35, lrate =0.500, error =0.541\n",
      ">epoch =36, lrate =0.500, error =0.541\n",
      ">epoch =37, lrate =0.500, error =0.540\n",
      ">epoch =38, lrate =0.500, error =0.540\n",
      ">epoch =39, lrate =0.500, error =0.540\n",
      ">epoch =40, lrate =0.500, error =0.540\n",
      ">epoch =41, lrate =0.500, error =0.539\n",
      ">epoch =42, lrate =0.500, error =0.539\n",
      ">epoch =43, lrate =0.500, error =0.539\n",
      ">epoch =44, lrate =0.500, error =0.538\n",
      ">epoch =45, lrate =0.500, error =0.538\n",
      ">epoch =46, lrate =0.500, error =0.538\n",
      ">epoch =47, lrate =0.500, error =0.537\n",
      ">epoch =48, lrate =0.500, error =0.537\n",
      ">epoch =49, lrate =0.500, error =0.537\n",
      ">epoch =50, lrate =0.500, error =0.536\n",
      ">epoch =51, lrate =0.500, error =0.536\n",
      ">epoch =52, lrate =0.500, error =0.536\n",
      ">epoch =53, lrate =0.500, error =0.536\n",
      ">epoch =54, lrate =0.500, error =0.535\n",
      ">epoch =55, lrate =0.500, error =0.535\n",
      ">epoch =56, lrate =0.500, error =0.535\n",
      ">epoch =57, lrate =0.500, error =0.534\n",
      ">epoch =58, lrate =0.500, error =0.534\n",
      ">epoch =59, lrate =0.500, error =0.534\n",
      ">epoch =60, lrate =0.500, error =0.533\n",
      ">epoch =61, lrate =0.500, error =0.533\n",
      ">epoch =62, lrate =0.500, error =0.533\n",
      ">epoch =63, lrate =0.500, error =0.532\n",
      ">epoch =64, lrate =0.500, error =0.532\n",
      ">epoch =65, lrate =0.500, error =0.532\n",
      ">epoch =66, lrate =0.500, error =0.531\n",
      ">epoch =67, lrate =0.500, error =0.531\n",
      ">epoch =68, lrate =0.500, error =0.531\n",
      ">epoch =69, lrate =0.500, error =0.530\n",
      ">epoch =70, lrate =0.500, error =0.530\n",
      ">epoch =71, lrate =0.500, error =0.530\n",
      ">epoch =72, lrate =0.500, error =0.529\n",
      ">epoch =73, lrate =0.500, error =0.529\n",
      ">epoch =74, lrate =0.500, error =0.529\n",
      ">epoch =75, lrate =0.500, error =0.528\n",
      ">epoch =76, lrate =0.500, error =0.528\n",
      ">epoch =77, lrate =0.500, error =0.528\n",
      ">epoch =78, lrate =0.500, error =0.527\n",
      ">epoch =79, lrate =0.500, error =0.527\n",
      ">epoch =80, lrate =0.500, error =0.527\n",
      ">epoch =81, lrate =0.500, error =0.526\n",
      ">epoch =82, lrate =0.500, error =0.526\n",
      ">epoch =83, lrate =0.500, error =0.526\n",
      ">epoch =84, lrate =0.500, error =0.525\n",
      ">epoch =85, lrate =0.500, error =0.525\n",
      ">epoch =86, lrate =0.500, error =0.525\n",
      ">epoch =87, lrate =0.500, error =0.524\n",
      ">epoch =88, lrate =0.500, error =0.524\n",
      ">epoch =89, lrate =0.500, error =0.524\n",
      ">epoch =90, lrate =0.500, error =0.523\n",
      ">epoch =91, lrate =0.500, error =0.523\n",
      ">epoch =92, lrate =0.500, error =0.523\n",
      ">epoch =93, lrate =0.500, error =0.522\n",
      ">epoch =94, lrate =0.500, error =0.522\n",
      ">epoch =95, lrate =0.500, error =0.522\n",
      ">epoch =96, lrate =0.500, error =0.521\n",
      ">epoch =97, lrate =0.500, error =0.521\n",
      ">epoch =98, lrate =0.500, error =0.520\n",
      ">epoch =99, lrate =0.500, error =0.520\n"
     ]
    }
   ],
   "source": [
    "train_network(model14,train2,l_rate=0.5,n_epoch=100,n_outputs=2)"
   ]
  },
  {
   "cell_type": "code",
   "execution_count": 38,
   "id": "445923f8",
   "metadata": {},
   "outputs": [
    {
     "name": "stdout",
     "output_type": "stream",
     "text": [
      "[0.38655710476146987, 0.4209186792090759, 0]\n",
      "[0.9626868031552815, 0.8825935259215265]\n"
     ]
    }
   ],
   "source": [
    "print(test2[2])\n",
    "print(predict(model14,test2[2]))"
   ]
  },
  {
   "cell_type": "code",
   "execution_count": 40,
   "id": "4721a9c8",
   "metadata": {},
   "outputs": [],
   "source": [
    "preds = predict_dataset(model14,train2)"
   ]
  },
  {
   "cell_type": "code",
   "execution_count": 41,
   "id": "cae26ee2",
   "metadata": {},
   "outputs": [
    {
     "name": "stdout",
     "output_type": "stream",
     "text": [
      "expected =  1   output =  0\n",
      "expected =  0   output =  0\n",
      "expected =  0   output =  0\n",
      "expected =  1   output =  0\n",
      "expected =  0   output =  0\n",
      "expected =  0   output =  0\n",
      "expected =  1   output =  0\n",
      "expected =  1   output =  0\n",
      "expected =  1   output =  0\n",
      "expected =  1   output =  0\n"
     ]
    }
   ],
   "source": [
    "expected(preds,train2)"
   ]
  },
  {
   "cell_type": "code",
   "execution_count": 42,
   "id": "27420fae",
   "metadata": {},
   "outputs": [
    {
     "data": {
      "text/plain": [
       "40.0"
      ]
     },
     "execution_count": 42,
     "metadata": {},
     "output_type": "execute_result"
    }
   ],
   "source": [
    "accuracy(preds,train2)"
   ]
  },
  {
   "cell_type": "code",
   "execution_count": 43,
   "id": "30784699",
   "metadata": {},
   "outputs": [
    {
     "name": "stdout",
     "output_type": "stream",
     "text": [
      "layer : 1 \n",
      "\n",
      "{'weights': [0.058785116206491295, 0.29860594962301334, 0.9679033101508892], 'output': 0.7406048244585235} \n",
      "\n",
      "{'weights': [0.8755342442351592, 0.30638662033324593, 0.8585144063565593], 'output': 0.7976661938466734} \n",
      "\n",
      "{'weights': [0.31036362735313405, 0.9392884321352825, 0.7438421186671211], 'output': 0.7437322729736748} \n",
      "\n",
      "{'weights': [0.4161722627650255, 0.25235810227983535, 0.008480262463668842], 'output': 0.5671896524020121} \n",
      "\n",
      "{'weights': [0.8787178982088466, 0.03791653059858058, 0.8194141106127972], 'output': 0.7840131351748603} \n",
      "\n",
      "layer : 2 \n",
      "\n",
      "{'weights': [0.962201125180818, 0.5702805702451802, 0.17151709517771863, 0.8677810644349934, 0.9737752361596916, 0.7040231423300713], 'output': 0.962843039255123} \n",
      "\n",
      "{'weights': [0.5088737460778905, 0.37796883434360806, 0.34693088456262167, 0.2057617572947047, 0.6741530142468641, 0.4329501211003163], 'output': 0.8823206397547453} \n",
      "\n"
     ]
    }
   ],
   "source": [
    "write(model14)"
   ]
  },
  {
   "attachments": {},
   "cell_type": "markdown",
   "id": "a79a3af5",
   "metadata": {},
   "source": [
    "## 15 and 16: download seed dataset"
   ]
  },
  {
   "cell_type": "code",
   "execution_count": 44,
   "id": "90163e6b",
   "metadata": {},
   "outputs": [],
   "source": [
    "import pandas as pd"
   ]
  },
  {
   "cell_type": "code",
   "execution_count": 45,
   "id": "5a733637",
   "metadata": {},
   "outputs": [],
   "source": [
    "def load_csv(filename):\n",
    "    test =[]\n",
    "    fic = open(filename,'r')\n",
    "    for row in fic:\n",
    "        row = row[1:-2]\n",
    "        test.append([np.float(e) for e in row.split()])\n",
    "        test[-1][-1] = int(test[-1][-1])-1\n",
    "    return test\n"
   ]
  },
  {
   "cell_type": "code",
   "execution_count": 46,
   "id": "0847ed03",
   "metadata": {},
   "outputs": [
    {
     "name": "stdout",
     "output_type": "stream",
     "text": [
      "[[15.26, 14.84, 0.871, 5.763, 3.312, 2.221, 5.22, 0], [14.88, 14.57, 0.8811, 5.554, 3.333, 1.018, 4.956, 0], [14.29, 14.09, 0.905, 5.291, 3.337, 2.699, 4.825, 0], [13.84, 13.94, 0.8955, 5.324, 3.379, 2.259, 4.805, 0], [16.14, 14.99, 0.9034, 5.658, 3.562, 1.355, 5.175, 0]]\n"
     ]
    },
    {
     "name": "stderr",
     "output_type": "stream",
     "text": [
      "C:\\Users\\thoma\\AppData\\Local\\Temp\\ipykernel_35832\\3671730984.py:6: DeprecationWarning: `np.float` is a deprecated alias for the builtin `float`. To silence this warning, use `float` by itself. Doing this will not modify any behavior and is safe. If you specifically wanted the numpy scalar type, use `np.float64` here.\n",
      "Deprecated in NumPy 1.20; for more details and guidance: https://numpy.org/devdocs/release/1.20.0-notes.html#deprecations\n",
      "  test.append([np.float(e) for e in row.split()])\n"
     ]
    }
   ],
   "source": [
    "dataset = load_csv('seeds_dataset.csv')\n",
    "print(dataset[:5])"
   ]
  },
  {
   "attachments": {},
   "cell_type": "markdown",
   "id": "d9fe5930",
   "metadata": {},
   "source": [
    "## 17: Shuffle the dataset"
   ]
  },
  {
   "cell_type": "code",
   "execution_count": 47,
   "id": "1f4e1867",
   "metadata": {},
   "outputs": [],
   "source": [
    "np.random.shuffle(dataset)"
   ]
  },
  {
   "attachments": {},
   "cell_type": "markdown",
   "id": "21b34e8e",
   "metadata": {},
   "source": [
    "## 18: initialize a network"
   ]
  },
  {
   "cell_type": "markdown",
   "id": "31745d06",
   "metadata": {},
   "source": [
    "We also need to scale the data because the values are too high, this will generate a serie of output nearly equal to one and prevent our networks to learn. "
   ]
  },
  {
   "cell_type": "code",
   "execution_count": 48,
   "id": "5706af1d",
   "metadata": {},
   "outputs": [],
   "source": [
    "def min_max_scaling(dataset):\n",
    "    X=[row[:-1] for row in dataset]\n",
    "    Y=np.array([row[-1] for row in dataset])\n",
    "    X=np.asarray(X)\n",
    "    X=(X-X.min(axis=0))/(X.max(axis=0)-X.min(axis=0))\n",
    "    res = [[]for i in range(len(X))]\n",
    "    for i in range(len(X)):\n",
    "        res[i] = list(X[i])\n",
    "        res[i].append(Y[i])\n",
    "    return res"
   ]
  },
  {
   "cell_type": "code",
   "execution_count": 49,
   "id": "f3753a22",
   "metadata": {},
   "outputs": [],
   "source": [
    "dataset = min_max_scaling(dataset)"
   ]
  },
  {
   "cell_type": "markdown",
   "id": "adc7b9d5",
   "metadata": {},
   "source": [
    "Here, I split the dataset."
   ]
  },
  {
   "cell_type": "code",
   "execution_count": 50,
   "id": "acdba9e2",
   "metadata": {},
   "outputs": [
    {
     "name": "stdout",
     "output_type": "stream",
     "text": [
      "210\n",
      "168\n"
     ]
    }
   ],
   "source": [
    "n_split = int(0.8*len(dataset))\n",
    "print(len(dataset))\n",
    "print(n_split)"
   ]
  },
  {
   "cell_type": "code",
   "execution_count": 51,
   "id": "dfd24917",
   "metadata": {},
   "outputs": [],
   "source": [
    "train,test = dataset[:n_split] , dataset[n_split:] "
   ]
  },
  {
   "cell_type": "code",
   "execution_count": 52,
   "id": "7fbfb0b5",
   "metadata": {},
   "outputs": [],
   "source": [
    "def get_labels(dataset):\n",
    "    s=set([row[-1] for row in dataset])\n",
    "    return len(s),s\n",
    "def get_n_inputs(dataset):\n",
    "    return len(dataset[0])-1"
   ]
  },
  {
   "cell_type": "code",
   "execution_count": 53,
   "id": "5788f8af",
   "metadata": {},
   "outputs": [
    {
     "name": "stdout",
     "output_type": "stream",
     "text": [
      "There are  3  outputs.\n",
      "Wich are :  {0, 1, 2}\n"
     ]
    }
   ],
   "source": [
    "n_outputs,outputs = get_labels(dataset)\n",
    "\n",
    "print('There are ',n_outputs,' outputs.')\n",
    "print('Wich are : ', outputs)"
   ]
  },
  {
   "cell_type": "code",
   "execution_count": 54,
   "id": "d390f1a3",
   "metadata": {},
   "outputs": [
    {
     "name": "stdout",
     "output_type": "stream",
     "text": [
      "There are  7  inputs.\n"
     ]
    }
   ],
   "source": [
    "n_inputs = get_n_inputs(dataset)\n",
    "print('There are ', n_inputs,' inputs.')"
   ]
  },
  {
   "cell_type": "code",
   "execution_count": 57,
   "id": "9e57b90b",
   "metadata": {},
   "outputs": [
    {
     "name": "stdout",
     "output_type": "stream",
     "text": [
      "layer : 1 \n",
      "\n",
      "{'weights': [0.940734522249, 0.39047855113892316, 0.3067842948515136, 0.3272414146871332, 0.3167351468856021, 0.847134765826215, 0.893500245521601, 0.3028093296725163]} \n",
      "\n",
      "{'weights': [0.33433340565076186, 0.5442254141821842, 0.5789854363170839, 0.5959625400010043, 0.2450980038952486, 0.020374028446252357, 0.24375929982791578, 0.07232753387141089]} \n",
      "\n",
      "{'weights': [0.551204754915506, 0.07091636753953445, 0.07512979225452299, 0.6353820935630572, 0.2908215504193956, 0.7921847578822924, 0.49326104275013793, 0.8626489777797094]} \n",
      "\n",
      "{'weights': [0.15417959616284405, 0.5014295859466933, 0.794983493746024, 0.0771069862639161, 0.9492279489729363, 0.1732421083716036, 0.7762089829859355, 0.9848958711440725]} \n",
      "\n",
      "{'weights': [0.8215501447435144, 0.3197840027930057, 0.1068777345815598, 0.5143582510552492, 0.919356939210688, 0.29348949437066774, 0.8937587976957898, 0.14168064702669492]} \n",
      "\n",
      "{'weights': [0.9104816743927341, 0.03175994589733666, 0.3160686777608829, 0.9030882837141124, 0.8038562809839719, 0.9071537669967973, 0.8407185222467378, 0.7461848854045222]} \n",
      "\n",
      "{'weights': [0.6895951793002646, 0.1781548656443236, 0.43263800097623695, 0.15789694375216057, 0.7148244519688113, 0.667778739685542, 0.2525864077938834, 0.0644141933476613]} \n",
      "\n",
      "{'weights': [0.9633858833215757, 0.8082526283723965, 0.5492699313925192, 0.5413776519849807, 0.8512926663313799, 0.45330967762221785, 0.39571044472076744, 0.33866914489505884]} \n",
      "\n",
      "{'weights': [0.2579690924717717, 0.024408502825104206, 0.6464388440000969, 0.4166838822984099, 0.5706036315777225, 0.062321630803521044, 0.3549434436862958, 0.13828411395509788]} \n",
      "\n",
      "{'weights': [0.12512901528549036, 0.259112968915828, 0.8289343809851581, 0.39779731306487276, 0.40108215192090135, 0.612444922992939, 0.23352965329584996, 0.007477173042134244]} \n",
      "\n",
      "layer : 2 \n",
      "\n",
      "{'weights': [0.5287017398867132, 0.5008996195572266, 0.6488395923408533, 0.4383169556417158, 0.6865131306582006, 0.7314219491610718, 0.23837467516202382, 0.4950722507160109, 0.47882688758179337, 0.225062085038767, 0.4122461329173408]} \n",
      "\n",
      "{'weights': [0.560407434487989, 0.9069395045058483, 0.9177065838382222, 0.27522536346579907, 0.6464151756425885, 0.0481973433614038, 0.07155138822789708, 0.5116917092002066, 0.877424078946487, 0.15946773075783105, 0.7660278587973122]} \n",
      "\n",
      "{'weights': [0.8830095693755464, 0.3118020318353023, 0.6925569646028146, 0.8489911224865752, 0.3716143307475649, 0.7012826629078087, 0.7364181165753182, 0.5945778048409015, 0.8562771389130047, 0.8966043711163488, 0.9600788169648591]} \n",
      "\n"
     ]
    }
   ],
   "source": [
    "model18 = initialize_network(n_inputs,10,n_outputs)\n",
    "write(model18)"
   ]
  },
  {
   "cell_type": "code",
   "execution_count": 62,
   "id": "d7396e74",
   "metadata": {},
   "outputs": [
    {
     "name": "stdout",
     "output_type": "stream",
     "text": [
      ">epoch =0, lrate =0.250, error =1.572\n",
      ">epoch =1, lrate =0.250, error =1.148\n",
      ">epoch =2, lrate =0.250, error =1.125\n",
      ">epoch =3, lrate =0.250, error =1.071\n",
      ">epoch =4, lrate =0.250, error =0.587\n",
      ">epoch =5, lrate =0.250, error =0.516\n",
      ">epoch =6, lrate =0.250, error =0.460\n",
      ">epoch =7, lrate =0.250, error =0.418\n",
      ">epoch =8, lrate =0.250, error =0.387\n",
      ">epoch =9, lrate =0.250, error =0.363\n",
      ">epoch =10, lrate =0.250, error =0.341\n",
      ">epoch =11, lrate =0.250, error =0.320\n",
      ">epoch =12, lrate =0.250, error =0.299\n",
      ">epoch =13, lrate =0.250, error =0.277\n",
      ">epoch =14, lrate =0.250, error =0.256\n",
      ">epoch =15, lrate =0.250, error =0.237\n",
      ">epoch =16, lrate =0.250, error =0.219\n",
      ">epoch =17, lrate =0.250, error =0.204\n",
      ">epoch =18, lrate =0.250, error =0.191\n",
      ">epoch =19, lrate =0.250, error =0.180\n",
      ">epoch =20, lrate =0.250, error =0.171\n",
      ">epoch =21, lrate =0.250, error =0.163\n",
      ">epoch =22, lrate =0.250, error =0.156\n",
      ">epoch =23, lrate =0.250, error =0.150\n",
      ">epoch =24, lrate =0.250, error =0.144\n",
      ">epoch =25, lrate =0.250, error =0.139\n",
      ">epoch =26, lrate =0.250, error =0.135\n",
      ">epoch =27, lrate =0.250, error =0.131\n",
      ">epoch =28, lrate =0.250, error =0.128\n",
      ">epoch =29, lrate =0.250, error =0.125\n",
      ">epoch =30, lrate =0.250, error =0.122\n",
      ">epoch =31, lrate =0.250, error =0.119\n",
      ">epoch =32, lrate =0.250, error =0.116\n",
      ">epoch =33, lrate =0.250, error =0.114\n",
      ">epoch =34, lrate =0.250, error =0.112\n",
      ">epoch =35, lrate =0.250, error =0.110\n",
      ">epoch =36, lrate =0.250, error =0.108\n",
      ">epoch =37, lrate =0.250, error =0.106\n",
      ">epoch =38, lrate =0.250, error =0.105\n",
      ">epoch =39, lrate =0.250, error =0.103\n",
      ">epoch =40, lrate =0.250, error =0.101\n",
      ">epoch =41, lrate =0.250, error =0.100\n",
      ">epoch =42, lrate =0.250, error =0.099\n",
      ">epoch =43, lrate =0.250, error =0.097\n",
      ">epoch =44, lrate =0.250, error =0.096\n",
      ">epoch =45, lrate =0.250, error =0.095\n",
      ">epoch =46, lrate =0.250, error =0.094\n",
      ">epoch =47, lrate =0.250, error =0.093\n",
      ">epoch =48, lrate =0.250, error =0.092\n",
      ">epoch =49, lrate =0.250, error =0.091\n",
      ">epoch =50, lrate =0.250, error =0.090\n",
      ">epoch =51, lrate =0.250, error =0.089\n",
      ">epoch =52, lrate =0.250, error =0.088\n",
      ">epoch =53, lrate =0.250, error =0.087\n",
      ">epoch =54, lrate =0.250, error =0.086\n",
      ">epoch =55, lrate =0.250, error =0.085\n",
      ">epoch =56, lrate =0.250, error =0.085\n",
      ">epoch =57, lrate =0.250, error =0.084\n",
      ">epoch =58, lrate =0.250, error =0.083\n",
      ">epoch =59, lrate =0.250, error =0.082\n",
      ">epoch =60, lrate =0.250, error =0.082\n",
      ">epoch =61, lrate =0.250, error =0.081\n",
      ">epoch =62, lrate =0.250, error =0.081\n",
      ">epoch =63, lrate =0.250, error =0.080\n",
      ">epoch =64, lrate =0.250, error =0.079\n",
      ">epoch =65, lrate =0.250, error =0.079\n",
      ">epoch =66, lrate =0.250, error =0.078\n",
      ">epoch =67, lrate =0.250, error =0.078\n",
      ">epoch =68, lrate =0.250, error =0.077\n",
      ">epoch =69, lrate =0.250, error =0.077\n",
      ">epoch =70, lrate =0.250, error =0.076\n",
      ">epoch =71, lrate =0.250, error =0.076\n",
      ">epoch =72, lrate =0.250, error =0.075\n",
      ">epoch =73, lrate =0.250, error =0.075\n",
      ">epoch =74, lrate =0.250, error =0.074\n",
      ">epoch =75, lrate =0.250, error =0.074\n",
      ">epoch =76, lrate =0.250, error =0.073\n",
      ">epoch =77, lrate =0.250, error =0.073\n",
      ">epoch =78, lrate =0.250, error =0.072\n",
      ">epoch =79, lrate =0.250, error =0.072\n",
      ">epoch =80, lrate =0.250, error =0.072\n",
      ">epoch =81, lrate =0.250, error =0.071\n",
      ">epoch =82, lrate =0.250, error =0.071\n",
      ">epoch =83, lrate =0.250, error =0.070\n",
      ">epoch =84, lrate =0.250, error =0.070\n",
      ">epoch =85, lrate =0.250, error =0.070\n",
      ">epoch =86, lrate =0.250, error =0.069\n",
      ">epoch =87, lrate =0.250, error =0.069\n",
      ">epoch =88, lrate =0.250, error =0.069\n",
      ">epoch =89, lrate =0.250, error =0.068\n",
      ">epoch =90, lrate =0.250, error =0.068\n",
      ">epoch =91, lrate =0.250, error =0.068\n",
      ">epoch =92, lrate =0.250, error =0.067\n",
      ">epoch =93, lrate =0.250, error =0.067\n",
      ">epoch =94, lrate =0.250, error =0.067\n",
      ">epoch =95, lrate =0.250, error =0.066\n",
      ">epoch =96, lrate =0.250, error =0.066\n",
      ">epoch =97, lrate =0.250, error =0.066\n",
      ">epoch =98, lrate =0.250, error =0.065\n",
      ">epoch =99, lrate =0.250, error =0.065\n"
     ]
    }
   ],
   "source": [
    "train_network(model18,train,l_rate=0.25,n_epoch=100,n_outputs=3)"
   ]
  },
  {
   "cell_type": "code",
   "execution_count": 63,
   "id": "2d22b1c3",
   "metadata": {},
   "outputs": [],
   "source": [
    "predictions = predict_dataset(model18,test)"
   ]
  },
  {
   "cell_type": "code",
   "execution_count": 64,
   "id": "f75634cb",
   "metadata": {},
   "outputs": [
    {
     "data": {
      "text/plain": [
       "88.09523809523809"
      ]
     },
     "execution_count": 64,
     "metadata": {},
     "output_type": "execute_result"
    }
   ],
   "source": [
    "accuracy(predictions,test)"
   ]
  },
  {
   "cell_type": "code",
   "execution_count": 65,
   "id": "c0a8617d",
   "metadata": {},
   "outputs": [
    {
     "data": {
      "text/plain": [
       "0.19047619047619047"
      ]
     },
     "execution_count": 65,
     "metadata": {},
     "output_type": "execute_result"
    }
   ],
   "source": [
    "MSE(predictions,test)"
   ]
  },
  {
   "attachments": {},
   "cell_type": "markdown",
   "id": "93bb4d4b",
   "metadata": {},
   "source": [
    "## 20: Allow the user to use as many dense layers he wants to"
   ]
  },
  {
   "cell_type": "code",
   "execution_count": 66,
   "id": "ca1f7e47",
   "metadata": {},
   "outputs": [],
   "source": [
    "def initialize_network_2 ( n_inputs , n_hiddens , n_outputs ):\n",
    "    # n_hidden = [3,4] <=> two dense hidden layers with respectively 3 and 4 neurons\n",
    "    network = list()\n",
    "    for i in range(len(n_hiddens)):\n",
    "        if(i==0):\n",
    "            hidden_layer = [{ 'weights':[ rd.random() for j in range(n_inputs+1)]} for k in range(n_hiddens[i])]\n",
    "            \n",
    "        else :\n",
    "            hidden_layer = [{ 'weights':[ rd.random() for j in range(n_hiddens[i-1]+1)]} for k in range(n_hiddens[i])]\n",
    "            \n",
    "        network.append(hidden_layer)\n",
    "        \n",
    "    output_layer = [{ 'weights':[ rd.random() for j in range(n_hiddens[-1]+1)]} for k in range(n_outputs)]\n",
    "    network.append( output_layer )\n",
    "    return network\n"
   ]
  },
  {
   "cell_type": "code",
   "execution_count": 67,
   "id": "bdd198ed",
   "metadata": {},
   "outputs": [
    {
     "name": "stdout",
     "output_type": "stream",
     "text": [
      "layer : 1 \n",
      "\n",
      "{'weights': [0.5712326942175455, 0.17627589520647535, 0.2505954088773793, 0.21761868850658306, 0.5695173495977943, 0.7577501146664367, 0.05213322114218644, 0.6816364556074682]} \n",
      "\n",
      "{'weights': [0.7171532633675107, 0.3479815079568077, 0.5150558042933419, 0.16479815203117487, 0.7298961504869986, 0.040708687336548866, 0.981221058148159, 0.8079437334476703]} \n",
      "\n",
      "{'weights': [0.6284485019821408, 0.2675262446471117, 0.9128628900924319, 0.9594388378770715, 0.13912615902147096, 0.7757572503157156, 0.8419308585435238, 0.6597173563139825]} \n",
      "\n",
      "{'weights': [0.7004077664167305, 0.44505873211451163, 0.9243078026249281, 0.9712075281962813, 0.3823533128201745, 0.8027115308003568, 0.4329215913805363, 0.16475421868327378]} \n",
      "\n",
      "layer : 2 \n",
      "\n",
      "{'weights': [0.32546727685726395, 0.1263300748348425, 0.9088847599027046, 0.9594240800441438, 0.11918673240587485]} \n",
      "\n",
      "{'weights': [0.6006790811870585, 0.40822409770858314, 0.11809003100178916, 0.295475514811817, 0.2482163710806481]} \n",
      "\n",
      "{'weights': [0.7495768111897567, 0.004008955954045934, 0.18983870393308366, 0.43877307011993694, 0.02103467308587126]} \n",
      "\n",
      "{'weights': [0.6275265885374804, 0.6056275385785042, 0.8353323508828638, 0.20660581568518466, 0.2847816135615888]} \n",
      "\n",
      "layer : 3 \n",
      "\n",
      "{'weights': [0.5423394307527486, 0.2732256972129319, 0.585738083402959, 0.25088222945000915, 0.6835271525859573]} \n",
      "\n",
      "{'weights': [0.7910907183680019, 0.8086546201638074, 0.9736161095498469, 0.5453770038258688, 0.49080927982901434]} \n",
      "\n",
      "{'weights': [0.8556976997986436, 0.7690673858593793, 0.5705446293870352, 0.3832563847662638, 0.2840474457335592]} \n",
      "\n"
     ]
    }
   ],
   "source": [
    "model20 = initialize_network_2(n_inputs,[4,4],n_outputs)\n",
    "write(model20)"
   ]
  },
  {
   "cell_type": "code",
   "execution_count": 68,
   "id": "633af25f",
   "metadata": {},
   "outputs": [
    {
     "name": "stdout",
     "output_type": "stream",
     "text": [
      ">epoch =0, lrate =0.500, error =0.794\n",
      ">epoch =1, lrate =0.500, error =0.699\n",
      ">epoch =2, lrate =0.500, error =0.696\n",
      ">epoch =3, lrate =0.500, error =0.693\n",
      ">epoch =4, lrate =0.500, error =0.690\n",
      ">epoch =5, lrate =0.500, error =0.688\n",
      ">epoch =6, lrate =0.500, error =0.686\n",
      ">epoch =7, lrate =0.500, error =0.685\n",
      ">epoch =8, lrate =0.500, error =0.683\n",
      ">epoch =9, lrate =0.500, error =0.681\n",
      ">epoch =10, lrate =0.500, error =0.678\n",
      ">epoch =11, lrate =0.500, error =0.673\n",
      ">epoch =12, lrate =0.500, error =0.661\n",
      ">epoch =13, lrate =0.500, error =0.629\n",
      ">epoch =14, lrate =0.500, error =0.546\n",
      ">epoch =15, lrate =0.500, error =0.442\n",
      ">epoch =16, lrate =0.500, error =0.391\n",
      ">epoch =17, lrate =0.500, error =0.371\n",
      ">epoch =18, lrate =0.500, error =0.361\n",
      ">epoch =19, lrate =0.500, error =0.353\n",
      ">epoch =20, lrate =0.500, error =0.347\n",
      ">epoch =21, lrate =0.500, error =0.340\n",
      ">epoch =22, lrate =0.500, error =0.332\n",
      ">epoch =23, lrate =0.500, error =0.321\n",
      ">epoch =24, lrate =0.500, error =0.306\n",
      ">epoch =25, lrate =0.500, error =0.285\n",
      ">epoch =26, lrate =0.500, error =0.261\n",
      ">epoch =27, lrate =0.500, error =0.235\n",
      ">epoch =28, lrate =0.500, error =0.211\n",
      ">epoch =29, lrate =0.500, error =0.191\n",
      ">epoch =30, lrate =0.500, error =0.176\n",
      ">epoch =31, lrate =0.500, error =0.164\n",
      ">epoch =32, lrate =0.500, error =0.156\n",
      ">epoch =33, lrate =0.500, error =0.149\n",
      ">epoch =34, lrate =0.500, error =0.144\n",
      ">epoch =35, lrate =0.500, error =0.139\n",
      ">epoch =36, lrate =0.500, error =0.135\n",
      ">epoch =37, lrate =0.500, error =0.132\n",
      ">epoch =38, lrate =0.500, error =0.130\n",
      ">epoch =39, lrate =0.500, error =0.127\n",
      ">epoch =40, lrate =0.500, error =0.125\n",
      ">epoch =41, lrate =0.500, error =0.123\n",
      ">epoch =42, lrate =0.500, error =0.119\n",
      ">epoch =43, lrate =0.500, error =0.114\n",
      ">epoch =44, lrate =0.500, error =0.109\n",
      ">epoch =45, lrate =0.500, error =0.104\n",
      ">epoch =46, lrate =0.500, error =0.100\n",
      ">epoch =47, lrate =0.500, error =0.098\n",
      ">epoch =48, lrate =0.500, error =0.095\n",
      ">epoch =49, lrate =0.500, error =0.093\n"
     ]
    }
   ],
   "source": [
    "train_network(model20,train,l_rate=0.5,n_epoch=50,n_outputs=3)"
   ]
  },
  {
   "cell_type": "code",
   "execution_count": 69,
   "id": "7395637f",
   "metadata": {},
   "outputs": [],
   "source": [
    "predictions = predict_dataset(model20,test)"
   ]
  },
  {
   "cell_type": "code",
   "execution_count": 70,
   "id": "8b72dd88",
   "metadata": {},
   "outputs": [
    {
     "data": {
      "text/plain": [
       "88.09523809523809"
      ]
     },
     "execution_count": 70,
     "metadata": {},
     "output_type": "execute_result"
    }
   ],
   "source": [
    "accuracy(predictions,test)"
   ]
  },
  {
   "cell_type": "code",
   "execution_count": 71,
   "id": "6bea3037",
   "metadata": {},
   "outputs": [
    {
     "data": {
      "text/plain": [
       "0.19047619047619047"
      ]
     },
     "execution_count": 71,
     "metadata": {},
     "output_type": "execute_result"
    }
   ],
   "source": [
    "MSE(predictions,test)"
   ]
  }
 ],
 "metadata": {
  "kernelspec": {
   "display_name": "Python 3",
   "language": "python",
   "name": "python3"
  },
  "language_info": {
   "codemirror_mode": {
    "name": "ipython",
    "version": 3
   },
   "file_extension": ".py",
   "mimetype": "text/x-python",
   "name": "python",
   "nbconvert_exporter": "python",
   "pygments_lexer": "ipython3",
   "version": "3.11.0"
  },
  "vscode": {
   "interpreter": {
    "hash": "c261aea317cc0286b3b3261fbba9abdec21eaa57589985bb7a274bf54d6cc0a7"
   }
  }
 },
 "nbformat": 4,
 "nbformat_minor": 5
}
