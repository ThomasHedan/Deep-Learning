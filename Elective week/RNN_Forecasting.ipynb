{
  "cells": [
    {
      "cell_type": "markdown",
      "metadata": {
        "id": "awjToBAcbd6M"
      },
      "source": [
        "# RNNs - Forecasting"
      ]
    },
    {
      "cell_type": "markdown",
      "metadata": {
        "id": "MxAWbx0zbd6O"
      },
      "source": [
        "In this notebook you will learn how to build Recurrent Neural Networks (RNNs) for time series forecasting.\n",
        "\n",
        "\n",
        "**Objectif : build RNN models for time series forecasting.**\n",
        "- 1 - Time Series forecasting (Many to One) => from t-30 to t predict t+5\n",
        "    - Load the data: daily temperatures in Melbourne from 1981 to 1990\n",
        "    - Prepare the data: Fill the missing data\n",
        "    - Add lag columns\n",
        "    - Split the dataset\n",
        "    - Reshape the inputs for the RNN\n",
        "    - Build some basline models: naive model (predict the last known value) and linear regression\n",
        "    - Build a model with 2 simple RNN layers\n",
        "    - Evaluate & Plot\n",
        "- 2 - Forecasting the shifted sequence (Seq2Seq - Many to Many) => from t-30 to t predict temperatures for 30 days (from t-24 to t+5) instead of just one\n",
        "    - Define the 3D targets\n",
        "    - Define the mae last step metric\n",
        "    - Build a Seq2Seq model\n",
        "    - Train the model\n",
        "- 3 LSTM and GRU\n",
        "    - Build, train and evaluate a Seq2Seq LSTM\n",
        "    - Add l2 regularization\n",
        "- 4 Preprocessing with 1D-ConvNets"
      ]
    },
    {
      "cell_type": "markdown",
      "metadata": {
        "id": "kWX1iMlzbd6P"
      },
      "source": [
        "# Imports"
      ]
    },
    {
      "cell_type": "code",
      "execution_count": null,
      "metadata": {
        "id": "8kPJ3PPnbd6T"
      },
      "outputs": [],
      "source": [
        "import matplotlib as mpl\n",
        "import matplotlib.pyplot as plt\n",
        "import numpy as np\n",
        "import os\n",
        "import pandas as pd\n",
        "import sklearn\n",
        "import sys\n",
        "import tensorflow as tf\n",
        "from tensorflow import keras\n",
        "import time"
      ]
    },
    {
      "cell_type": "code",
      "execution_count": null,
      "metadata": {
        "colab": {
          "base_uri": "https://localhost:8080/"
        },
        "id": "ECv3OCrl76GP",
        "outputId": "bdb57ff9-4d74-4d34-e7db-8fa33c83f66f"
      },
      "outputs": [
        {
          "output_type": "execute_result",
          "data": {
            "text/plain": [
              "[PhysicalDevice(name='/physical_device:GPU:0', device_type='GPU')]"
            ]
          },
          "metadata": {},
          "execution_count": 5
        }
      ],
      "source": [
        "tf.config.list_physical_devices('GPU')"
      ]
    },
    {
      "cell_type": "markdown",
      "metadata": {
        "id": "stK4liDvbd6c"
      },
      "source": [
        "# 1 - Time series forecasting"
      ]
    },
    {
      "cell_type": "markdown",
      "metadata": {
        "id": "1Djf00fhbd6d"
      },
      "source": [
        "## 1.1) Load the data"
      ]
    },
    {
      "cell_type": "markdown",
      "metadata": {
        "id": "XD5obQeDbd6e"
      },
      "source": [
        "Let's start with a simple univariate time series: the daily temperatures in Melbourne from 1981 to 1990."
      ]
    },
    {
      "cell_type": "code",
      "execution_count": null,
      "metadata": {
        "id": "rNmiQlMAbd6f"
      },
      "outputs": [],
      "source": [
        "data_path = 'daily-minimum-temperatures-in-me.csv'\n",
        "temps = pd.read_csv(data_path,\n",
        "                    parse_dates=[0], index_col=0)"
      ]
    },
    {
      "cell_type": "code",
      "execution_count": null,
      "metadata": {
        "id": "VX81cx2qbd6i",
        "colab": {
          "base_uri": "https://localhost:8080/"
        },
        "outputId": "2089eb1e-01fd-49a3-a586-c373d67d2874"
      },
      "outputs": [
        {
          "output_type": "stream",
          "name": "stdout",
          "text": [
            "<class 'pandas.core.frame.DataFrame'>\n",
            "DatetimeIndex: 3650 entries, 1981-01-01 to 1990-12-31\n",
            "Data columns (total 1 columns):\n",
            " #   Column       Non-Null Count  Dtype  \n",
            "---  ------       --------------  -----  \n",
            " 0   Temperature  3650 non-null   float64\n",
            "dtypes: float64(1)\n",
            "memory usage: 57.0 KB\n"
          ]
        }
      ],
      "source": [
        "temps.info()"
      ]
    },
    {
      "cell_type": "code",
      "execution_count": null,
      "metadata": {
        "id": "A6E0b-kbbd6k",
        "colab": {
          "base_uri": "https://localhost:8080/",
          "height": 237
        },
        "outputId": "a7f3155f-98ca-43b6-a85c-c94f973ccf06"
      },
      "outputs": [
        {
          "output_type": "execute_result",
          "data": {
            "text/plain": [
              "            Temperature\n",
              "Date                   \n",
              "1981-01-01         20.7\n",
              "1981-01-02         17.9\n",
              "1981-01-03         18.8\n",
              "1981-01-04         14.6\n",
              "1981-01-05         15.8"
            ],
            "text/html": [
              "\n",
              "  <div id=\"df-4d507b88-f07d-4517-bb1c-bbb46e531f9e\">\n",
              "    <div class=\"colab-df-container\">\n",
              "      <div>\n",
              "<style scoped>\n",
              "    .dataframe tbody tr th:only-of-type {\n",
              "        vertical-align: middle;\n",
              "    }\n",
              "\n",
              "    .dataframe tbody tr th {\n",
              "        vertical-align: top;\n",
              "    }\n",
              "\n",
              "    .dataframe thead th {\n",
              "        text-align: right;\n",
              "    }\n",
              "</style>\n",
              "<table border=\"1\" class=\"dataframe\">\n",
              "  <thead>\n",
              "    <tr style=\"text-align: right;\">\n",
              "      <th></th>\n",
              "      <th>Temperature</th>\n",
              "    </tr>\n",
              "    <tr>\n",
              "      <th>Date</th>\n",
              "      <th></th>\n",
              "    </tr>\n",
              "  </thead>\n",
              "  <tbody>\n",
              "    <tr>\n",
              "      <th>1981-01-01</th>\n",
              "      <td>20.7</td>\n",
              "    </tr>\n",
              "    <tr>\n",
              "      <th>1981-01-02</th>\n",
              "      <td>17.9</td>\n",
              "    </tr>\n",
              "    <tr>\n",
              "      <th>1981-01-03</th>\n",
              "      <td>18.8</td>\n",
              "    </tr>\n",
              "    <tr>\n",
              "      <th>1981-01-04</th>\n",
              "      <td>14.6</td>\n",
              "    </tr>\n",
              "    <tr>\n",
              "      <th>1981-01-05</th>\n",
              "      <td>15.8</td>\n",
              "    </tr>\n",
              "  </tbody>\n",
              "</table>\n",
              "</div>\n",
              "      <button class=\"colab-df-convert\" onclick=\"convertToInteractive('df-4d507b88-f07d-4517-bb1c-bbb46e531f9e')\"\n",
              "              title=\"Convert this dataframe to an interactive table.\"\n",
              "              style=\"display:none;\">\n",
              "        \n",
              "  <svg xmlns=\"http://www.w3.org/2000/svg\" height=\"24px\"viewBox=\"0 0 24 24\"\n",
              "       width=\"24px\">\n",
              "    <path d=\"M0 0h24v24H0V0z\" fill=\"none\"/>\n",
              "    <path d=\"M18.56 5.44l.94 2.06.94-2.06 2.06-.94-2.06-.94-.94-2.06-.94 2.06-2.06.94zm-11 1L8.5 8.5l.94-2.06 2.06-.94-2.06-.94L8.5 2.5l-.94 2.06-2.06.94zm10 10l.94 2.06.94-2.06 2.06-.94-2.06-.94-.94-2.06-.94 2.06-2.06.94z\"/><path d=\"M17.41 7.96l-1.37-1.37c-.4-.4-.92-.59-1.43-.59-.52 0-1.04.2-1.43.59L10.3 9.45l-7.72 7.72c-.78.78-.78 2.05 0 2.83L4 21.41c.39.39.9.59 1.41.59.51 0 1.02-.2 1.41-.59l7.78-7.78 2.81-2.81c.8-.78.8-2.07 0-2.86zM5.41 20L4 18.59l7.72-7.72 1.47 1.35L5.41 20z\"/>\n",
              "  </svg>\n",
              "      </button>\n",
              "      \n",
              "  <style>\n",
              "    .colab-df-container {\n",
              "      display:flex;\n",
              "      flex-wrap:wrap;\n",
              "      gap: 12px;\n",
              "    }\n",
              "\n",
              "    .colab-df-convert {\n",
              "      background-color: #E8F0FE;\n",
              "      border: none;\n",
              "      border-radius: 50%;\n",
              "      cursor: pointer;\n",
              "      display: none;\n",
              "      fill: #1967D2;\n",
              "      height: 32px;\n",
              "      padding: 0 0 0 0;\n",
              "      width: 32px;\n",
              "    }\n",
              "\n",
              "    .colab-df-convert:hover {\n",
              "      background-color: #E2EBFA;\n",
              "      box-shadow: 0px 1px 2px rgba(60, 64, 67, 0.3), 0px 1px 3px 1px rgba(60, 64, 67, 0.15);\n",
              "      fill: #174EA6;\n",
              "    }\n",
              "\n",
              "    [theme=dark] .colab-df-convert {\n",
              "      background-color: #3B4455;\n",
              "      fill: #D2E3FC;\n",
              "    }\n",
              "\n",
              "    [theme=dark] .colab-df-convert:hover {\n",
              "      background-color: #434B5C;\n",
              "      box-shadow: 0px 1px 3px 1px rgba(0, 0, 0, 0.15);\n",
              "      filter: drop-shadow(0px 1px 2px rgba(0, 0, 0, 0.3));\n",
              "      fill: #FFFFFF;\n",
              "    }\n",
              "  </style>\n",
              "\n",
              "      <script>\n",
              "        const buttonEl =\n",
              "          document.querySelector('#df-4d507b88-f07d-4517-bb1c-bbb46e531f9e button.colab-df-convert');\n",
              "        buttonEl.style.display =\n",
              "          google.colab.kernel.accessAllowed ? 'block' : 'none';\n",
              "\n",
              "        async function convertToInteractive(key) {\n",
              "          const element = document.querySelector('#df-4d507b88-f07d-4517-bb1c-bbb46e531f9e');\n",
              "          const dataTable =\n",
              "            await google.colab.kernel.invokeFunction('convertToInteractive',\n",
              "                                                     [key], {});\n",
              "          if (!dataTable) return;\n",
              "\n",
              "          const docLinkHtml = 'Like what you see? Visit the ' +\n",
              "            '<a target=\"_blank\" href=https://colab.research.google.com/notebooks/data_table.ipynb>data table notebook</a>'\n",
              "            + ' to learn more about interactive tables.';\n",
              "          element.innerHTML = '';\n",
              "          dataTable['output_type'] = 'display_data';\n",
              "          await google.colab.output.renderOutput(dataTable, element);\n",
              "          const docLink = document.createElement('div');\n",
              "          docLink.innerHTML = docLinkHtml;\n",
              "          element.appendChild(docLink);\n",
              "        }\n",
              "      </script>\n",
              "    </div>\n",
              "  </div>\n",
              "  "
            ]
          },
          "metadata": {},
          "execution_count": 10
        }
      ],
      "source": [
        "temps.head()"
      ]
    },
    {
      "cell_type": "code",
      "execution_count": null,
      "metadata": {
        "id": "0fprJQ_vbd6n",
        "colab": {
          "base_uri": "https://localhost:8080/",
          "height": 318
        },
        "outputId": "d863972f-38cc-4a80-bdff-dc2c30264c8d"
      },
      "outputs": [
        {
          "output_type": "display_data",
          "data": {
            "text/plain": [
              "<Figure size 720x360 with 1 Axes>"
            ],
            "image/png": "[encoded data removed]"
          },
          "metadata": {
            "needs_background": "light"
          }
        }
      ],
      "source": [
        "temps.plot(figsize=(10,5))\n",
        "plt.show()"
      ]
    },
    {
      "cell_type": "markdown",
      "metadata": {
        "id": "0qJMDQ2mbd6q"
      },
      "source": [
        "## 1.2) Prepare the data"
      ]
    },
    {
      "cell_type": "markdown",
      "metadata": {
        "id": "iTl92nTcbd6r"
      },
      "source": [
        "A few dates are missing, for example December 31st, 1984:"
      ]
    },
    {
      "cell_type": "code",
      "execution_count": null,
      "metadata": {
        "id": "Fs-HzclGbd6r",
        "colab": {
          "base_uri": "https://localhost:8080/",
          "height": 206
        },
        "outputId": "086fdb01-c742-4d88-984e-cb39ccf19fdf"
      },
      "outputs": [
        {
          "output_type": "execute_result",
          "data": {
            "text/plain": [
              "            Temperature\n",
              "Date                   \n",
              "1984-12-29         16.0\n",
              "1984-12-30         16.4\n",
              "1985-01-01         13.3\n",
              "1985-01-02         15.2"
            ],
            "text/html": [
              "\n",
              "  <div id=\"df-adcff4e6-33e6-4fd9-9460-5f027ff0209f\">\n",
              "    <div class=\"colab-df-container\">\n",
              "      <div>\n",
              "<style scoped>\n",
              "    .dataframe tbody tr th:only-of-type {\n",
              "        vertical-align: middle;\n",
              "    }\n",
              "\n",
              "    .dataframe tbody tr th {\n",
              "        vertical-align: top;\n",
              "    }\n",
              "\n",
              "    .dataframe thead th {\n",
              "        text-align: right;\n",
              "    }\n",
              "</style>\n",
              "<table border=\"1\" class=\"dataframe\">\n",
              "  <thead>\n",
              "    <tr style=\"text-align: right;\">\n",
              "      <th></th>\n",
              "      <th>Temperature</th>\n",
              "    </tr>\n",
              "    <tr>\n",
              "      <th>Date</th>\n",
              "      <th></th>\n",
              "    </tr>\n",
              "  </thead>\n",
              "  <tbody>\n",
              "    <tr>\n",
              "      <th>1984-12-29</th>\n",
              "      <td>16.0</td>\n",
              "    </tr>\n",
              "    <tr>\n",
              "      <th>1984-12-30</th>\n",
              "      <td>16.4</td>\n",
              "    </tr>\n",
              "    <tr>\n",
              "      <th>1985-01-01</th>\n",
              "      <td>13.3</td>\n",
              "    </tr>\n",
              "    <tr>\n",
              "      <th>1985-01-02</th>\n",
              "      <td>15.2</td>\n",
              "    </tr>\n",
              "  </tbody>\n",
              "</table>\n",
              "</div>\n",
              "      <button class=\"colab-df-convert\" onclick=\"convertToInteractive('df-adcff4e6-33e6-4fd9-9460-5f027ff0209f')\"\n",
              "              title=\"Convert this dataframe to an interactive table.\"\n",
              "              style=\"display:none;\">\n",
              "        \n",
              "  <svg xmlns=\"http://www.w3.org/2000/svg\" height=\"24px\"viewBox=\"0 0 24 24\"\n",
              "       width=\"24px\">\n",
              "    <path d=\"M0 0h24v24H0V0z\" fill=\"none\"/>\n",
              "    <path d=\"M18.56 5.44l.94 2.06.94-2.06 2.06-.94-2.06-.94-.94-2.06-.94 2.06-2.06.94zm-11 1L8.5 8.5l.94-2.06 2.06-.94-2.06-.94L8.5 2.5l-.94 2.06-2.06.94zm10 10l.94 2.06.94-2.06 2.06-.94-2.06-.94-.94-2.06-.94 2.06-2.06.94z\"/><path d=\"M17.41 7.96l-1.37-1.37c-.4-.4-.92-.59-1.43-.59-.52 0-1.04.2-1.43.59L10.3 9.45l-7.72 7.72c-.78.78-.78 2.05 0 2.83L4 21.41c.39.39.9.59 1.41.59.51 0 1.02-.2 1.41-.59l7.78-7.78 2.81-2.81c.8-.78.8-2.07 0-2.86zM5.41 20L4 18.59l7.72-7.72 1.47 1.35L5.41 20z\"/>\n",
              "  </svg>\n",
              "      </button>\n",
              "      \n",
              "  <style>\n",
              "    .colab-df-container {\n",
              "      display:flex;\n",
              "      flex-wrap:wrap;\n",
              "      gap: 12px;\n",
              "    }\n",
              "\n",
              "    .colab-df-convert {\n",
              "      background-color: #E8F0FE;\n",
              "      border: none;\n",
              "      border-radius: 50%;\n",
              "      cursor: pointer;\n",
              "      display: none;\n",
              "      fill: #1967D2;\n",
              "      height: 32px;\n",
              "      padding: 0 0 0 0;\n",
              "      width: 32px;\n",
              "    }\n",
              "\n",
              "    .colab-df-convert:hover {\n",
              "      background-color: #E2EBFA;\n",
              "      box-shadow: 0px 1px 2px rgba(60, 64, 67, 0.3), 0px 1px 3px 1px rgba(60, 64, 67, 0.15);\n",
              "      fill: #174EA6;\n",
              "    }\n",
              "\n",
              "    [theme=dark] .colab-df-convert {\n",
              "      background-color: #3B4455;\n",
              "      fill: #D2E3FC;\n",
              "    }\n",
              "\n",
              "    [theme=dark] .colab-df-convert:hover {\n",
              "      background-color: #434B5C;\n",
              "      box-shadow: 0px 1px 3px 1px rgba(0, 0, 0, 0.15);\n",
              "      filter: drop-shadow(0px 1px 2px rgba(0, 0, 0, 0.3));\n",
              "      fill: #FFFFFF;\n",
              "    }\n",
              "  </style>\n",
              "\n",
              "      <script>\n",
              "        const buttonEl =\n",
              "          document.querySelector('#df-adcff4e6-33e6-4fd9-9460-5f027ff0209f button.colab-df-convert');\n",
              "        buttonEl.style.display =\n",
              "          google.colab.kernel.accessAllowed ? 'block' : 'none';\n",
              "\n",
              "        async function convertToInteractive(key) {\n",
              "          const element = document.querySelector('#df-adcff4e6-33e6-4fd9-9460-5f027ff0209f');\n",
              "          const dataTable =\n",
              "            await google.colab.kernel.invokeFunction('convertToInteractive',\n",
              "                                                     [key], {});\n",
              "          if (!dataTable) return;\n",
              "\n",
              "          const docLinkHtml = 'Like what you see? Visit the ' +\n",
              "            '<a target=\"_blank\" href=https://colab.research.google.com/notebooks/data_table.ipynb>data table notebook</a>'\n",
              "            + ' to learn more about interactive tables.';\n",
              "          element.innerHTML = '';\n",
              "          dataTable['output_type'] = 'display_data';\n",
              "          await google.colab.output.renderOutput(dataTable, element);\n",
              "          const docLink = document.createElement('div');\n",
              "          docLink.innerHTML = docLinkHtml;\n",
              "          element.appendChild(docLink);\n",
              "        }\n",
              "      </script>\n",
              "    </div>\n",
              "  </div>\n",
              "  "
            ]
          },
          "metadata": {},
          "execution_count": 12
        }
      ],
      "source": [
        "temps.loc[\"1984-12-29\":\"1985-01-02\"]"
      ]
    },
    {
      "cell_type": "markdown",
      "metadata": {
        "id": "HsOXCccnbd6u"
      },
      "source": [
        "Let's ensure there's one row per day, filling missing values with the previous valid value.\n",
        "\n",
        "Seee : [Pandas Doc](https://pandas.pydata.org/pandas-docs/stable/reference/api/pandas.DataFrame.asfreq.html#pandas.DataFrame.asfreq)"
      ]
    },
    {
      "cell_type": "code",
      "execution_count": null,
      "metadata": {
        "id": "G4TN24webd6v",
        "colab": {
          "base_uri": "https://localhost:8080/",
          "height": 237
        },
        "outputId": "afeb317a-e877-4b72-f0c6-368d40ecf296"
      },
      "outputs": [
        {
          "output_type": "execute_result",
          "data": {
            "text/plain": [
              "            Temperature\n",
              "Date                   \n",
              "1984-12-29         16.0\n",
              "1984-12-30         16.4\n",
              "1984-12-31         16.4\n",
              "1985-01-01         13.3\n",
              "1985-01-02         15.2"
            ],
            "text/html": [
              "\n",
              "  <div id=\"df-29fcb1a8-e55e-4ce8-96a3-a162b05f9fe5\">\n",
              "    <div class=\"colab-df-container\">\n",
              "      <div>\n",
              "<style scoped>\n",
              "    .dataframe tbody tr th:only-of-type {\n",
              "        vertical-align: middle;\n",
              "    }\n",
              "\n",
              "    .dataframe tbody tr th {\n",
              "        vertical-align: top;\n",
              "    }\n",
              "\n",
              "    .dataframe thead th {\n",
              "        text-align: right;\n",
              "    }\n",
              "</style>\n",
              "<table border=\"1\" class=\"dataframe\">\n",
              "  <thead>\n",
              "    <tr style=\"text-align: right;\">\n",
              "      <th></th>\n",
              "      <th>Temperature</th>\n",
              "    </tr>\n",
              "    <tr>\n",
              "      <th>Date</th>\n",
              "      <th></th>\n",
              "    </tr>\n",
              "  </thead>\n",
              "  <tbody>\n",
              "    <tr>\n",
              "      <th>1984-12-29</th>\n",
              "      <td>16.0</td>\n",
              "    </tr>\n",
              "    <tr>\n",
              "      <th>1984-12-30</th>\n",
              "      <td>16.4</td>\n",
              "    </tr>\n",
              "    <tr>\n",
              "      <th>1984-12-31</th>\n",
              "      <td>16.4</td>\n",
              "    </tr>\n",
              "    <tr>\n",
              "      <th>1985-01-01</th>\n",
              "      <td>13.3</td>\n",
              "    </tr>\n",
              "    <tr>\n",
              "      <th>1985-01-02</th>\n",
              "      <td>15.2</td>\n",
              "    </tr>\n",
              "  </tbody>\n",
              "</table>\n",
              "</div>\n",
              "      <button class=\"colab-df-convert\" onclick=\"convertToInteractive('df-29fcb1a8-e55e-4ce8-96a3-a162b05f9fe5')\"\n",
              "              title=\"Convert this dataframe to an interactive table.\"\n",
              "              style=\"display:none;\">\n",
              "        \n",
              "  <svg xmlns=\"http://www.w3.org/2000/svg\" height=\"24px\"viewBox=\"0 0 24 24\"\n",
              "       width=\"24px\">\n",
              "    <path d=\"M0 0h24v24H0V0z\" fill=\"none\"/>\n",
              "    <path d=\"M18.56 5.44l.94 2.06.94-2.06 2.06-.94-2.06-.94-.94-2.06-.94 2.06-2.06.94zm-11 1L8.5 8.5l.94-2.06 2.06-.94-2.06-.94L8.5 2.5l-.94 2.06-2.06.94zm10 10l.94 2.06.94-2.06 2.06-.94-2.06-.94-.94-2.06-.94 2.06-2.06.94z\"/><path d=\"M17.41 7.96l-1.37-1.37c-.4-.4-.92-.59-1.43-.59-.52 0-1.04.2-1.43.59L10.3 9.45l-7.72 7.72c-.78.78-.78 2.05 0 2.83L4 21.41c.39.39.9.59 1.41.59.51 0 1.02-.2 1.41-.59l7.78-7.78 2.81-2.81c.8-.78.8-2.07 0-2.86zM5.41 20L4 18.59l7.72-7.72 1.47 1.35L5.41 20z\"/>\n",
              "  </svg>\n",
              "      </button>\n",
              "      \n",
              "  <style>\n",
              "    .colab-df-container {\n",
              "      display:flex;\n",
              "      flex-wrap:wrap;\n",
              "      gap: 12px;\n",
              "    }\n",
              "\n",
              "    .colab-df-convert {\n",
              "      background-color: #E8F0FE;\n",
              "      border: none;\n",
              "      border-radius: 50%;\n",
              "      cursor: pointer;\n",
              "      display: none;\n",
              "      fill: #1967D2;\n",
              "      height: 32px;\n",
              "      padding: 0 0 0 0;\n",
              "      width: 32px;\n",
              "    }\n",
              "\n",
              "    .colab-df-convert:hover {\n",
              "      background-color: #E2EBFA;\n",
              "      box-shadow: 0px 1px 2px rgba(60, 64, 67, 0.3), 0px 1px 3px 1px rgba(60, 64, 67, 0.15);\n",
              "      fill: #174EA6;\n",
              "    }\n",
              "\n",
              "    [theme=dark] .colab-df-convert {\n",
              "      background-color: #3B4455;\n",
              "      fill: #D2E3FC;\n",
              "    }\n",
              "\n",
              "    [theme=dark] .colab-df-convert:hover {\n",
              "      background-color: #434B5C;\n",
              "      box-shadow: 0px 1px 3px 1px rgba(0, 0, 0, 0.15);\n",
              "      filter: drop-shadow(0px 1px 2px rgba(0, 0, 0, 0.3));\n",
              "      fill: #FFFFFF;\n",
              "    }\n",
              "  </style>\n",
              "\n",
              "      <script>\n",
              "        const buttonEl =\n",
              "          document.querySelector('#df-29fcb1a8-e55e-4ce8-96a3-a162b05f9fe5 button.colab-df-convert');\n",
              "        buttonEl.style.display =\n",
              "          google.colab.kernel.accessAllowed ? 'block' : 'none';\n",
              "\n",
              "        async function convertToInteractive(key) {\n",
              "          const element = document.querySelector('#df-29fcb1a8-e55e-4ce8-96a3-a162b05f9fe5');\n",
              "          const dataTable =\n",
              "            await google.colab.kernel.invokeFunction('convertToInteractive',\n",
              "                                                     [key], {});\n",
              "          if (!dataTable) return;\n",
              "\n",
              "          const docLinkHtml = 'Like what you see? Visit the ' +\n",
              "            '<a target=\"_blank\" href=https://colab.research.google.com/notebooks/data_table.ipynb>data table notebook</a>'\n",
              "            + ' to learn more about interactive tables.';\n",
              "          element.innerHTML = '';\n",
              "          dataTable['output_type'] = 'display_data';\n",
              "          await google.colab.output.renderOutput(dataTable, element);\n",
              "          const docLink = document.createElement('div');\n",
              "          docLink.innerHTML = docLinkHtml;\n",
              "          element.appendChild(docLink);\n",
              "        }\n",
              "      </script>\n",
              "    </div>\n",
              "  </div>\n",
              "  "
            ]
          },
          "metadata": {},
          "execution_count": 13
        }
      ],
      "source": [
        "temps = temps.asfreq(\"1D\", method='pad')\n",
        "temps.loc[\"1984-12-29\":\"1985-01-02\"]"
      ]
    },
    {
      "cell_type": "markdown",
      "metadata": {
        "id": "Kgwwzvvzbd6x"
      },
      "source": [
        "Alternatively, we could have interpolated using `temps.interpolate()`."
      ]
    },
    {
      "cell_type": "markdown",
      "metadata": {
        "id": "Y1JBXbsGbd6y"
      },
      "source": [
        "## 1.3) Add the shifted columns"
      ]
    },
    {
      "cell_type": "markdown",
      "metadata": {
        "id": "XDJq5SOhbd6z"
      },
      "source": [
        "Next, let's create a function to add lag columns:"
      ]
    },
    {
      "cell_type": "code",
      "execution_count": null,
      "metadata": {
        "id": "-MNWtzuxbd60"
      },
      "outputs": [],
      "source": [
        "def add_lags(series, times):\n",
        "    cols = []\n",
        "    column_index = []\n",
        "    for time in times:\n",
        "        cols.append(series.shift(-time))\n",
        "        lag_fmt = \"t+{time}\" if time > 0 else \"t{time}\" if time < 0 else \"t\"\n",
        "        column_index += [(lag_fmt.format(time=time), col_name)\n",
        "                        for col_name in series.columns]\n",
        "    df = pd.concat(cols, axis=1)\n",
        "    df.columns = pd.MultiIndex.from_tuples(column_index)\n",
        "    return df"
      ]
    },
    {
      "cell_type": "code",
      "execution_count": null,
      "metadata": {
        "id": "t9sfkhHqbd63",
        "colab": {
          "base_uri": "https://localhost:8080/",
          "height": 426
        },
        "outputId": "32d3654a-3a02-415a-c2ba-35a8b22cbd56"
      },
      "outputs": [
        {
          "output_type": "execute_result",
          "data": {
            "text/plain": [
              "                   t-2         t-1           t         t+2\n",
              "           Temperature Temperature Temperature Temperature\n",
              "Date                                                      \n",
              "1981-01-01         NaN         NaN        20.7        18.8\n",
              "1981-01-02         NaN        20.7        17.9        14.6\n",
              "1981-01-03        20.7        17.9        18.8        15.8\n",
              "1981-01-04        17.9        18.8        14.6        15.8\n",
              "1981-01-05        18.8        14.6        15.8        15.8\n",
              "1981-01-06        14.6        15.8        15.8        17.4\n",
              "1981-01-07        15.8        15.8        15.8        21.8\n",
              "1981-01-08        15.8        15.8        17.4        20.0\n",
              "1981-01-09        15.8        17.4        21.8        16.2\n",
              "1981-01-10        17.4        21.8        20.0        13.3"
            ],
            "text/html": [
              "\n",
              "  <div id=\"df-54f73ca0-3d25-4b6b-af64-fac8d2cdf042\">\n",
              "    <div class=\"colab-df-container\">\n",
              "      <div>\n",
              "<style scoped>\n",
              "    .dataframe tbody tr th:only-of-type {\n",
              "        vertical-align: middle;\n",
              "    }\n",
              "\n",
              "    .dataframe tbody tr th {\n",
              "        vertical-align: top;\n",
              "    }\n",
              "\n",
              "    .dataframe thead tr th {\n",
              "        text-align: left;\n",
              "    }\n",
              "\n",
              "    .dataframe thead tr:last-of-type th {\n",
              "        text-align: right;\n",
              "    }\n",
              "</style>\n",
              "<table border=\"1\" class=\"dataframe\">\n",
              "  <thead>\n",
              "    <tr>\n",
              "      <th></th>\n",
              "      <th>t-2</th>\n",
              "      <th>t-1</th>\n",
              "      <th>t</th>\n",
              "      <th>t+2</th>\n",
              "    </tr>\n",
              "    <tr>\n",
              "      <th></th>\n",
              "      <th>Temperature</th>\n",
              "      <th>Temperature</th>\n",
              "      <th>Temperature</th>\n",
              "      <th>Temperature</th>\n",
              "    </tr>\n",
              "    <tr>\n",
              "      <th>Date</th>\n",
              "      <th></th>\n",
              "      <th></th>\n",
              "      <th></th>\n",
              "      <th></th>\n",
              "    </tr>\n",
              "  </thead>\n",
              "  <tbody>\n",
              "    <tr>\n",
              "      <th>1981-01-01</th>\n",
              "      <td>NaN</td>\n",
              "      <td>NaN</td>\n",
              "      <td>20.7</td>\n",
              "      <td>18.8</td>\n",
              "    </tr>\n",
              "    <tr>\n",
              "      <th>1981-01-02</th>\n",
              "      <td>NaN</td>\n",
              "      <td>20.7</td>\n",
              "      <td>17.9</td>\n",
              "      <td>14.6</td>\n",
              "    </tr>\n",
              "    <tr>\n",
              "      <th>1981-01-03</th>\n",
              "      <td>20.7</td>\n",
              "      <td>17.9</td>\n",
              "      <td>18.8</td>\n",
              "      <td>15.8</td>\n",
              "    </tr>\n",
              "    <tr>\n",
              "      <th>1981-01-04</th>\n",
              "      <td>17.9</td>\n",
              "      <td>18.8</td>\n",
              "      <td>14.6</td>\n",
              "      <td>15.8</td>\n",
              "    </tr>\n",
              "    <tr>\n",
              "      <th>1981-01-05</th>\n",
              "      <td>18.8</td>\n",
              "      <td>14.6</td>\n",
              "      <td>15.8</td>\n",
              "      <td>15.8</td>\n",
              "    </tr>\n",
              "    <tr>\n",
              "      <th>1981-01-06</th>\n",
              "      <td>14.6</td>\n",
              "      <td>15.8</td>\n",
              "      <td>15.8</td>\n",
              "      <td>17.4</td>\n",
              "    </tr>\n",
              "    <tr>\n",
              "      <th>1981-01-07</th>\n",
              "      <td>15.8</td>\n",
              "      <td>15.8</td>\n",
              "      <td>15.8</td>\n",
              "      <td>21.8</td>\n",
              "    </tr>\n",
              "    <tr>\n",
              "      <th>1981-01-08</th>\n",
              "      <td>15.8</td>\n",
              "      <td>15.8</td>\n",
              "      <td>17.4</td>\n",
              "      <td>20.0</td>\n",
              "    </tr>\n",
              "    <tr>\n",
              "      <th>1981-01-09</th>\n",
              "      <td>15.8</td>\n",
              "      <td>17.4</td>\n",
              "      <td>21.8</td>\n",
              "      <td>16.2</td>\n",
              "    </tr>\n",
              "    <tr>\n",
              "      <th>1981-01-10</th>\n",
              "      <td>17.4</td>\n",
              "      <td>21.8</td>\n",
              "      <td>20.0</td>\n",
              "      <td>13.3</td>\n",
              "    </tr>\n",
              "  </tbody>\n",
              "</table>\n",
              "</div>\n",
              "      <button class=\"colab-df-convert\" onclick=\"convertToInteractive('df-54f73ca0-3d25-4b6b-af64-fac8d2cdf042')\"\n",
              "              title=\"Convert this dataframe to an interactive table.\"\n",
              "              style=\"display:none;\">\n",
              "        \n",
              "  <svg xmlns=\"http://www.w3.org/2000/svg\" height=\"24px\"viewBox=\"0 0 24 24\"\n",
              "       width=\"24px\">\n",
              "    <path d=\"M0 0h24v24H0V0z\" fill=\"none\"/>\n",
              "    <path d=\"M18.56 5.44l.94 2.06.94-2.06 2.06-.94-2.06-.94-.94-2.06-.94 2.06-2.06.94zm-11 1L8.5 8.5l.94-2.06 2.06-.94-2.06-.94L8.5 2.5l-.94 2.06-2.06.94zm10 10l.94 2.06.94-2.06 2.06-.94-2.06-.94-.94-2.06-.94 2.06-2.06.94z\"/><path d=\"M17.41 7.96l-1.37-1.37c-.4-.4-.92-.59-1.43-.59-.52 0-1.04.2-1.43.59L10.3 9.45l-7.72 7.72c-.78.78-.78 2.05 0 2.83L4 21.41c.39.39.9.59 1.41.59.51 0 1.02-.2 1.41-.59l7.78-7.78 2.81-2.81c.8-.78.8-2.07 0-2.86zM5.41 20L4 18.59l7.72-7.72 1.47 1.35L5.41 20z\"/>\n",
              "  </svg>\n",
              "      </button>\n",
              "      \n",
              "  <style>\n",
              "    .colab-df-container {\n",
              "      display:flex;\n",
              "      flex-wrap:wrap;\n",
              "      gap: 12px;\n",
              "    }\n",
              "\n",
              "    .colab-df-convert {\n",
              "      background-color: #E8F0FE;\n",
              "      border: none;\n",
              "      border-radius: 50%;\n",
              "      cursor: pointer;\n",
              "      display: none;\n",
              "      fill: #1967D2;\n",
              "      height: 32px;\n",
              "      padding: 0 0 0 0;\n",
              "      width: 32px;\n",
              "    }\n",
              "\n",
              "    .colab-df-convert:hover {\n",
              "      background-color: #E2EBFA;\n",
              "      box-shadow: 0px 1px 2px rgba(60, 64, 67, 0.3), 0px 1px 3px 1px rgba(60, 64, 67, 0.15);\n",
              "      fill: #174EA6;\n",
              "    }\n",
              "\n",
              "    [theme=dark] .colab-df-convert {\n",
              "      background-color: #3B4455;\n",
              "      fill: #D2E3FC;\n",
              "    }\n",
              "\n",
              "    [theme=dark] .colab-df-convert:hover {\n",
              "      background-color: #434B5C;\n",
              "      box-shadow: 0px 1px 3px 1px rgba(0, 0, 0, 0.15);\n",
              "      filter: drop-shadow(0px 1px 2px rgba(0, 0, 0, 0.3));\n",
              "      fill: #FFFFFF;\n",
              "    }\n",
              "  </style>\n",
              "\n",
              "      <script>\n",
              "        const buttonEl =\n",
              "          document.querySelector('#df-54f73ca0-3d25-4b6b-af64-fac8d2cdf042 button.colab-df-convert');\n",
              "        buttonEl.style.display =\n",
              "          google.colab.kernel.accessAllowed ? 'block' : 'none';\n",
              "\n",
              "        async function convertToInteractive(key) {\n",
              "          const element = document.querySelector('#df-54f73ca0-3d25-4b6b-af64-fac8d2cdf042');\n",
              "          const dataTable =\n",
              "            await google.colab.kernel.invokeFunction('convertToInteractive',\n",
              "                                                     [key], {});\n",
              "          if (!dataTable) return;\n",
              "\n",
              "          const docLinkHtml = 'Like what you see? Visit the ' +\n",
              "            '<a target=\"_blank\" href=https://colab.research.google.com/notebooks/data_table.ipynb>data table notebook</a>'\n",
              "            + ' to learn more about interactive tables.';\n",
              "          element.innerHTML = '';\n",
              "          dataTable['output_type'] = 'display_data';\n",
              "          await google.colab.output.renderOutput(dataTable, element);\n",
              "          const docLink = document.createElement('div');\n",
              "          docLink.innerHTML = docLinkHtml;\n",
              "          element.appendChild(docLink);\n",
              "        }\n",
              "      </script>\n",
              "    </div>\n",
              "  </div>\n",
              "  "
            ]
          },
          "metadata": {},
          "execution_count": 15
        }
      ],
      "source": [
        "add_lags(temps, times=(-2, -1, 0, +2)).head(10)"
      ]
    },
    {
      "cell_type": "markdown",
      "metadata": {
        "id": "wAy6hQ-bbd6-"
      },
      "source": [
        "We will try to predict the temperature in 5 days (t+5) using the temperatures from the last 30 days (t-29 to t):"
      ]
    },
    {
      "cell_type": "code",
      "execution_count": null,
      "metadata": {
        "id": "CNvO0mLIbd6_"
      },
      "outputs": [],
      "source": [
        "X = add_lags(temps, times=range(-30+1,1)).iloc[30:-5]\n",
        "y = add_lags(temps, times=[5]).iloc[30:-5]"
      ]
    },
    {
      "cell_type": "code",
      "execution_count": null,
      "metadata": {
        "id": "COtRDHZ4bd7C",
        "colab": {
          "base_uri": "https://localhost:8080/",
          "height": 498
        },
        "outputId": "36fd745a-5305-4088-8b33-cb7c755ddaba"
      },
      "outputs": [
        {
          "output_type": "execute_result",
          "data": {
            "text/plain": [
              "                  t-29        t-28        t-27        t-26        t-25  \\\n",
              "           Temperature Temperature Temperature Temperature Temperature   \n",
              "Date                                                                     \n",
              "1981-01-31        17.9        18.8        14.6        15.8        15.8   \n",
              "1981-02-01        18.8        14.6        15.8        15.8        15.8   \n",
              "1981-02-02        14.6        15.8        15.8        15.8        17.4   \n",
              "1981-02-03        15.8        15.8        15.8        17.4        21.8   \n",
              "1981-02-04        15.8        15.8        17.4        21.8        20.0   \n",
              "1981-02-05        15.8        17.4        21.8        20.0        16.2   \n",
              "\n",
              "                  t-24        t-23        t-22        t-21        t-20  ...  \\\n",
              "           Temperature Temperature Temperature Temperature Temperature  ...   \n",
              "Date                                                                    ...   \n",
              "1981-01-31        15.8        17.4        21.8        20.0        16.2  ...   \n",
              "1981-02-01        17.4        21.8        20.0        16.2        13.3  ...   \n",
              "1981-02-02        21.8        20.0        16.2        13.3        16.7  ...   \n",
              "1981-02-03        20.0        16.2        13.3        16.7        21.5  ...   \n",
              "1981-02-04        16.2        13.3        16.7        21.5        25.0  ...   \n",
              "1981-02-05        13.3        16.7        21.5        25.0        20.7  ...   \n",
              "\n",
              "                   t-9         t-8         t-7         t-6         t-5  \\\n",
              "           Temperature Temperature Temperature Temperature Temperature   \n",
              "Date                                                                     \n",
              "1981-01-31        12.1        14.4        16.0        16.5        18.7   \n",
              "1981-02-01        14.4        16.0        16.5        18.7        19.4   \n",
              "1981-02-02        16.0        16.5        18.7        19.4        17.2   \n",
              "1981-02-03        16.5        18.7        19.4        17.2        15.5   \n",
              "1981-02-04        18.7        19.4        17.2        15.5        15.1   \n",
              "1981-02-05        19.4        17.2        15.5        15.1        15.4   \n",
              "\n",
              "                   t-4         t-3         t-2         t-1           t  \n",
              "           Temperature Temperature Temperature Temperature Temperature  \n",
              "Date                                                                    \n",
              "1981-01-31        19.4        17.2        15.5        15.1        15.4  \n",
              "1981-02-01        17.2        15.5        15.1        15.4        15.3  \n",
              "1981-02-02        15.5        15.1        15.4        15.3        18.8  \n",
              "1981-02-03        15.1        15.4        15.3        18.8        21.9  \n",
              "1981-02-04        15.4        15.3        18.8        21.9        19.9  \n",
              "1981-02-05        15.3        18.8        21.9        19.9        16.6  \n",
              "\n",
              "[6 rows x 30 columns]"
            ],
            "text/html": [
              "\n",
              "  <div id=\"df-2ab9ece0-8a59-41c1-8d60-7d721ef7c23d\">\n",
              "    <div class=\"colab-df-container\">\n",
              "      <div>\n",
              "<style scoped>\n",
              "    .dataframe tbody tr th:only-of-type {\n",
              "        vertical-align: middle;\n",
              "    }\n",
              "\n",
              "    .dataframe tbody tr th {\n",
              "        vertical-align: top;\n",
              "    }\n",
              "\n",
              "    .dataframe thead tr th {\n",
              "        text-align: left;\n",
              "    }\n",
              "\n",
              "    .dataframe thead tr:last-of-type th {\n",
              "        text-align: right;\n",
              "    }\n",
              "</style>\n",
              "<table border=\"1\" class=\"dataframe\">\n",
              "  <thead>\n",
              "    <tr>\n",
              "      <th></th>\n",
              "      <th>t-29</th>\n",
              "      <th>t-28</th>\n",
              "      <th>t-27</th>\n",
              "      <th>t-26</th>\n",
              "      <th>t-25</th>\n",
              "      <th>t-24</th>\n",
              "      <th>t-23</th>\n",
              "      <th>t-22</th>\n",
              "      <th>t-21</th>\n",
              "      <th>t-20</th>\n",
              "      <th>...</th>\n",
              "      <th>t-9</th>\n",
              "      <th>t-8</th>\n",
              "      <th>t-7</th>\n",
              "      <th>t-6</th>\n",
              "      <th>t-5</th>\n",
              "      <th>t-4</th>\n",
              "      <th>t-3</th>\n",
              "      <th>t-2</th>\n",
              "      <th>t-1</th>\n",
              "      <th>t</th>\n",
              "    </tr>\n",
              "    <tr>\n",
              "      <th></th>\n",
              "      <th>Temperature</th>\n",
              "      <th>Temperature</th>\n",
              "      <th>Temperature</th>\n",
              "      <th>Temperature</th>\n",
              "      <th>Temperature</th>\n",
              "      <th>Temperature</th>\n",
              "      <th>Temperature</th>\n",
              "      <th>Temperature</th>\n",
              "      <th>Temperature</th>\n",
              "      <th>Temperature</th>\n",
              "      <th>...</th>\n",
              "      <th>Temperature</th>\n",
              "      <th>Temperature</th>\n",
              "      <th>Temperature</th>\n",
              "      <th>Temperature</th>\n",
              "      <th>Temperature</th>\n",
              "      <th>Temperature</th>\n",
              "      <th>Temperature</th>\n",
              "      <th>Temperature</th>\n",
              "      <th>Temperature</th>\n",
              "      <th>Temperature</th>\n",
              "    </tr>\n",
              "    <tr>\n",
              "      <th>Date</th>\n",
              "      <th></th>\n",
              "      <th></th>\n",
              "      <th></th>\n",
              "      <th></th>\n",
              "      <th></th>\n",
              "      <th></th>\n",
              "      <th></th>\n",
              "      <th></th>\n",
              "      <th></th>\n",
              "      <th></th>\n",
              "      <th></th>\n",
              "      <th></th>\n",
              "      <th></th>\n",
              "      <th></th>\n",
              "      <th></th>\n",
              "      <th></th>\n",
              "      <th></th>\n",
              "      <th></th>\n",
              "      <th></th>\n",
              "      <th></th>\n",
              "      <th></th>\n",
              "    </tr>\n",
              "  </thead>\n",
              "  <tbody>\n",
              "    <tr>\n",
              "      <th>1981-01-31</th>\n",
              "      <td>17.9</td>\n",
              "      <td>18.8</td>\n",
              "      <td>14.6</td>\n",
              "      <td>15.8</td>\n",
              "      <td>15.8</td>\n",
              "      <td>15.8</td>\n",
              "      <td>17.4</td>\n",
              "      <td>21.8</td>\n",
              "      <td>20.0</td>\n",
              "      <td>16.2</td>\n",
              "      <td>...</td>\n",
              "      <td>12.1</td>\n",
              "      <td>14.4</td>\n",
              "      <td>16.0</td>\n",
              "      <td>16.5</td>\n",
              "      <td>18.7</td>\n",
              "      <td>19.4</td>\n",
              "      <td>17.2</td>\n",
              "      <td>15.5</td>\n",
              "      <td>15.1</td>\n",
              "      <td>15.4</td>\n",
              "    </tr>\n",
              "    <tr>\n",
              "      <th>1981-02-01</th>\n",
              "      <td>18.8</td>\n",
              "      <td>14.6</td>\n",
              "      <td>15.8</td>\n",
              "      <td>15.8</td>\n",
              "      <td>15.8</td>\n",
              "      <td>17.4</td>\n",
              "      <td>21.8</td>\n",
              "      <td>20.0</td>\n",
              "      <td>16.2</td>\n",
              "      <td>13.3</td>\n",
              "      <td>...</td>\n",
              "      <td>14.4</td>\n",
              "      <td>16.0</td>\n",
              "      <td>16.5</td>\n",
              "      <td>18.7</td>\n",
              "      <td>19.4</td>\n",
              "      <td>17.2</td>\n",
              "      <td>15.5</td>\n",
              "      <td>15.1</td>\n",
              "      <td>15.4</td>\n",
              "      <td>15.3</td>\n",
              "    </tr>\n",
              "    <tr>\n",
              "      <th>1981-02-02</th>\n",
              "      <td>14.6</td>\n",
              "      <td>15.8</td>\n",
              "      <td>15.8</td>\n",
              "      <td>15.8</td>\n",
              "      <td>17.4</td>\n",
              "      <td>21.8</td>\n",
              "      <td>20.0</td>\n",
              "      <td>16.2</td>\n",
              "      <td>13.3</td>\n",
              "      <td>16.7</td>\n",
              "      <td>...</td>\n",
              "      <td>16.0</td>\n",
              "      <td>16.5</td>\n",
              "      <td>18.7</td>\n",
              "      <td>19.4</td>\n",
              "      <td>17.2</td>\n",
              "      <td>15.5</td>\n",
              "      <td>15.1</td>\n",
              "      <td>15.4</td>\n",
              "      <td>15.3</td>\n",
              "      <td>18.8</td>\n",
              "    </tr>\n",
              "    <tr>\n",
              "      <th>1981-02-03</th>\n",
              "      <td>15.8</td>\n",
              "      <td>15.8</td>\n",
              "      <td>15.8</td>\n",
              "      <td>17.4</td>\n",
              "      <td>21.8</td>\n",
              "      <td>20.0</td>\n",
              "      <td>16.2</td>\n",
              "      <td>13.3</td>\n",
              "      <td>16.7</td>\n",
              "      <td>21.5</td>\n",
              "      <td>...</td>\n",
              "      <td>16.5</td>\n",
              "      <td>18.7</td>\n",
              "      <td>19.4</td>\n",
              "      <td>17.2</td>\n",
              "      <td>15.5</td>\n",
              "      <td>15.1</td>\n",
              "      <td>15.4</td>\n",
              "      <td>15.3</td>\n",
              "      <td>18.8</td>\n",
              "      <td>21.9</td>\n",
              "    </tr>\n",
              "    <tr>\n",
              "      <th>1981-02-04</th>\n",
              "      <td>15.8</td>\n",
              "      <td>15.8</td>\n",
              "      <td>17.4</td>\n",
              "      <td>21.8</td>\n",
              "      <td>20.0</td>\n",
              "      <td>16.2</td>\n",
              "      <td>13.3</td>\n",
              "      <td>16.7</td>\n",
              "      <td>21.5</td>\n",
              "      <td>25.0</td>\n",
              "      <td>...</td>\n",
              "      <td>18.7</td>\n",
              "      <td>19.4</td>\n",
              "      <td>17.2</td>\n",
              "      <td>15.5</td>\n",
              "      <td>15.1</td>\n",
              "      <td>15.4</td>\n",
              "      <td>15.3</td>\n",
              "      <td>18.8</td>\n",
              "      <td>21.9</td>\n",
              "      <td>19.9</td>\n",
              "    </tr>\n",
              "    <tr>\n",
              "      <th>1981-02-05</th>\n",
              "      <td>15.8</td>\n",
              "      <td>17.4</td>\n",
              "      <td>21.8</td>\n",
              "      <td>20.0</td>\n",
              "      <td>16.2</td>\n",
              "      <td>13.3</td>\n",
              "      <td>16.7</td>\n",
              "      <td>21.5</td>\n",
              "      <td>25.0</td>\n",
              "      <td>20.7</td>\n",
              "      <td>...</td>\n",
              "      <td>19.4</td>\n",
              "      <td>17.2</td>\n",
              "      <td>15.5</td>\n",
              "      <td>15.1</td>\n",
              "      <td>15.4</td>\n",
              "      <td>15.3</td>\n",
              "      <td>18.8</td>\n",
              "      <td>21.9</td>\n",
              "      <td>19.9</td>\n",
              "      <td>16.6</td>\n",
              "    </tr>\n",
              "  </tbody>\n",
              "</table>\n",
              "<p>6 rows × 30 columns</p>\n",
              "</div>\n",
              "      <button class=\"colab-df-convert\" onclick=\"convertToInteractive('df-2ab9ece0-8a59-41c1-8d60-7d721ef7c23d')\"\n",
              "              title=\"Convert this dataframe to an interactive table.\"\n",
              "              style=\"display:none;\">\n",
              "        \n",
              "  <svg xmlns=\"http://www.w3.org/2000/svg\" height=\"24px\"viewBox=\"0 0 24 24\"\n",
              "       width=\"24px\">\n",
              "    <path d=\"M0 0h24v24H0V0z\" fill=\"none\"/>\n",
              "    <path d=\"M18.56 5.44l.94 2.06.94-2.06 2.06-.94-2.06-.94-.94-2.06-.94 2.06-2.06.94zm-11 1L8.5 8.5l.94-2.06 2.06-.94-2.06-.94L8.5 2.5l-.94 2.06-2.06.94zm10 10l.94 2.06.94-2.06 2.06-.94-2.06-.94-.94-2.06-.94 2.06-2.06.94z\"/><path d=\"M17.41 7.96l-1.37-1.37c-.4-.4-.92-.59-1.43-.59-.52 0-1.04.2-1.43.59L10.3 9.45l-7.72 7.72c-.78.78-.78 2.05 0 2.83L4 21.41c.39.39.9.59 1.41.59.51 0 1.02-.2 1.41-.59l7.78-7.78 2.81-2.81c.8-.78.8-2.07 0-2.86zM5.41 20L4 18.59l7.72-7.72 1.47 1.35L5.41 20z\"/>\n",
              "  </svg>\n",
              "      </button>\n",
              "      \n",
              "  <style>\n",
              "    .colab-df-container {\n",
              "      display:flex;\n",
              "      flex-wrap:wrap;\n",
              "      gap: 12px;\n",
              "    }\n",
              "\n",
              "    .colab-df-convert {\n",
              "      background-color: #E8F0FE;\n",
              "      border: none;\n",
              "      border-radius: 50%;\n",
              "      cursor: pointer;\n",
              "      display: none;\n",
              "      fill: #1967D2;\n",
              "      height: 32px;\n",
              "      padding: 0 0 0 0;\n",
              "      width: 32px;\n",
              "    }\n",
              "\n",
              "    .colab-df-convert:hover {\n",
              "      background-color: #E2EBFA;\n",
              "      box-shadow: 0px 1px 2px rgba(60, 64, 67, 0.3), 0px 1px 3px 1px rgba(60, 64, 67, 0.15);\n",
              "      fill: #174EA6;\n",
              "    }\n",
              "\n",
              "    [theme=dark] .colab-df-convert {\n",
              "      background-color: #3B4455;\n",
              "      fill: #D2E3FC;\n",
              "    }\n",
              "\n",
              "    [theme=dark] .colab-df-convert:hover {\n",
              "      background-color: #434B5C;\n",
              "      box-shadow: 0px 1px 3px 1px rgba(0, 0, 0, 0.15);\n",
              "      filter: drop-shadow(0px 1px 2px rgba(0, 0, 0, 0.3));\n",
              "      fill: #FFFFFF;\n",
              "    }\n",
              "  </style>\n",
              "\n",
              "      <script>\n",
              "        const buttonEl =\n",
              "          document.querySelector('#df-2ab9ece0-8a59-41c1-8d60-7d721ef7c23d button.colab-df-convert');\n",
              "        buttonEl.style.display =\n",
              "          google.colab.kernel.accessAllowed ? 'block' : 'none';\n",
              "\n",
              "        async function convertToInteractive(key) {\n",
              "          const element = document.querySelector('#df-2ab9ece0-8a59-41c1-8d60-7d721ef7c23d');\n",
              "          const dataTable =\n",
              "            await google.colab.kernel.invokeFunction('convertToInteractive',\n",
              "                                                     [key], {});\n",
              "          if (!dataTable) return;\n",
              "\n",
              "          const docLinkHtml = 'Like what you see? Visit the ' +\n",
              "            '<a target=\"_blank\" href=https://colab.research.google.com/notebooks/data_table.ipynb>data table notebook</a>'\n",
              "            + ' to learn more about interactive tables.';\n",
              "          element.innerHTML = '';\n",
              "          dataTable['output_type'] = 'display_data';\n",
              "          await google.colab.output.renderOutput(dataTable, element);\n",
              "          const docLink = document.createElement('div');\n",
              "          docLink.innerHTML = docLinkHtml;\n",
              "          element.appendChild(docLink);\n",
              "        }\n",
              "      </script>\n",
              "    </div>\n",
              "  </div>\n",
              "  "
            ]
          },
          "metadata": {},
          "execution_count": 17
        }
      ],
      "source": [
        "X.head(6)"
      ]
    },
    {
      "cell_type": "code",
      "execution_count": null,
      "metadata": {
        "id": "xWyrsGRFbd7E",
        "colab": {
          "base_uri": "https://localhost:8080/",
          "height": 269
        },
        "outputId": "2ea434e0-5447-453d-c253-48a4bc9bf632"
      },
      "outputs": [
        {
          "output_type": "execute_result",
          "data": {
            "text/plain": [
              "                   t+5\n",
              "           Temperature\n",
              "Date                  \n",
              "1981-01-31        16.6\n",
              "1981-02-01        16.8\n",
              "1981-02-02        14.6\n",
              "1981-02-03        17.1\n",
              "1981-02-04        25.0"
            ],
            "text/html": [
              "\n",
              "  <div id=\"df-c7b8565c-bebf-4e0c-aff7-79ef1429879a\">\n",
              "    <div class=\"colab-df-container\">\n",
              "      <div>\n",
              "<style scoped>\n",
              "    .dataframe tbody tr th:only-of-type {\n",
              "        vertical-align: middle;\n",
              "    }\n",
              "\n",
              "    .dataframe tbody tr th {\n",
              "        vertical-align: top;\n",
              "    }\n",
              "\n",
              "    .dataframe thead tr th {\n",
              "        text-align: left;\n",
              "    }\n",
              "\n",
              "    .dataframe thead tr:last-of-type th {\n",
              "        text-align: right;\n",
              "    }\n",
              "</style>\n",
              "<table border=\"1\" class=\"dataframe\">\n",
              "  <thead>\n",
              "    <tr>\n",
              "      <th></th>\n",
              "      <th>t+5</th>\n",
              "    </tr>\n",
              "    <tr>\n",
              "      <th></th>\n",
              "      <th>Temperature</th>\n",
              "    </tr>\n",
              "    <tr>\n",
              "      <th>Date</th>\n",
              "      <th></th>\n",
              "    </tr>\n",
              "  </thead>\n",
              "  <tbody>\n",
              "    <tr>\n",
              "      <th>1981-01-31</th>\n",
              "      <td>16.6</td>\n",
              "    </tr>\n",
              "    <tr>\n",
              "      <th>1981-02-01</th>\n",
              "      <td>16.8</td>\n",
              "    </tr>\n",
              "    <tr>\n",
              "      <th>1981-02-02</th>\n",
              "      <td>14.6</td>\n",
              "    </tr>\n",
              "    <tr>\n",
              "      <th>1981-02-03</th>\n",
              "      <td>17.1</td>\n",
              "    </tr>\n",
              "    <tr>\n",
              "      <th>1981-02-04</th>\n",
              "      <td>25.0</td>\n",
              "    </tr>\n",
              "  </tbody>\n",
              "</table>\n",
              "</div>\n",
              "      <button class=\"colab-df-convert\" onclick=\"convertToInteractive('df-c7b8565c-bebf-4e0c-aff7-79ef1429879a')\"\n",
              "              title=\"Convert this dataframe to an interactive table.\"\n",
              "              style=\"display:none;\">\n",
              "        \n",
              "  <svg xmlns=\"http://www.w3.org/2000/svg\" height=\"24px\"viewBox=\"0 0 24 24\"\n",
              "       width=\"24px\">\n",
              "    <path d=\"M0 0h24v24H0V0z\" fill=\"none\"/>\n",
              "    <path d=\"M18.56 5.44l.94 2.06.94-2.06 2.06-.94-2.06-.94-.94-2.06-.94 2.06-2.06.94zm-11 1L8.5 8.5l.94-2.06 2.06-.94-2.06-.94L8.5 2.5l-.94 2.06-2.06.94zm10 10l.94 2.06.94-2.06 2.06-.94-2.06-.94-.94-2.06-.94 2.06-2.06.94z\"/><path d=\"M17.41 7.96l-1.37-1.37c-.4-.4-.92-.59-1.43-.59-.52 0-1.04.2-1.43.59L10.3 9.45l-7.72 7.72c-.78.78-.78 2.05 0 2.83L4 21.41c.39.39.9.59 1.41.59.51 0 1.02-.2 1.41-.59l7.78-7.78 2.81-2.81c.8-.78.8-2.07 0-2.86zM5.41 20L4 18.59l7.72-7.72 1.47 1.35L5.41 20z\"/>\n",
              "  </svg>\n",
              "      </button>\n",
              "      \n",
              "  <style>\n",
              "    .colab-df-container {\n",
              "      display:flex;\n",
              "      flex-wrap:wrap;\n",
              "      gap: 12px;\n",
              "    }\n",
              "\n",
              "    .colab-df-convert {\n",
              "      background-color: #E8F0FE;\n",
              "      border: none;\n",
              "      border-radius: 50%;\n",
              "      cursor: pointer;\n",
              "      display: none;\n",
              "      fill: #1967D2;\n",
              "      height: 32px;\n",
              "      padding: 0 0 0 0;\n",
              "      width: 32px;\n",
              "    }\n",
              "\n",
              "    .colab-df-convert:hover {\n",
              "      background-color: #E2EBFA;\n",
              "      box-shadow: 0px 1px 2px rgba(60, 64, 67, 0.3), 0px 1px 3px 1px rgba(60, 64, 67, 0.15);\n",
              "      fill: #174EA6;\n",
              "    }\n",
              "\n",
              "    [theme=dark] .colab-df-convert {\n",
              "      background-color: #3B4455;\n",
              "      fill: #D2E3FC;\n",
              "    }\n",
              "\n",
              "    [theme=dark] .colab-df-convert:hover {\n",
              "      background-color: #434B5C;\n",
              "      box-shadow: 0px 1px 3px 1px rgba(0, 0, 0, 0.15);\n",
              "      filter: drop-shadow(0px 1px 2px rgba(0, 0, 0, 0.3));\n",
              "      fill: #FFFFFF;\n",
              "    }\n",
              "  </style>\n",
              "\n",
              "      <script>\n",
              "        const buttonEl =\n",
              "          document.querySelector('#df-c7b8565c-bebf-4e0c-aff7-79ef1429879a button.colab-df-convert');\n",
              "        buttonEl.style.display =\n",
              "          google.colab.kernel.accessAllowed ? 'block' : 'none';\n",
              "\n",
              "        async function convertToInteractive(key) {\n",
              "          const element = document.querySelector('#df-c7b8565c-bebf-4e0c-aff7-79ef1429879a');\n",
              "          const dataTable =\n",
              "            await google.colab.kernel.invokeFunction('convertToInteractive',\n",
              "                                                     [key], {});\n",
              "          if (!dataTable) return;\n",
              "\n",
              "          const docLinkHtml = 'Like what you see? Visit the ' +\n",
              "            '<a target=\"_blank\" href=https://colab.research.google.com/notebooks/data_table.ipynb>data table notebook</a>'\n",
              "            + ' to learn more about interactive tables.';\n",
              "          element.innerHTML = '';\n",
              "          dataTable['output_type'] = 'display_data';\n",
              "          await google.colab.output.renderOutput(dataTable, element);\n",
              "          const docLink = document.createElement('div');\n",
              "          docLink.innerHTML = docLinkHtml;\n",
              "          element.appendChild(docLink);\n",
              "        }\n",
              "      </script>\n",
              "    </div>\n",
              "  </div>\n",
              "  "
            ]
          },
          "metadata": {},
          "execution_count": 18
        }
      ],
      "source": [
        "y.head()"
      ]
    },
    {
      "cell_type": "markdown",
      "metadata": {
        "id": "3qMajtmrbd7G"
      },
      "source": [
        "Note: you may want to use `keras.preprocessing.sequence.TimeseriesGenerator` or `tf.data.Dataset.window()` instead."
      ]
    },
    {
      "cell_type": "markdown",
      "metadata": {
        "id": "PMXNCFyubd7H"
      },
      "source": [
        "## 1.4) Split the dataset"
      ]
    },
    {
      "cell_type": "markdown",
      "metadata": {
        "id": "dC_14bDObd7H"
      },
      "source": [
        "Split this dataset into three periods: training (1981-1986), validation (1987-1988) and testing (1989-1990)."
      ]
    },
    {
      "cell_type": "code",
      "execution_count": null,
      "metadata": {
        "id": "12EZ0xxXbd7I"
      },
      "outputs": [],
      "source": [
        "train_slice = slice(None, \"1986-12-25\")\n",
        "valid_slice = slice(\"1987-01-01\", \"1988-12-25\")\n",
        "test_slice  = slice(\"1989-01-01\", None)"
      ]
    },
    {
      "cell_type": "code",
      "execution_count": null,
      "metadata": {
        "id": "JG2QyY12bd7L"
      },
      "outputs": [],
      "source": [
        "X_train, y_train = X.loc[train_slice], y.loc[train_slice]\n",
        "X_valid, y_valid = X.loc[valid_slice], y.loc[valid_slice]\n",
        "X_test, y_test = X.loc[test_slice], y.loc[test_slice]"
      ]
    },
    {
      "cell_type": "markdown",
      "metadata": {
        "id": "3ezMe86rbd7N"
      },
      "source": [
        "## 1.5) Reshape the inputs for the RNN"
      ]
    },
    {
      "cell_type": "markdown",
      "metadata": {
        "id": "5ekS_7eybd7O"
      },
      "source": [
        "Keras and TensorFlow expect a 3D NumPy array for any sequence. Its shape should be (number of instances, number of time steps, number of features per time step). \n",
        "\n",
        "Since this is a univariate time series *(The term \"univariate time series\" refers to a time series that consists of single (scalar) observations recorded sequentially over equal time increments. Example : monthly CO2 concentrations)*, the last dimension is 1. \n",
        "\n",
        "\n",
        "![3D Structure](images/3D-targets.png)\n",
        "\n",
        "Reshape the input features to get 3D arrays:"
      ]
    },
    {
      "cell_type": "code",
      "execution_count": null,
      "metadata": {
        "id": "MuMv8IfYbd7P"
      },
      "outputs": [],
      "source": [
        "def multilevel_df_to_ndarray(df):\n",
        "    shape = [-1] + [len(level) for level in df.columns.remove_unused_levels().levels]\n",
        "    return df.values.reshape(shape)"
      ]
    },
    {
      "cell_type": "code",
      "execution_count": null,
      "metadata": {
        "id": "iKRC8ruVbd7R"
      },
      "outputs": [],
      "source": [
        "X_train_3D = multilevel_df_to_ndarray(X_train)\n",
        "X_valid_3D = multilevel_df_to_ndarray(X_valid)\n",
        "X_test_3D = multilevel_df_to_ndarray(X_test)"
      ]
    },
    {
      "cell_type": "code",
      "execution_count": null,
      "metadata": {
        "id": "ywMDnamxbd7T",
        "colab": {
          "base_uri": "https://localhost:8080/"
        },
        "outputId": "111e9a35-8570-4552-9586-626528a99b41"
      },
      "outputs": [
        {
          "output_type": "execute_result",
          "data": {
            "text/plain": [
              "(2155, 30)"
            ]
          },
          "metadata": {},
          "execution_count": 23
        }
      ],
      "source": [
        "X_train.shape"
      ]
    },
    {
      "cell_type": "code",
      "execution_count": null,
      "metadata": {
        "id": "AkJnpiiJbd7W",
        "colab": {
          "base_uri": "https://localhost:8080/"
        },
        "outputId": "a2b337eb-d8c0-4c1e-bf2f-8728e7b75ec7"
      },
      "outputs": [
        {
          "output_type": "execute_result",
          "data": {
            "text/plain": [
              "(2155, 30, 1)"
            ]
          },
          "metadata": {},
          "execution_count": 24
        }
      ],
      "source": [
        "X_train_3D.shape"
      ]
    },
    {
      "cell_type": "markdown",
      "metadata": {
        "id": "WZYw9Stlbd7Y"
      },
      "source": [
        "## 1.6) Build some baseline models"
      ]
    },
    {
      "cell_type": "markdown",
      "metadata": {
        "id": "GFpYltcGbd7Z"
      },
      "source": [
        "Build some baseline models (at least one) and evaluate them on the test set, using the Mean Absolute Error (MAE). For example:\n",
        "\n",
        "* a naive model, that just predicts the last known value.\n",
        "* a linear model.\n",
        "\n",
        "Now let's evaluate some basic strategies, to get some baselines:"
      ]
    },
    {
      "cell_type": "code",
      "execution_count": null,
      "metadata": {
        "id": "JMBycCGwbd7Z"
      },
      "outputs": [],
      "source": [
        "from sklearn.metrics import mean_absolute_error"
      ]
    },
    {
      "cell_type": "code",
      "execution_count": null,
      "metadata": {
        "id": "qlH8GZdNbd7c"
      },
      "outputs": [],
      "source": [
        "def naive(X):\n",
        "    return X.iloc[:, -1]"
      ]
    },
    {
      "cell_type": "code",
      "execution_count": null,
      "metadata": {
        "id": "lm4FW3L0bd7f"
      },
      "outputs": [],
      "source": [
        "y_pred_naive = naive(X_test)"
      ]
    },
    {
      "cell_type": "code",
      "execution_count": null,
      "metadata": {
        "id": "YcoCmtMebd7i",
        "colab": {
          "base_uri": "https://localhost:8080/"
        },
        "outputId": "e2da618b-61ab-494b-fb5b-6b244077a4a8"
      },
      "outputs": [
        {
          "output_type": "execute_result",
          "data": {
            "text/plain": [
              "2.8064827586206893"
            ]
          },
          "metadata": {},
          "execution_count": 28
        }
      ],
      "source": [
        "score_naive = mean_absolute_error(y_test, y_pred_naive)\n",
        "score_naive"
      ]
    },
    {
      "cell_type": "code",
      "execution_count": null,
      "metadata": {
        "id": "36o10LFkbd7q"
      },
      "outputs": [],
      "source": [
        "from sklearn.linear_model import LinearRegression"
      ]
    },
    {
      "cell_type": "code",
      "execution_count": null,
      "metadata": {
        "id": "UQXqojzDbd7u",
        "colab": {
          "base_uri": "https://localhost:8080/"
        },
        "outputId": "e99e9707-0247-4aaa-8209-321532ef55a1"
      },
      "outputs": [
        {
          "output_type": "stream",
          "name": "stderr",
          "text": [
            "/usr/local/lib/python3.8/dist-packages/sklearn/utils/validation.py:1688: FutureWarning: Feature names only support names that are all strings. Got feature names with dtypes: ['tuple']. An error will be raised in 1.2.\n",
            "  warnings.warn(\n"
          ]
        },
        {
          "output_type": "execute_result",
          "data": {
            "text/plain": [
              "LinearRegression()"
            ]
          },
          "metadata": {},
          "execution_count": 30
        }
      ],
      "source": [
        "lin_reg = LinearRegression()\n",
        "lin_reg.fit(X_train, y_train)"
      ]
    },
    {
      "cell_type": "code",
      "execution_count": null,
      "metadata": {
        "id": "aEslBb8Bbd7w",
        "colab": {
          "base_uri": "https://localhost:8080/"
        },
        "outputId": "ba023c95-8a79-4f5b-8053-3b0ee9b6cbe8"
      },
      "outputs": [
        {
          "output_type": "stream",
          "name": "stderr",
          "text": [
            "/usr/local/lib/python3.8/dist-packages/sklearn/utils/validation.py:1688: FutureWarning: Feature names only support names that are all strings. Got feature names with dtypes: ['tuple']. An error will be raised in 1.2.\n",
            "  warnings.warn(\n"
          ]
        }
      ],
      "source": [
        "y_pred_linear = lin_reg.predict(X_test)"
      ]
    },
    {
      "cell_type": "code",
      "execution_count": null,
      "metadata": {
        "id": "Wa2PYE9Hbd7z",
        "colab": {
          "base_uri": "https://localhost:8080/"
        },
        "outputId": "4521d0af-98f8-40e7-f77d-bdc5cf61d8aa"
      },
      "outputs": [
        {
          "output_type": "execute_result",
          "data": {
            "text/plain": [
              "2.1092450810829595"
            ]
          },
          "metadata": {},
          "execution_count": 32
        }
      ],
      "source": [
        "score_linear = mean_absolute_error(y_test, y_pred_linear)\n",
        "score_linear"
      ]
    },
    {
      "cell_type": "markdown",
      "metadata": {
        "id": "NUGZyWzAbd71"
      },
      "source": [
        "Let's plot these predictions:"
      ]
    },
    {
      "cell_type": "code",
      "execution_count": null,
      "metadata": {
        "id": "XcO5N6Pmbd71"
      },
      "outputs": [],
      "source": [
        "def plot_predictions(*named_predictions, start=None, end=None, **kwargs):\n",
        "    day_range = slice(start, end)\n",
        "    plt.figure(figsize=(10,5))\n",
        "    for name, y_pred in named_predictions:\n",
        "        if hasattr(y_pred, \"values\"):\n",
        "            y_pred = y_pred.values\n",
        "        plt.plot(y_pred[day_range], label=name, **kwargs)\n",
        "    plt.legend()\n",
        "    plt.show()"
      ]
    },
    {
      "cell_type": "code",
      "execution_count": null,
      "metadata": {
        "id": "wrsWmr1Obd73",
        "colab": {
          "base_uri": "https://localhost:8080/",
          "height": 320
        },
        "outputId": "e7cbc4c5-4795-4dfd-a7d9-394d26d9b4d6"
      },
      "outputs": [
        {
          "output_type": "display_data",
          "data": {
            "text/plain": [
              "<Figure size 720x360 with 1 Axes>"
            ],
            "image/png": "[encoded data removed]"
          },
          "metadata": {
            "needs_background": "light"
          }
        }
      ],
      "source": [
        "plot_predictions((\"Target\", y_test),\n",
        "                 (\"Naive\", y_pred_naive),\n",
        "                 (\"Linear\", y_pred_linear),\n",
        "                 end=365)"
      ]
    },
    {
      "cell_type": "markdown",
      "metadata": {
        "id": "eHSymj_5bd74"
      },
      "source": [
        "## 1.7) Build a simple RNN"
      ]
    },
    {
      "cell_type": "markdown",
      "metadata": {
        "id": "xmk11Pj-bd75"
      },
      "source": [
        "Using Keras, build a simple 2-layer RNN with a `memory` of 100 per layer, plus a dense layer with a single neuron. \n",
        "\n",
        "Train the model for 200 epochs with a batch size of 200, using Stochastic Gradient Descent with an learning rate of 0.005.\n",
        "\n",
        "Make sure to print the validation loss during training.\n",
        "\n",
        "Hints:\n",
        "\n",
        ">* Create a `Sequential` model.\n",
        ">* Add two `SimpleRNN` layers, with 100 units each. \n",
        ">    - The first should return sequences but not the second. \n",
        ">    - The first layer should specify the input shape (i.e., the shape of a single input sequence).\n",
        ">    - Indeed, in a Seq2Vec model *(sequence of words into a fix-length representation vector.)*, the last RNN layer should not return sequences.\n",
        ">* Add a Dense layer with a single neuron\n",
        "\n",
        "![Many to One](images/many-to-one.png)\n",
        " \n",
        ">* Use the MSE as the loss.\n",
        ">* Use the MAE as the metric.\n",
        ">* Call the model's `compile()` method, passing it an `SGD` instance with `learning_rate=0.005`.\n",
        ">* Call the model's `fit()` method, with the inputs and targets, number of epochs, batch size and validation data."
      ]
    },
    {
      "cell_type": "code",
      "execution_count": null,
      "metadata": {
        "id": "SCo9KZgrbd76",
        "colab": {
          "base_uri": "https://localhost:8080/"
        },
        "outputId": "c3390412-2c3c-44c0-bf0f-e98cbcb146ea"
      },
      "outputs": [
        {
          "output_type": "execute_result",
          "data": {
            "text/plain": [
              "(30, 1)"
            ]
          },
          "metadata": {},
          "execution_count": 35
        }
      ],
      "source": [
        "input_shape = X_train_3D.shape[1:]\n",
        "input_shape"
      ]
    },
    {
      "cell_type": "code",
      "execution_count": null,
      "metadata": {
        "id": "IR6bmYmObd78"
      },
      "outputs": [],
      "source": [
        "model_mse = keras.models.Sequential()\n",
        "model_mse.add(keras.layers.SimpleRNN(units=100,input_shape=input_shape,return_sequences=True))\n",
        "model_mse.add(keras.layers.SimpleRNN(units=100,return_sequences=False))\n",
        "model_mse.add(keras.layers.Dense(1))\n",
        "\n",
        "model_mse.compile(loss = 'MSE', optimizer=keras.optimizers.SGD(learning_rate=0.01), metrics=['MAE'])"
      ]
    },
    {
      "cell_type": "code",
      "source": [],
      "metadata": {
        "id": "MXMqFF-Q-yw4"
      },
      "execution_count": null,
      "outputs": []
    },
    {
      "cell_type": "code",
      "execution_count": null,
      "metadata": {
        "id": "sHfzW2Vvbd8A",
        "colab": {
          "base_uri": "https://localhost:8080/"
        },
        "outputId": "93222f0f-0af1-4892-a783-0e3acc6d8cca"
      },
      "outputs": [
        {
          "output_type": "stream",
          "name": "stdout",
          "text": [
            "Epoch 1/200\n",
            "11/11 [==============================] - 2s 75ms/step - loss: 36.5653 - MAE: 4.7836 - val_loss: 13.7384 - val_MAE: 2.9519\n",
            "Epoch 2/200\n",
            "11/11 [==============================] - 1s 53ms/step - loss: 18.5082 - MAE: 3.4404 - val_loss: 13.1478 - val_MAE: 2.9101\n",
            "Epoch 3/200\n",
            "11/11 [==============================] - 1s 50ms/step - loss: 17.6148 - MAE: 3.3394 - val_loss: 11.4835 - val_MAE: 2.6928\n",
            "Epoch 4/200\n",
            "11/11 [==============================] - 1s 58ms/step - loss: 18.5448 - MAE: 3.4019 - val_loss: 21.0703 - val_MAE: 3.7044\n",
            "Epoch 5/200\n",
            "11/11 [==============================] - 1s 56ms/step - loss: 17.8500 - MAE: 3.3250 - val_loss: 27.2083 - val_MAE: 4.3685\n",
            "Epoch 6/200\n",
            "11/11 [==============================] - 1s 48ms/step - loss: 17.1019 - MAE: 3.2658 - val_loss: 16.1140 - val_MAE: 3.2632\n",
            "Epoch 7/200\n",
            "11/11 [==============================] - 1s 52ms/step - loss: 13.9782 - MAE: 2.9426 - val_loss: 22.2917 - val_MAE: 3.8402\n",
            "Epoch 8/200\n",
            "11/11 [==============================] - 1s 58ms/step - loss: 13.7695 - MAE: 2.8897 - val_loss: 10.6458 - val_MAE: 2.5438\n",
            "Epoch 9/200\n",
            "11/11 [==============================] - 1s 49ms/step - loss: 12.7401 - MAE: 2.7998 - val_loss: 11.6055 - val_MAE: 2.6479\n",
            "Epoch 10/200\n",
            "11/11 [==============================] - 1s 53ms/step - loss: 13.3339 - MAE: 2.8710 - val_loss: 10.0735 - val_MAE: 2.4768\n",
            "Epoch 11/200\n",
            "11/11 [==============================] - 1s 51ms/step - loss: 11.1803 - MAE: 2.6399 - val_loss: 13.9367 - val_MAE: 3.0148\n",
            "Epoch 12/200\n",
            "11/11 [==============================] - 1s 59ms/step - loss: 10.7032 - MAE: 2.5555 - val_loss: 9.7010 - val_MAE: 2.4847\n",
            "Epoch 13/200\n",
            "11/11 [==============================] - 1s 53ms/step - loss: 12.3409 - MAE: 2.7480 - val_loss: 10.6183 - val_MAE: 2.5269\n",
            "Epoch 14/200\n",
            "11/11 [==============================] - 1s 58ms/step - loss: 10.2203 - MAE: 2.5006 - val_loss: 9.2469 - val_MAE: 2.4238\n",
            "Epoch 15/200\n",
            "11/11 [==============================] - 1s 56ms/step - loss: 10.0578 - MAE: 2.4948 - val_loss: 9.0541 - val_MAE: 2.3982\n",
            "Epoch 16/200\n",
            "11/11 [==============================] - 1s 56ms/step - loss: 10.7363 - MAE: 2.5481 - val_loss: 9.3175 - val_MAE: 2.3774\n",
            "Epoch 17/200\n",
            "11/11 [==============================] - 1s 52ms/step - loss: 10.5317 - MAE: 2.5283 - val_loss: 8.5800 - val_MAE: 2.3004\n",
            "Epoch 18/200\n",
            "11/11 [==============================] - 1s 53ms/step - loss: 11.2257 - MAE: 2.6264 - val_loss: 9.2503 - val_MAE: 2.4150\n",
            "Epoch 19/200\n",
            "11/11 [==============================] - 1s 54ms/step - loss: 10.3171 - MAE: 2.5174 - val_loss: 9.8968 - val_MAE: 2.4260\n",
            "Epoch 20/200\n",
            "11/11 [==============================] - 1s 48ms/step - loss: 9.8449 - MAE: 2.4669 - val_loss: 16.0079 - val_MAE: 3.2699\n",
            "Epoch 21/200\n",
            "11/11 [==============================] - 1s 56ms/step - loss: 10.9801 - MAE: 2.6010 - val_loss: 9.3960 - val_MAE: 2.3670\n",
            "Epoch 22/200\n",
            "11/11 [==============================] - 1s 49ms/step - loss: 9.4435 - MAE: 2.3958 - val_loss: 9.3748 - val_MAE: 2.3679\n",
            "Epoch 23/200\n",
            "11/11 [==============================] - 1s 50ms/step - loss: 10.5080 - MAE: 2.5454 - val_loss: 9.9786 - val_MAE: 2.5187\n",
            "Epoch 24/200\n",
            "11/11 [==============================] - 1s 58ms/step - loss: 9.4861 - MAE: 2.4182 - val_loss: 8.5399 - val_MAE: 2.2945\n",
            "Epoch 25/200\n",
            "11/11 [==============================] - 1s 54ms/step - loss: 9.9953 - MAE: 2.4809 - val_loss: 9.9204 - val_MAE: 2.4285\n",
            "Epoch 26/200\n",
            "11/11 [==============================] - 1s 51ms/step - loss: 9.7569 - MAE: 2.4411 - val_loss: 10.6523 - val_MAE: 2.5286\n",
            "Epoch 27/200\n",
            "11/11 [==============================] - 1s 55ms/step - loss: 10.8888 - MAE: 2.5795 - val_loss: 8.5811 - val_MAE: 2.3170\n",
            "Epoch 28/200\n",
            "11/11 [==============================] - 1s 54ms/step - loss: 9.9004 - MAE: 2.4502 - val_loss: 10.8457 - val_MAE: 2.5460\n",
            "Epoch 29/200\n",
            "11/11 [==============================] - 1s 55ms/step - loss: 9.8663 - MAE: 2.4606 - val_loss: 10.1837 - val_MAE: 2.4589\n",
            "Epoch 30/200\n",
            "11/11 [==============================] - 1s 52ms/step - loss: 9.7164 - MAE: 2.4433 - val_loss: 8.6986 - val_MAE: 2.2959\n",
            "Epoch 31/200\n",
            "11/11 [==============================] - 1s 51ms/step - loss: 9.7371 - MAE: 2.4486 - val_loss: 10.7648 - val_MAE: 2.5198\n",
            "Epoch 32/200\n",
            "11/11 [==============================] - 1s 57ms/step - loss: 9.9641 - MAE: 2.4655 - val_loss: 8.5633 - val_MAE: 2.2906\n",
            "Epoch 33/200\n",
            "11/11 [==============================] - 1s 56ms/step - loss: 9.6172 - MAE: 2.4222 - val_loss: 9.3529 - val_MAE: 2.3634\n",
            "Epoch 34/200\n",
            "11/11 [==============================] - 1s 54ms/step - loss: 9.8917 - MAE: 2.4546 - val_loss: 8.5186 - val_MAE: 2.2930\n",
            "Epoch 35/200\n",
            "11/11 [==============================] - 1s 52ms/step - loss: 9.3656 - MAE: 2.3916 - val_loss: 9.4568 - val_MAE: 2.3814\n",
            "Epoch 36/200\n",
            "11/11 [==============================] - 1s 51ms/step - loss: 10.7890 - MAE: 2.5706 - val_loss: 8.6525 - val_MAE: 2.3191\n",
            "Epoch 37/200\n",
            "11/11 [==============================] - 1s 48ms/step - loss: 9.2905 - MAE: 2.3829 - val_loss: 9.4975 - val_MAE: 2.4538\n",
            "Epoch 38/200\n",
            "11/11 [==============================] - 1s 51ms/step - loss: 10.4562 - MAE: 2.5323 - val_loss: 8.8345 - val_MAE: 2.3251\n",
            "Epoch 39/200\n",
            "11/11 [==============================] - 1s 50ms/step - loss: 9.1759 - MAE: 2.3656 - val_loss: 8.5843 - val_MAE: 2.2848\n",
            "Epoch 40/200\n",
            "11/11 [==============================] - 1s 47ms/step - loss: 10.7364 - MAE: 2.5346 - val_loss: 8.5216 - val_MAE: 2.3172\n",
            "Epoch 41/200\n",
            "11/11 [==============================] - 1s 52ms/step - loss: 9.5644 - MAE: 2.4139 - val_loss: 8.5247 - val_MAE: 2.2700\n",
            "Epoch 42/200\n",
            "11/11 [==============================] - 1s 52ms/step - loss: 9.3640 - MAE: 2.3867 - val_loss: 8.5954 - val_MAE: 2.2820\n",
            "Epoch 43/200\n",
            "11/11 [==============================] - 1s 50ms/step - loss: 9.1868 - MAE: 2.3612 - val_loss: 9.8905 - val_MAE: 2.5042\n",
            "Epoch 44/200\n",
            "11/11 [==============================] - 1s 54ms/step - loss: 9.6025 - MAE: 2.4327 - val_loss: 9.3631 - val_MAE: 2.3571\n",
            "Epoch 45/200\n",
            "11/11 [==============================] - 1s 58ms/step - loss: 9.3422 - MAE: 2.3795 - val_loss: 8.5698 - val_MAE: 2.2799\n",
            "Epoch 46/200\n",
            "11/11 [==============================] - 1s 51ms/step - loss: 10.4155 - MAE: 2.5295 - val_loss: 8.8545 - val_MAE: 2.3126\n",
            "Epoch 47/200\n",
            "11/11 [==============================] - 1s 60ms/step - loss: 9.1103 - MAE: 2.3543 - val_loss: 8.5142 - val_MAE: 2.2914\n",
            "Epoch 48/200\n",
            "11/11 [==============================] - 1s 47ms/step - loss: 9.6296 - MAE: 2.4155 - val_loss: 9.9053 - val_MAE: 2.4200\n",
            "Epoch 49/200\n",
            "11/11 [==============================] - 1s 52ms/step - loss: 10.3639 - MAE: 2.5221 - val_loss: 8.5444 - val_MAE: 2.2872\n",
            "Epoch 50/200\n",
            "11/11 [==============================] - 1s 52ms/step - loss: 9.2052 - MAE: 2.3636 - val_loss: 10.0347 - val_MAE: 2.4458\n",
            "Epoch 51/200\n",
            "11/11 [==============================] - 1s 51ms/step - loss: 9.2386 - MAE: 2.3958 - val_loss: 9.5776 - val_MAE: 2.3914\n",
            "Epoch 52/200\n",
            "11/11 [==============================] - 1s 54ms/step - loss: 9.6995 - MAE: 2.4568 - val_loss: 8.8129 - val_MAE: 2.3481\n",
            "Epoch 53/200\n",
            "11/11 [==============================] - 1s 57ms/step - loss: 8.9467 - MAE: 2.3348 - val_loss: 8.6063 - val_MAE: 2.2916\n",
            "Epoch 54/200\n",
            "11/11 [==============================] - 1s 55ms/step - loss: 10.1641 - MAE: 2.5042 - val_loss: 8.3851 - val_MAE: 2.2510\n",
            "Epoch 55/200\n",
            "11/11 [==============================] - 1s 54ms/step - loss: 9.1172 - MAE: 2.3716 - val_loss: 10.1618 - val_MAE: 2.4639\n",
            "Epoch 56/200\n",
            "11/11 [==============================] - 1s 54ms/step - loss: 10.1590 - MAE: 2.4910 - val_loss: 8.4871 - val_MAE: 2.2621\n",
            "Epoch 57/200\n",
            "11/11 [==============================] - 1s 56ms/step - loss: 9.1129 - MAE: 2.3592 - val_loss: 10.0646 - val_MAE: 2.4489\n",
            "Epoch 58/200\n",
            "11/11 [==============================] - 1s 55ms/step - loss: 9.4053 - MAE: 2.4097 - val_loss: 8.9247 - val_MAE: 2.3680\n",
            "Epoch 59/200\n",
            "11/11 [==============================] - 1s 57ms/step - loss: 9.3169 - MAE: 2.3948 - val_loss: 8.5937 - val_MAE: 2.3162\n",
            "Epoch 60/200\n",
            "11/11 [==============================] - 1s 54ms/step - loss: 8.9266 - MAE: 2.3380 - val_loss: 8.2667 - val_MAE: 2.2286\n",
            "Epoch 61/200\n",
            "11/11 [==============================] - 1s 55ms/step - loss: 10.2055 - MAE: 2.5107 - val_loss: 9.2589 - val_MAE: 2.3364\n",
            "Epoch 62/200\n",
            "11/11 [==============================] - 1s 54ms/step - loss: 9.2113 - MAE: 2.3718 - val_loss: 8.3757 - val_MAE: 2.2700\n",
            "Epoch 63/200\n",
            "11/11 [==============================] - 1s 53ms/step - loss: 9.2243 - MAE: 2.3741 - val_loss: 9.2361 - val_MAE: 2.4078\n",
            "Epoch 64/200\n",
            "11/11 [==============================] - 1s 51ms/step - loss: 9.0312 - MAE: 2.3558 - val_loss: 9.3937 - val_MAE: 2.3590\n",
            "Epoch 65/200\n",
            "11/11 [==============================] - 1s 55ms/step - loss: 9.1567 - MAE: 2.3708 - val_loss: 8.8915 - val_MAE: 2.3073\n",
            "Epoch 66/200\n",
            "11/11 [==============================] - 1s 54ms/step - loss: 9.1922 - MAE: 2.3619 - val_loss: 8.4342 - val_MAE: 2.2514\n",
            "Epoch 67/200\n",
            "11/11 [==============================] - 1s 54ms/step - loss: 9.0101 - MAE: 2.3446 - val_loss: 9.2577 - val_MAE: 2.4146\n",
            "Epoch 68/200\n",
            "11/11 [==============================] - 1s 60ms/step - loss: 9.4327 - MAE: 2.3929 - val_loss: 9.6788 - val_MAE: 2.3994\n",
            "Epoch 69/200\n",
            "11/11 [==============================] - 1s 55ms/step - loss: 9.2112 - MAE: 2.3820 - val_loss: 9.7083 - val_MAE: 2.4750\n",
            "Epoch 70/200\n",
            "11/11 [==============================] - 1s 49ms/step - loss: 9.1260 - MAE: 2.3688 - val_loss: 8.9099 - val_MAE: 2.3685\n",
            "Epoch 71/200\n",
            "11/11 [==============================] - 1s 49ms/step - loss: 9.1173 - MAE: 2.3753 - val_loss: 9.7546 - val_MAE: 2.4235\n",
            "Epoch 72/200\n",
            "11/11 [==============================] - 1s 53ms/step - loss: 8.8474 - MAE: 2.3332 - val_loss: 8.6387 - val_MAE: 2.2675\n",
            "Epoch 73/200\n",
            "11/11 [==============================] - 1s 49ms/step - loss: 9.5205 - MAE: 2.4020 - val_loss: 8.7951 - val_MAE: 2.3253\n",
            "Epoch 74/200\n",
            "11/11 [==============================] - 1s 54ms/step - loss: 8.9076 - MAE: 2.3424 - val_loss: 8.3400 - val_MAE: 2.2386\n",
            "Epoch 75/200\n",
            "11/11 [==============================] - 1s 54ms/step - loss: 9.2710 - MAE: 2.3909 - val_loss: 8.2109 - val_MAE: 2.2344\n",
            "Epoch 76/200\n",
            "11/11 [==============================] - 1s 55ms/step - loss: 9.1483 - MAE: 2.3743 - val_loss: 8.7051 - val_MAE: 2.2749\n",
            "Epoch 77/200\n",
            "11/11 [==============================] - 1s 52ms/step - loss: 9.1091 - MAE: 2.3700 - val_loss: 8.9437 - val_MAE: 2.3313\n",
            "Epoch 78/200\n",
            "11/11 [==============================] - 1s 52ms/step - loss: 9.0861 - MAE: 2.3541 - val_loss: 8.3270 - val_MAE: 2.2515\n",
            "Epoch 79/200\n",
            "11/11 [==============================] - 1s 53ms/step - loss: 9.0485 - MAE: 2.3574 - val_loss: 9.4998 - val_MAE: 2.3780\n",
            "Epoch 80/200\n",
            "11/11 [==============================] - 1s 54ms/step - loss: 10.7302 - MAE: 2.5901 - val_loss: 8.2437 - val_MAE: 2.2416\n",
            "Epoch 81/200\n",
            "11/11 [==============================] - 1s 54ms/step - loss: 9.0481 - MAE: 2.3460 - val_loss: 8.4497 - val_MAE: 2.2523\n",
            "Epoch 82/200\n",
            "11/11 [==============================] - 1s 55ms/step - loss: 8.9825 - MAE: 2.3555 - val_loss: 9.3954 - val_MAE: 2.3670\n",
            "Epoch 83/200\n",
            "11/11 [==============================] - 1s 50ms/step - loss: 9.1565 - MAE: 2.3815 - val_loss: 9.0367 - val_MAE: 2.3663\n",
            "Epoch 84/200\n",
            "11/11 [==============================] - 1s 51ms/step - loss: 9.2638 - MAE: 2.3710 - val_loss: 10.0709 - val_MAE: 2.5271\n",
            "Epoch 85/200\n",
            "11/11 [==============================] - 1s 54ms/step - loss: 9.0206 - MAE: 2.3522 - val_loss: 9.0396 - val_MAE: 2.3264\n",
            "Epoch 86/200\n",
            "11/11 [==============================] - 1s 49ms/step - loss: 8.9238 - MAE: 2.3492 - val_loss: 9.0558 - val_MAE: 2.3728\n",
            "Epoch 87/200\n",
            "11/11 [==============================] - 1s 52ms/step - loss: 9.1488 - MAE: 2.3803 - val_loss: 8.8196 - val_MAE: 2.3443\n",
            "Epoch 88/200\n",
            "11/11 [==============================] - 1s 51ms/step - loss: 9.0563 - MAE: 2.3484 - val_loss: 8.8137 - val_MAE: 2.3447\n",
            "Epoch 89/200\n",
            "11/11 [==============================] - 1s 49ms/step - loss: 8.8622 - MAE: 2.3326 - val_loss: 8.6012 - val_MAE: 2.2964\n",
            "Epoch 90/200\n",
            "11/11 [==============================] - 1s 49ms/step - loss: 9.0515 - MAE: 2.3569 - val_loss: 9.0816 - val_MAE: 2.3236\n",
            "Epoch 91/200\n",
            "11/11 [==============================] - 1s 53ms/step - loss: 10.2866 - MAE: 2.4985 - val_loss: 9.0810 - val_MAE: 2.3820\n",
            "Epoch 92/200\n",
            "11/11 [==============================] - 1s 55ms/step - loss: 9.0267 - MAE: 2.3474 - val_loss: 8.3361 - val_MAE: 2.2544\n",
            "Epoch 93/200\n",
            "11/11 [==============================] - 1s 56ms/step - loss: 8.9208 - MAE: 2.3428 - val_loss: 8.5129 - val_MAE: 2.2531\n",
            "Epoch 94/200\n",
            "11/11 [==============================] - 1s 51ms/step - loss: 8.9412 - MAE: 2.3416 - val_loss: 8.5230 - val_MAE: 2.2579\n",
            "Epoch 95/200\n",
            "11/11 [==============================] - 1s 53ms/step - loss: 9.0895 - MAE: 2.3571 - val_loss: 10.1290 - val_MAE: 2.4548\n",
            "Epoch 96/200\n",
            "11/11 [==============================] - 1s 60ms/step - loss: 9.1504 - MAE: 2.3769 - val_loss: 8.2761 - val_MAE: 2.2388\n",
            "Epoch 97/200\n",
            "11/11 [==============================] - 1s 54ms/step - loss: 9.5123 - MAE: 2.4336 - val_loss: 8.3858 - val_MAE: 2.2478\n",
            "Epoch 98/200\n",
            "11/11 [==============================] - 1s 58ms/step - loss: 8.6966 - MAE: 2.3140 - val_loss: 8.3118 - val_MAE: 2.2567\n",
            "Epoch 99/200\n",
            "11/11 [==============================] - 1s 51ms/step - loss: 8.9768 - MAE: 2.3528 - val_loss: 9.0772 - val_MAE: 2.3852\n",
            "Epoch 100/200\n",
            "11/11 [==============================] - 1s 53ms/step - loss: 8.7138 - MAE: 2.3209 - val_loss: 8.4556 - val_MAE: 2.2462\n",
            "Epoch 101/200\n",
            "11/11 [==============================] - 1s 57ms/step - loss: 8.9182 - MAE: 2.3537 - val_loss: 8.3015 - val_MAE: 2.2318\n",
            "Epoch 102/200\n",
            "11/11 [==============================] - 1s 56ms/step - loss: 8.7224 - MAE: 2.3209 - val_loss: 8.2132 - val_MAE: 2.2236\n",
            "Epoch 103/200\n",
            "11/11 [==============================] - 1s 54ms/step - loss: 8.6239 - MAE: 2.2953 - val_loss: 10.3767 - val_MAE: 2.4727\n",
            "Epoch 104/200\n",
            "11/11 [==============================] - 1s 58ms/step - loss: 9.0166 - MAE: 2.3523 - val_loss: 9.5133 - val_MAE: 2.3757\n",
            "Epoch 105/200\n",
            "11/11 [==============================] - 1s 51ms/step - loss: 9.3651 - MAE: 2.4181 - val_loss: 12.0028 - val_MAE: 2.7960\n",
            "Epoch 106/200\n",
            "11/11 [==============================] - 1s 55ms/step - loss: 8.9528 - MAE: 2.3471 - val_loss: 8.2235 - val_MAE: 2.2389\n",
            "Epoch 107/200\n",
            "11/11 [==============================] - 1s 52ms/step - loss: 8.6345 - MAE: 2.3016 - val_loss: 8.5989 - val_MAE: 2.3103\n",
            "Epoch 108/200\n",
            "11/11 [==============================] - 1s 50ms/step - loss: 8.7965 - MAE: 2.3268 - val_loss: 8.6347 - val_MAE: 2.2849\n",
            "Epoch 109/200\n",
            "11/11 [==============================] - 1s 54ms/step - loss: 8.8404 - MAE: 2.3297 - val_loss: 9.0509 - val_MAE: 2.3648\n",
            "Epoch 110/200\n",
            "11/11 [==============================] - 1s 53ms/step - loss: 8.8084 - MAE: 2.3296 - val_loss: 8.5630 - val_MAE: 2.3022\n",
            "Epoch 111/200\n",
            "11/11 [==============================] - 1s 53ms/step - loss: 9.2956 - MAE: 2.4011 - val_loss: 8.4786 - val_MAE: 2.2796\n",
            "Epoch 112/200\n",
            "11/11 [==============================] - 1s 54ms/step - loss: 9.0583 - MAE: 2.3455 - val_loss: 8.6078 - val_MAE: 2.3030\n",
            "Epoch 113/200\n",
            "11/11 [==============================] - 1s 61ms/step - loss: 9.1313 - MAE: 2.3728 - val_loss: 8.2843 - val_MAE: 2.2320\n",
            "Epoch 114/200\n",
            "11/11 [==============================] - 1s 49ms/step - loss: 8.8091 - MAE: 2.3399 - val_loss: 8.4185 - val_MAE: 2.2756\n",
            "Epoch 115/200\n",
            "11/11 [==============================] - 1s 54ms/step - loss: 8.7862 - MAE: 2.3128 - val_loss: 8.3517 - val_MAE: 2.2380\n",
            "Epoch 116/200\n",
            "11/11 [==============================] - 1s 59ms/step - loss: 8.8041 - MAE: 2.3238 - val_loss: 8.8156 - val_MAE: 2.3321\n",
            "Epoch 117/200\n",
            "11/11 [==============================] - 1s 53ms/step - loss: 8.9018 - MAE: 2.3351 - val_loss: 8.4867 - val_MAE: 2.2882\n",
            "Epoch 118/200\n",
            "11/11 [==============================] - 1s 53ms/step - loss: 9.7132 - MAE: 2.4295 - val_loss: 10.1063 - val_MAE: 2.4537\n",
            "Epoch 119/200\n",
            "11/11 [==============================] - 1s 58ms/step - loss: 9.2739 - MAE: 2.3830 - val_loss: 8.6679 - val_MAE: 2.2885\n",
            "Epoch 120/200\n",
            "11/11 [==============================] - 1s 51ms/step - loss: 8.9195 - MAE: 2.3413 - val_loss: 8.8476 - val_MAE: 2.3409\n",
            "Epoch 121/200\n",
            "11/11 [==============================] - 1s 49ms/step - loss: 8.9540 - MAE: 2.3585 - val_loss: 9.0799 - val_MAE: 2.3852\n",
            "Epoch 122/200\n",
            "11/11 [==============================] - 1s 55ms/step - loss: 10.0805 - MAE: 2.4848 - val_loss: 8.3137 - val_MAE: 2.2538\n",
            "Epoch 123/200\n",
            "11/11 [==============================] - 1s 59ms/step - loss: 8.8954 - MAE: 2.3343 - val_loss: 8.9934 - val_MAE: 2.3720\n",
            "Epoch 124/200\n",
            "11/11 [==============================] - 1s 52ms/step - loss: 8.7893 - MAE: 2.3198 - val_loss: 8.3380 - val_MAE: 2.2444\n",
            "Epoch 125/200\n",
            "11/11 [==============================] - 1s 56ms/step - loss: 8.7781 - MAE: 2.3214 - val_loss: 8.3479 - val_MAE: 2.2612\n",
            "Epoch 126/200\n",
            "11/11 [==============================] - 1s 52ms/step - loss: 9.3464 - MAE: 2.3873 - val_loss: 8.4747 - val_MAE: 2.2740\n",
            "Epoch 127/200\n",
            "11/11 [==============================] - 1s 54ms/step - loss: 8.8339 - MAE: 2.3178 - val_loss: 8.3612 - val_MAE: 2.2435\n",
            "Epoch 128/200\n",
            "11/11 [==============================] - 1s 90ms/step - loss: 8.7606 - MAE: 2.3173 - val_loss: 8.4139 - val_MAE: 2.2628\n",
            "Epoch 129/200\n",
            "11/11 [==============================] - 1s 112ms/step - loss: 8.7302 - MAE: 2.3212 - val_loss: 8.7198 - val_MAE: 2.2779\n",
            "Epoch 130/200\n",
            "11/11 [==============================] - 1s 59ms/step - loss: 8.9308 - MAE: 2.3393 - val_loss: 8.5287 - val_MAE: 2.2852\n",
            "Epoch 131/200\n",
            "11/11 [==============================] - 1s 53ms/step - loss: 8.9435 - MAE: 2.3433 - val_loss: 8.9227 - val_MAE: 2.3621\n",
            "Epoch 132/200\n",
            "11/11 [==============================] - 1s 57ms/step - loss: 8.8586 - MAE: 2.3380 - val_loss: 8.2747 - val_MAE: 2.2441\n",
            "Epoch 133/200\n",
            "11/11 [==============================] - 1s 58ms/step - loss: 8.8016 - MAE: 2.3195 - val_loss: 8.3902 - val_MAE: 2.2549\n",
            "Epoch 134/200\n",
            "11/11 [==============================] - 1s 52ms/step - loss: 8.6901 - MAE: 2.3172 - val_loss: 8.2893 - val_MAE: 2.2479\n",
            "Epoch 135/200\n",
            "11/11 [==============================] - 1s 54ms/step - loss: 8.8289 - MAE: 2.3336 - val_loss: 8.2103 - val_MAE: 2.2218\n",
            "Epoch 136/200\n",
            "11/11 [==============================] - 1s 58ms/step - loss: 9.7463 - MAE: 2.4673 - val_loss: 8.4553 - val_MAE: 2.2813\n",
            "Epoch 137/200\n",
            "11/11 [==============================] - 1s 56ms/step - loss: 8.5901 - MAE: 2.2989 - val_loss: 8.2953 - val_MAE: 2.2343\n",
            "Epoch 138/200\n",
            "11/11 [==============================] - 1s 57ms/step - loss: 8.8654 - MAE: 2.3258 - val_loss: 8.5457 - val_MAE: 2.2549\n",
            "Epoch 139/200\n",
            "11/11 [==============================] - 1s 54ms/step - loss: 8.7032 - MAE: 2.2986 - val_loss: 8.7608 - val_MAE: 2.2875\n",
            "Epoch 140/200\n",
            "11/11 [==============================] - 1s 56ms/step - loss: 8.7415 - MAE: 2.3217 - val_loss: 8.4097 - val_MAE: 2.2529\n",
            "Epoch 141/200\n",
            "11/11 [==============================] - 1s 61ms/step - loss: 8.8402 - MAE: 2.3283 - val_loss: 8.6844 - val_MAE: 2.3177\n",
            "Epoch 142/200\n",
            "11/11 [==============================] - 1s 55ms/step - loss: 8.8641 - MAE: 2.3356 - val_loss: 8.5859 - val_MAE: 2.2587\n",
            "Epoch 143/200\n",
            "11/11 [==============================] - 1s 58ms/step - loss: 8.5935 - MAE: 2.2939 - val_loss: 8.2938 - val_MAE: 2.2447\n",
            "Epoch 144/200\n",
            "11/11 [==============================] - 1s 57ms/step - loss: 8.7449 - MAE: 2.3217 - val_loss: 8.3332 - val_MAE: 2.2630\n",
            "Epoch 145/200\n",
            "11/11 [==============================] - 1s 55ms/step - loss: 8.4574 - MAE: 2.2774 - val_loss: 8.3105 - val_MAE: 2.2273\n",
            "Epoch 146/200\n",
            "11/11 [==============================] - 1s 60ms/step - loss: 8.7890 - MAE: 2.3199 - val_loss: 8.2877 - val_MAE: 2.2390\n",
            "Epoch 147/200\n",
            "11/11 [==============================] - 1s 56ms/step - loss: 8.8906 - MAE: 2.3333 - val_loss: 8.4604 - val_MAE: 2.2660\n",
            "Epoch 148/200\n",
            "11/11 [==============================] - 1s 58ms/step - loss: 8.5589 - MAE: 2.2947 - val_loss: 8.8299 - val_MAE: 2.3430\n",
            "Epoch 149/200\n",
            "11/11 [==============================] - 1s 53ms/step - loss: 9.5168 - MAE: 2.4240 - val_loss: 8.3453 - val_MAE: 2.2623\n",
            "Epoch 150/200\n",
            "11/11 [==============================] - 1s 56ms/step - loss: 8.8940 - MAE: 2.3382 - val_loss: 8.9304 - val_MAE: 2.2971\n",
            "Epoch 151/200\n",
            "11/11 [==============================] - 1s 58ms/step - loss: 8.8415 - MAE: 2.3163 - val_loss: 8.8312 - val_MAE: 2.3536\n",
            "Epoch 152/200\n",
            "11/11 [==============================] - 1s 59ms/step - loss: 9.0244 - MAE: 2.3583 - val_loss: 8.5785 - val_MAE: 2.2596\n",
            "Epoch 153/200\n",
            "11/11 [==============================] - 1s 61ms/step - loss: 8.5996 - MAE: 2.2998 - val_loss: 8.3667 - val_MAE: 2.2525\n",
            "Epoch 154/200\n",
            "11/11 [==============================] - 1s 56ms/step - loss: 8.5878 - MAE: 2.2925 - val_loss: 8.4216 - val_MAE: 2.2386\n",
            "Epoch 155/200\n",
            "11/11 [==============================] - 1s 56ms/step - loss: 8.6219 - MAE: 2.3088 - val_loss: 8.5807 - val_MAE: 2.2864\n",
            "Epoch 156/200\n",
            "11/11 [==============================] - 1s 54ms/step - loss: 8.4836 - MAE: 2.2811 - val_loss: 8.3848 - val_MAE: 2.2563\n",
            "Epoch 157/200\n",
            "11/11 [==============================] - 1s 59ms/step - loss: 8.8989 - MAE: 2.3399 - val_loss: 10.9317 - val_MAE: 2.5574\n",
            "Epoch 158/200\n",
            "11/11 [==============================] - 1s 55ms/step - loss: 9.0295 - MAE: 2.3657 - val_loss: 8.3347 - val_MAE: 2.2373\n",
            "Epoch 159/200\n",
            "11/11 [==============================] - 1s 58ms/step - loss: 8.8107 - MAE: 2.3280 - val_loss: 8.4561 - val_MAE: 2.2810\n",
            "Epoch 160/200\n",
            "11/11 [==============================] - 1s 52ms/step - loss: 8.7732 - MAE: 2.3142 - val_loss: 8.3169 - val_MAE: 2.2526\n",
            "Epoch 161/200\n",
            "11/11 [==============================] - 1s 57ms/step - loss: 8.7659 - MAE: 2.3211 - val_loss: 8.4537 - val_MAE: 2.2799\n",
            "Epoch 162/200\n",
            "11/11 [==============================] - 1s 55ms/step - loss: 8.5199 - MAE: 2.2884 - val_loss: 8.4129 - val_MAE: 2.2614\n",
            "Epoch 163/200\n",
            "11/11 [==============================] - 1s 56ms/step - loss: 8.6466 - MAE: 2.3032 - val_loss: 9.1066 - val_MAE: 2.3860\n",
            "Epoch 164/200\n",
            "11/11 [==============================] - 1s 57ms/step - loss: 8.6138 - MAE: 2.3024 - val_loss: 9.2693 - val_MAE: 2.3473\n",
            "Epoch 165/200\n",
            "11/11 [==============================] - 1s 54ms/step - loss: 8.9081 - MAE: 2.3384 - val_loss: 8.5239 - val_MAE: 2.2447\n",
            "Epoch 166/200\n",
            "11/11 [==============================] - 1s 55ms/step - loss: 8.7266 - MAE: 2.3136 - val_loss: 8.4285 - val_MAE: 2.2634\n",
            "Epoch 167/200\n",
            "11/11 [==============================] - 1s 52ms/step - loss: 8.5696 - MAE: 2.2887 - val_loss: 9.0034 - val_MAE: 2.3114\n",
            "Epoch 168/200\n",
            "11/11 [==============================] - 1s 51ms/step - loss: 8.9098 - MAE: 2.3458 - val_loss: 8.8969 - val_MAE: 2.3518\n",
            "Epoch 169/200\n",
            "11/11 [==============================] - 1s 54ms/step - loss: 9.3645 - MAE: 2.4021 - val_loss: 8.8817 - val_MAE: 2.2922\n",
            "Epoch 170/200\n",
            "11/11 [==============================] - 1s 54ms/step - loss: 9.1871 - MAE: 2.3754 - val_loss: 8.5269 - val_MAE: 2.2625\n",
            "Epoch 171/200\n",
            "11/11 [==============================] - 1s 53ms/step - loss: 8.9396 - MAE: 2.3367 - val_loss: 8.4532 - val_MAE: 2.2484\n",
            "Epoch 172/200\n",
            "11/11 [==============================] - 1s 52ms/step - loss: 8.9899 - MAE: 2.3553 - val_loss: 8.4476 - val_MAE: 2.2551\n",
            "Epoch 173/200\n",
            "11/11 [==============================] - 1s 56ms/step - loss: 8.8269 - MAE: 2.3273 - val_loss: 8.5068 - val_MAE: 2.2831\n",
            "Epoch 174/200\n",
            "11/11 [==============================] - 1s 53ms/step - loss: 9.1038 - MAE: 2.3561 - val_loss: 8.4873 - val_MAE: 2.2574\n",
            "Epoch 175/200\n",
            "11/11 [==============================] - 1s 51ms/step - loss: 9.1384 - MAE: 2.3612 - val_loss: 9.0468 - val_MAE: 2.3377\n",
            "Epoch 176/200\n",
            "11/11 [==============================] - 1s 53ms/step - loss: 8.8077 - MAE: 2.3398 - val_loss: 9.0311 - val_MAE: 2.3206\n",
            "Epoch 177/200\n",
            "11/11 [==============================] - 1s 55ms/step - loss: 8.9389 - MAE: 2.3444 - val_loss: 8.5043 - val_MAE: 2.2742\n",
            "Epoch 178/200\n",
            "11/11 [==============================] - 1s 53ms/step - loss: 9.4245 - MAE: 2.4103 - val_loss: 8.5440 - val_MAE: 2.2646\n",
            "Epoch 179/200\n",
            "11/11 [==============================] - 1s 56ms/step - loss: 8.8625 - MAE: 2.3244 - val_loss: 8.5318 - val_MAE: 2.2753\n",
            "Epoch 180/200\n",
            "11/11 [==============================] - 1s 53ms/step - loss: 9.0059 - MAE: 2.3652 - val_loss: 8.9236 - val_MAE: 2.3220\n",
            "Epoch 181/200\n",
            "11/11 [==============================] - 1s 54ms/step - loss: 8.6457 - MAE: 2.3089 - val_loss: 8.8307 - val_MAE: 2.3156\n",
            "Epoch 182/200\n",
            "11/11 [==============================] - 1s 58ms/step - loss: 8.8431 - MAE: 2.3343 - val_loss: 8.9229 - val_MAE: 2.3104\n",
            "Epoch 183/200\n",
            "11/11 [==============================] - 1s 52ms/step - loss: 8.7358 - MAE: 2.3182 - val_loss: 10.0439 - val_MAE: 2.5039\n",
            "Epoch 184/200\n",
            "11/11 [==============================] - 1s 49ms/step - loss: 8.7998 - MAE: 2.3238 - val_loss: 8.8701 - val_MAE: 2.3052\n",
            "Epoch 185/200\n",
            "11/11 [==============================] - 1s 52ms/step - loss: 8.9889 - MAE: 2.3633 - val_loss: 8.5231 - val_MAE: 2.2566\n",
            "Epoch 186/200\n",
            "11/11 [==============================] - 1s 53ms/step - loss: 9.4865 - MAE: 2.4213 - val_loss: 8.6518 - val_MAE: 2.2943\n",
            "Epoch 187/200\n",
            "11/11 [==============================] - 1s 57ms/step - loss: 8.9027 - MAE: 2.3288 - val_loss: 8.7746 - val_MAE: 2.2995\n",
            "Epoch 188/200\n",
            "11/11 [==============================] - 1s 53ms/step - loss: 8.6562 - MAE: 2.2924 - val_loss: 8.6227 - val_MAE: 2.2853\n",
            "Epoch 189/200\n",
            "11/11 [==============================] - 1s 51ms/step - loss: 8.6891 - MAE: 2.3177 - val_loss: 8.5350 - val_MAE: 2.2830\n",
            "Epoch 190/200\n",
            "11/11 [==============================] - 1s 56ms/step - loss: 8.6817 - MAE: 2.3106 - val_loss: 9.8888 - val_MAE: 2.4196\n",
            "Epoch 191/200\n",
            "11/11 [==============================] - 1s 51ms/step - loss: 9.1770 - MAE: 2.3712 - val_loss: 8.5528 - val_MAE: 2.2605\n",
            "Epoch 192/200\n",
            "11/11 [==============================] - 1s 57ms/step - loss: 8.6566 - MAE: 2.3148 - val_loss: 9.2288 - val_MAE: 2.3338\n",
            "Epoch 193/200\n",
            "11/11 [==============================] - 1s 56ms/step - loss: 8.5900 - MAE: 2.2827 - val_loss: 10.4126 - val_MAE: 2.4926\n",
            "Epoch 194/200\n",
            "11/11 [==============================] - 1s 55ms/step - loss: 9.1069 - MAE: 2.3458 - val_loss: 8.8975 - val_MAE: 2.2931\n",
            "Epoch 195/200\n",
            "11/11 [==============================] - 1s 54ms/step - loss: 8.8920 - MAE: 2.3342 - val_loss: 8.4313 - val_MAE: 2.2446\n",
            "Epoch 196/200\n",
            "11/11 [==============================] - 1s 57ms/step - loss: 8.5049 - MAE: 2.2823 - val_loss: 8.7709 - val_MAE: 2.2797\n",
            "Epoch 197/200\n",
            "11/11 [==============================] - 1s 52ms/step - loss: 9.0058 - MAE: 2.3433 - val_loss: 8.4602 - val_MAE: 2.2523\n",
            "Epoch 198/200\n",
            "11/11 [==============================] - 1s 56ms/step - loss: 8.6158 - MAE: 2.2885 - val_loss: 8.4657 - val_MAE: 2.2452\n",
            "Epoch 199/200\n",
            "11/11 [==============================] - 1s 54ms/step - loss: 8.7002 - MAE: 2.2977 - val_loss: 8.7295 - val_MAE: 2.2954\n",
            "Epoch 200/200\n",
            "11/11 [==============================] - 1s 55ms/step - loss: 8.6363 - MAE: 2.3086 - val_loss: 8.6433 - val_MAE: 2.2904\n"
          ]
        }
      ],
      "source": [
        "history_mse = model_mse.fit(X_train_3D, \n",
        "                         y_train, \n",
        "                         epochs=200, \n",
        "                         batch_size=200,\n",
        "                         validation_data=(X_valid_3D, y_valid))"
      ]
    },
    {
      "cell_type": "markdown",
      "metadata": {
        "id": "DOofUKKtbd8B"
      },
      "source": [
        "## 1.8) Plot the history\n",
        "\n",
        "You can simply use `pd.DataFrame(history.history).plot()`."
      ]
    },
    {
      "cell_type": "code",
      "execution_count": null,
      "metadata": {
        "colab": {
          "base_uri": "https://localhost:8080/",
          "height": 282
        },
        "id": "6gutSlMN76Ge",
        "outputId": "2ffd4ea2-f2f2-4d71-fcfc-1101eb606ca8"
      },
      "outputs": [
        {
          "output_type": "execute_result",
          "data": {
            "text/plain": [
              "<matplotlib.axes._subplots.AxesSubplot at 0x7f8ad82f3580>"
            ]
          },
          "metadata": {},
          "execution_count": 48
        },
        {
          "output_type": "display_data",
          "data": {
            "text/plain": [
              "<Figure size 432x288 with 1 Axes>"
            ],
            "image/png": "[encoded data removed]"
          },
          "metadata": {
            "needs_background": "light"
          }
        }
      ],
      "source": [
        "pd.DataFrame(history_mse.history).plot()"
      ]
    },
    {
      "cell_type": "markdown",
      "metadata": {
        "id": "TJLc8oBl76Ge"
      },
      "source": [
        "If you want to add some legends, colors, etc. or select only loss, you have to specify that!"
      ]
    },
    {
      "cell_type": "code",
      "execution_count": null,
      "metadata": {
        "id": "Y7q4LJxsbd8D"
      },
      "outputs": [],
      "source": [
        "def plot_history(history, variable=\"loss\"):\n",
        "    train_var = history.history[variable]\n",
        "    valid_var = history.history[\"val_\" + variable]\n",
        "    n_epochs = len(history.epoch)\n",
        "    min_var = np.min(valid_var)\n",
        "    max_var = np.max(history.history[variable] + history.history[\"val_\" + variable]) + 2\n",
        "    \n",
        "    plt.plot(train_var, color=\"b\", label=\"Train\")\n",
        "    plt.plot(valid_var, color=\"r\", label=\"Validation\")\n",
        "    plt.plot([0, n_epochs], [min_var, min_var], \"k--\",\n",
        "             label=\"Min val: {:.2f}\".format(min_var))\n",
        "    plt.axis([0, n_epochs, 0, max_var])\n",
        "    plt.legend()\n",
        "    plt.show()"
      ]
    },
    {
      "cell_type": "code",
      "execution_count": null,
      "metadata": {
        "id": "erZyg46Qbd8F",
        "colab": {
          "base_uri": "https://localhost:8080/",
          "height": 265
        },
        "outputId": "78d35965-a5dc-47d2-d186-a47f530f34f6"
      },
      "outputs": [
        {
          "output_type": "display_data",
          "data": {
            "text/plain": [
              "<Figure size 432x288 with 1 Axes>"
            ],
            "image/png": "[encoded data removed]"
          },
          "metadata": {
            "needs_background": "light"
          }
        }
      ],
      "source": [
        "plot_history(history_mse)"
      ]
    },
    {
      "cell_type": "markdown",
      "metadata": {
        "id": "09_tAcxAbd8I"
      },
      "source": [
        "## 1.9) Evaluate the model\n",
        "\n",
        "Evaluate your RNN on the test set, using the MAE. Try training your model again using the Huber loss and see if you get better performance.\n",
        "\n",
        "*In statistics, the Huber loss is a loss function used in robust regression, that is less sensitive to outliers in data than the squared error loss.*"
      ]
    },
    {
      "cell_type": "code",
      "execution_count": null,
      "metadata": {
        "id": "_ReK0clubd8I",
        "colab": {
          "base_uri": "https://localhost:8080/"
        },
        "outputId": "ca7f352c-49f5-4923-97d2-d0f955f73e2e"
      },
      "outputs": [
        {
          "output_type": "stream",
          "name": "stdout",
          "text": [
            "23/23 [==============================] - 0s 7ms/step - loss: 20.6136 - MAE: 3.6898\n"
          ]
        },
        {
          "output_type": "execute_result",
          "data": {
            "text/plain": [
              "[20.613636016845703, 3.6898016929626465]"
            ]
          },
          "metadata": {},
          "execution_count": 51
        }
      ],
      "source": [
        "score_mse = model_mse.evaluate(X_test_3D, y_test)\n",
        "score_mse"
      ]
    },
    {
      "cell_type": "code",
      "execution_count": null,
      "metadata": {
        "id": "jKJjdjjEbd8L"
      },
      "outputs": [],
      "source": [
        "def huber_loss(y_true, y_pred, max_grad=1.):\n",
        "    err = tf.abs(y_true - y_pred, name='abs')\n",
        "    mg = tf.constant(max_grad, name='max_grad')\n",
        "    lin = mg * (err - 0.5 * mg)\n",
        "    quad = 0.5 * err * err\n",
        "    return tf.where(err < mg, quad, lin)"
      ]
    },
    {
      "cell_type": "code",
      "execution_count": null,
      "metadata": {
        "id": "MaPqi8KGbd8M"
      },
      "outputs": [],
      "source": [
        "model_huber = keras.models.Sequential()\n",
        "model_huber = keras.models.Sequential()\n",
        "model_huber.add(keras.layers.SimpleRNN(units=100,input_shape=input_shape,return_sequences=True))\n",
        "model_huber.add(keras.layers.SimpleRNN(units=100,return_sequences=False))\n",
        "model_huber.add(keras.layers.Dense(1))\n",
        "\n",
        "model_huber.compile(loss = huber_loss, optimizer=keras.optimizers.SGD(learning_rate=0.01), metrics=['MAE'])"
      ]
    },
    {
      "cell_type": "code",
      "execution_count": null,
      "metadata": {
        "id": "LZF2DR8cbd8O",
        "colab": {
          "base_uri": "https://localhost:8080/"
        },
        "outputId": "ce591302-80c6-4289-cdab-404d11b8f5df"
      },
      "outputs": [
        {
          "output_type": "stream",
          "name": "stdout",
          "text": [
            "Epoch 1/200\n",
            "11/11 [==============================] - 2s 82ms/step - loss: 4.9794 - MAE: 5.4612 - val_loss: 2.5683 - val_MAE: 3.0329\n",
            "Epoch 2/200\n",
            "11/11 [==============================] - 1s 51ms/step - loss: 2.5636 - MAE: 3.0257 - val_loss: 2.2982 - val_MAE: 2.7576\n",
            "Epoch 3/200\n",
            "11/11 [==============================] - 1s 112ms/step - loss: 2.3550 - MAE: 2.8166 - val_loss: 2.0808 - val_MAE: 2.5377\n",
            "Epoch 4/200\n",
            "11/11 [==============================] - 1s 52ms/step - loss: 2.1647 - MAE: 2.6232 - val_loss: 2.0518 - val_MAE: 2.5127\n",
            "Epoch 5/200\n",
            "11/11 [==============================] - 1s 58ms/step - loss: 2.1604 - MAE: 2.6189 - val_loss: 1.9439 - val_MAE: 2.4017\n",
            "Epoch 6/200\n",
            "11/11 [==============================] - 1s 54ms/step - loss: 2.1883 - MAE: 2.6485 - val_loss: 1.9688 - val_MAE: 2.4237\n",
            "Epoch 7/200\n",
            "11/11 [==============================] - 1s 55ms/step - loss: 2.0032 - MAE: 2.4573 - val_loss: 2.2877 - val_MAE: 2.7503\n",
            "Epoch 8/200\n",
            "11/11 [==============================] - 1s 49ms/step - loss: 2.1410 - MAE: 2.6012 - val_loss: 2.0158 - val_MAE: 2.4718\n",
            "Epoch 9/200\n",
            "11/11 [==============================] - 1s 59ms/step - loss: 2.0630 - MAE: 2.5243 - val_loss: 1.9593 - val_MAE: 2.4174\n",
            "Epoch 10/200\n",
            "11/11 [==============================] - 1s 51ms/step - loss: 1.9396 - MAE: 2.3921 - val_loss: 1.8594 - val_MAE: 2.3171\n",
            "Epoch 11/200\n",
            "11/11 [==============================] - 1s 55ms/step - loss: 1.9149 - MAE: 2.3677 - val_loss: 1.9705 - val_MAE: 2.4248\n",
            "Epoch 12/200\n",
            "11/11 [==============================] - 1s 56ms/step - loss: 2.0289 - MAE: 2.4873 - val_loss: 2.5877 - val_MAE: 3.0535\n",
            "Epoch 13/200\n",
            "11/11 [==============================] - 1s 50ms/step - loss: 2.0582 - MAE: 2.5176 - val_loss: 1.8456 - val_MAE: 2.3058\n",
            "Epoch 14/200\n",
            "11/11 [==============================] - 1s 50ms/step - loss: 1.9787 - MAE: 2.4361 - val_loss: 1.9031 - val_MAE: 2.3563\n",
            "Epoch 15/200\n",
            "11/11 [==============================] - 1s 52ms/step - loss: 1.9283 - MAE: 2.3811 - val_loss: 1.8540 - val_MAE: 2.3130\n",
            "Epoch 16/200\n",
            "11/11 [==============================] - 1s 57ms/step - loss: 2.0005 - MAE: 2.4564 - val_loss: 1.8774 - val_MAE: 2.3294\n",
            "Epoch 17/200\n",
            "11/11 [==============================] - 1s 102ms/step - loss: 1.9465 - MAE: 2.4006 - val_loss: 1.8653 - val_MAE: 2.3231\n",
            "Epoch 18/200\n",
            "11/11 [==============================] - 1s 107ms/step - loss: 1.9561 - MAE: 2.4117 - val_loss: 1.8394 - val_MAE: 2.2991\n",
            "Epoch 19/200\n",
            "11/11 [==============================] - 1s 55ms/step - loss: 1.9318 - MAE: 2.3827 - val_loss: 2.1234 - val_MAE: 2.5774\n",
            "Epoch 20/200\n",
            "11/11 [==============================] - 1s 51ms/step - loss: 1.9403 - MAE: 2.3933 - val_loss: 1.8596 - val_MAE: 2.3118\n",
            "Epoch 21/200\n",
            "11/11 [==============================] - 1s 56ms/step - loss: 1.9978 - MAE: 2.4518 - val_loss: 1.8269 - val_MAE: 2.2834\n",
            "Epoch 22/200\n",
            "11/11 [==============================] - 1s 53ms/step - loss: 1.9465 - MAE: 2.3998 - val_loss: 1.8277 - val_MAE: 2.2843\n",
            "Epoch 23/200\n",
            "11/11 [==============================] - 1s 58ms/step - loss: 1.9181 - MAE: 2.3711 - val_loss: 1.8273 - val_MAE: 2.2818\n",
            "Epoch 24/200\n",
            "11/11 [==============================] - 1s 55ms/step - loss: 1.9168 - MAE: 2.3712 - val_loss: 1.8256 - val_MAE: 2.2847\n",
            "Epoch 25/200\n",
            "11/11 [==============================] - 1s 55ms/step - loss: 1.8968 - MAE: 2.3485 - val_loss: 1.8553 - val_MAE: 2.3116\n",
            "Epoch 26/200\n",
            "11/11 [==============================] - 1s 56ms/step - loss: 1.9040 - MAE: 2.3554 - val_loss: 1.8227 - val_MAE: 2.2775\n",
            "Epoch 27/200\n",
            "11/11 [==============================] - 1s 53ms/step - loss: 1.8827 - MAE: 2.3344 - val_loss: 1.8723 - val_MAE: 2.3257\n",
            "Epoch 28/200\n",
            "11/11 [==============================] - 1s 58ms/step - loss: 1.9922 - MAE: 2.4469 - val_loss: 1.8269 - val_MAE: 2.2804\n",
            "Epoch 29/200\n",
            "11/11 [==============================] - 1s 51ms/step - loss: 1.9072 - MAE: 2.3604 - val_loss: 1.9336 - val_MAE: 2.3893\n",
            "Epoch 30/200\n",
            "11/11 [==============================] - 1s 55ms/step - loss: 1.9170 - MAE: 2.3690 - val_loss: 1.8235 - val_MAE: 2.2827\n",
            "Epoch 31/200\n",
            "11/11 [==============================] - 1s 55ms/step - loss: 1.8917 - MAE: 2.3450 - val_loss: 1.8242 - val_MAE: 2.2835\n",
            "Epoch 32/200\n",
            "11/11 [==============================] - 1s 54ms/step - loss: 1.8885 - MAE: 2.3430 - val_loss: 1.8120 - val_MAE: 2.2694\n",
            "Epoch 33/200\n",
            "11/11 [==============================] - 1s 53ms/step - loss: 1.8842 - MAE: 2.3377 - val_loss: 2.0845 - val_MAE: 2.5460\n",
            "Epoch 34/200\n",
            "11/11 [==============================] - 1s 53ms/step - loss: 1.8993 - MAE: 2.3523 - val_loss: 1.8134 - val_MAE: 2.2719\n",
            "Epoch 35/200\n",
            "11/11 [==============================] - 1s 53ms/step - loss: 1.9026 - MAE: 2.3556 - val_loss: 1.8086 - val_MAE: 2.2643\n",
            "Epoch 36/200\n",
            "11/11 [==============================] - 1s 48ms/step - loss: 1.9516 - MAE: 2.4053 - val_loss: 1.8097 - val_MAE: 2.2681\n",
            "Epoch 37/200\n",
            "11/11 [==============================] - 1s 52ms/step - loss: 1.8999 - MAE: 2.3565 - val_loss: 1.8235 - val_MAE: 2.2810\n",
            "Epoch 38/200\n",
            "11/11 [==============================] - 1s 55ms/step - loss: 1.9077 - MAE: 2.3622 - val_loss: 1.8388 - val_MAE: 2.2908\n",
            "Epoch 39/200\n",
            "11/11 [==============================] - 1s 50ms/step - loss: 1.8951 - MAE: 2.3509 - val_loss: 1.8013 - val_MAE: 2.2593\n",
            "Epoch 40/200\n",
            "11/11 [==============================] - 1s 75ms/step - loss: 1.9070 - MAE: 2.3603 - val_loss: 1.8268 - val_MAE: 2.2795\n",
            "Epoch 41/200\n",
            "11/11 [==============================] - 1s 55ms/step - loss: 1.9164 - MAE: 2.3696 - val_loss: 1.9041 - val_MAE: 2.3588\n",
            "Epoch 42/200\n",
            "11/11 [==============================] - 1s 50ms/step - loss: 1.8795 - MAE: 2.3293 - val_loss: 1.8005 - val_MAE: 2.2546\n",
            "Epoch 43/200\n",
            "11/11 [==============================] - 1s 51ms/step - loss: 1.9182 - MAE: 2.3697 - val_loss: 1.8088 - val_MAE: 2.2635\n",
            "Epoch 44/200\n",
            "11/11 [==============================] - 1s 53ms/step - loss: 1.8961 - MAE: 2.3507 - val_loss: 2.0373 - val_MAE: 2.4907\n",
            "Epoch 45/200\n",
            "11/11 [==============================] - 1s 52ms/step - loss: 1.9423 - MAE: 2.3921 - val_loss: 1.8187 - val_MAE: 2.2727\n",
            "Epoch 46/200\n",
            "11/11 [==============================] - 1s 55ms/step - loss: 1.8727 - MAE: 2.3230 - val_loss: 1.8216 - val_MAE: 2.2743\n",
            "Epoch 47/200\n",
            "11/11 [==============================] - 1s 52ms/step - loss: 1.9055 - MAE: 2.3609 - val_loss: 1.7991 - val_MAE: 2.2553\n",
            "Epoch 48/200\n",
            "11/11 [==============================] - 1s 50ms/step - loss: 1.8637 - MAE: 2.3184 - val_loss: 1.8130 - val_MAE: 2.2671\n",
            "Epoch 49/200\n",
            "11/11 [==============================] - 1s 48ms/step - loss: 1.9057 - MAE: 2.3597 - val_loss: 1.8007 - val_MAE: 2.2594\n",
            "Epoch 50/200\n",
            "11/11 [==============================] - 1s 50ms/step - loss: 1.9188 - MAE: 2.3693 - val_loss: 1.8727 - val_MAE: 2.3269\n",
            "Epoch 51/200\n",
            "11/11 [==============================] - 1s 53ms/step - loss: 1.8999 - MAE: 2.3524 - val_loss: 1.7974 - val_MAE: 2.2560\n",
            "Epoch 52/200\n",
            "11/11 [==============================] - 1s 57ms/step - loss: 1.8740 - MAE: 2.3268 - val_loss: 1.8486 - val_MAE: 2.3005\n",
            "Epoch 53/200\n",
            "11/11 [==============================] - 1s 54ms/step - loss: 1.9375 - MAE: 2.3912 - val_loss: 1.8253 - val_MAE: 2.2842\n",
            "Epoch 54/200\n",
            "11/11 [==============================] - 1s 57ms/step - loss: 1.9140 - MAE: 2.3697 - val_loss: 1.8334 - val_MAE: 2.2922\n",
            "Epoch 55/200\n",
            "11/11 [==============================] - 1s 52ms/step - loss: 1.8909 - MAE: 2.3437 - val_loss: 1.7966 - val_MAE: 2.2510\n",
            "Epoch 56/200\n",
            "11/11 [==============================] - 1s 50ms/step - loss: 1.8555 - MAE: 2.3086 - val_loss: 1.8035 - val_MAE: 2.2576\n",
            "Epoch 57/200\n",
            "11/11 [==============================] - 1s 52ms/step - loss: 1.8720 - MAE: 2.3306 - val_loss: 1.8390 - val_MAE: 2.2927\n",
            "Epoch 58/200\n",
            "11/11 [==============================] - 1s 52ms/step - loss: 1.9053 - MAE: 2.3593 - val_loss: 1.7920 - val_MAE: 2.2471\n",
            "Epoch 59/200\n",
            "11/11 [==============================] - 1s 58ms/step - loss: 1.8533 - MAE: 2.3071 - val_loss: 1.8283 - val_MAE: 2.2870\n",
            "Epoch 60/200\n",
            "11/11 [==============================] - 1s 54ms/step - loss: 1.8674 - MAE: 2.3199 - val_loss: 1.8800 - val_MAE: 2.3354\n",
            "Epoch 61/200\n",
            "11/11 [==============================] - 1s 55ms/step - loss: 1.8658 - MAE: 2.3172 - val_loss: 1.8252 - val_MAE: 2.2800\n",
            "Epoch 62/200\n",
            "11/11 [==============================] - 1s 61ms/step - loss: 1.8859 - MAE: 2.3388 - val_loss: 1.7848 - val_MAE: 2.2410\n",
            "Epoch 63/200\n",
            "11/11 [==============================] - 1s 63ms/step - loss: 1.8687 - MAE: 2.3219 - val_loss: 1.8271 - val_MAE: 2.2858\n",
            "Epoch 64/200\n",
            "11/11 [==============================] - 1s 51ms/step - loss: 1.8555 - MAE: 2.3054 - val_loss: 1.7881 - val_MAE: 2.2399\n",
            "Epoch 65/200\n",
            "11/11 [==============================] - 1s 50ms/step - loss: 1.9617 - MAE: 2.4138 - val_loss: 1.7867 - val_MAE: 2.2404\n",
            "Epoch 66/200\n",
            "11/11 [==============================] - 1s 51ms/step - loss: 1.8704 - MAE: 2.3234 - val_loss: 1.8601 - val_MAE: 2.3168\n",
            "Epoch 67/200\n",
            "11/11 [==============================] - 1s 52ms/step - loss: 1.8545 - MAE: 2.3081 - val_loss: 1.7767 - val_MAE: 2.2335\n",
            "Epoch 68/200\n",
            "11/11 [==============================] - 1s 49ms/step - loss: 1.8653 - MAE: 2.3166 - val_loss: 1.7952 - val_MAE: 2.2540\n",
            "Epoch 69/200\n",
            "11/11 [==============================] - 1s 57ms/step - loss: 1.8622 - MAE: 2.3125 - val_loss: 1.7775 - val_MAE: 2.2336\n",
            "Epoch 70/200\n",
            "11/11 [==============================] - 1s 52ms/step - loss: 1.8788 - MAE: 2.3320 - val_loss: 1.8316 - val_MAE: 2.2870\n",
            "Epoch 71/200\n",
            "11/11 [==============================] - 1s 50ms/step - loss: 1.8670 - MAE: 2.3204 - val_loss: 1.7851 - val_MAE: 2.2392\n",
            "Epoch 72/200\n",
            "11/11 [==============================] - 1s 52ms/step - loss: 1.8614 - MAE: 2.3119 - val_loss: 1.7865 - val_MAE: 2.2416\n",
            "Epoch 73/200\n",
            "11/11 [==============================] - 1s 50ms/step - loss: 1.8676 - MAE: 2.3200 - val_loss: 1.8441 - val_MAE: 2.2960\n",
            "Epoch 74/200\n",
            "11/11 [==============================] - 1s 51ms/step - loss: 1.8787 - MAE: 2.3322 - val_loss: 1.7881 - val_MAE: 2.2460\n",
            "Epoch 75/200\n",
            "11/11 [==============================] - 1s 54ms/step - loss: 1.8631 - MAE: 2.3161 - val_loss: 1.7768 - val_MAE: 2.2325\n",
            "Epoch 76/200\n",
            "11/11 [==============================] - 1s 55ms/step - loss: 1.8713 - MAE: 2.3239 - val_loss: 1.8858 - val_MAE: 2.3404\n",
            "Epoch 77/200\n",
            "11/11 [==============================] - 1s 51ms/step - loss: 1.9087 - MAE: 2.3614 - val_loss: 1.8072 - val_MAE: 2.2660\n",
            "Epoch 78/200\n",
            "11/11 [==============================] - 1s 56ms/step - loss: 1.8448 - MAE: 2.2970 - val_loss: 1.8435 - val_MAE: 2.2944\n",
            "Epoch 79/200\n",
            "11/11 [==============================] - 1s 49ms/step - loss: 1.8639 - MAE: 2.3164 - val_loss: 1.8364 - val_MAE: 2.2883\n",
            "Epoch 80/200\n",
            "11/11 [==============================] - 1s 54ms/step - loss: 1.8871 - MAE: 2.3409 - val_loss: 1.8220 - val_MAE: 2.2795\n",
            "Epoch 81/200\n",
            "11/11 [==============================] - 1s 53ms/step - loss: 1.8408 - MAE: 2.2919 - val_loss: 1.7836 - val_MAE: 2.2378\n",
            "Epoch 82/200\n",
            "11/11 [==============================] - 1s 50ms/step - loss: 1.8711 - MAE: 2.3228 - val_loss: 1.8088 - val_MAE: 2.2675\n",
            "Epoch 83/200\n",
            "11/11 [==============================] - 1s 61ms/step - loss: 1.9167 - MAE: 2.3703 - val_loss: 1.7911 - val_MAE: 2.2465\n",
            "Epoch 84/200\n",
            "11/11 [==============================] - 1s 51ms/step - loss: 1.8573 - MAE: 2.3086 - val_loss: 1.7777 - val_MAE: 2.2330\n",
            "Epoch 85/200\n",
            "11/11 [==============================] - 1s 54ms/step - loss: 1.8600 - MAE: 2.3117 - val_loss: 1.7796 - val_MAE: 2.2310\n",
            "Epoch 86/200\n",
            "11/11 [==============================] - 1s 54ms/step - loss: 1.8513 - MAE: 2.3014 - val_loss: 1.7912 - val_MAE: 2.2414\n",
            "Epoch 87/200\n",
            "11/11 [==============================] - 1s 49ms/step - loss: 1.8674 - MAE: 2.3179 - val_loss: 1.7826 - val_MAE: 2.2362\n",
            "Epoch 88/200\n",
            "11/11 [==============================] - 1s 54ms/step - loss: 1.8428 - MAE: 2.2939 - val_loss: 1.7807 - val_MAE: 2.2385\n",
            "Epoch 89/200\n",
            "11/11 [==============================] - 1s 51ms/step - loss: 1.8701 - MAE: 2.3237 - val_loss: 1.7889 - val_MAE: 2.2450\n",
            "Epoch 90/200\n",
            "11/11 [==============================] - 1s 58ms/step - loss: 1.8740 - MAE: 2.3284 - val_loss: 1.7894 - val_MAE: 2.2424\n",
            "Epoch 91/200\n",
            "11/11 [==============================] - 1s 57ms/step - loss: 1.8517 - MAE: 2.3049 - val_loss: 1.7790 - val_MAE: 2.2360\n",
            "Epoch 92/200\n",
            "11/11 [==============================] - 1s 77ms/step - loss: 1.8487 - MAE: 2.3010 - val_loss: 1.7858 - val_MAE: 2.2406\n",
            "Epoch 93/200\n",
            "11/11 [==============================] - 1s 113ms/step - loss: 1.8419 - MAE: 2.2951 - val_loss: 1.8604 - val_MAE: 2.3141\n",
            "Epoch 94/200\n",
            "11/11 [==============================] - 1s 117ms/step - loss: 1.8775 - MAE: 2.3323 - val_loss: 2.0827 - val_MAE: 2.5366\n",
            "Epoch 95/200\n",
            "11/11 [==============================] - 1s 107ms/step - loss: 1.8539 - MAE: 2.3043 - val_loss: 1.7770 - val_MAE: 2.2336\n",
            "Epoch 96/200\n",
            "11/11 [==============================] - 1s 64ms/step - loss: 1.8438 - MAE: 2.2967 - val_loss: 1.7945 - val_MAE: 2.2520\n",
            "Epoch 97/200\n",
            "11/11 [==============================] - 1s 48ms/step - loss: 1.8737 - MAE: 2.3257 - val_loss: 1.9212 - val_MAE: 2.3791\n",
            "Epoch 98/200\n",
            "11/11 [==============================] - 1s 49ms/step - loss: 1.9275 - MAE: 2.3813 - val_loss: 1.8539 - val_MAE: 2.3096\n",
            "Epoch 99/200\n",
            "11/11 [==============================] - 1s 51ms/step - loss: 1.8566 - MAE: 2.3100 - val_loss: 1.8308 - val_MAE: 2.2875\n",
            "Epoch 100/200\n",
            "11/11 [==============================] - 1s 50ms/step - loss: 1.8417 - MAE: 2.2953 - val_loss: 1.8104 - val_MAE: 2.2686\n",
            "Epoch 101/200\n",
            "11/11 [==============================] - 1s 54ms/step - loss: 1.8500 - MAE: 2.3044 - val_loss: 1.8178 - val_MAE: 2.2737\n",
            "Epoch 102/200\n",
            "11/11 [==============================] - 1s 52ms/step - loss: 1.8627 - MAE: 2.3132 - val_loss: 1.8004 - val_MAE: 2.2544\n",
            "Epoch 103/200\n",
            "11/11 [==============================] - 1s 53ms/step - loss: 1.8595 - MAE: 2.3128 - val_loss: 1.7966 - val_MAE: 2.2548\n",
            "Epoch 104/200\n",
            "11/11 [==============================] - 1s 56ms/step - loss: 1.8510 - MAE: 2.3034 - val_loss: 1.7880 - val_MAE: 2.2440\n",
            "Epoch 105/200\n",
            "11/11 [==============================] - 1s 57ms/step - loss: 1.8339 - MAE: 2.2844 - val_loss: 1.9306 - val_MAE: 2.3891\n",
            "Epoch 106/200\n",
            "11/11 [==============================] - 1s 54ms/step - loss: 1.9358 - MAE: 2.3931 - val_loss: 1.7960 - val_MAE: 2.2539\n",
            "Epoch 107/200\n",
            "11/11 [==============================] - 1s 57ms/step - loss: 1.8691 - MAE: 2.3227 - val_loss: 1.8019 - val_MAE: 2.2589\n",
            "Epoch 108/200\n",
            "11/11 [==============================] - 1s 60ms/step - loss: 1.8432 - MAE: 2.2953 - val_loss: 1.7831 - val_MAE: 2.2381\n",
            "Epoch 109/200\n",
            "11/11 [==============================] - 1s 57ms/step - loss: 1.8677 - MAE: 2.3198 - val_loss: 2.0147 - val_MAE: 2.4756\n",
            "Epoch 110/200\n",
            "11/11 [==============================] - 1s 53ms/step - loss: 1.8505 - MAE: 2.3047 - val_loss: 1.7790 - val_MAE: 2.2349\n",
            "Epoch 111/200\n",
            "11/11 [==============================] - 1s 57ms/step - loss: 1.8521 - MAE: 2.3041 - val_loss: 1.9719 - val_MAE: 2.4300\n",
            "Epoch 112/200\n",
            "11/11 [==============================] - 1s 50ms/step - loss: 1.8497 - MAE: 2.3041 - val_loss: 1.7981 - val_MAE: 2.2497\n",
            "Epoch 113/200\n",
            "11/11 [==============================] - 1s 48ms/step - loss: 1.8754 - MAE: 2.3300 - val_loss: 1.7911 - val_MAE: 2.2501\n",
            "Epoch 114/200\n",
            "11/11 [==============================] - 1s 49ms/step - loss: 1.8570 - MAE: 2.3091 - val_loss: 1.7854 - val_MAE: 2.2408\n",
            "Epoch 115/200\n",
            "11/11 [==============================] - 1s 53ms/step - loss: 1.8472 - MAE: 2.2980 - val_loss: 1.8511 - val_MAE: 2.3050\n",
            "Epoch 116/200\n",
            "11/11 [==============================] - 1s 55ms/step - loss: 1.8414 - MAE: 2.2924 - val_loss: 1.7920 - val_MAE: 2.2439\n",
            "Epoch 117/200\n",
            "11/11 [==============================] - 1s 55ms/step - loss: 1.8605 - MAE: 2.3139 - val_loss: 1.7814 - val_MAE: 2.2379\n",
            "Epoch 118/200\n",
            "11/11 [==============================] - 1s 49ms/step - loss: 1.8696 - MAE: 2.3209 - val_loss: 1.7814 - val_MAE: 2.2334\n",
            "Epoch 119/200\n",
            "11/11 [==============================] - 1s 49ms/step - loss: 1.8373 - MAE: 2.2880 - val_loss: 1.7862 - val_MAE: 2.2434\n",
            "Epoch 120/200\n",
            "11/11 [==============================] - 1s 55ms/step - loss: 1.8566 - MAE: 2.3069 - val_loss: 1.7841 - val_MAE: 2.2438\n",
            "Epoch 121/200\n",
            "11/11 [==============================] - 1s 52ms/step - loss: 1.8464 - MAE: 2.2985 - val_loss: 1.8141 - val_MAE: 2.2697\n",
            "Epoch 122/200\n",
            "11/11 [==============================] - 1s 52ms/step - loss: 1.8634 - MAE: 2.3159 - val_loss: 1.8300 - val_MAE: 2.2855\n",
            "Epoch 123/200\n",
            "11/11 [==============================] - 1s 56ms/step - loss: 1.8322 - MAE: 2.2823 - val_loss: 1.8783 - val_MAE: 2.3339\n",
            "Epoch 124/200\n",
            "11/11 [==============================] - 1s 53ms/step - loss: 1.8597 - MAE: 2.3124 - val_loss: 1.7701 - val_MAE: 2.2217\n",
            "Epoch 125/200\n",
            "11/11 [==============================] - 1s 52ms/step - loss: 1.8675 - MAE: 2.3197 - val_loss: 1.8078 - val_MAE: 2.2577\n",
            "Epoch 126/200\n",
            "11/11 [==============================] - 1s 54ms/step - loss: 1.8407 - MAE: 2.2954 - val_loss: 1.7995 - val_MAE: 2.2529\n",
            "Epoch 127/200\n",
            "11/11 [==============================] - 1s 51ms/step - loss: 1.8705 - MAE: 2.3234 - val_loss: 1.7737 - val_MAE: 2.2246\n",
            "Epoch 128/200\n",
            "11/11 [==============================] - 1s 54ms/step - loss: 1.8465 - MAE: 2.2977 - val_loss: 1.7752 - val_MAE: 2.2297\n",
            "Epoch 129/200\n",
            "11/11 [==============================] - 1s 51ms/step - loss: 1.8874 - MAE: 2.3399 - val_loss: 1.7885 - val_MAE: 2.2400\n",
            "Epoch 130/200\n",
            "11/11 [==============================] - 1s 51ms/step - loss: 1.8388 - MAE: 2.2896 - val_loss: 1.7848 - val_MAE: 2.2381\n",
            "Epoch 131/200\n",
            "11/11 [==============================] - 1s 48ms/step - loss: 1.8348 - MAE: 2.2859 - val_loss: 1.8050 - val_MAE: 2.2592\n",
            "Epoch 132/200\n",
            "11/11 [==============================] - 1s 51ms/step - loss: 1.8548 - MAE: 2.3084 - val_loss: 1.7995 - val_MAE: 2.2551\n",
            "Epoch 133/200\n",
            "11/11 [==============================] - 1s 49ms/step - loss: 1.8410 - MAE: 2.2923 - val_loss: 1.7817 - val_MAE: 2.2399\n",
            "Epoch 134/200\n",
            "11/11 [==============================] - 1s 58ms/step - loss: 1.8566 - MAE: 2.3098 - val_loss: 1.7841 - val_MAE: 2.2421\n",
            "Epoch 135/200\n",
            "11/11 [==============================] - 1s 52ms/step - loss: 1.8513 - MAE: 2.3043 - val_loss: 1.7910 - val_MAE: 2.2485\n",
            "Epoch 136/200\n",
            "11/11 [==============================] - 1s 54ms/step - loss: 1.8680 - MAE: 2.3197 - val_loss: 1.8891 - val_MAE: 2.3452\n",
            "Epoch 137/200\n",
            "11/11 [==============================] - 1s 57ms/step - loss: 1.8308 - MAE: 2.2814 - val_loss: 1.7866 - val_MAE: 2.2450\n",
            "Epoch 138/200\n",
            "11/11 [==============================] - 1s 52ms/step - loss: 1.8471 - MAE: 2.2962 - val_loss: 2.0081 - val_MAE: 2.4628\n",
            "Epoch 139/200\n",
            "11/11 [==============================] - 1s 53ms/step - loss: 1.8981 - MAE: 2.3512 - val_loss: 1.7753 - val_MAE: 2.2317\n",
            "Epoch 140/200\n",
            "11/11 [==============================] - 1s 56ms/step - loss: 1.8966 - MAE: 2.3520 - val_loss: 1.8093 - val_MAE: 2.2631\n",
            "Epoch 141/200\n",
            "11/11 [==============================] - 1s 52ms/step - loss: 1.8433 - MAE: 2.2957 - val_loss: 1.8475 - val_MAE: 2.3036\n",
            "Epoch 142/200\n",
            "11/11 [==============================] - 1s 57ms/step - loss: 1.8454 - MAE: 2.2996 - val_loss: 1.7823 - val_MAE: 2.2389\n",
            "Epoch 143/200\n",
            "11/11 [==============================] - 1s 54ms/step - loss: 1.8338 - MAE: 2.2842 - val_loss: 1.7835 - val_MAE: 2.2364\n",
            "Epoch 144/200\n",
            "11/11 [==============================] - 1s 52ms/step - loss: 1.8376 - MAE: 2.2876 - val_loss: 1.7770 - val_MAE: 2.2292\n",
            "Epoch 145/200\n",
            "11/11 [==============================] - 1s 52ms/step - loss: 1.8532 - MAE: 2.3053 - val_loss: 1.7787 - val_MAE: 2.2307\n",
            "Epoch 146/200\n",
            "11/11 [==============================] - 1s 50ms/step - loss: 1.8289 - MAE: 2.2771 - val_loss: 1.8573 - val_MAE: 2.3120\n",
            "Epoch 147/200\n",
            "11/11 [==============================] - 1s 50ms/step - loss: 1.8592 - MAE: 2.3095 - val_loss: 1.8045 - val_MAE: 2.2570\n",
            "Epoch 148/200\n",
            "11/11 [==============================] - 1s 51ms/step - loss: 1.8324 - MAE: 2.2841 - val_loss: 1.8586 - val_MAE: 2.3139\n",
            "Epoch 149/200\n",
            "11/11 [==============================] - 1s 50ms/step - loss: 1.8447 - MAE: 2.2938 - val_loss: 1.8585 - val_MAE: 2.3147\n",
            "Epoch 150/200\n",
            "11/11 [==============================] - 1s 53ms/step - loss: 1.8549 - MAE: 2.3070 - val_loss: 1.7944 - val_MAE: 2.2493\n",
            "Epoch 151/200\n",
            "11/11 [==============================] - 1s 54ms/step - loss: 1.8379 - MAE: 2.2892 - val_loss: 1.8452 - val_MAE: 2.2994\n",
            "Epoch 152/200\n",
            "11/11 [==============================] - 1s 54ms/step - loss: 1.8401 - MAE: 2.2913 - val_loss: 1.7928 - val_MAE: 2.2504\n",
            "Epoch 153/200\n",
            "11/11 [==============================] - 1s 59ms/step - loss: 1.8367 - MAE: 2.2901 - val_loss: 1.7774 - val_MAE: 2.2352\n",
            "Epoch 154/200\n",
            "11/11 [==============================] - 1s 57ms/step - loss: 1.8315 - MAE: 2.2835 - val_loss: 1.8235 - val_MAE: 2.2771\n",
            "Epoch 155/200\n",
            "11/11 [==============================] - 1s 50ms/step - loss: 1.8316 - MAE: 2.2821 - val_loss: 1.7679 - val_MAE: 2.2227\n",
            "Epoch 156/200\n",
            "11/11 [==============================] - 1s 51ms/step - loss: 1.8194 - MAE: 2.2709 - val_loss: 1.7643 - val_MAE: 2.2160\n",
            "Epoch 157/200\n",
            "11/11 [==============================] - 1s 53ms/step - loss: 1.8337 - MAE: 2.2863 - val_loss: 1.7960 - val_MAE: 2.2487\n",
            "Epoch 158/200\n",
            "11/11 [==============================] - 1s 56ms/step - loss: 1.8258 - MAE: 2.2754 - val_loss: 1.7703 - val_MAE: 2.2250\n",
            "Epoch 159/200\n",
            "11/11 [==============================] - 1s 59ms/step - loss: 1.8532 - MAE: 2.3042 - val_loss: 1.7803 - val_MAE: 2.2341\n",
            "Epoch 160/200\n",
            "11/11 [==============================] - 1s 53ms/step - loss: 1.8947 - MAE: 2.3483 - val_loss: 1.7797 - val_MAE: 2.2347\n",
            "Epoch 161/200\n",
            "11/11 [==============================] - 1s 50ms/step - loss: 1.8273 - MAE: 2.2805 - val_loss: 1.7699 - val_MAE: 2.2253\n",
            "Epoch 162/200\n",
            "11/11 [==============================] - 1s 54ms/step - loss: 1.8367 - MAE: 2.2873 - val_loss: 1.7920 - val_MAE: 2.2439\n",
            "Epoch 163/200\n",
            "11/11 [==============================] - 1s 54ms/step - loss: 1.8405 - MAE: 2.2926 - val_loss: 1.8425 - val_MAE: 2.2948\n",
            "Epoch 164/200\n",
            "11/11 [==============================] - 1s 52ms/step - loss: 1.8406 - MAE: 2.2893 - val_loss: 1.7828 - val_MAE: 2.2351\n",
            "Epoch 165/200\n",
            "11/11 [==============================] - 1s 52ms/step - loss: 1.8341 - MAE: 2.2863 - val_loss: 1.8407 - val_MAE: 2.2957\n",
            "Epoch 166/200\n",
            "11/11 [==============================] - 1s 50ms/step - loss: 1.8537 - MAE: 2.3063 - val_loss: 1.7723 - val_MAE: 2.2272\n",
            "Epoch 167/200\n",
            "11/11 [==============================] - 1s 52ms/step - loss: 1.8316 - MAE: 2.2852 - val_loss: 1.7657 - val_MAE: 2.2186\n",
            "Epoch 168/200\n",
            "11/11 [==============================] - 1s 47ms/step - loss: 1.8346 - MAE: 2.2852 - val_loss: 1.8450 - val_MAE: 2.3008\n",
            "Epoch 169/200\n",
            "11/11 [==============================] - 1s 56ms/step - loss: 1.8497 - MAE: 2.2999 - val_loss: 1.7778 - val_MAE: 2.2308\n",
            "Epoch 170/200\n",
            "11/11 [==============================] - 1s 52ms/step - loss: 1.8434 - MAE: 2.2945 - val_loss: 1.7905 - val_MAE: 2.2478\n",
            "Epoch 171/200\n",
            "11/11 [==============================] - 1s 49ms/step - loss: 1.8370 - MAE: 2.2877 - val_loss: 1.7791 - val_MAE: 2.2366\n",
            "Epoch 172/200\n",
            "11/11 [==============================] - 1s 54ms/step - loss: 1.8483 - MAE: 2.2987 - val_loss: 1.8310 - val_MAE: 2.2809\n",
            "Epoch 173/200\n",
            "11/11 [==============================] - 1s 51ms/step - loss: 1.8295 - MAE: 2.2792 - val_loss: 1.7766 - val_MAE: 2.2294\n",
            "Epoch 174/200\n",
            "11/11 [==============================] - 1s 57ms/step - loss: 1.8257 - MAE: 2.2767 - val_loss: 1.8869 - val_MAE: 2.3423\n",
            "Epoch 175/200\n",
            "11/11 [==============================] - 1s 52ms/step - loss: 1.8393 - MAE: 2.2900 - val_loss: 1.8459 - val_MAE: 2.3004\n",
            "Epoch 176/200\n",
            "11/11 [==============================] - 1s 58ms/step - loss: 1.8335 - MAE: 2.2842 - val_loss: 1.7728 - val_MAE: 2.2285\n",
            "Epoch 177/200\n",
            "11/11 [==============================] - 1s 54ms/step - loss: 1.8368 - MAE: 2.2872 - val_loss: 1.8897 - val_MAE: 2.3428\n",
            "Epoch 178/200\n",
            "11/11 [==============================] - 1s 53ms/step - loss: 1.8603 - MAE: 2.3093 - val_loss: 1.8008 - val_MAE: 2.2506\n",
            "Epoch 179/200\n",
            "11/11 [==============================] - 1s 58ms/step - loss: 1.8371 - MAE: 2.2872 - val_loss: 1.7815 - val_MAE: 2.2403\n",
            "Epoch 180/200\n",
            "11/11 [==============================] - 1s 52ms/step - loss: 1.8272 - MAE: 2.2793 - val_loss: 1.7978 - val_MAE: 2.2523\n",
            "Epoch 181/200\n",
            "11/11 [==============================] - 1s 51ms/step - loss: 1.8243 - MAE: 2.2731 - val_loss: 1.7881 - val_MAE: 2.2454\n",
            "Epoch 182/200\n",
            "11/11 [==============================] - 1s 52ms/step - loss: 1.8420 - MAE: 2.2934 - val_loss: 1.8093 - val_MAE: 2.2680\n",
            "Epoch 183/200\n",
            "11/11 [==============================] - 1s 53ms/step - loss: 1.8396 - MAE: 2.2899 - val_loss: 1.7636 - val_MAE: 2.2154\n",
            "Epoch 184/200\n",
            "11/11 [==============================] - 1s 53ms/step - loss: 1.8132 - MAE: 2.2642 - val_loss: 1.7633 - val_MAE: 2.2132\n",
            "Epoch 185/200\n",
            "11/11 [==============================] - 1s 57ms/step - loss: 1.8231 - MAE: 2.2731 - val_loss: 1.7768 - val_MAE: 2.2340\n",
            "Epoch 186/200\n",
            "11/11 [==============================] - 1s 52ms/step - loss: 1.8326 - MAE: 2.2818 - val_loss: 1.7657 - val_MAE: 2.2150\n",
            "Epoch 187/200\n",
            "11/11 [==============================] - 1s 54ms/step - loss: 1.8499 - MAE: 2.2992 - val_loss: 1.7825 - val_MAE: 2.2385\n",
            "Epoch 188/200\n",
            "11/11 [==============================] - 1s 53ms/step - loss: 1.8373 - MAE: 2.2906 - val_loss: 1.8093 - val_MAE: 2.2638\n",
            "Epoch 189/200\n",
            "11/11 [==============================] - 1s 53ms/step - loss: 1.8384 - MAE: 2.2848 - val_loss: 1.8104 - val_MAE: 2.2690\n",
            "Epoch 190/200\n",
            "11/11 [==============================] - 1s 51ms/step - loss: 1.8562 - MAE: 2.3073 - val_loss: 1.8511 - val_MAE: 2.3070\n",
            "Epoch 191/200\n",
            "11/11 [==============================] - 1s 58ms/step - loss: 1.8327 - MAE: 2.2841 - val_loss: 1.8123 - val_MAE: 2.2663\n",
            "Epoch 192/200\n",
            "11/11 [==============================] - 1s 51ms/step - loss: 1.8278 - MAE: 2.2798 - val_loss: 1.7786 - val_MAE: 2.2362\n",
            "Epoch 193/200\n",
            "11/11 [==============================] - 1s 56ms/step - loss: 1.8176 - MAE: 2.2695 - val_loss: 1.8017 - val_MAE: 2.2547\n",
            "Epoch 194/200\n",
            "11/11 [==============================] - 1s 56ms/step - loss: 1.8519 - MAE: 2.3028 - val_loss: 1.8016 - val_MAE: 2.2587\n",
            "Epoch 195/200\n",
            "11/11 [==============================] - 1s 48ms/step - loss: 1.8798 - MAE: 2.3322 - val_loss: 1.9135 - val_MAE: 2.3667\n",
            "Epoch 196/200\n",
            "11/11 [==============================] - 1s 60ms/step - loss: 1.8379 - MAE: 2.2903 - val_loss: 1.8302 - val_MAE: 2.2781\n",
            "Epoch 197/200\n",
            "11/11 [==============================] - 1s 56ms/step - loss: 1.8460 - MAE: 2.2964 - val_loss: 1.7969 - val_MAE: 2.2531\n",
            "Epoch 198/200\n",
            "11/11 [==============================] - 1s 50ms/step - loss: 1.8252 - MAE: 2.2743 - val_loss: 1.7623 - val_MAE: 2.2182\n",
            "Epoch 199/200\n",
            "11/11 [==============================] - 1s 52ms/step - loss: 1.8319 - MAE: 2.2831 - val_loss: 1.8062 - val_MAE: 2.2622\n",
            "Epoch 200/200\n",
            "11/11 [==============================] - 1s 54ms/step - loss: 1.8394 - MAE: 2.2921 - val_loss: 1.8149 - val_MAE: 2.2685\n"
          ]
        }
      ],
      "source": [
        "history_huber = model_huber.fit(X_train_3D, y_train, epochs=200, batch_size=200,\n",
        "                      validation_data=(X_valid_3D, y_valid))"
      ]
    },
    {
      "cell_type": "code",
      "execution_count": null,
      "metadata": {
        "id": "YieiQouDbd8Q",
        "colab": {
          "base_uri": "https://localhost:8080/"
        },
        "outputId": "b61f4060-9131-4981-b823-163557a729a4"
      },
      "outputs": [
        {
          "output_type": "stream",
          "name": "stdout",
          "text": [
            "23/23 [==============================] - 0s 7ms/step - loss: 1.6692 - MAE: 2.1102\n"
          ]
        },
        {
          "output_type": "execute_result",
          "data": {
            "text/plain": [
              "[1.669227957725525, 2.1101598739624023]"
            ]
          },
          "metadata": {},
          "execution_count": 55
        }
      ],
      "source": [
        "score_huber = model_huber.evaluate(X_test_3D, y_test)\n",
        "score_huber"
      ]
    },
    {
      "cell_type": "markdown",
      "metadata": {
        "id": "Wy3U4jpDbd8S"
      },
      "source": [
        "## 1.10) Plot the predictions\n",
        "\n",
        "Make predictions on the test set and plot them. Compare them to the targets and the baseline predictions."
      ]
    },
    {
      "cell_type": "code",
      "execution_count": null,
      "metadata": {
        "id": "W1tcYV0-bd8T",
        "colab": {
          "base_uri": "https://localhost:8080/"
        },
        "outputId": "d637edc5-16b8-4bb6-8be6-22e23c9010d3"
      },
      "outputs": [
        {
          "output_type": "stream",
          "name": "stdout",
          "text": [
            "23/23 [==============================] - 0s 6ms/step\n",
            "23/23 [==============================] - 0s 6ms/step\n"
          ]
        }
      ],
      "source": [
        "y_pred_rnn_huber = model_huber.predict(X_test_3D)\n",
        "y_pred_rnn_mse = model_mse.predict(X_test_3D)"
      ]
    },
    {
      "cell_type": "code",
      "execution_count": null,
      "metadata": {
        "id": "Bc3xE5Habd8W",
        "scrolled": true,
        "colab": {
          "base_uri": "https://localhost:8080/",
          "height": 320
        },
        "outputId": "c165733e-a10d-4d43-c6ac-5b6a604fce3f"
      },
      "outputs": [
        {
          "output_type": "display_data",
          "data": {
            "text/plain": [
              "<Figure size 720x360 with 1 Axes>"
            ],
            "image/png": "[encoded data removed]"
          },
          "metadata": {
            "needs_background": "light"
          }
        }
      ],
      "source": [
        "plot_predictions((\"Target\", y_test),\n",
        "                 (\"Linear\", y_pred_linear),\n",
        "                 (\"RNN_Huber\", y_pred_rnn_huber),\n",
        "                 (\"RNN_MSE\", y_pred_rnn_mse),\n",
        "                 end=365)"
      ]
    },
    {
      "cell_type": "markdown",
      "metadata": {
        "id": "Eq6wYR9Wbd8X"
      },
      "source": [
        "# 2 - Forecasting the shifted sequence (Seq2Seq)\n",
        "Now let's predict temperatures for 30 days (from t-24 to t+5) instead of just one.\n",
        "\n",
        "![Many to Many](images/many-to-many.png)"
      ]
    },
    {
      "cell_type": "markdown",
      "metadata": {
        "id": "4aWH_hIcbd8Y"
      },
      "source": [
        "## 2.1) Define the 3D targets for training, validation and testing"
      ]
    },
    {
      "cell_type": "code",
      "execution_count": null,
      "metadata": {
        "id": "K3_bq_v_bd8Y",
        "colab": {
          "base_uri": "https://localhost:8080/"
        },
        "outputId": "6f31781f-d36d-47ca-b336-a597c752bc6e"
      },
      "outputs": [
        {
          "output_type": "execute_result",
          "data": {
            "text/plain": [
              "(725, 30, 1)"
            ]
          },
          "metadata": {},
          "execution_count": 36
        }
      ],
      "source": [
        "Y = add_lags(temps, times=range(-24, 5+1)).iloc[30:-5]\n",
        "Y_train = Y.loc[train_slice]\n",
        "Y_valid = Y.loc[valid_slice]\n",
        "Y_test = Y.loc[test_slice]\n",
        "Y_train_3D = multilevel_df_to_ndarray(Y_train)\n",
        "Y_valid_3D = multilevel_df_to_ndarray(Y_valid)\n",
        "Y_test_3D = multilevel_df_to_ndarray(Y_test)\n",
        "Y_test_3D.shape"
      ]
    },
    {
      "cell_type": "markdown",
      "metadata": {
        "id": "zFh2hD1Ubd8a"
      },
      "source": [
        "## 2.2) Define an `mae_last_step()` function"
      ]
    },
    {
      "cell_type": "markdown",
      "metadata": {
        "id": "YAr2ZogTbd8a"
      },
      "source": [
        "For the final evaluation, we only want to look at the final time step (t+5). Create an `mae_last_step()` function that computes the MAE based on the final time step."
      ]
    },
    {
      "cell_type": "code",
      "execution_count": null,
      "metadata": {
        "id": "U-0JCIOSbd8b"
      },
      "outputs": [],
      "source": [
        "K = keras.backend\n",
        "\n",
        "def mae_last_step(Y_true, Y_pred):\n",
        "    return K.mean(K.abs(Y_pred[:, -1] - Y_true[:, -1]))"
      ]
    },
    {
      "cell_type": "markdown",
      "metadata": {
        "id": "m6fBSk-Dbd8c"
      },
      "source": [
        "## 2.3) Build a Seq2Seq model\n",
        "\n",
        "Build a Seq2Seq model and compile it, using the Huber Loss, and using the last step MAE as the metric. Use SGD with a learning rate of 0.01. \n",
        "\n",
        ">Hint: the layers are the same as earlier, except that the last RNN layer has `return_sequences=True`."
      ]
    },
    {
      "cell_type": "code",
      "execution_count": null,
      "metadata": {
        "id": "eoVdaUpsbd8c"
      },
      "outputs": [],
      "source": [
        "modelSeq2Seq = keras.models.Sequential()\n",
        "modelSeq2Seq.add(keras.layers.SimpleRNN(units=100,input_shape=input_shape,return_sequences=True))\n",
        "modelSeq2Seq.add(keras.layers.SimpleRNN(units=100,return_sequences=True))\n",
        "modelSeq2Seq.add(keras.layers.Dense(1))\n",
        "\n",
        "modelSeq2Seq.compile(loss = 'MAE', optimizer=keras.optimizers.SGD(learning_rate=0.01), metrics=[mae_last_step])"
      ]
    },
    {
      "cell_type": "markdown",
      "metadata": {
        "id": "fsqSnjw_bd8d"
      },
      "source": [
        "## 2.4) Train the model\n",
        "\n",
        "Fit the model as earlier (but with the 3D targets). Again, evaluate the model and plot the predictions."
      ]
    },
    {
      "cell_type": "code",
      "execution_count": null,
      "metadata": {
        "id": "0yM7GVXubd8e",
        "colab": {
          "base_uri": "https://localhost:8080/"
        },
        "outputId": "3a196e42-0871-4821-aabd-dc88eae9d0ca"
      },
      "outputs": [
        {
          "output_type": "stream",
          "name": "stdout",
          "text": [
            "Epoch 1/200\n",
            "11/11 [==============================] - 4s 82ms/step - loss: 5.4639 - mae_last_step: 5.2705 - val_loss: 3.0935 - val_mae_last_step: 3.0129\n",
            "Epoch 2/200\n",
            "11/11 [==============================] - 1s 48ms/step - loss: 3.1956 - mae_last_step: 3.0807 - val_loss: 2.8436 - val_mae_last_step: 2.7908\n",
            "Epoch 3/200\n",
            "11/11 [==============================] - 1s 50ms/step - loss: 3.0225 - mae_last_step: 2.9242 - val_loss: 2.6917 - val_mae_last_step: 2.6549\n",
            "Epoch 4/200\n",
            "11/11 [==============================] - 1s 48ms/step - loss: 2.8427 - mae_last_step: 2.7448 - val_loss: 2.5347 - val_mae_last_step: 2.4966\n",
            "Epoch 5/200\n",
            "11/11 [==============================] - 1s 48ms/step - loss: 2.7047 - mae_last_step: 2.6102 - val_loss: 2.4939 - val_mae_last_step: 2.4410\n",
            "Epoch 6/200\n",
            "11/11 [==============================] - 1s 47ms/step - loss: 2.6845 - mae_last_step: 2.6068 - val_loss: 2.4560 - val_mae_last_step: 2.4479\n",
            "Epoch 7/200\n",
            "11/11 [==============================] - 1s 56ms/step - loss: 2.6366 - mae_last_step: 2.5394 - val_loss: 2.4120 - val_mae_last_step: 2.3609\n",
            "Epoch 8/200\n",
            "11/11 [==============================] - 1s 51ms/step - loss: 2.5319 - mae_last_step: 2.4270 - val_loss: 2.4273 - val_mae_last_step: 2.4281\n",
            "Epoch 9/200\n",
            "11/11 [==============================] - 1s 51ms/step - loss: 2.5652 - mae_last_step: 2.4965 - val_loss: 2.5063 - val_mae_last_step: 2.4448\n",
            "Epoch 10/200\n",
            "11/11 [==============================] - 1s 48ms/step - loss: 2.5182 - mae_last_step: 2.4420 - val_loss: 2.3756 - val_mae_last_step: 2.3306\n",
            "Epoch 11/200\n",
            "11/11 [==============================] - 1s 49ms/step - loss: 2.5680 - mae_last_step: 2.4835 - val_loss: 2.4235 - val_mae_last_step: 2.4358\n",
            "Epoch 12/200\n",
            "11/11 [==============================] - 1s 47ms/step - loss: 2.4995 - mae_last_step: 2.4084 - val_loss: 2.3467 - val_mae_last_step: 2.3284\n",
            "Epoch 13/200\n",
            "11/11 [==============================] - 1s 50ms/step - loss: 2.4748 - mae_last_step: 2.3941 - val_loss: 2.4305 - val_mae_last_step: 2.3812\n",
            "Epoch 14/200\n",
            "11/11 [==============================] - 1s 49ms/step - loss: 2.4580 - mae_last_step: 2.3706 - val_loss: 2.3344 - val_mae_last_step: 2.3132\n",
            "Epoch 15/200\n",
            "11/11 [==============================] - 1s 50ms/step - loss: 2.4331 - mae_last_step: 2.3484 - val_loss: 2.3366 - val_mae_last_step: 2.3234\n",
            "Epoch 16/200\n",
            "11/11 [==============================] - 1s 51ms/step - loss: 2.4334 - mae_last_step: 2.3476 - val_loss: 2.3834 - val_mae_last_step: 2.3921\n",
            "Epoch 17/200\n",
            "11/11 [==============================] - 1s 55ms/step - loss: 2.5150 - mae_last_step: 2.4509 - val_loss: 2.3699 - val_mae_last_step: 2.3389\n",
            "Epoch 18/200\n",
            "11/11 [==============================] - 1s 50ms/step - loss: 2.4387 - mae_last_step: 2.3646 - val_loss: 2.3249 - val_mae_last_step: 2.3079\n",
            "Epoch 19/200\n",
            "11/11 [==============================] - 1s 48ms/step - loss: 2.4250 - mae_last_step: 2.3501 - val_loss: 2.3201 - val_mae_last_step: 2.3055\n",
            "Epoch 20/200\n",
            "11/11 [==============================] - 1s 50ms/step - loss: 2.4187 - mae_last_step: 2.3405 - val_loss: 2.3985 - val_mae_last_step: 2.4131\n",
            "Epoch 21/200\n",
            "11/11 [==============================] - 1s 46ms/step - loss: 2.5235 - mae_last_step: 2.4286 - val_loss: 2.3246 - val_mae_last_step: 2.3115\n",
            "Epoch 22/200\n",
            "11/11 [==============================] - 1s 51ms/step - loss: 2.4136 - mae_last_step: 2.3351 - val_loss: 2.3179 - val_mae_last_step: 2.3090\n",
            "Epoch 23/200\n",
            "11/11 [==============================] - 1s 48ms/step - loss: 2.4188 - mae_last_step: 2.3507 - val_loss: 2.4706 - val_mae_last_step: 2.4446\n",
            "Epoch 24/200\n",
            "11/11 [==============================] - 1s 50ms/step - loss: 2.4490 - mae_last_step: 2.3800 - val_loss: 2.3142 - val_mae_last_step: 2.3055\n",
            "Epoch 25/200\n",
            "11/11 [==============================] - 1s 49ms/step - loss: 2.4126 - mae_last_step: 2.3530 - val_loss: 2.3888 - val_mae_last_step: 2.3997\n",
            "Epoch 26/200\n",
            "11/11 [==============================] - 1s 53ms/step - loss: 2.4645 - mae_last_step: 2.3930 - val_loss: 2.3135 - val_mae_last_step: 2.3040\n",
            "Epoch 27/200\n",
            "11/11 [==============================] - 1s 52ms/step - loss: 2.4039 - mae_last_step: 2.3344 - val_loss: 2.3128 - val_mae_last_step: 2.3038\n",
            "Epoch 28/200\n",
            "11/11 [==============================] - 1s 53ms/step - loss: 2.4026 - mae_last_step: 2.3327 - val_loss: 2.3100 - val_mae_last_step: 2.3007\n",
            "Epoch 29/200\n",
            "11/11 [==============================] - 1s 53ms/step - loss: 2.3994 - mae_last_step: 2.3397 - val_loss: 2.3096 - val_mae_last_step: 2.3001\n",
            "Epoch 30/200\n",
            "11/11 [==============================] - 1s 47ms/step - loss: 2.3955 - mae_last_step: 2.3283 - val_loss: 2.3105 - val_mae_last_step: 2.3006\n",
            "Epoch 31/200\n",
            "11/11 [==============================] - 1s 52ms/step - loss: 2.4775 - mae_last_step: 2.4282 - val_loss: 2.4704 - val_mae_last_step: 2.4895\n",
            "Epoch 32/200\n",
            "11/11 [==============================] - 1s 49ms/step - loss: 2.4199 - mae_last_step: 2.3447 - val_loss: 2.3107 - val_mae_last_step: 2.3036\n",
            "Epoch 33/200\n",
            "11/11 [==============================] - 1s 51ms/step - loss: 2.3964 - mae_last_step: 2.3292 - val_loss: 2.3090 - val_mae_last_step: 2.3023\n",
            "Epoch 34/200\n",
            "11/11 [==============================] - 1s 48ms/step - loss: 2.3940 - mae_last_step: 2.3284 - val_loss: 2.3154 - val_mae_last_step: 2.3077\n",
            "Epoch 35/200\n",
            "11/11 [==============================] - 1s 57ms/step - loss: 2.4043 - mae_last_step: 2.3354 - val_loss: 2.3467 - val_mae_last_step: 2.3468\n",
            "Epoch 36/200\n",
            "11/11 [==============================] - 1s 95ms/step - loss: 2.4023 - mae_last_step: 2.3474 - val_loss: 2.3058 - val_mae_last_step: 2.2977\n",
            "Epoch 37/200\n",
            "11/11 [==============================] - 1s 63ms/step - loss: 2.3971 - mae_last_step: 2.3469 - val_loss: 2.3113 - val_mae_last_step: 2.3053\n",
            "Epoch 38/200\n",
            "11/11 [==============================] - 1s 47ms/step - loss: 2.3950 - mae_last_step: 2.3349 - val_loss: 2.3167 - val_mae_last_step: 2.3109\n",
            "Epoch 39/200\n",
            "11/11 [==============================] - 1s 49ms/step - loss: 2.3923 - mae_last_step: 2.3176 - val_loss: 2.3080 - val_mae_last_step: 2.3007\n",
            "Epoch 40/200\n",
            "11/11 [==============================] - 1s 48ms/step - loss: 2.3875 - mae_last_step: 2.3321 - val_loss: 2.3089 - val_mae_last_step: 2.3018\n",
            "Epoch 41/200\n",
            "11/11 [==============================] - 1s 54ms/step - loss: 2.4614 - mae_last_step: 2.4295 - val_loss: 2.4377 - val_mae_last_step: 2.4470\n",
            "Epoch 42/200\n",
            "11/11 [==============================] - 1s 75ms/step - loss: 2.4335 - mae_last_step: 2.3665 - val_loss: 2.3074 - val_mae_last_step: 2.3007\n",
            "Epoch 43/200\n",
            "11/11 [==============================] - 1s 76ms/step - loss: 2.3910 - mae_last_step: 2.3241 - val_loss: 2.3106 - val_mae_last_step: 2.3072\n",
            "Epoch 44/200\n",
            "11/11 [==============================] - 1s 49ms/step - loss: 2.3945 - mae_last_step: 2.3363 - val_loss: 2.3059 - val_mae_last_step: 2.2992\n",
            "Epoch 45/200\n",
            "11/11 [==============================] - 1s 49ms/step - loss: 2.4169 - mae_last_step: 2.3552 - val_loss: 2.4042 - val_mae_last_step: 2.4133\n",
            "Epoch 46/200\n",
            "11/11 [==============================] - 1s 46ms/step - loss: 2.4398 - mae_last_step: 2.3913 - val_loss: 2.3014 - val_mae_last_step: 2.2954\n",
            "Epoch 47/200\n",
            "11/11 [==============================] - 1s 53ms/step - loss: 2.3843 - mae_last_step: 2.3244 - val_loss: 2.3096 - val_mae_last_step: 2.3051\n",
            "Epoch 48/200\n",
            "11/11 [==============================] - 1s 47ms/step - loss: 2.3845 - mae_last_step: 2.3205 - val_loss: 2.3030 - val_mae_last_step: 2.2972\n",
            "Epoch 49/200\n",
            "11/11 [==============================] - 1s 49ms/step - loss: 2.3841 - mae_last_step: 2.3186 - val_loss: 2.2994 - val_mae_last_step: 2.2914\n",
            "Epoch 50/200\n",
            "11/11 [==============================] - 1s 55ms/step - loss: 2.4000 - mae_last_step: 2.3265 - val_loss: 2.3267 - val_mae_last_step: 2.3226\n",
            "Epoch 51/200\n",
            "11/11 [==============================] - 1s 49ms/step - loss: 2.3899 - mae_last_step: 2.3364 - val_loss: 2.2979 - val_mae_last_step: 2.2885\n",
            "Epoch 52/200\n",
            "11/11 [==============================] - 1s 50ms/step - loss: 2.3803 - mae_last_step: 2.3173 - val_loss: 2.2971 - val_mae_last_step: 2.2892\n",
            "Epoch 53/200\n",
            "11/11 [==============================] - 1s 52ms/step - loss: 2.3812 - mae_last_step: 2.3178 - val_loss: 2.2953 - val_mae_last_step: 2.2862\n",
            "Epoch 54/200\n",
            "11/11 [==============================] - 1s 51ms/step - loss: 2.3821 - mae_last_step: 2.3236 - val_loss: 2.3013 - val_mae_last_step: 2.2936\n",
            "Epoch 55/200\n",
            "11/11 [==============================] - 1s 49ms/step - loss: 2.4710 - mae_last_step: 2.4326 - val_loss: 2.3608 - val_mae_last_step: 2.3528\n",
            "Epoch 56/200\n",
            "11/11 [==============================] - 1s 48ms/step - loss: 2.4185 - mae_last_step: 2.3463 - val_loss: 2.2954 - val_mae_last_step: 2.2892\n",
            "Epoch 57/200\n",
            "11/11 [==============================] - 1s 52ms/step - loss: 2.3820 - mae_last_step: 2.3192 - val_loss: 2.2948 - val_mae_last_step: 2.2873\n",
            "Epoch 58/200\n",
            "11/11 [==============================] - 1s 53ms/step - loss: 2.3830 - mae_last_step: 2.3331 - val_loss: 2.2965 - val_mae_last_step: 2.2889\n",
            "Epoch 59/200\n",
            "11/11 [==============================] - 1s 48ms/step - loss: 2.3784 - mae_last_step: 2.3166 - val_loss: 2.2976 - val_mae_last_step: 2.2914\n",
            "Epoch 60/200\n",
            "11/11 [==============================] - 1s 50ms/step - loss: 2.3782 - mae_last_step: 2.3193 - val_loss: 2.3157 - val_mae_last_step: 2.3103\n",
            "Epoch 61/200\n",
            "11/11 [==============================] - 1s 51ms/step - loss: 2.4131 - mae_last_step: 2.3519 - val_loss: 2.3348 - val_mae_last_step: 2.3295\n",
            "Epoch 62/200\n",
            "11/11 [==============================] - 1s 50ms/step - loss: 2.4116 - mae_last_step: 2.3768 - val_loss: 2.2924 - val_mae_last_step: 2.2847\n",
            "Epoch 63/200\n",
            "11/11 [==============================] - 1s 48ms/step - loss: 2.3756 - mae_last_step: 2.3221 - val_loss: 2.3022 - val_mae_last_step: 2.2952\n",
            "Epoch 64/200\n",
            "11/11 [==============================] - 1s 56ms/step - loss: 2.3755 - mae_last_step: 2.3154 - val_loss: 2.2967 - val_mae_last_step: 2.2892\n",
            "Epoch 65/200\n",
            "11/11 [==============================] - 1s 47ms/step - loss: 2.3808 - mae_last_step: 2.3245 - val_loss: 2.3286 - val_mae_last_step: 2.3242\n",
            "Epoch 66/200\n",
            "11/11 [==============================] - 1s 48ms/step - loss: 2.3890 - mae_last_step: 2.3405 - val_loss: 2.2985 - val_mae_last_step: 2.2925\n",
            "Epoch 67/200\n",
            "11/11 [==============================] - 1s 50ms/step - loss: 2.3853 - mae_last_step: 2.3285 - val_loss: 2.3817 - val_mae_last_step: 2.3758\n",
            "Epoch 68/200\n",
            "11/11 [==============================] - 1s 48ms/step - loss: 2.4440 - mae_last_step: 2.3975 - val_loss: 2.2912 - val_mae_last_step: 2.2842\n",
            "Epoch 69/200\n",
            "11/11 [==============================] - 1s 50ms/step - loss: 2.3863 - mae_last_step: 2.3329 - val_loss: 2.3246 - val_mae_last_step: 2.3175\n",
            "Epoch 70/200\n",
            "11/11 [==============================] - 1s 47ms/step - loss: 2.3760 - mae_last_step: 2.3255 - val_loss: 2.3042 - val_mae_last_step: 2.2973\n",
            "Epoch 71/200\n",
            "11/11 [==============================] - 1s 50ms/step - loss: 2.3808 - mae_last_step: 2.3281 - val_loss: 2.2882 - val_mae_last_step: 2.2785\n",
            "Epoch 72/200\n",
            "11/11 [==============================] - 1s 50ms/step - loss: 2.3707 - mae_last_step: 2.3116 - val_loss: 2.2919 - val_mae_last_step: 2.2827\n",
            "Epoch 73/200\n",
            "11/11 [==============================] - 1s 49ms/step - loss: 2.3713 - mae_last_step: 2.3113 - val_loss: 2.3071 - val_mae_last_step: 2.2974\n",
            "Epoch 74/200\n",
            "11/11 [==============================] - 1s 48ms/step - loss: 2.4532 - mae_last_step: 2.3844 - val_loss: 2.2930 - val_mae_last_step: 2.2866\n",
            "Epoch 75/200\n",
            "11/11 [==============================] - 1s 53ms/step - loss: 2.3772 - mae_last_step: 2.3124 - val_loss: 2.3009 - val_mae_last_step: 2.2936\n",
            "Epoch 76/200\n",
            "11/11 [==============================] - 1s 49ms/step - loss: 2.3726 - mae_last_step: 2.2944 - val_loss: 2.2858 - val_mae_last_step: 2.2760\n",
            "Epoch 77/200\n",
            "11/11 [==============================] - 1s 49ms/step - loss: 2.3850 - mae_last_step: 2.3180 - val_loss: 2.3269 - val_mae_last_step: 2.3221\n",
            "Epoch 78/200\n",
            "11/11 [==============================] - 1s 47ms/step - loss: 2.3859 - mae_last_step: 2.3236 - val_loss: 2.2865 - val_mae_last_step: 2.2774\n",
            "Epoch 79/200\n",
            "11/11 [==============================] - 1s 49ms/step - loss: 2.3695 - mae_last_step: 2.3106 - val_loss: 2.3009 - val_mae_last_step: 2.2941\n",
            "Epoch 80/200\n",
            "11/11 [==============================] - 1s 51ms/step - loss: 2.3703 - mae_last_step: 2.3110 - val_loss: 2.2883 - val_mae_last_step: 2.2791\n",
            "Epoch 81/200\n",
            "11/11 [==============================] - 1s 117ms/step - loss: 2.3762 - mae_last_step: 2.3099 - val_loss: 2.3148 - val_mae_last_step: 2.3059\n",
            "Epoch 82/200\n",
            "11/11 [==============================] - 1s 116ms/step - loss: 2.3846 - mae_last_step: 2.3195 - val_loss: 2.2892 - val_mae_last_step: 2.2800\n",
            "Epoch 83/200\n",
            "11/11 [==============================] - 1s 54ms/step - loss: 2.3811 - mae_last_step: 2.3299 - val_loss: 2.3294 - val_mae_last_step: 2.3219\n",
            "Epoch 84/200\n",
            "11/11 [==============================] - 1s 49ms/step - loss: 2.4497 - mae_last_step: 2.3873 - val_loss: 2.2865 - val_mae_last_step: 2.2777\n",
            "Epoch 85/200\n",
            "11/11 [==============================] - 1s 64ms/step - loss: 2.3665 - mae_last_step: 2.3044 - val_loss: 2.2852 - val_mae_last_step: 2.2764\n",
            "Epoch 86/200\n",
            "11/11 [==============================] - 1s 84ms/step - loss: 2.3675 - mae_last_step: 2.3113 - val_loss: 2.2822 - val_mae_last_step: 2.2705\n",
            "Epoch 87/200\n",
            "11/11 [==============================] - 1s 110ms/step - loss: 2.3696 - mae_last_step: 2.3101 - val_loss: 2.2867 - val_mae_last_step: 2.2769\n",
            "Epoch 88/200\n",
            "11/11 [==============================] - 1s 48ms/step - loss: 2.3777 - mae_last_step: 2.3215 - val_loss: 2.3451 - val_mae_last_step: 2.3417\n",
            "Epoch 89/200\n",
            "11/11 [==============================] - 1s 49ms/step - loss: 2.3853 - mae_last_step: 2.3444 - val_loss: 2.2841 - val_mae_last_step: 2.2706\n",
            "Epoch 90/200\n",
            "11/11 [==============================] - 1s 49ms/step - loss: 2.3676 - mae_last_step: 2.3025 - val_loss: 2.2832 - val_mae_last_step: 2.2705\n",
            "Epoch 91/200\n",
            "11/11 [==============================] - 1s 46ms/step - loss: 2.3879 - mae_last_step: 2.3201 - val_loss: 2.3903 - val_mae_last_step: 2.3866\n",
            "Epoch 92/200\n",
            "11/11 [==============================] - 1s 57ms/step - loss: 2.4233 - mae_last_step: 2.3702 - val_loss: 2.3084 - val_mae_last_step: 2.3004\n",
            "Epoch 93/200\n",
            "11/11 [==============================] - 1s 49ms/step - loss: 2.3690 - mae_last_step: 2.3159 - val_loss: 2.2845 - val_mae_last_step: 2.2727\n",
            "Epoch 94/200\n",
            "11/11 [==============================] - 1s 55ms/step - loss: 2.3680 - mae_last_step: 2.3069 - val_loss: 2.3001 - val_mae_last_step: 2.2917\n",
            "Epoch 95/200\n",
            "11/11 [==============================] - 1s 50ms/step - loss: 2.3899 - mae_last_step: 2.3486 - val_loss: 2.2861 - val_mae_last_step: 2.2757\n",
            "Epoch 96/200\n",
            "11/11 [==============================] - 1s 46ms/step - loss: 2.3617 - mae_last_step: 2.3090 - val_loss: 2.2816 - val_mae_last_step: 2.2683\n",
            "Epoch 97/200\n",
            "11/11 [==============================] - 1s 54ms/step - loss: 2.3646 - mae_last_step: 2.3052 - val_loss: 2.2772 - val_mae_last_step: 2.2637\n",
            "Epoch 98/200\n",
            "11/11 [==============================] - 1s 53ms/step - loss: 2.3768 - mae_last_step: 2.3305 - val_loss: 2.2961 - val_mae_last_step: 2.2850\n",
            "Epoch 99/200\n",
            "11/11 [==============================] - 1s 46ms/step - loss: 2.3637 - mae_last_step: 2.3071 - val_loss: 2.3021 - val_mae_last_step: 2.2920\n",
            "Epoch 100/200\n",
            "11/11 [==============================] - 1s 49ms/step - loss: 2.4147 - mae_last_step: 2.3559 - val_loss: 2.3426 - val_mae_last_step: 2.3364\n",
            "Epoch 101/200\n",
            "11/11 [==============================] - 1s 48ms/step - loss: 2.3868 - mae_last_step: 2.3167 - val_loss: 2.3025 - val_mae_last_step: 2.2924\n",
            "Epoch 102/200\n",
            "11/11 [==============================] - 1s 51ms/step - loss: 2.3742 - mae_last_step: 2.3142 - val_loss: 2.2794 - val_mae_last_step: 2.2685\n",
            "Epoch 103/200\n",
            "11/11 [==============================] - 1s 52ms/step - loss: 2.3694 - mae_last_step: 2.3103 - val_loss: 2.2976 - val_mae_last_step: 2.2862\n",
            "Epoch 104/200\n",
            "11/11 [==============================] - 1s 49ms/step - loss: 2.3852 - mae_last_step: 2.3248 - val_loss: 2.3153 - val_mae_last_step: 2.3079\n",
            "Epoch 105/200\n",
            "11/11 [==============================] - 1s 52ms/step - loss: 2.3766 - mae_last_step: 2.3144 - val_loss: 2.2773 - val_mae_last_step: 2.2641\n",
            "Epoch 106/200\n",
            "11/11 [==============================] - 1s 47ms/step - loss: 2.3594 - mae_last_step: 2.2968 - val_loss: 2.2845 - val_mae_last_step: 2.2742\n",
            "Epoch 107/200\n",
            "11/11 [==============================] - 1s 49ms/step - loss: 2.3577 - mae_last_step: 2.2967 - val_loss: 2.2776 - val_mae_last_step: 2.2632\n",
            "Epoch 108/200\n",
            "11/11 [==============================] - 1s 48ms/step - loss: 2.3588 - mae_last_step: 2.3144 - val_loss: 2.2853 - val_mae_last_step: 2.2682\n",
            "Epoch 109/200\n",
            "11/11 [==============================] - 1s 49ms/step - loss: 2.3564 - mae_last_step: 2.2944 - val_loss: 2.2733 - val_mae_last_step: 2.2580\n",
            "Epoch 110/200\n",
            "11/11 [==============================] - 1s 54ms/step - loss: 2.3980 - mae_last_step: 2.3449 - val_loss: 2.3808 - val_mae_last_step: 2.3817\n",
            "Epoch 111/200\n",
            "11/11 [==============================] - 1s 50ms/step - loss: 2.4396 - mae_last_step: 2.3846 - val_loss: 2.2797 - val_mae_last_step: 2.2690\n",
            "Epoch 112/200\n",
            "11/11 [==============================] - 1s 50ms/step - loss: 2.3618 - mae_last_step: 2.2951 - val_loss: 2.2883 - val_mae_last_step: 2.2765\n",
            "Epoch 113/200\n",
            "11/11 [==============================] - 1s 50ms/step - loss: 2.3595 - mae_last_step: 2.2899 - val_loss: 2.2739 - val_mae_last_step: 2.2595\n",
            "Epoch 114/200\n",
            "11/11 [==============================] - 1s 49ms/step - loss: 2.3873 - mae_last_step: 2.3385 - val_loss: 2.2776 - val_mae_last_step: 2.2647\n",
            "Epoch 115/200\n",
            "11/11 [==============================] - 1s 50ms/step - loss: 2.3583 - mae_last_step: 2.2988 - val_loss: 2.2757 - val_mae_last_step: 2.2623\n",
            "Epoch 116/200\n",
            "11/11 [==============================] - 1s 49ms/step - loss: 2.3553 - mae_last_step: 2.2957 - val_loss: 2.3158 - val_mae_last_step: 2.3082\n",
            "Epoch 117/200\n",
            "11/11 [==============================] - 1s 47ms/step - loss: 2.4229 - mae_last_step: 2.3767 - val_loss: 2.2796 - val_mae_last_step: 2.2673\n",
            "Epoch 118/200\n",
            "11/11 [==============================] - 1s 52ms/step - loss: 2.3570 - mae_last_step: 2.2996 - val_loss: 2.2804 - val_mae_last_step: 2.2667\n",
            "Epoch 119/200\n",
            "11/11 [==============================] - 1s 50ms/step - loss: 2.3542 - mae_last_step: 2.3041 - val_loss: 2.2768 - val_mae_last_step: 2.2635\n",
            "Epoch 120/200\n",
            "11/11 [==============================] - 1s 53ms/step - loss: 2.3542 - mae_last_step: 2.2996 - val_loss: 2.2739 - val_mae_last_step: 2.2587\n",
            "Epoch 121/200\n",
            "11/11 [==============================] - 1s 50ms/step - loss: 2.3736 - mae_last_step: 2.3028 - val_loss: 2.2803 - val_mae_last_step: 2.2639\n",
            "Epoch 122/200\n",
            "11/11 [==============================] - 1s 50ms/step - loss: 2.3579 - mae_last_step: 2.2957 - val_loss: 2.2769 - val_mae_last_step: 2.2627\n",
            "Epoch 123/200\n",
            "11/11 [==============================] - 1s 50ms/step - loss: 2.3549 - mae_last_step: 2.2902 - val_loss: 2.2888 - val_mae_last_step: 2.2778\n",
            "Epoch 124/200\n",
            "11/11 [==============================] - 1s 53ms/step - loss: 2.3635 - mae_last_step: 2.3129 - val_loss: 2.3437 - val_mae_last_step: 2.3389\n",
            "Epoch 125/200\n",
            "11/11 [==============================] - 1s 50ms/step - loss: 2.3865 - mae_last_step: 2.2993 - val_loss: 2.2780 - val_mae_last_step: 2.2648\n",
            "Epoch 126/200\n",
            "11/11 [==============================] - 1s 49ms/step - loss: 2.3520 - mae_last_step: 2.2984 - val_loss: 2.2719 - val_mae_last_step: 2.2566\n",
            "Epoch 127/200\n",
            "11/11 [==============================] - 1s 52ms/step - loss: 2.4006 - mae_last_step: 2.3239 - val_loss: 2.3208 - val_mae_last_step: 2.3135\n",
            "Epoch 128/200\n",
            "11/11 [==============================] - 1s 48ms/step - loss: 2.3761 - mae_last_step: 2.3241 - val_loss: 2.2699 - val_mae_last_step: 2.2548\n",
            "Epoch 129/200\n",
            "11/11 [==============================] - 1s 47ms/step - loss: 2.3593 - mae_last_step: 2.2934 - val_loss: 2.2999 - val_mae_last_step: 2.2861\n",
            "Epoch 130/200\n",
            "11/11 [==============================] - 1s 49ms/step - loss: 2.3638 - mae_last_step: 2.2880 - val_loss: 2.2786 - val_mae_last_step: 2.2658\n",
            "Epoch 131/200\n",
            "11/11 [==============================] - 1s 51ms/step - loss: 2.3599 - mae_last_step: 2.3055 - val_loss: 2.2704 - val_mae_last_step: 2.2536\n",
            "Epoch 132/200\n",
            "11/11 [==============================] - 1s 50ms/step - loss: 2.3505 - mae_last_step: 2.2867 - val_loss: 2.2709 - val_mae_last_step: 2.2566\n",
            "Epoch 133/200\n",
            "11/11 [==============================] - 1s 49ms/step - loss: 2.3513 - mae_last_step: 2.2914 - val_loss: 2.2733 - val_mae_last_step: 2.2556\n",
            "Epoch 134/200\n",
            "11/11 [==============================] - 1s 49ms/step - loss: 2.4140 - mae_last_step: 2.3416 - val_loss: 2.3046 - val_mae_last_step: 2.2971\n",
            "Epoch 135/200\n",
            "11/11 [==============================] - 1s 77ms/step - loss: 2.3890 - mae_last_step: 2.3396 - val_loss: 2.2809 - val_mae_last_step: 2.2674\n",
            "Epoch 136/200\n",
            "11/11 [==============================] - 1s 97ms/step - loss: 2.3601 - mae_last_step: 2.2884 - val_loss: 2.2745 - val_mae_last_step: 2.2614\n",
            "Epoch 137/200\n",
            "11/11 [==============================] - 1s 79ms/step - loss: 2.3804 - mae_last_step: 2.3192 - val_loss: 2.2744 - val_mae_last_step: 2.2626\n",
            "Epoch 138/200\n",
            "11/11 [==============================] - 1s 51ms/step - loss: 2.3518 - mae_last_step: 2.2922 - val_loss: 2.2707 - val_mae_last_step: 2.2576\n",
            "Epoch 139/200\n",
            "11/11 [==============================] - 1s 51ms/step - loss: 2.3564 - mae_last_step: 2.3048 - val_loss: 2.2939 - val_mae_last_step: 2.2820\n",
            "Epoch 140/200\n",
            "11/11 [==============================] - 1s 51ms/step - loss: 2.3592 - mae_last_step: 2.3024 - val_loss: 2.2879 - val_mae_last_step: 2.2742\n",
            "Epoch 141/200\n",
            "11/11 [==============================] - 1s 51ms/step - loss: 2.3539 - mae_last_step: 2.2938 - val_loss: 2.3058 - val_mae_last_step: 2.2961\n",
            "Epoch 142/200\n",
            "11/11 [==============================] - 1s 50ms/step - loss: 2.3706 - mae_last_step: 2.3136 - val_loss: 2.3658 - val_mae_last_step: 2.3661\n",
            "Epoch 143/200\n",
            "11/11 [==============================] - 1s 51ms/step - loss: 2.3594 - mae_last_step: 2.3037 - val_loss: 2.2891 - val_mae_last_step: 2.2784\n",
            "Epoch 144/200\n",
            "11/11 [==============================] - 1s 54ms/step - loss: 2.3524 - mae_last_step: 2.2969 - val_loss: 2.2647 - val_mae_last_step: 2.2479\n",
            "Epoch 145/200\n",
            "11/11 [==============================] - 1s 54ms/step - loss: 2.3466 - mae_last_step: 2.2875 - val_loss: 2.2689 - val_mae_last_step: 2.2523\n",
            "Epoch 146/200\n",
            "11/11 [==============================] - 1s 49ms/step - loss: 2.3908 - mae_last_step: 2.3429 - val_loss: 2.3164 - val_mae_last_step: 2.3055\n",
            "Epoch 147/200\n",
            "11/11 [==============================] - 1s 52ms/step - loss: 2.3570 - mae_last_step: 2.2988 - val_loss: 2.2658 - val_mae_last_step: 2.2512\n",
            "Epoch 148/200\n",
            "11/11 [==============================] - 1s 48ms/step - loss: 2.3482 - mae_last_step: 2.2960 - val_loss: 2.2641 - val_mae_last_step: 2.2475\n",
            "Epoch 149/200\n",
            "11/11 [==============================] - 1s 48ms/step - loss: 2.3885 - mae_last_step: 2.3313 - val_loss: 2.3002 - val_mae_last_step: 2.2878\n",
            "Epoch 150/200\n",
            "11/11 [==============================] - 1s 50ms/step - loss: 2.3776 - mae_last_step: 2.3056 - val_loss: 2.2772 - val_mae_last_step: 2.2628\n",
            "Epoch 151/200\n",
            "11/11 [==============================] - 1s 48ms/step - loss: 2.3584 - mae_last_step: 2.3068 - val_loss: 2.2697 - val_mae_last_step: 2.2559\n",
            "Epoch 152/200\n",
            "11/11 [==============================] - 1s 50ms/step - loss: 2.3496 - mae_last_step: 2.2966 - val_loss: 2.2885 - val_mae_last_step: 2.2754\n",
            "Epoch 153/200\n",
            "11/11 [==============================] - 1s 51ms/step - loss: 2.3558 - mae_last_step: 2.2866 - val_loss: 2.2738 - val_mae_last_step: 2.2584\n",
            "Epoch 154/200\n",
            "11/11 [==============================] - 1s 51ms/step - loss: 2.3554 - mae_last_step: 2.3130 - val_loss: 2.2945 - val_mae_last_step: 2.2792\n",
            "Epoch 155/200\n",
            "11/11 [==============================] - 1s 50ms/step - loss: 2.3508 - mae_last_step: 2.2856 - val_loss: 2.2712 - val_mae_last_step: 2.2538\n",
            "Epoch 156/200\n",
            "11/11 [==============================] - 1s 50ms/step - loss: 2.3550 - mae_last_step: 2.2849 - val_loss: 2.3487 - val_mae_last_step: 2.3379\n",
            "Epoch 157/200\n",
            "11/11 [==============================] - 1s 54ms/step - loss: 2.3817 - mae_last_step: 2.3141 - val_loss: 2.2760 - val_mae_last_step: 2.2635\n",
            "Epoch 158/200\n",
            "11/11 [==============================] - 1s 52ms/step - loss: 2.3509 - mae_last_step: 2.2931 - val_loss: 2.2950 - val_mae_last_step: 2.2797\n",
            "Epoch 159/200\n",
            "11/11 [==============================] - 1s 52ms/step - loss: 2.4085 - mae_last_step: 2.3441 - val_loss: 2.3345 - val_mae_last_step: 2.3256\n",
            "Epoch 160/200\n",
            "11/11 [==============================] - 1s 50ms/step - loss: 2.3736 - mae_last_step: 2.3139 - val_loss: 2.2662 - val_mae_last_step: 2.2518\n",
            "Epoch 161/200\n",
            "11/11 [==============================] - 1s 53ms/step - loss: 2.3530 - mae_last_step: 2.2906 - val_loss: 2.2705 - val_mae_last_step: 2.2565\n",
            "Epoch 162/200\n",
            "11/11 [==============================] - 1s 48ms/step - loss: 2.3465 - mae_last_step: 2.2752 - val_loss: 2.2645 - val_mae_last_step: 2.2486\n",
            "Epoch 163/200\n",
            "11/11 [==============================] - 1s 50ms/step - loss: 2.3555 - mae_last_step: 2.2979 - val_loss: 2.3925 - val_mae_last_step: 2.3882\n",
            "Epoch 164/200\n",
            "11/11 [==============================] - 1s 50ms/step - loss: 2.3648 - mae_last_step: 2.2989 - val_loss: 2.2636 - val_mae_last_step: 2.2475\n",
            "Epoch 165/200\n",
            "11/11 [==============================] - 1s 53ms/step - loss: 2.3624 - mae_last_step: 2.3044 - val_loss: 2.2878 - val_mae_last_step: 2.2736\n",
            "Epoch 166/200\n",
            "11/11 [==============================] - 1s 53ms/step - loss: 2.3897 - mae_last_step: 2.3332 - val_loss: 2.3471 - val_mae_last_step: 2.3379\n",
            "Epoch 167/200\n",
            "11/11 [==============================] - 1s 53ms/step - loss: 2.3539 - mae_last_step: 2.2835 - val_loss: 2.2709 - val_mae_last_step: 2.2566\n",
            "Epoch 168/200\n",
            "11/11 [==============================] - 1s 50ms/step - loss: 2.3476 - mae_last_step: 2.2930 - val_loss: 2.2753 - val_mae_last_step: 2.2619\n",
            "Epoch 169/200\n",
            "11/11 [==============================] - 1s 53ms/step - loss: 2.3452 - mae_last_step: 2.2819 - val_loss: 2.2726 - val_mae_last_step: 2.2579\n",
            "Epoch 170/200\n",
            "11/11 [==============================] - 1s 53ms/step - loss: 2.3511 - mae_last_step: 2.2831 - val_loss: 2.3044 - val_mae_last_step: 2.2954\n",
            "Epoch 171/200\n",
            "11/11 [==============================] - 1s 50ms/step - loss: 2.3797 - mae_last_step: 2.3270 - val_loss: 2.2697 - val_mae_last_step: 2.2551\n",
            "Epoch 172/200\n",
            "11/11 [==============================] - 1s 52ms/step - loss: 2.3514 - mae_last_step: 2.2913 - val_loss: 2.2829 - val_mae_last_step: 2.2672\n",
            "Epoch 173/200\n",
            "11/11 [==============================] - 1s 50ms/step - loss: 2.3572 - mae_last_step: 2.3009 - val_loss: 2.2614 - val_mae_last_step: 2.2444\n",
            "Epoch 174/200\n",
            "11/11 [==============================] - 1s 51ms/step - loss: 2.3457 - mae_last_step: 2.2849 - val_loss: 2.2645 - val_mae_last_step: 2.2478\n",
            "Epoch 175/200\n",
            "11/11 [==============================] - 1s 53ms/step - loss: 2.3625 - mae_last_step: 2.3045 - val_loss: 2.3007 - val_mae_last_step: 2.2858\n",
            "Epoch 176/200\n",
            "11/11 [==============================] - 1s 50ms/step - loss: 2.3760 - mae_last_step: 2.3387 - val_loss: 2.2634 - val_mae_last_step: 2.2482\n",
            "Epoch 177/200\n",
            "11/11 [==============================] - 1s 55ms/step - loss: 2.3461 - mae_last_step: 2.2981 - val_loss: 2.2761 - val_mae_last_step: 2.2612\n",
            "Epoch 178/200\n",
            "11/11 [==============================] - 1s 54ms/step - loss: 2.3897 - mae_last_step: 2.3150 - val_loss: 2.3534 - val_mae_last_step: 2.3462\n",
            "Epoch 179/200\n",
            "11/11 [==============================] - 1s 50ms/step - loss: 2.3619 - mae_last_step: 2.3075 - val_loss: 2.2780 - val_mae_last_step: 2.2665\n",
            "Epoch 180/200\n",
            "11/11 [==============================] - 1s 50ms/step - loss: 2.3452 - mae_last_step: 2.2897 - val_loss: 2.2635 - val_mae_last_step: 2.2491\n",
            "Epoch 181/200\n",
            "11/11 [==============================] - 1s 51ms/step - loss: 2.3403 - mae_last_step: 2.2716 - val_loss: 2.2648 - val_mae_last_step: 2.2500\n",
            "Epoch 182/200\n",
            "11/11 [==============================] - 1s 52ms/step - loss: 2.3398 - mae_last_step: 2.2808 - val_loss: 2.2609 - val_mae_last_step: 2.2440\n",
            "Epoch 183/200\n",
            "11/11 [==============================] - 1s 50ms/step - loss: 2.3770 - mae_last_step: 2.3046 - val_loss: 2.2768 - val_mae_last_step: 2.2613\n",
            "Epoch 184/200\n",
            "11/11 [==============================] - 1s 53ms/step - loss: 2.3634 - mae_last_step: 2.3026 - val_loss: 2.2760 - val_mae_last_step: 2.2646\n",
            "Epoch 185/200\n",
            "11/11 [==============================] - 1s 53ms/step - loss: 2.3677 - mae_last_step: 2.3111 - val_loss: 2.2756 - val_mae_last_step: 2.2622\n",
            "Epoch 186/200\n",
            "11/11 [==============================] - 1s 51ms/step - loss: 2.3429 - mae_last_step: 2.2779 - val_loss: 2.2607 - val_mae_last_step: 2.2440\n",
            "Epoch 187/200\n",
            "11/11 [==============================] - 1s 50ms/step - loss: 2.3448 - mae_last_step: 2.2951 - val_loss: 2.2746 - val_mae_last_step: 2.2603\n",
            "Epoch 188/200\n",
            "11/11 [==============================] - 1s 49ms/step - loss: 2.3607 - mae_last_step: 2.2970 - val_loss: 2.2641 - val_mae_last_step: 2.2477\n",
            "Epoch 189/200\n",
            "11/11 [==============================] - 1s 49ms/step - loss: 2.3421 - mae_last_step: 2.2798 - val_loss: 2.2743 - val_mae_last_step: 2.2581\n",
            "Epoch 190/200\n",
            "11/11 [==============================] - 1s 46ms/step - loss: 2.3697 - mae_last_step: 2.3225 - val_loss: 2.2694 - val_mae_last_step: 2.2570\n",
            "Epoch 191/200\n",
            "11/11 [==============================] - 1s 49ms/step - loss: 2.3408 - mae_last_step: 2.2833 - val_loss: 2.2705 - val_mae_last_step: 2.2563\n",
            "Epoch 192/200\n",
            "11/11 [==============================] - 1s 49ms/step - loss: 2.3683 - mae_last_step: 2.3076 - val_loss: 2.2676 - val_mae_last_step: 2.2548\n",
            "Epoch 193/200\n",
            "11/11 [==============================] - 1s 48ms/step - loss: 2.3417 - mae_last_step: 2.2847 - val_loss: 2.2601 - val_mae_last_step: 2.2442\n",
            "Epoch 194/200\n",
            "11/11 [==============================] - 1s 46ms/step - loss: 2.3448 - mae_last_step: 2.2812 - val_loss: 2.2904 - val_mae_last_step: 2.2757\n",
            "Epoch 195/200\n",
            "11/11 [==============================] - 1s 51ms/step - loss: 2.3513 - mae_last_step: 2.2768 - val_loss: 2.2694 - val_mae_last_step: 2.2545\n",
            "Epoch 196/200\n",
            "11/11 [==============================] - 1s 58ms/step - loss: 2.3670 - mae_last_step: 2.3068 - val_loss: 2.2611 - val_mae_last_step: 2.2449\n",
            "Epoch 197/200\n",
            "11/11 [==============================] - 1s 53ms/step - loss: 2.3372 - mae_last_step: 2.2761 - val_loss: 2.2653 - val_mae_last_step: 2.2500\n",
            "Epoch 198/200\n",
            "11/11 [==============================] - 1s 49ms/step - loss: 2.3610 - mae_last_step: 2.2873 - val_loss: 2.2814 - val_mae_last_step: 2.2672\n",
            "Epoch 199/200\n",
            "11/11 [==============================] - 1s 50ms/step - loss: 2.3616 - mae_last_step: 2.3093 - val_loss: 2.2656 - val_mae_last_step: 2.2491\n",
            "Epoch 200/200\n",
            "11/11 [==============================] - 1s 52ms/step - loss: 2.3418 - mae_last_step: 2.2830 - val_loss: 2.2589 - val_mae_last_step: 2.2414\n"
          ]
        }
      ],
      "source": [
        "historySeq2Seq = modelSeq2Seq.fit(X_train_3D, \n",
        "                                  Y_train_3D, \n",
        "                                  epochs=200, \n",
        "                                  batch_size=200,\n",
        "                                  validation_data=(X_valid_3D, Y_valid_3D))"
      ]
    },
    {
      "cell_type": "code",
      "execution_count": null,
      "metadata": {
        "id": "meEio8yybd8f",
        "colab": {
          "base_uri": "https://localhost:8080/",
          "height": 265
        },
        "outputId": "e9ff630f-f79c-4b34-cd5d-f1c73ea6ba8a"
      },
      "outputs": [
        {
          "output_type": "display_data",
          "data": {
            "text/plain": [
              "<Figure size 432x288 with 1 Axes>"
            ],
            "image/png": "[encoded data removed]"
          },
          "metadata": {
            "needs_background": "light"
          }
        }
      ],
      "source": [
        "plot_history(historySeq2Seq, variable=\"mae_last_step\")"
      ]
    },
    {
      "cell_type": "code",
      "execution_count": null,
      "metadata": {
        "id": "Y5I3bgQfbd8l",
        "colab": {
          "base_uri": "https://localhost:8080/"
        },
        "outputId": "5e6724cf-6554-4ddb-d114-d7e4aef1d288"
      },
      "outputs": [
        {
          "output_type": "stream",
          "name": "stdout",
          "text": [
            "23/23 [==============================] - 0s 8ms/step - loss: 2.3343 - mae_last_step: 2.0964\n"
          ]
        },
        {
          "output_type": "execute_result",
          "data": {
            "text/plain": [
              "[2.334320545196533, 2.096449136734009]"
            ]
          },
          "metadata": {},
          "execution_count": 44
        }
      ],
      "source": [
        "score_seq2seq = modelSeq2Seq.evaluate(X_test_3D, y_test)\n",
        "score_seq2seq"
      ]
    },
    {
      "cell_type": "code",
      "execution_count": null,
      "metadata": {
        "id": "YwK2sabEbd8n",
        "colab": {
          "base_uri": "https://localhost:8080/"
        },
        "outputId": "21dd2e77-cab4-4d91-9ebf-540a639b6e4a"
      },
      "outputs": [
        {
          "output_type": "stream",
          "name": "stdout",
          "text": [
            "23/23 [==============================] - 0s 7ms/step\n"
          ]
        }
      ],
      "source": [
        "y_pred_seq2seq = modelSeq2Seq.predict(X_test_3D)[:, -1]"
      ]
    },
    {
      "cell_type": "code",
      "execution_count": null,
      "metadata": {
        "id": "fHMU7NcMlJvp",
        "colab": {
          "base_uri": "https://localhost:8080/"
        },
        "outputId": "7c55b5f9-1f3c-4ce7-ba2a-20b590f5e8de"
      },
      "outputs": [
        {
          "output_type": "stream",
          "name": "stdout",
          "text": [
            "23/23 [==============================] - 0s 6ms/step\n"
          ]
        },
        {
          "output_type": "execute_result",
          "data": {
            "text/plain": [
              "(725, 30, 1)"
            ]
          },
          "metadata": {},
          "execution_count": 46
        }
      ],
      "source": [
        "modelSeq2Seq.predict(X_test_3D).shape"
      ]
    },
    {
      "cell_type": "code",
      "execution_count": null,
      "metadata": {
        "id": "OcfxWkR4lPcR",
        "colab": {
          "base_uri": "https://localhost:8080/"
        },
        "outputId": "87c251af-d2a4-42ed-f260-07cd8518a3eb"
      },
      "outputs": [
        {
          "output_type": "execute_result",
          "data": {
            "text/plain": [
              "(725, 1)"
            ]
          },
          "metadata": {},
          "execution_count": 47
        }
      ],
      "source": [
        "y_pred_seq2seq.shape"
      ]
    },
    {
      "cell_type": "code",
      "execution_count": null,
      "metadata": {
        "id": "2ppPNF7mbd8o",
        "colab": {
          "base_uri": "https://localhost:8080/",
          "height": 320
        },
        "outputId": "2d81af06-de17-4687-a560-e05fbbeec526"
      },
      "outputs": [
        {
          "output_type": "display_data",
          "data": {
            "text/plain": [
              "<Figure size 720x360 with 1 Axes>"
            ],
            "image/png": "[encoded data removed]"
          },
          "metadata": {
            "needs_background": "light"
          }
        }
      ],
      "source": [
        "plot_predictions((\"Target\", y_test),\n",
        "                 (\"Linear\", y_pred_linear),\n",
        "                 (\"RNN Seq2Seq\", y_pred_seq2seq),\n",
        "                 end=365)"
      ]
    },
    {
      "cell_type": "markdown",
      "metadata": {
        "id": "db-xTnvYbd8q"
      },
      "source": [
        "# 3 – LSTM and GRU"
      ]
    },
    {
      "cell_type": "markdown",
      "metadata": {
        "id": "g3slzQqybd8q"
      },
      "source": [
        "## 3.1) Build, train and evaluate a Seq2Seq LSTM"
      ]
    },
    {
      "cell_type": "markdown",
      "metadata": {
        "id": "YP_NCCmmbd8q"
      },
      "source": [
        "Train the same model as earlier but using `LSTM` or `GRU` instead of `SimpleRNN`. You can also try reducing the learning rate when the validation loss reaches a plateau, using the `ReduceLROnPlateau` callback.\n",
        "\n",
        "You can try replacing `LSTM` with `GRU`."
      ]
    },
    {
      "cell_type": "code",
      "execution_count": null,
      "metadata": {
        "id": "0nXJs06Bbd8r"
      },
      "outputs": [],
      "source": [
        "modelSeq2SeqLSTM = keras.models.Sequential()\n",
        "\n",
        "modelSeq2SeqLSTM.add(keras.layers.LSTM(units=100,input_shape=input_shape,return_sequences=True))\n",
        "modelSeq2SeqLSTM.add(keras.layers.LSTM(units=100,return_sequences=True))\n",
        "modelSeq2SeqLSTM.add(keras.layers.Dense(1))\n",
        "\n",
        "modelSeq2SeqLSTM.compile(loss=huber_loss, optimizer=keras.optimizers.SGD(learning_rate=0.01),\n",
        "               metrics=[mae_last_step])"
      ]
    },
    {
      "cell_type": "code",
      "execution_count": null,
      "metadata": {
        "id": "kPGcwn-xbd8s",
        "colab": {
          "base_uri": "https://localhost:8080/"
        },
        "outputId": "7da737ea-95b6-438e-b3de-0ac39c333db2"
      },
      "outputs": [
        {
          "output_type": "stream",
          "name": "stdout",
          "text": [
            "Epoch 1/200\n",
            "11/11 [==============================] - 7s 88ms/step - loss: 8.9854 - mae_last_step: 9.1242 - val_loss: 7.4500 - val_mae_last_step: 7.4307 - lr: 0.0100\n",
            "Epoch 2/200\n",
            "11/11 [==============================] - 0s 15ms/step - loss: 5.9802 - mae_last_step: 5.7100 - val_loss: 4.8827 - val_mae_last_step: 4.6609 - lr: 0.0100\n",
            "Epoch 3/200\n",
            "11/11 [==============================] - 0s 15ms/step - loss: 4.1040 - mae_last_step: 3.8451 - val_loss: 3.4746 - val_mae_last_step: 3.2731 - lr: 0.0100\n",
            "Epoch 4/200\n",
            "11/11 [==============================] - 0s 14ms/step - loss: 3.3387 - mae_last_step: 3.2051 - val_loss: 3.0092 - val_mae_last_step: 2.9128 - lr: 0.0100\n",
            "Epoch 5/200\n",
            "11/11 [==============================] - 0s 13ms/step - loss: 3.1363 - mae_last_step: 3.1061 - val_loss: 2.8798 - val_mae_last_step: 2.8510 - lr: 0.0100\n",
            "Epoch 6/200\n",
            "11/11 [==============================] - 0s 13ms/step - loss: 3.0755 - mae_last_step: 3.1176 - val_loss: 2.8303 - val_mae_last_step: 2.8327 - lr: 0.0100\n",
            "Epoch 7/200\n",
            "11/11 [==============================] - 0s 12ms/step - loss: 3.0386 - mae_last_step: 3.0895 - val_loss: 2.7946 - val_mae_last_step: 2.8112 - lr: 0.0100\n",
            "Epoch 8/200\n",
            "11/11 [==============================] - 0s 12ms/step - loss: 2.9982 - mae_last_step: 3.0617 - val_loss: 2.7556 - val_mae_last_step: 2.7729 - lr: 0.0100\n",
            "Epoch 9/200\n",
            "11/11 [==============================] - 0s 12ms/step - loss: 2.9408 - mae_last_step: 2.9776 - val_loss: 2.6925 - val_mae_last_step: 2.6931 - lr: 0.0100\n",
            "Epoch 10/200\n",
            "11/11 [==============================] - 0s 12ms/step - loss: 2.8238 - mae_last_step: 2.8260 - val_loss: 2.6024 - val_mae_last_step: 2.5907 - lr: 0.0100\n",
            "Epoch 11/200\n",
            "11/11 [==============================] - 0s 12ms/step - loss: 2.6803 - mae_last_step: 2.6454 - val_loss: 2.4181 - val_mae_last_step: 2.3630 - lr: 0.0100\n",
            "Epoch 12/200\n",
            "11/11 [==============================] - 0s 12ms/step - loss: 2.5837 - mae_last_step: 2.5922 - val_loss: 2.3955 - val_mae_last_step: 2.3760 - lr: 0.0100\n",
            "Epoch 13/200\n",
            "11/11 [==============================] - 0s 12ms/step - loss: 2.5312 - mae_last_step: 2.5425 - val_loss: 2.3415 - val_mae_last_step: 2.4840 - lr: 0.0100\n",
            "Epoch 14/200\n",
            "11/11 [==============================] - 0s 12ms/step - loss: 2.4795 - mae_last_step: 2.4994 - val_loss: 2.4039 - val_mae_last_step: 2.6598 - lr: 0.0100\n",
            "Epoch 15/200\n",
            "11/11 [==============================] - 0s 12ms/step - loss: 2.4105 - mae_last_step: 2.4392 - val_loss: 2.2094 - val_mae_last_step: 2.2492 - lr: 0.0100\n",
            "Epoch 16/200\n",
            "11/11 [==============================] - 0s 12ms/step - loss: 2.3690 - mae_last_step: 2.4048 - val_loss: 2.2177 - val_mae_last_step: 2.3521 - lr: 0.0100\n",
            "Epoch 17/200\n",
            "11/11 [==============================] - 0s 11ms/step - loss: 2.3554 - mae_last_step: 2.4165 - val_loss: 2.1766 - val_mae_last_step: 2.2805 - lr: 0.0100\n",
            "Epoch 18/200\n",
            "11/11 [==============================] - 0s 12ms/step - loss: 2.2721 - mae_last_step: 2.3349 - val_loss: 2.2777 - val_mae_last_step: 2.3585 - lr: 0.0100\n",
            "Epoch 19/200\n",
            "11/11 [==============================] - 0s 12ms/step - loss: 2.3137 - mae_last_step: 2.3881 - val_loss: 2.1807 - val_mae_last_step: 2.3685 - lr: 0.0100\n",
            "Epoch 20/200\n",
            "11/11 [==============================] - 0s 12ms/step - loss: 2.2540 - mae_last_step: 2.3425 - val_loss: 2.1265 - val_mae_last_step: 2.2406 - lr: 0.0100\n",
            "Epoch 21/200\n",
            "11/11 [==============================] - 0s 25ms/step - loss: 2.2445 - mae_last_step: 2.3494 - val_loss: 2.1246 - val_mae_last_step: 2.2308 - lr: 0.0100\n",
            "Epoch 22/200\n",
            "11/11 [==============================] - 0s 30ms/step - loss: 2.2341 - mae_last_step: 2.3294 - val_loss: 2.1444 - val_mae_last_step: 2.3459 - lr: 0.0100\n",
            "Epoch 23/200\n",
            "11/11 [==============================] - 0s 24ms/step - loss: 2.2402 - mae_last_step: 2.3715 - val_loss: 2.0990 - val_mae_last_step: 2.2424 - lr: 0.0100\n",
            "Epoch 24/200\n",
            "11/11 [==============================] - 0s 20ms/step - loss: 2.1879 - mae_last_step: 2.3028 - val_loss: 2.1083 - val_mae_last_step: 2.2996 - lr: 0.0100\n",
            "Epoch 25/200\n",
            "11/11 [==============================] - 0s 14ms/step - loss: 2.2027 - mae_last_step: 2.3314 - val_loss: 2.1001 - val_mae_last_step: 2.2378 - lr: 0.0100\n",
            "Epoch 26/200\n",
            "11/11 [==============================] - 0s 12ms/step - loss: 2.1860 - mae_last_step: 2.3173 - val_loss: 2.0803 - val_mae_last_step: 2.2394 - lr: 0.0100\n",
            "Epoch 27/200\n",
            "11/11 [==============================] - 0s 17ms/step - loss: 2.1828 - mae_last_step: 2.3358 - val_loss: 2.1246 - val_mae_last_step: 2.3673 - lr: 0.0100\n",
            "Epoch 28/200\n",
            "11/11 [==============================] - 0s 11ms/step - loss: 2.1667 - mae_last_step: 2.3261 - val_loss: 2.0690 - val_mae_last_step: 2.2395 - lr: 0.0100\n",
            "Epoch 29/200\n",
            "11/11 [==============================] - 0s 12ms/step - loss: 2.1624 - mae_last_step: 2.3021 - val_loss: 2.0982 - val_mae_last_step: 2.3354 - lr: 0.0100\n",
            "Epoch 30/200\n",
            "11/11 [==============================] - 0s 11ms/step - loss: 2.1558 - mae_last_step: 2.3254 - val_loss: 2.0547 - val_mae_last_step: 2.2506 - lr: 0.0100\n",
            "Epoch 31/200\n",
            "11/11 [==============================] - 0s 12ms/step - loss: 2.1407 - mae_last_step: 2.2996 - val_loss: 2.0592 - val_mae_last_step: 2.2430 - lr: 0.0100\n",
            "Epoch 32/200\n",
            "11/11 [==============================] - 0s 12ms/step - loss: 2.1451 - mae_last_step: 2.3015 - val_loss: 2.0722 - val_mae_last_step: 2.3085 - lr: 0.0100\n",
            "Epoch 33/200\n",
            "11/11 [==============================] - 0s 14ms/step - loss: 2.1466 - mae_last_step: 2.3154 - val_loss: 2.0426 - val_mae_last_step: 2.2374 - lr: 0.0100\n",
            "Epoch 34/200\n",
            "11/11 [==============================] - 0s 12ms/step - loss: 2.1259 - mae_last_step: 2.2974 - val_loss: 2.0447 - val_mae_last_step: 2.2730 - lr: 0.0100\n",
            "Epoch 35/200\n",
            "11/11 [==============================] - 0s 11ms/step - loss: 2.1285 - mae_last_step: 2.3142 - val_loss: 2.0296 - val_mae_last_step: 2.2463 - lr: 0.0100\n",
            "Epoch 36/200\n",
            "11/11 [==============================] - 0s 12ms/step - loss: 2.1206 - mae_last_step: 2.3177 - val_loss: 2.0416 - val_mae_last_step: 2.2451 - lr: 0.0100\n",
            "Epoch 37/200\n",
            "11/11 [==============================] - 0s 11ms/step - loss: 2.1133 - mae_last_step: 2.3006 - val_loss: 2.0298 - val_mae_last_step: 2.2649 - lr: 0.0100\n",
            "Epoch 38/200\n",
            "11/11 [==============================] - 0s 11ms/step - loss: 2.1036 - mae_last_step: 2.2935 - val_loss: 2.0306 - val_mae_last_step: 2.2455 - lr: 0.0100\n",
            "Epoch 39/200\n",
            "11/11 [==============================] - 0s 11ms/step - loss: 2.1022 - mae_last_step: 2.3058 - val_loss: 2.0122 - val_mae_last_step: 2.2382 - lr: 0.0100\n",
            "Epoch 40/200\n",
            "11/11 [==============================] - 0s 13ms/step - loss: 2.1139 - mae_last_step: 2.3015 - val_loss: 2.0482 - val_mae_last_step: 2.3130 - lr: 0.0100\n",
            "Epoch 41/200\n",
            "11/11 [==============================] - 0s 12ms/step - loss: 2.1084 - mae_last_step: 2.3185 - val_loss: 2.0816 - val_mae_last_step: 2.3132 - lr: 0.0100\n",
            "Epoch 42/200\n",
            "11/11 [==============================] - 0s 11ms/step - loss: 2.1003 - mae_last_step: 2.3123 - val_loss: 2.0564 - val_mae_last_step: 2.3344 - lr: 0.0100\n",
            "Epoch 43/200\n",
            "11/11 [==============================] - 0s 12ms/step - loss: 2.1147 - mae_last_step: 2.3335 - val_loss: 2.0214 - val_mae_last_step: 2.2560 - lr: 0.0100\n",
            "Epoch 44/200\n",
            "11/11 [==============================] - 0s 11ms/step - loss: 2.0950 - mae_last_step: 2.3256 - val_loss: 2.0048 - val_mae_last_step: 2.2589 - lr: 0.0100\n",
            "Epoch 45/200\n",
            "11/11 [==============================] - 0s 12ms/step - loss: 2.0809 - mae_last_step: 2.2934 - val_loss: 2.0235 - val_mae_last_step: 2.2917 - lr: 0.0100\n",
            "Epoch 46/200\n",
            "11/11 [==============================] - 0s 12ms/step - loss: 2.0894 - mae_last_step: 2.2966 - val_loss: 1.9905 - val_mae_last_step: 2.2445 - lr: 0.0100\n",
            "Epoch 47/200\n",
            "11/11 [==============================] - 0s 13ms/step - loss: 2.0945 - mae_last_step: 2.3085 - val_loss: 1.9932 - val_mae_last_step: 2.2405 - lr: 0.0100\n",
            "Epoch 48/200\n",
            "11/11 [==============================] - 0s 11ms/step - loss: 2.0710 - mae_last_step: 2.2901 - val_loss: 2.0109 - val_mae_last_step: 2.2819 - lr: 0.0100\n",
            "Epoch 49/200\n",
            "11/11 [==============================] - 0s 11ms/step - loss: 2.0757 - mae_last_step: 2.3090 - val_loss: 1.9849 - val_mae_last_step: 2.2455 - lr: 0.0100\n",
            "Epoch 50/200\n",
            "11/11 [==============================] - 0s 12ms/step - loss: 2.0689 - mae_last_step: 2.3139 - val_loss: 1.9778 - val_mae_last_step: 2.2378 - lr: 0.0100\n",
            "Epoch 51/200\n",
            "11/11 [==============================] - 0s 12ms/step - loss: 2.0595 - mae_last_step: 2.2944 - val_loss: 1.9823 - val_mae_last_step: 2.2454 - lr: 0.0100\n",
            "Epoch 52/200\n",
            "11/11 [==============================] - 0s 19ms/step - loss: 2.0658 - mae_last_step: 2.3035 - val_loss: 1.9850 - val_mae_last_step: 2.2551 - lr: 0.0100\n",
            "Epoch 53/200\n",
            "11/11 [==============================] - 0s 11ms/step - loss: 2.0531 - mae_last_step: 2.2900 - val_loss: 1.9709 - val_mae_last_step: 2.2411 - lr: 0.0100\n",
            "Epoch 54/200\n",
            "11/11 [==============================] - 0s 16ms/step - loss: 2.0622 - mae_last_step: 2.3192 - val_loss: 1.9781 - val_mae_last_step: 2.2484 - lr: 0.0100\n",
            "Epoch 55/200\n",
            "11/11 [==============================] - 0s 11ms/step - loss: 2.0506 - mae_last_step: 2.2899 - val_loss: 1.9657 - val_mae_last_step: 2.2418 - lr: 0.0100\n",
            "Epoch 56/200\n",
            "11/11 [==============================] - 0s 11ms/step - loss: 2.0518 - mae_last_step: 2.2889 - val_loss: 2.0155 - val_mae_last_step: 2.3012 - lr: 0.0100\n",
            "Epoch 57/200\n",
            "11/11 [==============================] - 0s 11ms/step - loss: 2.0625 - mae_last_step: 2.3179 - val_loss: 1.9723 - val_mae_last_step: 2.2522 - lr: 0.0100\n",
            "Epoch 58/200\n",
            "11/11 [==============================] - 0s 11ms/step - loss: 2.0570 - mae_last_step: 2.3059 - val_loss: 1.9637 - val_mae_last_step: 2.2412 - lr: 0.0100\n",
            "Epoch 59/200\n",
            "11/11 [==============================] - 0s 12ms/step - loss: 2.0424 - mae_last_step: 2.2902 - val_loss: 1.9685 - val_mae_last_step: 2.2504 - lr: 0.0100\n",
            "Epoch 60/200\n",
            "11/11 [==============================] - 0s 11ms/step - loss: 2.0376 - mae_last_step: 2.2960 - val_loss: 1.9774 - val_mae_last_step: 2.2642 - lr: 0.0100\n",
            "Epoch 61/200\n",
            "11/11 [==============================] - 0s 12ms/step - loss: 2.0509 - mae_last_step: 2.3227 - val_loss: 1.9987 - val_mae_last_step: 2.2926 - lr: 0.0100\n",
            "Epoch 62/200\n",
            "11/11 [==============================] - 0s 12ms/step - loss: 2.0553 - mae_last_step: 2.3264 - val_loss: 1.9760 - val_mae_last_step: 2.2655 - lr: 0.0100\n",
            "Epoch 63/200\n",
            "11/11 [==============================] - 0s 12ms/step - loss: 2.0511 - mae_last_step: 2.3002 - val_loss: 1.9477 - val_mae_last_step: 2.2355 - lr: 0.0100\n",
            "Epoch 64/200\n",
            "11/11 [==============================] - 0s 11ms/step - loss: 2.0394 - mae_last_step: 2.2831 - val_loss: 1.9533 - val_mae_last_step: 2.2460 - lr: 0.0100\n",
            "Epoch 65/200\n",
            "11/11 [==============================] - 0s 12ms/step - loss: 2.0283 - mae_last_step: 2.2722 - val_loss: 1.9452 - val_mae_last_step: 2.2397 - lr: 0.0100\n",
            "Epoch 66/200\n",
            "11/11 [==============================] - 0s 12ms/step - loss: 2.0229 - mae_last_step: 2.2764 - val_loss: 1.9613 - val_mae_last_step: 2.2522 - lr: 0.0100\n",
            "Epoch 67/200\n",
            "11/11 [==============================] - 0s 12ms/step - loss: 2.0276 - mae_last_step: 2.2865 - val_loss: 1.9497 - val_mae_last_step: 2.2432 - lr: 0.0100\n",
            "Epoch 68/200\n",
            "11/11 [==============================] - 0s 13ms/step - loss: 2.0453 - mae_last_step: 2.3213 - val_loss: 1.9471 - val_mae_last_step: 2.2476 - lr: 0.0100\n",
            "Epoch 69/200\n",
            "11/11 [==============================] - 0s 12ms/step - loss: 2.0257 - mae_last_step: 2.2754 - val_loss: 1.9717 - val_mae_last_step: 2.2700 - lr: 0.0100\n",
            "Epoch 70/200\n",
            "11/11 [==============================] - 0s 12ms/step - loss: 2.0334 - mae_last_step: 2.3111 - val_loss: 1.9456 - val_mae_last_step: 2.2469 - lr: 0.0100\n",
            "Epoch 71/200\n",
            "11/11 [==============================] - 0s 13ms/step - loss: 2.0236 - mae_last_step: 2.2967 - val_loss: 1.9591 - val_mae_last_step: 2.2698 - lr: 0.0100\n",
            "Epoch 72/200\n",
            "11/11 [==============================] - 0s 11ms/step - loss: 2.0309 - mae_last_step: 2.3099 - val_loss: 1.9703 - val_mae_last_step: 2.2753 - lr: 0.0100\n",
            "Epoch 73/200\n",
            "11/11 [==============================] - 0s 12ms/step - loss: 2.0361 - mae_last_step: 2.3040 - val_loss: 1.9321 - val_mae_last_step: 2.2368 - lr: 0.0100\n",
            "Epoch 74/200\n",
            "11/11 [==============================] - 0s 12ms/step - loss: 2.0133 - mae_last_step: 2.2818 - val_loss: 1.9371 - val_mae_last_step: 2.2399 - lr: 0.0100\n",
            "Epoch 75/200\n",
            "11/11 [==============================] - 0s 12ms/step - loss: 2.0151 - mae_last_step: 2.2923 - val_loss: 1.9303 - val_mae_last_step: 2.2399 - lr: 0.0100\n",
            "Epoch 76/200\n",
            "11/11 [==============================] - 0s 13ms/step - loss: 2.0065 - mae_last_step: 2.2762 - val_loss: 1.9279 - val_mae_last_step: 2.2381 - lr: 0.0100\n",
            "Epoch 77/200\n",
            "11/11 [==============================] - 0s 19ms/step - loss: 2.0181 - mae_last_step: 2.2947 - val_loss: 1.9292 - val_mae_last_step: 2.2345 - lr: 0.0100\n",
            "Epoch 78/200\n",
            "11/11 [==============================] - 0s 17ms/step - loss: 2.0027 - mae_last_step: 2.2741 - val_loss: 1.9266 - val_mae_last_step: 2.2412 - lr: 0.0100\n",
            "Epoch 79/200\n",
            "11/11 [==============================] - 0s 21ms/step - loss: 2.0056 - mae_last_step: 2.2926 - val_loss: 1.9215 - val_mae_last_step: 2.2346 - lr: 0.0100\n",
            "Epoch 80/200\n",
            "11/11 [==============================] - 0s 12ms/step - loss: 2.0333 - mae_last_step: 2.3158 - val_loss: 1.9508 - val_mae_last_step: 2.2599 - lr: 0.0100\n",
            "Epoch 81/200\n",
            "11/11 [==============================] - 0s 13ms/step - loss: 2.0035 - mae_last_step: 2.2958 - val_loss: 1.9366 - val_mae_last_step: 2.2463 - lr: 0.0100\n",
            "Epoch 82/200\n",
            "11/11 [==============================] - 0s 13ms/step - loss: 2.0097 - mae_last_step: 2.3015 - val_loss: 1.9181 - val_mae_last_step: 2.2355 - lr: 0.0100\n",
            "Epoch 83/200\n",
            "11/11 [==============================] - 0s 12ms/step - loss: 2.0238 - mae_last_step: 2.2961 - val_loss: 1.9453 - val_mae_last_step: 2.2581 - lr: 0.0100\n",
            "Epoch 84/200\n",
            "11/11 [==============================] - 0s 12ms/step - loss: 2.0081 - mae_last_step: 2.2899 - val_loss: 1.9143 - val_mae_last_step: 2.2313 - lr: 0.0100\n",
            "Epoch 85/200\n",
            "11/11 [==============================] - 0s 12ms/step - loss: 1.9982 - mae_last_step: 2.2925 - val_loss: 1.9493 - val_mae_last_step: 2.2633 - lr: 0.0100\n",
            "Epoch 86/200\n",
            "11/11 [==============================] - 0s 13ms/step - loss: 2.0046 - mae_last_step: 2.2853 - val_loss: 1.9137 - val_mae_last_step: 2.2317 - lr: 0.0100\n",
            "Epoch 87/200\n",
            "11/11 [==============================] - 0s 12ms/step - loss: 1.9913 - mae_last_step: 2.2826 - val_loss: 1.9190 - val_mae_last_step: 2.2366 - lr: 0.0100\n",
            "Epoch 88/200\n",
            "11/11 [==============================] - 0s 11ms/step - loss: 1.9908 - mae_last_step: 2.2803 - val_loss: 1.9183 - val_mae_last_step: 2.2346 - lr: 0.0100\n",
            "Epoch 89/200\n",
            "11/11 [==============================] - 0s 12ms/step - loss: 1.9984 - mae_last_step: 2.3036 - val_loss: 1.9103 - val_mae_last_step: 2.2370 - lr: 0.0100\n",
            "Epoch 90/200\n",
            "11/11 [==============================] - 0s 14ms/step - loss: 1.9908 - mae_last_step: 2.2884 - val_loss: 1.9145 - val_mae_last_step: 2.2459 - lr: 0.0100\n",
            "Epoch 91/200\n",
            "11/11 [==============================] - 0s 11ms/step - loss: 2.0101 - mae_last_step: 2.3018 - val_loss: 1.9182 - val_mae_last_step: 2.2410 - lr: 0.0100\n",
            "Epoch 92/200\n",
            "11/11 [==============================] - 0s 11ms/step - loss: 1.9867 - mae_last_step: 2.2838 - val_loss: 1.9135 - val_mae_last_step: 2.2348 - lr: 0.0100\n",
            "Epoch 93/200\n",
            "11/11 [==============================] - 0s 13ms/step - loss: 1.9864 - mae_last_step: 2.2829 - val_loss: 1.9034 - val_mae_last_step: 2.2316 - lr: 0.0100\n",
            "Epoch 94/200\n",
            "11/11 [==============================] - 0s 12ms/step - loss: 1.9911 - mae_last_step: 2.2819 - val_loss: 1.9200 - val_mae_last_step: 2.2619 - lr: 0.0100\n",
            "Epoch 95/200\n",
            "11/11 [==============================] - 0s 11ms/step - loss: 2.0037 - mae_last_step: 2.3000 - val_loss: 1.9054 - val_mae_last_step: 2.2299 - lr: 0.0100\n",
            "Epoch 96/200\n",
            "11/11 [==============================] - 0s 17ms/step - loss: 1.9838 - mae_last_step: 2.2759 - val_loss: 1.9204 - val_mae_last_step: 2.2655 - lr: 0.0100\n",
            "Epoch 97/200\n",
            "11/11 [==============================] - 0s 19ms/step - loss: 1.9845 - mae_last_step: 2.2995 - val_loss: 1.9007 - val_mae_last_step: 2.2328 - lr: 0.0100\n",
            "Epoch 98/200\n",
            "11/11 [==============================] - 0s 18ms/step - loss: 1.9934 - mae_last_step: 2.3008 - val_loss: 1.9176 - val_mae_last_step: 2.2416 - lr: 0.0100\n",
            "Epoch 99/200\n",
            "11/11 [==============================] - 0s 16ms/step - loss: 2.0081 - mae_last_step: 2.2957 - val_loss: 1.9091 - val_mae_last_step: 2.2526 - lr: 0.0100\n",
            "Epoch 100/200\n",
            "11/11 [==============================] - 0s 12ms/step - loss: 1.9818 - mae_last_step: 2.2857 - val_loss: 1.8964 - val_mae_last_step: 2.2286 - lr: 0.0100\n",
            "Epoch 101/200\n",
            "11/11 [==============================] - 0s 12ms/step - loss: 1.9857 - mae_last_step: 2.2883 - val_loss: 1.9685 - val_mae_last_step: 2.2976 - lr: 0.0100\n",
            "Epoch 102/200\n",
            "11/11 [==============================] - 0s 12ms/step - loss: 1.9958 - mae_last_step: 2.2949 - val_loss: 1.8987 - val_mae_last_step: 2.2401 - lr: 0.0100\n",
            "Epoch 103/200\n",
            "11/11 [==============================] - 0s 12ms/step - loss: 1.9852 - mae_last_step: 2.2873 - val_loss: 1.9045 - val_mae_last_step: 2.2376 - lr: 0.0100\n",
            "Epoch 104/200\n",
            "11/11 [==============================] - 0s 13ms/step - loss: 1.9763 - mae_last_step: 2.2883 - val_loss: 1.9074 - val_mae_last_step: 2.2558 - lr: 0.0100\n",
            "Epoch 105/200\n",
            "11/11 [==============================] - 0s 13ms/step - loss: 1.9837 - mae_last_step: 2.3032 - val_loss: 1.9138 - val_mae_last_step: 2.2477 - lr: 0.0100\n",
            "Epoch 106/200\n",
            "11/11 [==============================] - 0s 12ms/step - loss: 1.9860 - mae_last_step: 2.3102 - val_loss: 1.8923 - val_mae_last_step: 2.2274 - lr: 0.0100\n",
            "Epoch 107/200\n",
            "11/11 [==============================] - 0s 12ms/step - loss: 1.9712 - mae_last_step: 2.2722 - val_loss: 1.8926 - val_mae_last_step: 2.2300 - lr: 0.0100\n",
            "Epoch 108/200\n",
            "11/11 [==============================] - 0s 12ms/step - loss: 1.9860 - mae_last_step: 2.2917 - val_loss: 1.8930 - val_mae_last_step: 2.2407 - lr: 0.0100\n",
            "Epoch 109/200\n",
            "11/11 [==============================] - 0s 12ms/step - loss: 1.9692 - mae_last_step: 2.2789 - val_loss: 1.8925 - val_mae_last_step: 2.2396 - lr: 0.0100\n",
            "Epoch 110/200\n",
            "11/11 [==============================] - 0s 12ms/step - loss: 1.9694 - mae_last_step: 2.2798 - val_loss: 1.8927 - val_mae_last_step: 2.2324 - lr: 0.0100\n",
            "Epoch 111/200\n",
            "11/11 [==============================] - 0s 12ms/step - loss: 1.9747 - mae_last_step: 2.2825 - val_loss: 1.9229 - val_mae_last_step: 2.2583 - lr: 0.0100\n",
            "Epoch 112/200\n",
            "11/11 [==============================] - 0s 12ms/step - loss: 1.9767 - mae_last_step: 2.2748 - val_loss: 1.9021 - val_mae_last_step: 2.2575 - lr: 0.0100\n",
            "Epoch 113/200\n",
            "11/11 [==============================] - 0s 12ms/step - loss: 1.9744 - mae_last_step: 2.2914 - val_loss: 1.8895 - val_mae_last_step: 2.2289 - lr: 0.0100\n",
            "Epoch 114/200\n",
            "11/11 [==============================] - 0s 13ms/step - loss: 1.9733 - mae_last_step: 2.2854 - val_loss: 1.8899 - val_mae_last_step: 2.2424 - lr: 0.0100\n",
            "Epoch 115/200\n",
            "11/11 [==============================] - 0s 12ms/step - loss: 1.9744 - mae_last_step: 2.2887 - val_loss: 1.8849 - val_mae_last_step: 2.2328 - lr: 0.0100\n",
            "Epoch 116/200\n",
            "11/11 [==============================] - 0s 12ms/step - loss: 1.9635 - mae_last_step: 2.2768 - val_loss: 1.8834 - val_mae_last_step: 2.2281 - lr: 0.0100\n",
            "Epoch 117/200\n",
            "11/11 [==============================] - 0s 12ms/step - loss: 1.9657 - mae_last_step: 2.2778 - val_loss: 1.8818 - val_mae_last_step: 2.2281 - lr: 0.0100\n",
            "Epoch 118/200\n",
            "11/11 [==============================] - 0s 12ms/step - loss: 1.9663 - mae_last_step: 2.2879 - val_loss: 1.8821 - val_mae_last_step: 2.2326 - lr: 0.0100\n",
            "Epoch 119/200\n",
            "11/11 [==============================] - 0s 11ms/step - loss: 1.9668 - mae_last_step: 2.2920 - val_loss: 1.9212 - val_mae_last_step: 2.2653 - lr: 0.0100\n",
            "Epoch 120/200\n",
            "11/11 [==============================] - 0s 13ms/step - loss: 1.9730 - mae_last_step: 2.2970 - val_loss: 1.8801 - val_mae_last_step: 2.2268 - lr: 0.0100\n",
            "Epoch 121/200\n",
            "11/11 [==============================] - 0s 12ms/step - loss: 1.9664 - mae_last_step: 2.2830 - val_loss: 1.8828 - val_mae_last_step: 2.2407 - lr: 0.0100\n",
            "Epoch 122/200\n",
            "11/11 [==============================] - 0s 12ms/step - loss: 1.9636 - mae_last_step: 2.2876 - val_loss: 1.9008 - val_mae_last_step: 2.2667 - lr: 0.0100\n",
            "Epoch 123/200\n",
            "11/11 [==============================] - 0s 13ms/step - loss: 1.9733 - mae_last_step: 2.2933 - val_loss: 1.9116 - val_mae_last_step: 2.2554 - lr: 0.0100\n",
            "Epoch 124/200\n",
            "11/11 [==============================] - 0s 12ms/step - loss: 1.9750 - mae_last_step: 2.3024 - val_loss: 1.8818 - val_mae_last_step: 2.2324 - lr: 0.0100\n",
            "Epoch 125/200\n",
            "11/11 [==============================] - 0s 13ms/step - loss: 1.9637 - mae_last_step: 2.2877 - val_loss: 1.8934 - val_mae_last_step: 2.2405 - lr: 0.0100\n",
            "Epoch 126/200\n",
            "11/11 [==============================] - 0s 13ms/step - loss: 1.9634 - mae_last_step: 2.2918 - val_loss: 1.8811 - val_mae_last_step: 2.2277 - lr: 0.0100\n",
            "Epoch 127/200\n",
            "11/11 [==============================] - 0s 12ms/step - loss: 1.9735 - mae_last_step: 2.2886 - val_loss: 1.9086 - val_mae_last_step: 2.2817 - lr: 0.0100\n",
            "Epoch 128/200\n",
            "11/11 [==============================] - 0s 12ms/step - loss: 1.9602 - mae_last_step: 2.2772 - val_loss: 1.8750 - val_mae_last_step: 2.2299 - lr: 0.0100\n",
            "Epoch 129/200\n",
            "11/11 [==============================] - 0s 11ms/step - loss: 1.9719 - mae_last_step: 2.2928 - val_loss: 1.8828 - val_mae_last_step: 2.2332 - lr: 0.0100\n",
            "Epoch 130/200\n",
            "11/11 [==============================] - 0s 12ms/step - loss: 1.9533 - mae_last_step: 2.2736 - val_loss: 1.8749 - val_mae_last_step: 2.2256 - lr: 0.0100\n",
            "Epoch 131/200\n",
            "11/11 [==============================] - 0s 11ms/step - loss: 1.9611 - mae_last_step: 2.2896 - val_loss: 1.9343 - val_mae_last_step: 2.3131 - lr: 0.0100\n",
            "Epoch 132/200\n",
            "11/11 [==============================] - 0s 12ms/step - loss: 1.9691 - mae_last_step: 2.2919 - val_loss: 1.8848 - val_mae_last_step: 2.2419 - lr: 0.0100\n",
            "Epoch 133/200\n",
            "11/11 [==============================] - 0s 12ms/step - loss: 1.9542 - mae_last_step: 2.2771 - val_loss: 1.8752 - val_mae_last_step: 2.2272 - lr: 0.0100\n",
            "Epoch 134/200\n",
            "11/11 [==============================] - 0s 12ms/step - loss: 1.9526 - mae_last_step: 2.2761 - val_loss: 1.8708 - val_mae_last_step: 2.2245 - lr: 0.0100\n",
            "Epoch 135/200\n",
            "11/11 [==============================] - 0s 12ms/step - loss: 1.9530 - mae_last_step: 2.2727 - val_loss: 1.8900 - val_mae_last_step: 2.2425 - lr: 0.0100\n",
            "Epoch 136/200\n",
            "11/11 [==============================] - 0s 12ms/step - loss: 1.9540 - mae_last_step: 2.2815 - val_loss: 1.8803 - val_mae_last_step: 2.2367 - lr: 0.0100\n",
            "Epoch 137/200\n",
            "11/11 [==============================] - 0s 13ms/step - loss: 1.9582 - mae_last_step: 2.2894 - val_loss: 1.8984 - val_mae_last_step: 2.2535 - lr: 0.0100\n",
            "Epoch 138/200\n",
            "11/11 [==============================] - 0s 12ms/step - loss: 1.9546 - mae_last_step: 2.2896 - val_loss: 1.8707 - val_mae_last_step: 2.2351 - lr: 0.0100\n",
            "Epoch 139/200\n",
            "11/11 [==============================] - 0s 12ms/step - loss: 1.9493 - mae_last_step: 2.2757 - val_loss: 1.8799 - val_mae_last_step: 2.2533 - lr: 0.0100\n",
            "Epoch 140/200\n",
            "11/11 [==============================] - 0s 13ms/step - loss: 1.9666 - mae_last_step: 2.2946 - val_loss: 1.9159 - val_mae_last_step: 2.2722 - lr: 0.0100\n",
            "Epoch 141/200\n",
            "11/11 [==============================] - 0s 12ms/step - loss: 1.9517 - mae_last_step: 2.2746 - val_loss: 1.8809 - val_mae_last_step: 2.2560 - lr: 0.0100\n",
            "Epoch 142/200\n",
            "11/11 [==============================] - 0s 11ms/step - loss: 1.9528 - mae_last_step: 2.2913 - val_loss: 1.8788 - val_mae_last_step: 2.2383 - lr: 0.0100\n",
            "Epoch 143/200\n",
            "11/11 [==============================] - 0s 13ms/step - loss: 1.9502 - mae_last_step: 2.2870 - val_loss: 1.8709 - val_mae_last_step: 2.2301 - lr: 0.0100\n",
            "Epoch 144/200\n",
            "11/11 [==============================] - 0s 13ms/step - loss: 1.9482 - mae_last_step: 2.2716 - val_loss: 1.8644 - val_mae_last_step: 2.2263 - lr: 0.0100\n",
            "Epoch 145/200\n",
            "11/11 [==============================] - 0s 13ms/step - loss: 1.9544 - mae_last_step: 2.2749 - val_loss: 1.8885 - val_mae_last_step: 2.2679 - lr: 0.0100\n",
            "Epoch 146/200\n",
            "11/11 [==============================] - 0s 13ms/step - loss: 1.9616 - mae_last_step: 2.2843 - val_loss: 1.8814 - val_mae_last_step: 2.2396 - lr: 0.0100\n",
            "Epoch 147/200\n",
            "11/11 [==============================] - 0s 13ms/step - loss: 1.9540 - mae_last_step: 2.2846 - val_loss: 1.8665 - val_mae_last_step: 2.2371 - lr: 0.0100\n",
            "Epoch 148/200\n",
            "11/11 [==============================] - 0s 13ms/step - loss: 1.9472 - mae_last_step: 2.2864 - val_loss: 1.8628 - val_mae_last_step: 2.2281 - lr: 0.0100\n",
            "Epoch 149/200\n",
            "11/11 [==============================] - 0s 12ms/step - loss: 1.9429 - mae_last_step: 2.2649 - val_loss: 1.8615 - val_mae_last_step: 2.2249 - lr: 0.0100\n",
            "Epoch 150/200\n",
            "11/11 [==============================] - 0s 13ms/step - loss: 1.9436 - mae_last_step: 2.2788 - val_loss: 1.8874 - val_mae_last_step: 2.2532 - lr: 0.0100\n",
            "Epoch 151/200\n",
            "11/11 [==============================] - 0s 12ms/step - loss: 1.9547 - mae_last_step: 2.2854 - val_loss: 1.8689 - val_mae_last_step: 2.2472 - lr: 0.0100\n",
            "Epoch 152/200\n",
            "11/11 [==============================] - 0s 13ms/step - loss: 1.9415 - mae_last_step: 2.2825 - val_loss: 1.8594 - val_mae_last_step: 2.2258 - lr: 0.0100\n",
            "Epoch 153/200\n",
            "11/11 [==============================] - 0s 12ms/step - loss: 1.9407 - mae_last_step: 2.2718 - val_loss: 1.8655 - val_mae_last_step: 2.2278 - lr: 0.0100\n",
            "Epoch 154/200\n",
            "11/11 [==============================] - 0s 13ms/step - loss: 1.9427 - mae_last_step: 2.2858 - val_loss: 1.8591 - val_mae_last_step: 2.2230 - lr: 0.0100\n",
            "Epoch 155/200\n",
            "11/11 [==============================] - 0s 12ms/step - loss: 1.9432 - mae_last_step: 2.2822 - val_loss: 1.8733 - val_mae_last_step: 2.2395 - lr: 0.0100\n",
            "Epoch 156/200\n",
            "11/11 [==============================] - 0s 12ms/step - loss: 1.9523 - mae_last_step: 2.2851 - val_loss: 1.8593 - val_mae_last_step: 2.2328 - lr: 0.0100\n",
            "Epoch 157/200\n",
            "11/11 [==============================] - 0s 13ms/step - loss: 1.9403 - mae_last_step: 2.2799 - val_loss: 1.8655 - val_mae_last_step: 2.2466 - lr: 0.0100\n",
            "Epoch 158/200\n",
            "11/11 [==============================] - 0s 12ms/step - loss: 1.9534 - mae_last_step: 2.2979 - val_loss: 1.8712 - val_mae_last_step: 2.2350 - lr: 0.0100\n",
            "Epoch 159/200\n",
            "11/11 [==============================] - 0s 12ms/step - loss: 1.9399 - mae_last_step: 2.2754 - val_loss: 1.8758 - val_mae_last_step: 2.2408 - lr: 0.0100\n",
            "Epoch 160/200\n",
            "11/11 [==============================] - 0s 11ms/step - loss: 1.9386 - mae_last_step: 2.2698 - val_loss: 1.8723 - val_mae_last_step: 2.2577 - lr: 0.0100\n",
            "Epoch 161/200\n",
            "11/11 [==============================] - 0s 12ms/step - loss: 1.9422 - mae_last_step: 2.2836 - val_loss: 1.8740 - val_mae_last_step: 2.2422 - lr: 0.0100\n",
            "Epoch 162/200\n",
            "11/11 [==============================] - 0s 12ms/step - loss: 1.9384 - mae_last_step: 2.2749 - val_loss: 1.8812 - val_mae_last_step: 2.2488 - lr: 0.0100\n",
            "Epoch 163/200\n",
            "11/11 [==============================] - 0s 12ms/step - loss: 1.9470 - mae_last_step: 2.2857 - val_loss: 1.8556 - val_mae_last_step: 2.2303 - lr: 0.0100\n",
            "Epoch 164/200\n",
            "11/11 [==============================] - 0s 12ms/step - loss: 1.9369 - mae_last_step: 2.2773 - val_loss: 1.8631 - val_mae_last_step: 2.2314 - lr: 0.0100\n",
            "Epoch 165/200\n",
            "11/11 [==============================] - 0s 12ms/step - loss: 1.9360 - mae_last_step: 2.2679 - val_loss: 1.8563 - val_mae_last_step: 2.2283 - lr: 0.0100\n",
            "Epoch 166/200\n",
            "11/11 [==============================] - 0s 12ms/step - loss: 1.9384 - mae_last_step: 2.2751 - val_loss: 1.8554 - val_mae_last_step: 2.2334 - lr: 0.0100\n",
            "Epoch 167/200\n",
            "11/11 [==============================] - 0s 12ms/step - loss: 1.9465 - mae_last_step: 2.2864 - val_loss: 1.8558 - val_mae_last_step: 2.2303 - lr: 0.0100\n",
            "Epoch 168/200\n",
            "11/11 [==============================] - 0s 12ms/step - loss: 1.9390 - mae_last_step: 2.2840 - val_loss: 1.8626 - val_mae_last_step: 2.2327 - lr: 0.0100\n",
            "Epoch 169/200\n",
            "11/11 [==============================] - 0s 13ms/step - loss: 1.9346 - mae_last_step: 2.2734 - val_loss: 1.8535 - val_mae_last_step: 2.2248 - lr: 0.0100\n",
            "Epoch 170/200\n",
            "11/11 [==============================] - 0s 13ms/step - loss: 1.9337 - mae_last_step: 2.2766 - val_loss: 1.8839 - val_mae_last_step: 2.2808 - lr: 0.0100\n",
            "Epoch 171/200\n",
            "11/11 [==============================] - 0s 15ms/step - loss: 1.9555 - mae_last_step: 2.3021 - val_loss: 1.8530 - val_mae_last_step: 2.2341 - lr: 0.0100\n",
            "Epoch 172/200\n",
            "11/11 [==============================] - 0s 12ms/step - loss: 1.9353 - mae_last_step: 2.2784 - val_loss: 1.8693 - val_mae_last_step: 2.2415 - lr: 0.0100\n",
            "Epoch 173/200\n",
            "11/11 [==============================] - 0s 12ms/step - loss: 1.9390 - mae_last_step: 2.2870 - val_loss: 1.8518 - val_mae_last_step: 2.2239 - lr: 0.0100\n",
            "Epoch 174/200\n",
            "11/11 [==============================] - 0s 12ms/step - loss: 1.9361 - mae_last_step: 2.2863 - val_loss: 1.8549 - val_mae_last_step: 2.2252 - lr: 0.0100\n",
            "Epoch 175/200\n",
            "11/11 [==============================] - 0s 14ms/step - loss: 1.9338 - mae_last_step: 2.2826 - val_loss: 1.8741 - val_mae_last_step: 2.2676 - lr: 0.0100\n",
            "Epoch 176/200\n",
            "11/11 [==============================] - 0s 12ms/step - loss: 1.9432 - mae_last_step: 2.2888 - val_loss: 1.8562 - val_mae_last_step: 2.2296 - lr: 0.0100\n",
            "Epoch 177/200\n",
            "11/11 [==============================] - 0s 12ms/step - loss: 1.9320 - mae_last_step: 2.2752 - val_loss: 1.8747 - val_mae_last_step: 2.2710 - lr: 0.0100\n",
            "Epoch 178/200\n",
            "11/11 [==============================] - 0s 13ms/step - loss: 1.9346 - mae_last_step: 2.2848 - val_loss: 1.8510 - val_mae_last_step: 2.2340 - lr: 0.0100\n",
            "Epoch 179/200\n",
            "11/11 [==============================] - 0s 13ms/step - loss: 1.9439 - mae_last_step: 2.2985 - val_loss: 1.8526 - val_mae_last_step: 2.2384 - lr: 0.0100\n",
            "Epoch 180/200\n",
            "11/11 [==============================] - 0s 13ms/step - loss: 1.9301 - mae_last_step: 2.2793 - val_loss: 1.8514 - val_mae_last_step: 2.2379 - lr: 0.0100\n",
            "Epoch 181/200\n",
            "11/11 [==============================] - 0s 16ms/step - loss: 1.9333 - mae_last_step: 2.2789 - val_loss: 1.8581 - val_mae_last_step: 2.2351 - lr: 0.0100\n",
            "Epoch 182/200\n",
            "11/11 [==============================] - 0s 13ms/step - loss: 1.9425 - mae_last_step: 2.3001 - val_loss: 1.8473 - val_mae_last_step: 2.2259 - lr: 0.0100\n",
            "Epoch 183/200\n",
            "11/11 [==============================] - 0s 12ms/step - loss: 1.9265 - mae_last_step: 2.2708 - val_loss: 1.8480 - val_mae_last_step: 2.2232 - lr: 0.0100\n",
            "Epoch 184/200\n",
            "11/11 [==============================] - 0s 12ms/step - loss: 1.9358 - mae_last_step: 2.2809 - val_loss: 1.8483 - val_mae_last_step: 2.2338 - lr: 0.0100\n",
            "Epoch 185/200\n",
            "11/11 [==============================] - 0s 12ms/step - loss: 1.9292 - mae_last_step: 2.2767 - val_loss: 1.8786 - val_mae_last_step: 2.2792 - lr: 0.0100\n",
            "Epoch 186/200\n",
            "11/11 [==============================] - 0s 12ms/step - loss: 1.9302 - mae_last_step: 2.2745 - val_loss: 1.8462 - val_mae_last_step: 2.2254 - lr: 0.0100\n",
            "Epoch 187/200\n",
            "11/11 [==============================] - 0s 11ms/step - loss: 1.9304 - mae_last_step: 2.2840 - val_loss: 1.8452 - val_mae_last_step: 2.2235 - lr: 0.0100\n",
            "Epoch 188/200\n",
            "11/11 [==============================] - 0s 12ms/step - loss: 1.9266 - mae_last_step: 2.2771 - val_loss: 1.8475 - val_mae_last_step: 2.2269 - lr: 0.0100\n",
            "Epoch 189/200\n",
            "11/11 [==============================] - 0s 11ms/step - loss: 1.9255 - mae_last_step: 2.2723 - val_loss: 1.8473 - val_mae_last_step: 2.2251 - lr: 0.0100\n",
            "Epoch 190/200\n",
            "11/11 [==============================] - 0s 13ms/step - loss: 1.9268 - mae_last_step: 2.2699 - val_loss: 1.8455 - val_mae_last_step: 2.2318 - lr: 0.0100\n",
            "Epoch 191/200\n",
            "11/11 [==============================] - 0s 12ms/step - loss: 1.9296 - mae_last_step: 2.2852 - val_loss: 1.8430 - val_mae_last_step: 2.2272 - lr: 0.0100\n",
            "Epoch 192/200\n",
            "11/11 [==============================] - 0s 12ms/step - loss: 1.9255 - mae_last_step: 2.2714 - val_loss: 1.8438 - val_mae_last_step: 2.2273 - lr: 0.0100\n",
            "Epoch 193/200\n",
            "11/11 [==============================] - 0s 12ms/step - loss: 1.9335 - mae_last_step: 2.2871 - val_loss: 1.8431 - val_mae_last_step: 2.2275 - lr: 0.0100\n",
            "Epoch 194/200\n",
            "11/11 [==============================] - 0s 12ms/step - loss: 1.9312 - mae_last_step: 2.2814 - val_loss: 1.8416 - val_mae_last_step: 2.2307 - lr: 0.0100\n",
            "Epoch 195/200\n",
            "11/11 [==============================] - 0s 12ms/step - loss: 1.9315 - mae_last_step: 2.2902 - val_loss: 1.8620 - val_mae_last_step: 2.2410 - lr: 0.0100\n",
            "Epoch 196/200\n",
            "11/11 [==============================] - 0s 12ms/step - loss: 1.9274 - mae_last_step: 2.2839 - val_loss: 1.8443 - val_mae_last_step: 2.2341 - lr: 0.0100\n",
            "Epoch 197/200\n",
            "11/11 [==============================] - 0s 20ms/step - loss: 1.9281 - mae_last_step: 2.2875 - val_loss: 1.8890 - val_mae_last_step: 2.2781 - lr: 0.0100\n",
            "Epoch 198/200\n",
            "11/11 [==============================] - 0s 17ms/step - loss: 1.9359 - mae_last_step: 2.2786 - val_loss: 1.8413 - val_mae_last_step: 2.2257 - lr: 0.0100\n",
            "Epoch 199/200\n",
            "11/11 [==============================] - 0s 14ms/step - loss: 1.9240 - mae_last_step: 2.2837 - val_loss: 1.8435 - val_mae_last_step: 2.2233 - lr: 0.0100\n",
            "Epoch 200/200\n",
            "11/11 [==============================] - 0s 12ms/step - loss: 1.9285 - mae_last_step: 2.2775 - val_loss: 1.8403 - val_mae_last_step: 2.2246 - lr: 0.0100\n"
          ]
        }
      ],
      "source": [
        "historySeq2SeqLSTM = modelSeq2SeqLSTM.fit(X_train_3D, \n",
        "                                          Y_train_3D, \n",
        "                                          epochs=200, \n",
        "                                          batch_size=200,\n",
        "                                          validation_data=(X_valid_3D, Y_valid_3D),\n",
        "                                          callbacks=[keras.callbacks.ReduceLROnPlateau(verbose=1)])"
      ]
    },
    {
      "cell_type": "code",
      "execution_count": null,
      "metadata": {
        "id": "p8q-hgzSbd8u",
        "colab": {
          "base_uri": "https://localhost:8080/"
        },
        "outputId": "c65205e2-c78b-453b-de2d-1825f201d64e"
      },
      "outputs": [
        {
          "output_type": "stream",
          "name": "stdout",
          "text": [
            "23/23 [==============================] - 0s 5ms/step - loss: 1.7592 - mae_last_step: 2.0890\n"
          ]
        },
        {
          "output_type": "execute_result",
          "data": {
            "text/plain": [
              "[1.7591723203659058, 2.0889971256256104]"
            ]
          },
          "metadata": {},
          "execution_count": 53
        }
      ],
      "source": [
        "score_seq2seq_LSTM = modelSeq2SeqLSTM.evaluate(X_test_3D, Y_test_3D)\n",
        "score_seq2seq_LSTM"
      ]
    },
    {
      "cell_type": "code",
      "execution_count": null,
      "metadata": {
        "id": "q9cA6Y4dbd8x",
        "scrolled": true,
        "colab": {
          "base_uri": "https://localhost:8080/",
          "height": 265
        },
        "outputId": "39db06f0-298a-4ddc-e725-559c51350039"
      },
      "outputs": [
        {
          "output_type": "display_data",
          "data": {
            "text/plain": [
              "<Figure size 432x288 with 1 Axes>"
            ],
            "image/png": "[encoded data removed]"
          },
          "metadata": {
            "needs_background": "light"
          }
        }
      ],
      "source": [
        "plot_history(historySeq2SeqLSTM, variable=\"mae_last_step\")"
      ]
    },
    {
      "cell_type": "code",
      "execution_count": null,
      "metadata": {
        "id": "WEgRY8ckbd8y",
        "colab": {
          "base_uri": "https://localhost:8080/"
        },
        "outputId": "428e528c-3cb3-43e4-ca45-acc418c0ae42"
      },
      "outputs": [
        {
          "output_type": "stream",
          "name": "stdout",
          "text": [
            "23/23 [==============================] - 1s 4ms/step\n"
          ]
        }
      ],
      "source": [
        "y_pred_Seq2SeqLSTM = modelSeq2SeqLSTM.predict(X_test_3D)[:, -1]"
      ]
    },
    {
      "cell_type": "code",
      "execution_count": null,
      "metadata": {
        "id": "s3mwiKubbd80",
        "colab": {
          "base_uri": "https://localhost:8080/",
          "height": 320
        },
        "outputId": "988709a8-950f-4c0d-f563-f79b76ec9346"
      },
      "outputs": [
        {
          "output_type": "display_data",
          "data": {
            "text/plain": [
              "<Figure size 720x360 with 1 Axes>"
            ],
            "image/png": "[encoded data removed]"
          },
          "metadata": {
            "needs_background": "light"
          }
        }
      ],
      "source": [
        "plot_predictions((\"Target\", y_test),\n",
        "                 (\"Linear\", y_pred_linear),\n",
        "                 (\"RNN Seq2Seq LSTM\", y_pred_Seq2SeqLSTM),\n",
        "                 end=365)"
      ]
    },
    {
      "cell_type": "code",
      "source": [],
      "metadata": {
        "id": "VxqiyNJSNk76"
      },
      "execution_count": null,
      "outputs": []
    },
    {
      "cell_type": "markdown",
      "metadata": {
        "id": "q1gQG0h5bd81"
      },
      "source": [
        "## 3.2) Add $\\ell_2$ regularization\n",
        "\n",
        "Add $\\ell_2$ regularization to your RNN, using the layers' `kernel_regularizer` and `recurrent_regularizer` arguments, and the `l2()` function in `keras.regularizers`. Tip: use the `partial()` function in the `functools` package to avoid repeating the same arguments again and again.\n",
        "\n",
        "[More information on $\\ell_1$ and $\\ell_2$ regularization](https://inside-machinelearning.com/regularization-deep-learning/)"
      ]
    },
    {
      "cell_type": "code",
      "execution_count": null,
      "metadata": {
        "id": "9O8SZNHFbd81"
      },
      "outputs": [],
      "source": [
        "from functools import partial"
      ]
    },
    {
      "cell_type": "code",
      "execution_count": null,
      "metadata": {
        "id": "wVO7OgzPbd84"
      },
      "outputs": [],
      "source": [
        "RegularizedLSTM = partial(keras.layers.LSTM,\n",
        "                          return_sequences=True,\n",
        "                          kernel_regularizer=keras.regularizers.l2(1e-4),\n",
        "                          recurrent_regularizer=keras.regularizers.l2(1e-4))\n",
        "\n",
        "#reg_lstm_layer = keras.layers.LSTM(units= 100,\n",
        "#                                   return_sequences=True,\n",
        "#                                   kernel_regularizer=keras.regularizers.l2(1e-4),\n",
        "#                                   recurrent_regularizer=keras.regularizers.l2(1e-4))"
      ]
    },
    {
      "cell_type": "code",
      "execution_count": null,
      "metadata": {
        "id": "e_52B2n8bd85"
      },
      "outputs": [],
      "source": [
        "modelSeq2SeqLSTM_reg = keras.models.Sequential()\n",
        "modelSeq2SeqLSTM_reg.add(RegularizedLSTM(100, input_shape=input_shape))\n",
        "modelSeq2SeqLSTM_reg.add(RegularizedLSTM(100))\n",
        "modelSeq2SeqLSTM_reg.add(keras.layers.Dense(1))\n",
        "modelSeq2SeqLSTM_reg.compile(loss=huber_loss, \n",
        "                             optimizer=keras.optimizers.SGD(learning_rate=0.01),\n",
        "                             metrics=[mae_last_step])"
      ]
    },
    {
      "cell_type": "code",
      "execution_count": null,
      "metadata": {
        "id": "gmzcg_nmbd87",
        "colab": {
          "base_uri": "https://localhost:8080/"
        },
        "outputId": "a75dbd56-b546-4307-e21b-9cc1c42ff681"
      },
      "outputs": [
        {
          "output_type": "stream",
          "name": "stdout",
          "text": [
            "Epoch 1/200\n",
            "22/22 [==============================] - 4s 48ms/step - loss: 7.8499 - mae_last_step: 7.7999 - val_loss: 5.4288 - val_mae_last_step: 5.5425\n",
            "Epoch 2/200\n",
            "22/22 [==============================] - 0s 12ms/step - loss: 3.9943 - mae_last_step: 3.7341 - val_loss: 3.1194 - val_mae_last_step: 3.1630\n",
            "Epoch 3/200\n",
            "22/22 [==============================] - 0s 11ms/step - loss: 3.1799 - mae_last_step: 3.1379 - val_loss: 2.8920 - val_mae_last_step: 2.9919\n",
            "Epoch 4/200\n",
            "22/22 [==============================] - 0s 11ms/step - loss: 3.0838 - mae_last_step: 3.0975 - val_loss: 2.8134 - val_mae_last_step: 2.9226\n",
            "Epoch 5/200\n",
            "22/22 [==============================] - 0s 11ms/step - loss: 2.9897 - mae_last_step: 3.0151 - val_loss: 2.7087 - val_mae_last_step: 2.8018\n",
            "Epoch 6/200\n",
            "22/22 [==============================] - 0s 12ms/step - loss: 2.8689 - mae_last_step: 2.8730 - val_loss: 2.6346 - val_mae_last_step: 2.8202\n",
            "Epoch 7/200\n",
            "22/22 [==============================] - 0s 11ms/step - loss: 2.7180 - mae_last_step: 2.7219 - val_loss: 2.4606 - val_mae_last_step: 2.4898\n",
            "Epoch 8/200\n",
            "22/22 [==============================] - 0s 11ms/step - loss: 2.5423 - mae_last_step: 2.5132 - val_loss: 2.3442 - val_mae_last_step: 2.6020\n",
            "Epoch 9/200\n",
            "22/22 [==============================] - 0s 11ms/step - loss: 2.4566 - mae_last_step: 2.4899 - val_loss: 2.2249 - val_mae_last_step: 2.3260\n",
            "Epoch 10/200\n",
            "22/22 [==============================] - 0s 11ms/step - loss: 2.3684 - mae_last_step: 2.4253 - val_loss: 2.1899 - val_mae_last_step: 2.3137\n",
            "Epoch 11/200\n",
            "22/22 [==============================] - 0s 12ms/step - loss: 2.3332 - mae_last_step: 2.3838 - val_loss: 2.2119 - val_mae_last_step: 2.2772\n",
            "Epoch 12/200\n",
            "22/22 [==============================] - 0s 11ms/step - loss: 2.2845 - mae_last_step: 2.3550 - val_loss: 2.1668 - val_mae_last_step: 2.3696\n",
            "Epoch 13/200\n",
            "22/22 [==============================] - 0s 11ms/step - loss: 2.2498 - mae_last_step: 2.3482 - val_loss: 2.1458 - val_mae_last_step: 2.2734\n",
            "Epoch 14/200\n",
            "22/22 [==============================] - 0s 12ms/step - loss: 2.2494 - mae_last_step: 2.3588 - val_loss: 2.2005 - val_mae_last_step: 2.4858\n",
            "Epoch 15/200\n",
            "22/22 [==============================] - 0s 12ms/step - loss: 2.2202 - mae_last_step: 2.3196 - val_loss: 2.1112 - val_mae_last_step: 2.2854\n",
            "Epoch 16/200\n",
            "22/22 [==============================] - 0s 12ms/step - loss: 2.2170 - mae_last_step: 2.3312 - val_loss: 2.1191 - val_mae_last_step: 2.3544\n",
            "Epoch 17/200\n",
            "22/22 [==============================] - 0s 11ms/step - loss: 2.1946 - mae_last_step: 2.3288 - val_loss: 2.1173 - val_mae_last_step: 2.2842\n",
            "Epoch 18/200\n",
            "22/22 [==============================] - 0s 12ms/step - loss: 2.1894 - mae_last_step: 2.3370 - val_loss: 2.0797 - val_mae_last_step: 2.2680\n",
            "Epoch 19/200\n",
            "22/22 [==============================] - 0s 11ms/step - loss: 2.1634 - mae_last_step: 2.3015 - val_loss: 2.0784 - val_mae_last_step: 2.3151\n",
            "Epoch 20/200\n",
            "22/22 [==============================] - 0s 12ms/step - loss: 2.1571 - mae_last_step: 2.3197 - val_loss: 2.0629 - val_mae_last_step: 2.2676\n",
            "Epoch 21/200\n",
            "22/22 [==============================] - 0s 11ms/step - loss: 2.1549 - mae_last_step: 2.3074 - val_loss: 2.0659 - val_mae_last_step: 2.2716\n",
            "Epoch 22/200\n",
            "22/22 [==============================] - 0s 12ms/step - loss: 2.1457 - mae_last_step: 2.3255 - val_loss: 2.1099 - val_mae_last_step: 2.3218\n",
            "Epoch 23/200\n",
            "22/22 [==============================] - 0s 12ms/step - loss: 2.1305 - mae_last_step: 2.2916 - val_loss: 2.0521 - val_mae_last_step: 2.3024\n",
            "Epoch 24/200\n",
            "22/22 [==============================] - 0s 11ms/step - loss: 2.1239 - mae_last_step: 2.3021 - val_loss: 2.1125 - val_mae_last_step: 2.4431\n",
            "Epoch 25/200\n",
            "22/22 [==============================] - 0s 11ms/step - loss: 2.1170 - mae_last_step: 2.3148 - val_loss: 2.0335 - val_mae_last_step: 2.2695\n",
            "Epoch 26/200\n",
            "22/22 [==============================] - 0s 12ms/step - loss: 2.1139 - mae_last_step: 2.3124 - val_loss: 2.0553 - val_mae_last_step: 2.3617\n",
            "Epoch 27/200\n",
            "22/22 [==============================] - 0s 11ms/step - loss: 2.1066 - mae_last_step: 2.3101 - val_loss: 2.0526 - val_mae_last_step: 2.3020\n",
            "Epoch 28/200\n",
            "22/22 [==============================] - 0s 11ms/step - loss: 2.1143 - mae_last_step: 2.2990 - val_loss: 2.0138 - val_mae_last_step: 2.2681\n",
            "Epoch 29/200\n",
            "22/22 [==============================] - 0s 11ms/step - loss: 2.1009 - mae_last_step: 2.3089 - val_loss: 2.0109 - val_mae_last_step: 2.2836\n",
            "Epoch 30/200\n",
            "22/22 [==============================] - 0s 11ms/step - loss: 2.0868 - mae_last_step: 2.2968 - val_loss: 2.0065 - val_mae_last_step: 2.2675\n",
            "Epoch 31/200\n",
            "22/22 [==============================] - 0s 11ms/step - loss: 2.0869 - mae_last_step: 2.2970 - val_loss: 2.0140 - val_mae_last_step: 2.2810\n",
            "Epoch 32/200\n",
            "22/22 [==============================] - 0s 11ms/step - loss: 2.0768 - mae_last_step: 2.2930 - val_loss: 2.0068 - val_mae_last_step: 2.2764\n",
            "Epoch 33/200\n",
            "22/22 [==============================] - 0s 11ms/step - loss: 2.0806 - mae_last_step: 2.2978 - val_loss: 1.9956 - val_mae_last_step: 2.2762\n",
            "Epoch 34/200\n",
            "22/22 [==============================] - 0s 12ms/step - loss: 2.0652 - mae_last_step: 2.2820 - val_loss: 2.0037 - val_mae_last_step: 2.2837\n",
            "Epoch 35/200\n",
            "22/22 [==============================] - 0s 11ms/step - loss: 2.0781 - mae_last_step: 2.3028 - val_loss: 1.9875 - val_mae_last_step: 2.2710\n",
            "Epoch 36/200\n",
            "22/22 [==============================] - 0s 11ms/step - loss: 2.0707 - mae_last_step: 2.3036 - val_loss: 1.9837 - val_mae_last_step: 2.2718\n",
            "Epoch 37/200\n",
            "22/22 [==============================] - 0s 12ms/step - loss: 2.0659 - mae_last_step: 2.3089 - val_loss: 1.9756 - val_mae_last_step: 2.2631\n",
            "Epoch 38/200\n",
            "22/22 [==============================] - 0s 12ms/step - loss: 2.0686 - mae_last_step: 2.2946 - val_loss: 1.9986 - val_mae_last_step: 2.2940\n",
            "Epoch 39/200\n",
            "22/22 [==============================] - 0s 11ms/step - loss: 2.0595 - mae_last_step: 2.3054 - val_loss: 2.0219 - val_mae_last_step: 2.3270\n",
            "Epoch 40/200\n",
            "22/22 [==============================] - 0s 11ms/step - loss: 2.0581 - mae_last_step: 2.3061 - val_loss: 1.9694 - val_mae_last_step: 2.2639\n",
            "Epoch 41/200\n",
            "22/22 [==============================] - 0s 11ms/step - loss: 2.0660 - mae_last_step: 2.3141 - val_loss: 1.9696 - val_mae_last_step: 2.2679\n",
            "Epoch 42/200\n",
            "22/22 [==============================] - 0s 11ms/step - loss: 2.0456 - mae_last_step: 2.3025 - val_loss: 1.9626 - val_mae_last_step: 2.2606\n",
            "Epoch 43/200\n",
            "22/22 [==============================] - 0s 11ms/step - loss: 2.0400 - mae_last_step: 2.2864 - val_loss: 1.9811 - val_mae_last_step: 2.2893\n",
            "Epoch 44/200\n",
            "22/22 [==============================] - 0s 11ms/step - loss: 2.0505 - mae_last_step: 2.3035 - val_loss: 1.9870 - val_mae_last_step: 2.3182\n",
            "Epoch 45/200\n",
            "22/22 [==============================] - 0s 11ms/step - loss: 2.0402 - mae_last_step: 2.3003 - val_loss: 2.0023 - val_mae_last_step: 2.3306\n",
            "Epoch 46/200\n",
            "22/22 [==============================] - 0s 11ms/step - loss: 2.0382 - mae_last_step: 2.2974 - val_loss: 1.9613 - val_mae_last_step: 2.2623\n",
            "Epoch 47/200\n",
            "22/22 [==============================] - 0s 11ms/step - loss: 2.0396 - mae_last_step: 2.2926 - val_loss: 1.9514 - val_mae_last_step: 2.2634\n",
            "Epoch 48/200\n",
            "22/22 [==============================] - 0s 12ms/step - loss: 2.0368 - mae_last_step: 2.3004 - val_loss: 2.0098 - val_mae_last_step: 2.3209\n",
            "Epoch 49/200\n",
            "22/22 [==============================] - 0s 11ms/step - loss: 2.0324 - mae_last_step: 2.2913 - val_loss: 1.9515 - val_mae_last_step: 2.2614\n",
            "Epoch 50/200\n",
            "22/22 [==============================] - 0s 11ms/step - loss: 2.0332 - mae_last_step: 2.2945 - val_loss: 1.9718 - val_mae_last_step: 2.2868\n",
            "Epoch 51/200\n",
            "22/22 [==============================] - 0s 11ms/step - loss: 2.0216 - mae_last_step: 2.2770 - val_loss: 1.9448 - val_mae_last_step: 2.2652\n",
            "Epoch 52/200\n",
            "22/22 [==============================] - 0s 11ms/step - loss: 2.0258 - mae_last_step: 2.2944 - val_loss: 1.9409 - val_mae_last_step: 2.2687\n",
            "Epoch 53/200\n",
            "22/22 [==============================] - 0s 11ms/step - loss: 2.0171 - mae_last_step: 2.2795 - val_loss: 2.0057 - val_mae_last_step: 2.3494\n",
            "Epoch 54/200\n",
            "22/22 [==============================] - 0s 11ms/step - loss: 2.0343 - mae_last_step: 2.2987 - val_loss: 2.0079 - val_mae_last_step: 2.3563\n",
            "Epoch 55/200\n",
            "22/22 [==============================] - 0s 11ms/step - loss: 2.0271 - mae_last_step: 2.2938 - val_loss: 1.9337 - val_mae_last_step: 2.2563\n",
            "Epoch 56/200\n",
            "22/22 [==============================] - 0s 11ms/step - loss: 2.0171 - mae_last_step: 2.2963 - val_loss: 1.9334 - val_mae_last_step: 2.2607\n",
            "Epoch 57/200\n",
            "22/22 [==============================] - 0s 11ms/step - loss: 2.0101 - mae_last_step: 2.2890 - val_loss: 1.9329 - val_mae_last_step: 2.2602\n",
            "Epoch 58/200\n",
            "22/22 [==============================] - 0s 12ms/step - loss: 2.0155 - mae_last_step: 2.2904 - val_loss: 1.9286 - val_mae_last_step: 2.2548\n",
            "Epoch 59/200\n",
            "22/22 [==============================] - 0s 11ms/step - loss: 2.0059 - mae_last_step: 2.2810 - val_loss: 1.9263 - val_mae_last_step: 2.2604\n",
            "Epoch 60/200\n",
            "22/22 [==============================] - 0s 11ms/step - loss: 2.0197 - mae_last_step: 2.3232 - val_loss: 1.9415 - val_mae_last_step: 2.2695\n",
            "Epoch 61/200\n",
            "22/22 [==============================] - 0s 11ms/step - loss: 2.0135 - mae_last_step: 2.2905 - val_loss: 1.9304 - val_mae_last_step: 2.2797\n",
            "Epoch 62/200\n",
            "22/22 [==============================] - 0s 13ms/step - loss: 2.0099 - mae_last_step: 2.2878 - val_loss: 1.9219 - val_mae_last_step: 2.2599\n",
            "Epoch 63/200\n",
            "22/22 [==============================] - 0s 12ms/step - loss: 2.0079 - mae_last_step: 2.2787 - val_loss: 1.9202 - val_mae_last_step: 2.2580\n",
            "Epoch 64/200\n",
            "22/22 [==============================] - 0s 11ms/step - loss: 2.0043 - mae_last_step: 2.2829 - val_loss: 1.9231 - val_mae_last_step: 2.2704\n",
            "Epoch 65/200\n",
            "22/22 [==============================] - 0s 11ms/step - loss: 2.0082 - mae_last_step: 2.2949 - val_loss: 1.9200 - val_mae_last_step: 2.2676\n",
            "Epoch 66/200\n",
            "22/22 [==============================] - 0s 11ms/step - loss: 1.9976 - mae_last_step: 2.2855 - val_loss: 1.9185 - val_mae_last_step: 2.2592\n",
            "Epoch 67/200\n",
            "22/22 [==============================] - 0s 11ms/step - loss: 1.9951 - mae_last_step: 2.2681 - val_loss: 1.9251 - val_mae_last_step: 2.2728\n",
            "Epoch 68/200\n",
            "22/22 [==============================] - 0s 12ms/step - loss: 1.9979 - mae_last_step: 2.2989 - val_loss: 1.9255 - val_mae_last_step: 2.2890\n",
            "Epoch 69/200\n",
            "22/22 [==============================] - 0s 11ms/step - loss: 1.9974 - mae_last_step: 2.2860 - val_loss: 1.9374 - val_mae_last_step: 2.2925\n",
            "Epoch 70/200\n",
            "22/22 [==============================] - 0s 12ms/step - loss: 1.9894 - mae_last_step: 2.2727 - val_loss: 1.9140 - val_mae_last_step: 2.2594\n",
            "Epoch 71/200\n",
            "22/22 [==============================] - 0s 11ms/step - loss: 2.0042 - mae_last_step: 2.2963 - val_loss: 1.9422 - val_mae_last_step: 2.3194\n",
            "Epoch 72/200\n",
            "22/22 [==============================] - 0s 11ms/step - loss: 1.9920 - mae_last_step: 2.2894 - val_loss: 1.9324 - val_mae_last_step: 2.2924\n",
            "Epoch 73/200\n",
            "22/22 [==============================] - 0s 11ms/step - loss: 1.9861 - mae_last_step: 2.2767 - val_loss: 1.9103 - val_mae_last_step: 2.2610\n",
            "Epoch 74/200\n",
            "22/22 [==============================] - 0s 12ms/step - loss: 1.9940 - mae_last_step: 2.2855 - val_loss: 1.9098 - val_mae_last_step: 2.2650\n",
            "Epoch 75/200\n",
            "22/22 [==============================] - 0s 11ms/step - loss: 1.9864 - mae_last_step: 2.2700 - val_loss: 1.9116 - val_mae_last_step: 2.2717\n",
            "Epoch 76/200\n",
            "22/22 [==============================] - 0s 11ms/step - loss: 1.9919 - mae_last_step: 2.2797 - val_loss: 1.9167 - val_mae_last_step: 2.2750\n",
            "Epoch 77/200\n",
            "22/22 [==============================] - 0s 11ms/step - loss: 1.9865 - mae_last_step: 2.2777 - val_loss: 1.9060 - val_mae_last_step: 2.2604\n",
            "Epoch 78/200\n",
            "22/22 [==============================] - 0s 13ms/step - loss: 1.9865 - mae_last_step: 2.2793 - val_loss: 1.9085 - val_mae_last_step: 2.2635\n",
            "Epoch 79/200\n",
            "22/22 [==============================] - 0s 11ms/step - loss: 1.9802 - mae_last_step: 2.2666 - val_loss: 1.9139 - val_mae_last_step: 2.2888\n",
            "Epoch 80/200\n",
            "22/22 [==============================] - 0s 11ms/step - loss: 1.9857 - mae_last_step: 2.2774 - val_loss: 1.9553 - val_mae_last_step: 2.3205\n",
            "Epoch 81/200\n",
            "22/22 [==============================] - 0s 11ms/step - loss: 1.9889 - mae_last_step: 2.2931 - val_loss: 1.9023 - val_mae_last_step: 2.2562\n",
            "Epoch 82/200\n",
            "22/22 [==============================] - 0s 11ms/step - loss: 1.9791 - mae_last_step: 2.2846 - val_loss: 1.9110 - val_mae_last_step: 2.2758\n",
            "Epoch 83/200\n",
            "22/22 [==============================] - 0s 11ms/step - loss: 1.9848 - mae_last_step: 2.2791 - val_loss: 1.8997 - val_mae_last_step: 2.2684\n",
            "Epoch 84/200\n",
            "22/22 [==============================] - 0s 11ms/step - loss: 1.9799 - mae_last_step: 2.2932 - val_loss: 1.9907 - val_mae_last_step: 2.3798\n",
            "Epoch 85/200\n",
            "22/22 [==============================] - 0s 11ms/step - loss: 1.9885 - mae_last_step: 2.2967 - val_loss: 1.9305 - val_mae_last_step: 2.3069\n",
            "Epoch 86/200\n",
            "22/22 [==============================] - 0s 12ms/step - loss: 1.9859 - mae_last_step: 2.2804 - val_loss: 1.9025 - val_mae_last_step: 2.2718\n",
            "Epoch 87/200\n",
            "22/22 [==============================] - 0s 11ms/step - loss: 1.9794 - mae_last_step: 2.2847 - val_loss: 1.9332 - val_mae_last_step: 2.2986\n",
            "Epoch 88/200\n",
            "22/22 [==============================] - 0s 11ms/step - loss: 1.9783 - mae_last_step: 2.2950 - val_loss: 1.8943 - val_mae_last_step: 2.2558\n",
            "Epoch 89/200\n",
            "22/22 [==============================] - 0s 11ms/step - loss: 1.9721 - mae_last_step: 2.2747 - val_loss: 1.8986 - val_mae_last_step: 2.2690\n",
            "Epoch 90/200\n",
            "22/22 [==============================] - 0s 11ms/step - loss: 1.9744 - mae_last_step: 2.2879 - val_loss: 1.9583 - val_mae_last_step: 2.3480\n",
            "Epoch 91/200\n",
            "22/22 [==============================] - 0s 11ms/step - loss: 1.9795 - mae_last_step: 2.2922 - val_loss: 1.9010 - val_mae_last_step: 2.2665\n",
            "Epoch 92/200\n",
            "22/22 [==============================] - 0s 12ms/step - loss: 1.9737 - mae_last_step: 2.2839 - val_loss: 1.8907 - val_mae_last_step: 2.2687\n",
            "Epoch 93/200\n",
            "22/22 [==============================] - 0s 12ms/step - loss: 1.9697 - mae_last_step: 2.2716 - val_loss: 1.8974 - val_mae_last_step: 2.2700\n",
            "Epoch 94/200\n",
            "22/22 [==============================] - 0s 11ms/step - loss: 1.9718 - mae_last_step: 2.2830 - val_loss: 1.8917 - val_mae_last_step: 2.2815\n",
            "Epoch 95/200\n",
            "22/22 [==============================] - 0s 11ms/step - loss: 1.9691 - mae_last_step: 2.2738 - val_loss: 1.8972 - val_mae_last_step: 2.2664\n",
            "Epoch 96/200\n",
            "22/22 [==============================] - 0s 11ms/step - loss: 1.9675 - mae_last_step: 2.2717 - val_loss: 1.9168 - val_mae_last_step: 2.2959\n",
            "Epoch 97/200\n",
            "22/22 [==============================] - 0s 11ms/step - loss: 1.9651 - mae_last_step: 2.2709 - val_loss: 1.8920 - val_mae_last_step: 2.2607\n",
            "Epoch 98/200\n",
            "22/22 [==============================] - 0s 12ms/step - loss: 1.9656 - mae_last_step: 2.2761 - val_loss: 1.8983 - val_mae_last_step: 2.2806\n",
            "Epoch 99/200\n",
            "22/22 [==============================] - 0s 11ms/step - loss: 1.9683 - mae_last_step: 2.2736 - val_loss: 1.9064 - val_mae_last_step: 2.2852\n",
            "Epoch 100/200\n",
            "22/22 [==============================] - 0s 12ms/step - loss: 1.9699 - mae_last_step: 2.2783 - val_loss: 1.8829 - val_mae_last_step: 2.2508\n",
            "Epoch 101/200\n",
            "22/22 [==============================] - 0s 11ms/step - loss: 1.9744 - mae_last_step: 2.2787 - val_loss: 1.8828 - val_mae_last_step: 2.2575\n",
            "Epoch 102/200\n",
            "22/22 [==============================] - 0s 12ms/step - loss: 1.9589 - mae_last_step: 2.2692 - val_loss: 1.8905 - val_mae_last_step: 2.2822\n",
            "Epoch 103/200\n",
            "22/22 [==============================] - 0s 11ms/step - loss: 1.9661 - mae_last_step: 2.2743 - val_loss: 1.8820 - val_mae_last_step: 2.2647\n",
            "Epoch 104/200\n",
            "22/22 [==============================] - 0s 12ms/step - loss: 1.9666 - mae_last_step: 2.2847 - val_loss: 1.8949 - val_mae_last_step: 2.2695\n",
            "Epoch 105/200\n",
            "22/22 [==============================] - 0s 11ms/step - loss: 1.9621 - mae_last_step: 2.2910 - val_loss: 1.9007 - val_mae_last_step: 2.2921\n",
            "Epoch 106/200\n",
            "22/22 [==============================] - 0s 12ms/step - loss: 1.9613 - mae_last_step: 2.2758 - val_loss: 1.8868 - val_mae_last_step: 2.2645\n",
            "Epoch 107/200\n",
            "22/22 [==============================] - 0s 11ms/step - loss: 1.9573 - mae_last_step: 2.2772 - val_loss: 1.8817 - val_mae_last_step: 2.2596\n",
            "Epoch 108/200\n",
            "22/22 [==============================] - 0s 11ms/step - loss: 1.9579 - mae_last_step: 2.2911 - val_loss: 1.9042 - val_mae_last_step: 2.2862\n",
            "Epoch 109/200\n",
            "22/22 [==============================] - 0s 11ms/step - loss: 1.9638 - mae_last_step: 2.2767 - val_loss: 1.8791 - val_mae_last_step: 2.2529\n",
            "Epoch 110/200\n",
            "22/22 [==============================] - 0s 12ms/step - loss: 1.9580 - mae_last_step: 2.2871 - val_loss: 1.8809 - val_mae_last_step: 2.2532\n",
            "Epoch 111/200\n",
            "22/22 [==============================] - 0s 12ms/step - loss: 1.9600 - mae_last_step: 2.2845 - val_loss: 1.8824 - val_mae_last_step: 2.2659\n",
            "Epoch 112/200\n",
            "22/22 [==============================] - 0s 11ms/step - loss: 1.9607 - mae_last_step: 2.2774 - val_loss: 1.9201 - val_mae_last_step: 2.3129\n",
            "Epoch 113/200\n",
            "22/22 [==============================] - 0s 11ms/step - loss: 1.9613 - mae_last_step: 2.2769 - val_loss: 1.8939 - val_mae_last_step: 2.2871\n",
            "Epoch 114/200\n",
            "22/22 [==============================] - 0s 12ms/step - loss: 1.9640 - mae_last_step: 2.2910 - val_loss: 1.8922 - val_mae_last_step: 2.2896\n",
            "Epoch 115/200\n",
            "22/22 [==============================] - 0s 11ms/step - loss: 1.9552 - mae_last_step: 2.2673 - val_loss: 1.8751 - val_mae_last_step: 2.2646\n",
            "Epoch 116/200\n",
            "22/22 [==============================] - 0s 11ms/step - loss: 1.9551 - mae_last_step: 2.2733 - val_loss: 1.8831 - val_mae_last_step: 2.2910\n",
            "Epoch 117/200\n",
            "22/22 [==============================] - 0s 11ms/step - loss: 1.9536 - mae_last_step: 2.2698 - val_loss: 1.9072 - val_mae_last_step: 2.3076\n",
            "Epoch 118/200\n",
            "22/22 [==============================] - 0s 12ms/step - loss: 1.9582 - mae_last_step: 2.2812 - val_loss: 1.8788 - val_mae_last_step: 2.2746\n",
            "Epoch 119/200\n",
            "22/22 [==============================] - 0s 11ms/step - loss: 1.9542 - mae_last_step: 2.2837 - val_loss: 1.8739 - val_mae_last_step: 2.2619\n",
            "Epoch 120/200\n",
            "22/22 [==============================] - 0s 11ms/step - loss: 1.9531 - mae_last_step: 2.2779 - val_loss: 1.8896 - val_mae_last_step: 2.2912\n",
            "Epoch 121/200\n",
            "22/22 [==============================] - 0s 11ms/step - loss: 1.9562 - mae_last_step: 2.2952 - val_loss: 1.8813 - val_mae_last_step: 2.2695\n",
            "Epoch 122/200\n",
            "22/22 [==============================] - 0s 12ms/step - loss: 1.9516 - mae_last_step: 2.2827 - val_loss: 1.8802 - val_mae_last_step: 2.2732\n",
            "Epoch 123/200\n",
            "22/22 [==============================] - 0s 11ms/step - loss: 1.9581 - mae_last_step: 2.2808 - val_loss: 1.8743 - val_mae_last_step: 2.2712\n",
            "Epoch 124/200\n",
            "22/22 [==============================] - 0s 11ms/step - loss: 1.9515 - mae_last_step: 2.2764 - val_loss: 1.8784 - val_mae_last_step: 2.2671\n",
            "Epoch 125/200\n",
            "22/22 [==============================] - 0s 11ms/step - loss: 1.9587 - mae_last_step: 2.2781 - val_loss: 1.8799 - val_mae_last_step: 2.2861\n",
            "Epoch 126/200\n",
            "22/22 [==============================] - 0s 17ms/step - loss: 1.9534 - mae_last_step: 2.2726 - val_loss: 1.8746 - val_mae_last_step: 2.2612\n",
            "Epoch 127/200\n",
            "22/22 [==============================] - 0s 14ms/step - loss: 1.9540 - mae_last_step: 2.2781 - val_loss: 1.8721 - val_mae_last_step: 2.2502\n",
            "Epoch 128/200\n",
            "22/22 [==============================] - 0s 11ms/step - loss: 1.9497 - mae_last_step: 2.2660 - val_loss: 1.8821 - val_mae_last_step: 2.2714\n",
            "Epoch 129/200\n",
            "22/22 [==============================] - 0s 12ms/step - loss: 1.9523 - mae_last_step: 2.2796 - val_loss: 1.8713 - val_mae_last_step: 2.2635\n",
            "Epoch 130/200\n",
            "22/22 [==============================] - 0s 11ms/step - loss: 1.9514 - mae_last_step: 2.2742 - val_loss: 1.8721 - val_mae_last_step: 2.2623\n",
            "Epoch 131/200\n",
            "22/22 [==============================] - 0s 12ms/step - loss: 1.9449 - mae_last_step: 2.2628 - val_loss: 1.8715 - val_mae_last_step: 2.2738\n",
            "Epoch 132/200\n",
            "22/22 [==============================] - 0s 11ms/step - loss: 1.9492 - mae_last_step: 2.2777 - val_loss: 1.8704 - val_mae_last_step: 2.2638\n",
            "Epoch 133/200\n",
            "22/22 [==============================] - 0s 12ms/step - loss: 1.9477 - mae_last_step: 2.2762 - val_loss: 1.8696 - val_mae_last_step: 2.2646\n",
            "Epoch 134/200\n",
            "22/22 [==============================] - 0s 12ms/step - loss: 1.9455 - mae_last_step: 2.2775 - val_loss: 1.9060 - val_mae_last_step: 2.3193\n",
            "Epoch 135/200\n",
            "22/22 [==============================] - 0s 12ms/step - loss: 1.9509 - mae_last_step: 2.2914 - val_loss: 1.8686 - val_mae_last_step: 2.2574\n",
            "Epoch 136/200\n",
            "22/22 [==============================] - 0s 13ms/step - loss: 1.9435 - mae_last_step: 2.2743 - val_loss: 1.8689 - val_mae_last_step: 2.2656\n",
            "Epoch 137/200\n",
            "22/22 [==============================] - 0s 12ms/step - loss: 1.9457 - mae_last_step: 2.2661 - val_loss: 1.8647 - val_mae_last_step: 2.2656\n",
            "Epoch 138/200\n",
            "22/22 [==============================] - 0s 11ms/step - loss: 1.9443 - mae_last_step: 2.2598 - val_loss: 1.8683 - val_mae_last_step: 2.2609\n",
            "Epoch 139/200\n",
            "22/22 [==============================] - 0s 12ms/step - loss: 1.9518 - mae_last_step: 2.2752 - val_loss: 1.8665 - val_mae_last_step: 2.2626\n",
            "Epoch 140/200\n",
            "22/22 [==============================] - 0s 12ms/step - loss: 1.9420 - mae_last_step: 2.2749 - val_loss: 1.8686 - val_mae_last_step: 2.2803\n",
            "Epoch 141/200\n",
            "22/22 [==============================] - 0s 12ms/step - loss: 1.9414 - mae_last_step: 2.2736 - val_loss: 1.8659 - val_mae_last_step: 2.2622\n",
            "Epoch 142/200\n",
            "22/22 [==============================] - 0s 13ms/step - loss: 1.9498 - mae_last_step: 2.2779 - val_loss: 1.8662 - val_mae_last_step: 2.2575\n",
            "Epoch 143/200\n",
            "22/22 [==============================] - 0s 12ms/step - loss: 1.9394 - mae_last_step: 2.2809 - val_loss: 1.8810 - val_mae_last_step: 2.2792\n",
            "Epoch 144/200\n",
            "22/22 [==============================] - 0s 13ms/step - loss: 1.9445 - mae_last_step: 2.2888 - val_loss: 1.8752 - val_mae_last_step: 2.2671\n",
            "Epoch 145/200\n",
            "22/22 [==============================] - 0s 11ms/step - loss: 1.9420 - mae_last_step: 2.2790 - val_loss: 1.8648 - val_mae_last_step: 2.2566\n",
            "Epoch 146/200\n",
            "22/22 [==============================] - 0s 11ms/step - loss: 1.9402 - mae_last_step: 2.2712 - val_loss: 1.8711 - val_mae_last_step: 2.2586\n",
            "Epoch 147/200\n",
            "22/22 [==============================] - 0s 11ms/step - loss: 1.9447 - mae_last_step: 2.2701 - val_loss: 1.8708 - val_mae_last_step: 2.2612\n",
            "Epoch 148/200\n",
            "22/22 [==============================] - 0s 12ms/step - loss: 1.9409 - mae_last_step: 2.2799 - val_loss: 1.8927 - val_mae_last_step: 2.2961\n",
            "Epoch 149/200\n",
            "22/22 [==============================] - 0s 11ms/step - loss: 1.9430 - mae_last_step: 2.2830 - val_loss: 1.8796 - val_mae_last_step: 2.2949\n",
            "Epoch 150/200\n",
            "22/22 [==============================] - 0s 11ms/step - loss: 1.9393 - mae_last_step: 2.2755 - val_loss: 1.8638 - val_mae_last_step: 2.2583\n",
            "Epoch 151/200\n",
            "22/22 [==============================] - 0s 11ms/step - loss: 1.9387 - mae_last_step: 2.2738 - val_loss: 1.8671 - val_mae_last_step: 2.2584\n",
            "Epoch 152/200\n",
            "22/22 [==============================] - 0s 12ms/step - loss: 1.9412 - mae_last_step: 2.2820 - val_loss: 1.8776 - val_mae_last_step: 2.2971\n",
            "Epoch 153/200\n",
            "22/22 [==============================] - 0s 11ms/step - loss: 1.9467 - mae_last_step: 2.2879 - val_loss: 1.8691 - val_mae_last_step: 2.2633\n",
            "Epoch 154/200\n",
            "22/22 [==============================] - 0s 12ms/step - loss: 1.9409 - mae_last_step: 2.2629 - val_loss: 1.8601 - val_mae_last_step: 2.2676\n",
            "Epoch 155/200\n",
            "22/22 [==============================] - 0s 12ms/step - loss: 1.9397 - mae_last_step: 2.2840 - val_loss: 1.8638 - val_mae_last_step: 2.2657\n",
            "Epoch 156/200\n",
            "22/22 [==============================] - 0s 12ms/step - loss: 1.9407 - mae_last_step: 2.2805 - val_loss: 1.8656 - val_mae_last_step: 2.2749\n",
            "Epoch 157/200\n",
            "22/22 [==============================] - 0s 12ms/step - loss: 1.9356 - mae_last_step: 2.2779 - val_loss: 1.8899 - val_mae_last_step: 2.3052\n",
            "Epoch 158/200\n",
            "22/22 [==============================] - 0s 11ms/step - loss: 1.9427 - mae_last_step: 2.2869 - val_loss: 1.8913 - val_mae_last_step: 2.3078\n",
            "Epoch 159/200\n",
            "22/22 [==============================] - 0s 11ms/step - loss: 1.9446 - mae_last_step: 2.2866 - val_loss: 1.8632 - val_mae_last_step: 2.2530\n",
            "Epoch 160/200\n",
            "22/22 [==============================] - 0s 12ms/step - loss: 1.9419 - mae_last_step: 2.2797 - val_loss: 1.8730 - val_mae_last_step: 2.2926\n",
            "Epoch 161/200\n",
            "22/22 [==============================] - 0s 11ms/step - loss: 1.9370 - mae_last_step: 2.2749 - val_loss: 1.8581 - val_mae_last_step: 2.2525\n",
            "Epoch 162/200\n",
            "22/22 [==============================] - 0s 12ms/step - loss: 1.9360 - mae_last_step: 2.2764 - val_loss: 1.8598 - val_mae_last_step: 2.2642\n",
            "Epoch 163/200\n",
            "22/22 [==============================] - 0s 11ms/step - loss: 1.9378 - mae_last_step: 2.2675 - val_loss: 1.8620 - val_mae_last_step: 2.2756\n",
            "Epoch 164/200\n",
            "22/22 [==============================] - 0s 13ms/step - loss: 1.9357 - mae_last_step: 2.2820 - val_loss: 1.8671 - val_mae_last_step: 2.2754\n",
            "Epoch 165/200\n",
            "22/22 [==============================] - 0s 12ms/step - loss: 1.9380 - mae_last_step: 2.2801 - val_loss: 1.8597 - val_mae_last_step: 2.2619\n",
            "Epoch 166/200\n",
            "22/22 [==============================] - 0s 12ms/step - loss: 1.9367 - mae_last_step: 2.2777 - val_loss: 1.8586 - val_mae_last_step: 2.2526\n",
            "Epoch 167/200\n",
            "22/22 [==============================] - 0s 12ms/step - loss: 1.9379 - mae_last_step: 2.2795 - val_loss: 1.8625 - val_mae_last_step: 2.2759\n",
            "Epoch 168/200\n",
            "22/22 [==============================] - 0s 12ms/step - loss: 1.9340 - mae_last_step: 2.2583 - val_loss: 1.8574 - val_mae_last_step: 2.2657\n",
            "Epoch 169/200\n",
            "22/22 [==============================] - 0s 11ms/step - loss: 1.9333 - mae_last_step: 2.2709 - val_loss: 1.8669 - val_mae_last_step: 2.2778\n",
            "Epoch 170/200\n",
            "22/22 [==============================] - 0s 11ms/step - loss: 1.9361 - mae_last_step: 2.2766 - val_loss: 1.8615 - val_mae_last_step: 2.2701\n",
            "Epoch 171/200\n",
            "22/22 [==============================] - 0s 12ms/step - loss: 1.9351 - mae_last_step: 2.2662 - val_loss: 1.8573 - val_mae_last_step: 2.2571\n",
            "Epoch 172/200\n",
            "22/22 [==============================] - 0s 12ms/step - loss: 1.9348 - mae_last_step: 2.2785 - val_loss: 1.8577 - val_mae_last_step: 2.2636\n",
            "Epoch 173/200\n",
            "22/22 [==============================] - 0s 12ms/step - loss: 1.9372 - mae_last_step: 2.2598 - val_loss: 1.8632 - val_mae_last_step: 2.2700\n",
            "Epoch 174/200\n",
            "22/22 [==============================] - 0s 13ms/step - loss: 1.9362 - mae_last_step: 2.2870 - val_loss: 1.8597 - val_mae_last_step: 2.2655\n",
            "Epoch 175/200\n",
            "22/22 [==============================] - 0s 13ms/step - loss: 1.9317 - mae_last_step: 2.2717 - val_loss: 1.8581 - val_mae_last_step: 2.2564\n",
            "Epoch 176/200\n",
            "22/22 [==============================] - 0s 11ms/step - loss: 1.9360 - mae_last_step: 2.2763 - val_loss: 1.8606 - val_mae_last_step: 2.2839\n",
            "Epoch 177/200\n",
            "22/22 [==============================] - 0s 12ms/step - loss: 1.9384 - mae_last_step: 2.2854 - val_loss: 1.8589 - val_mae_last_step: 2.2707\n",
            "Epoch 178/200\n",
            "22/22 [==============================] - 0s 19ms/step - loss: 1.9312 - mae_last_step: 2.2677 - val_loss: 1.8693 - val_mae_last_step: 2.2907\n",
            "Epoch 179/200\n",
            "22/22 [==============================] - 0s 17ms/step - loss: 1.9337 - mae_last_step: 2.2614 - val_loss: 1.8715 - val_mae_last_step: 2.2761\n",
            "Epoch 180/200\n",
            "22/22 [==============================] - 0s 12ms/step - loss: 1.9356 - mae_last_step: 2.2784 - val_loss: 1.8702 - val_mae_last_step: 2.2886\n",
            "Epoch 181/200\n",
            "22/22 [==============================] - 0s 12ms/step - loss: 1.9386 - mae_last_step: 2.2877 - val_loss: 1.8707 - val_mae_last_step: 2.2887\n",
            "Epoch 182/200\n",
            "22/22 [==============================] - 0s 12ms/step - loss: 1.9374 - mae_last_step: 2.2744 - val_loss: 1.8699 - val_mae_last_step: 2.2805\n",
            "Epoch 183/200\n",
            "22/22 [==============================] - 0s 13ms/step - loss: 1.9296 - mae_last_step: 2.2820 - val_loss: 1.8551 - val_mae_last_step: 2.2620\n",
            "Epoch 184/200\n",
            "22/22 [==============================] - 0s 11ms/step - loss: 1.9349 - mae_last_step: 2.2716 - val_loss: 1.8566 - val_mae_last_step: 2.2552\n",
            "Epoch 185/200\n",
            "22/22 [==============================] - 0s 12ms/step - loss: 1.9337 - mae_last_step: 2.2699 - val_loss: 1.8563 - val_mae_last_step: 2.2535\n",
            "Epoch 186/200\n",
            "22/22 [==============================] - 0s 12ms/step - loss: 1.9301 - mae_last_step: 2.2722 - val_loss: 1.8570 - val_mae_last_step: 2.2601\n",
            "Epoch 187/200\n",
            "22/22 [==============================] - 0s 11ms/step - loss: 1.9358 - mae_last_step: 2.2824 - val_loss: 1.8600 - val_mae_last_step: 2.2665\n",
            "Epoch 188/200\n",
            "22/22 [==============================] - 0s 12ms/step - loss: 1.9305 - mae_last_step: 2.2732 - val_loss: 1.8628 - val_mae_last_step: 2.2694\n",
            "Epoch 189/200\n",
            "22/22 [==============================] - 0s 11ms/step - loss: 1.9336 - mae_last_step: 2.2720 - val_loss: 1.8556 - val_mae_last_step: 2.2586\n",
            "Epoch 190/200\n",
            "22/22 [==============================] - 0s 12ms/step - loss: 1.9334 - mae_last_step: 2.2701 - val_loss: 1.8987 - val_mae_last_step: 2.3077\n",
            "Epoch 191/200\n",
            "22/22 [==============================] - 0s 11ms/step - loss: 1.9319 - mae_last_step: 2.2595 - val_loss: 1.8615 - val_mae_last_step: 2.2662\n",
            "Epoch 192/200\n",
            "22/22 [==============================] - 0s 17ms/step - loss: 1.9314 - mae_last_step: 2.2626 - val_loss: 1.8598 - val_mae_last_step: 2.2610\n",
            "Epoch 193/200\n",
            "22/22 [==============================] - 0s 21ms/step - loss: 1.9363 - mae_last_step: 2.2799 - val_loss: 1.8566 - val_mae_last_step: 2.2689\n",
            "Epoch 194/200\n",
            "22/22 [==============================] - 1s 23ms/step - loss: 1.9321 - mae_last_step: 2.2747 - val_loss: 1.8553 - val_mae_last_step: 2.2685\n",
            "Epoch 195/200\n",
            "22/22 [==============================] - 0s 19ms/step - loss: 1.9302 - mae_last_step: 2.2696 - val_loss: 1.8609 - val_mae_last_step: 2.2788\n",
            "Epoch 196/200\n",
            "22/22 [==============================] - 0s 12ms/step - loss: 1.9280 - mae_last_step: 2.2728 - val_loss: 1.8643 - val_mae_last_step: 2.2669\n",
            "Epoch 197/200\n",
            "22/22 [==============================] - 0s 12ms/step - loss: 1.9324 - mae_last_step: 2.2698 - val_loss: 1.8585 - val_mae_last_step: 2.2672\n",
            "Epoch 198/200\n",
            "22/22 [==============================] - 0s 12ms/step - loss: 1.9333 - mae_last_step: 2.2645 - val_loss: 1.8549 - val_mae_last_step: 2.2510\n",
            "Epoch 199/200\n",
            "22/22 [==============================] - 0s 11ms/step - loss: 1.9288 - mae_last_step: 2.2742 - val_loss: 1.8563 - val_mae_last_step: 2.2547\n",
            "Epoch 200/200\n",
            "22/22 [==============================] - 0s 11ms/step - loss: 1.9290 - mae_last_step: 2.2759 - val_loss: 1.8542 - val_mae_last_step: 2.2647\n"
          ]
        }
      ],
      "source": [
        "historySeq2SeqLSTM_reg = modelSeq2SeqLSTM_reg.fit(X_train_3D, \n",
        "                                    Y_train_3D, \n",
        "                                    epochs=200, \n",
        "                                    batch_size=100,\n",
        "                                    validation_data=(X_valid_3D, Y_valid_3D))"
      ]
    },
    {
      "cell_type": "code",
      "execution_count": null,
      "metadata": {
        "id": "J9KnkKExbd88",
        "colab": {
          "base_uri": "https://localhost:8080/"
        },
        "outputId": "69b24766-e16a-4d15-9064-ce008555e83d"
      },
      "outputs": [
        {
          "output_type": "stream",
          "name": "stdout",
          "text": [
            "23/23 [==============================] - 0s 5ms/step - loss: 1.7607 - mae_last_step: 2.0812\n"
          ]
        },
        {
          "output_type": "execute_result",
          "data": {
            "text/plain": [
              "[1.7607115507125854, 2.0812411308288574]"
            ]
          },
          "metadata": {},
          "execution_count": 61
        }
      ],
      "source": [
        "score_seq2seq_LSTM_reg = modelSeq2SeqLSTM_reg.evaluate(X_test_3D, Y_test_3D)\n",
        "score_seq2seq_LSTM_reg"
      ]
    },
    {
      "cell_type": "code",
      "execution_count": null,
      "metadata": {
        "id": "xpqma3MCbd8-",
        "colab": {
          "base_uri": "https://localhost:8080/",
          "height": 265
        },
        "outputId": "b213c37c-d001-4f9b-e2fd-46c8082998b5"
      },
      "outputs": [
        {
          "output_type": "display_data",
          "data": {
            "text/plain": [
              "<Figure size 432x288 with 1 Axes>"
            ],
            "image/png": "[encoded data removed]"
          },
          "metadata": {
            "needs_background": "light"
          }
        }
      ],
      "source": [
        "plot_history(historySeq2SeqLSTM_reg)"
      ]
    },
    {
      "cell_type": "code",
      "execution_count": null,
      "metadata": {
        "id": "jG64P6tDbd8_",
        "colab": {
          "base_uri": "https://localhost:8080/"
        },
        "outputId": "a3a36227-2681-4c5f-c2c6-ac432a44ee18"
      },
      "outputs": [
        {
          "output_type": "stream",
          "name": "stdout",
          "text": [
            "23/23 [==============================] - 1s 4ms/step\n"
          ]
        }
      ],
      "source": [
        "y_pred_seq2seq_lstm_reg = modelSeq2SeqLSTM_reg.predict(X_test_3D)[:, -1]"
      ]
    },
    {
      "cell_type": "code",
      "execution_count": null,
      "metadata": {
        "id": "yURlOeycbd9C",
        "colab": {
          "base_uri": "https://localhost:8080/",
          "height": 320
        },
        "outputId": "9cd65a5e-65fc-4589-fd8d-415d89da6e51"
      },
      "outputs": [
        {
          "output_type": "display_data",
          "data": {
            "text/plain": [
              "<Figure size 720x360 with 1 Axes>"
            ],
            "image/png": "[encoded data removed]"
          },
          "metadata": {
            "needs_background": "light"
          }
        }
      ],
      "source": [
        "plot_predictions((\"Target\", y_test),\n",
        "                 (\"Linear\", y_pred_linear),\n",
        "                 (\"seq2seqLSTMreg\", y_pred_seq2seq_lstm_reg),\n",
        "                 end=365)"
      ]
    },
    {
      "cell_type": "markdown",
      "metadata": {
        "id": "qiqYzvnNbd9E"
      },
      "source": [
        "# 4 – Preprocessing with 1D-ConvNets\n",
        "\n",
        "At the beginning of your sequential model, add a `Conv1D` layer with 32 kernels of size 5, a `MaxPool1D` layer with pool size 5 and strides 2. Train and evaluate the model."
      ]
    },
    {
      "cell_type": "code",
      "execution_count": null,
      "metadata": {
        "id": "mYHSXjR6bd9E"
      },
      "outputs": [],
      "source": [
        "model_conv1D_lstm = keras.models.Sequential()\n",
        "model_conv1D_lstm.add(keras.layers.Conv1D(filters=32,kernel_size=5,input_shape=input_shape))\n",
        "model_conv1D_lstm.add(keras.layers.MaxPool1D(pool_size =5,strides=2))\n",
        "model_conv1D_lstm.add(keras.layers.LSTM(32, return_sequences=True))\n",
        "model_conv1D_lstm.add(keras.layers.LSTM(32))\n",
        "model_conv1D_lstm.add(keras.layers.Dense(1))\n",
        "model_conv1D_lstm.compile(loss=huber_loss, optimizer=keras.optimizers.SGD(learning_rate=0.005))"
      ]
    },
    {
      "cell_type": "code",
      "execution_count": null,
      "metadata": {
        "id": "i69B2OXdbd9F",
        "colab": {
          "base_uri": "https://localhost:8080/"
        },
        "outputId": "dc036f20-6c10-4bbd-e770-357fed2f746c"
      },
      "outputs": [
        {
          "output_type": "stream",
          "name": "stdout",
          "text": [
            "Model: \"sequential_8\"\n",
            "_________________________________________________________________\n",
            " Layer (type)                Output Shape              Param #   \n",
            "=================================================================\n",
            " conv1d_3 (Conv1D)           (None, 26, 32)            192       \n",
            "                                                                 \n",
            " max_pooling1d_1 (MaxPooling  (None, 11, 32)           0         \n",
            " 1D)                                                             \n",
            "                                                                 \n",
            " lstm_8 (LSTM)               (None, 11, 32)            8320      \n",
            "                                                                 \n",
            " lstm_9 (LSTM)               (None, 32)                8320      \n",
            "                                                                 \n",
            " dense_6 (Dense)             (None, 1)                 33        \n",
            "                                                                 \n",
            "=================================================================\n",
            "Total params: 16,865\n",
            "Trainable params: 16,865\n",
            "Non-trainable params: 0\n",
            "_________________________________________________________________\n"
          ]
        }
      ],
      "source": [
        "model_conv1D_lstm.summary()"
      ]
    },
    {
      "cell_type": "code",
      "execution_count": null,
      "metadata": {
        "id": "O3bCFRVJbd9H",
        "scrolled": true,
        "colab": {
          "base_uri": "https://localhost:8080/"
        },
        "outputId": "d708a260-2472-4bd5-e548-10e408d9abea"
      },
      "outputs": [
        {
          "output_type": "stream",
          "name": "stdout",
          "text": [
            "Epoch 1/200\n",
            "22/22 [==============================] - 7s 50ms/step - loss: 9.1495 - val_loss: 8.4518\n",
            "Epoch 2/200\n",
            "22/22 [==============================] - 0s 8ms/step - loss: 7.3056 - val_loss: 6.9339\n",
            "Epoch 3/200\n",
            "22/22 [==============================] - 0s 7ms/step - loss: 5.9080 - val_loss: 5.5146\n",
            "Epoch 4/200\n",
            "22/22 [==============================] - 0s 7ms/step - loss: 4.6616 - val_loss: 4.2937\n",
            "Epoch 5/200\n",
            "22/22 [==============================] - 0s 8ms/step - loss: 3.7203 - val_loss: 3.4326\n",
            "Epoch 6/200\n",
            "22/22 [==============================] - 0s 7ms/step - loss: 3.1728 - val_loss: 2.9330\n",
            "Epoch 7/200\n",
            "22/22 [==============================] - 0s 9ms/step - loss: 2.9101 - val_loss: 2.6955\n",
            "Epoch 8/200\n",
            "22/22 [==============================] - 0s 7ms/step - loss: 2.8004 - val_loss: 2.5871\n",
            "Epoch 9/200\n",
            "22/22 [==============================] - 0s 7ms/step - loss: 2.7517 - val_loss: 2.5322\n",
            "Epoch 10/200\n",
            "22/22 [==============================] - 0s 8ms/step - loss: 2.7214 - val_loss: 2.4920\n",
            "Epoch 11/200\n",
            "22/22 [==============================] - 0s 8ms/step - loss: 2.7024 - val_loss: 2.4713\n",
            "Epoch 12/200\n",
            "22/22 [==============================] - 0s 8ms/step - loss: 2.6777 - val_loss: 2.4429\n",
            "Epoch 13/200\n",
            "22/22 [==============================] - 0s 8ms/step - loss: 2.6384 - val_loss: 2.4874\n",
            "Epoch 14/200\n",
            "22/22 [==============================] - 0s 7ms/step - loss: 2.5939 - val_loss: 2.4765\n",
            "Epoch 15/200\n",
            "22/22 [==============================] - 0s 7ms/step - loss: 2.5497 - val_loss: 2.3277\n",
            "Epoch 16/200\n",
            "22/22 [==============================] - 0s 9ms/step - loss: 2.4116 - val_loss: 2.1961\n",
            "Epoch 17/200\n",
            "22/22 [==============================] - 0s 8ms/step - loss: 2.3592 - val_loss: 2.1711\n",
            "Epoch 18/200\n",
            "22/22 [==============================] - 0s 8ms/step - loss: 2.2375 - val_loss: 2.1724\n",
            "Epoch 19/200\n",
            "22/22 [==============================] - 0s 7ms/step - loss: 2.1660 - val_loss: 1.9702\n",
            "Epoch 20/200\n",
            "22/22 [==============================] - 0s 8ms/step - loss: 2.1981 - val_loss: 2.2397\n",
            "Epoch 21/200\n",
            "22/22 [==============================] - 0s 9ms/step - loss: 2.0996 - val_loss: 3.7265\n",
            "Epoch 22/200\n",
            "22/22 [==============================] - 0s 8ms/step - loss: 2.2357 - val_loss: 1.8740\n",
            "Epoch 23/200\n",
            "22/22 [==============================] - 0s 8ms/step - loss: 2.0566 - val_loss: 1.8989\n",
            "Epoch 24/200\n",
            "22/22 [==============================] - 0s 9ms/step - loss: 2.0705 - val_loss: 2.0303\n",
            "Epoch 25/200\n",
            "22/22 [==============================] - 0s 7ms/step - loss: 2.0127 - val_loss: 2.5062\n",
            "Epoch 26/200\n",
            "22/22 [==============================] - 0s 9ms/step - loss: 2.0780 - val_loss: 1.8563\n",
            "Epoch 27/200\n",
            "22/22 [==============================] - 0s 8ms/step - loss: 1.9823 - val_loss: 1.8132\n",
            "Epoch 28/200\n",
            "22/22 [==============================] - 0s 8ms/step - loss: 1.9708 - val_loss: 2.0457\n",
            "Epoch 29/200\n",
            "22/22 [==============================] - 0s 8ms/step - loss: 1.9817 - val_loss: 1.8757\n",
            "Epoch 30/200\n",
            "22/22 [==============================] - 0s 8ms/step - loss: 1.9831 - val_loss: 1.7955\n",
            "Epoch 31/200\n",
            "22/22 [==============================] - 0s 7ms/step - loss: 1.9351 - val_loss: 1.9542\n",
            "Epoch 32/200\n",
            "22/22 [==============================] - 0s 9ms/step - loss: 1.9570 - val_loss: 1.8088\n",
            "Epoch 33/200\n",
            "22/22 [==============================] - 0s 8ms/step - loss: 1.9291 - val_loss: 1.8847\n",
            "Epoch 34/200\n",
            "22/22 [==============================] - 0s 8ms/step - loss: 1.9356 - val_loss: 1.8148\n",
            "Epoch 35/200\n",
            "22/22 [==============================] - 0s 9ms/step - loss: 1.9533 - val_loss: 1.8440\n",
            "Epoch 36/200\n",
            "22/22 [==============================] - 0s 8ms/step - loss: 1.9288 - val_loss: 1.8018\n",
            "Epoch 37/200\n",
            "22/22 [==============================] - 0s 7ms/step - loss: 1.9267 - val_loss: 1.7986\n",
            "Epoch 38/200\n",
            "22/22 [==============================] - 0s 8ms/step - loss: 1.9166 - val_loss: 1.8885\n",
            "Epoch 39/200\n",
            "22/22 [==============================] - 0s 8ms/step - loss: 1.9204 - val_loss: 1.8223\n",
            "Epoch 40/200\n",
            "22/22 [==============================] - 0s 7ms/step - loss: 1.9207 - val_loss: 1.9012\n",
            "Epoch 41/200\n",
            "22/22 [==============================] - 0s 7ms/step - loss: 1.9539 - val_loss: 1.9037\n",
            "Epoch 42/200\n",
            "22/22 [==============================] - 0s 8ms/step - loss: 1.9205 - val_loss: 1.7727\n",
            "Epoch 43/200\n",
            "22/22 [==============================] - 0s 9ms/step - loss: 1.9178 - val_loss: 1.7813\n",
            "Epoch 44/200\n",
            "22/22 [==============================] - 0s 8ms/step - loss: 1.9193 - val_loss: 1.9750\n",
            "Epoch 45/200\n",
            "22/22 [==============================] - 0s 10ms/step - loss: 1.9313 - val_loss: 1.7752\n",
            "Epoch 46/200\n",
            "22/22 [==============================] - 0s 8ms/step - loss: 1.9152 - val_loss: 1.8657\n",
            "Epoch 47/200\n",
            "22/22 [==============================] - 0s 7ms/step - loss: 1.9030 - val_loss: 1.7833\n",
            "Epoch 48/200\n",
            "22/22 [==============================] - 0s 9ms/step - loss: 1.9153 - val_loss: 1.7849\n",
            "Epoch 49/200\n",
            "22/22 [==============================] - 0s 8ms/step - loss: 1.9345 - val_loss: 1.7866\n",
            "Epoch 50/200\n",
            "22/22 [==============================] - 0s 8ms/step - loss: 1.9159 - val_loss: 1.8619\n",
            "Epoch 51/200\n",
            "22/22 [==============================] - 0s 8ms/step - loss: 1.8986 - val_loss: 1.8353\n",
            "Epoch 52/200\n",
            "22/22 [==============================] - 0s 7ms/step - loss: 1.9103 - val_loss: 1.9172\n",
            "Epoch 53/200\n",
            "22/22 [==============================] - 0s 9ms/step - loss: 1.9144 - val_loss: 1.7887\n",
            "Epoch 54/200\n",
            "22/22 [==============================] - 0s 8ms/step - loss: 1.9171 - val_loss: 1.8184\n",
            "Epoch 55/200\n",
            "22/22 [==============================] - 0s 7ms/step - loss: 1.9074 - val_loss: 1.9491\n",
            "Epoch 56/200\n",
            "22/22 [==============================] - 0s 8ms/step - loss: 1.9125 - val_loss: 1.7786\n",
            "Epoch 57/200\n",
            "22/22 [==============================] - 0s 9ms/step - loss: 1.9024 - val_loss: 1.7828\n",
            "Epoch 58/200\n",
            "22/22 [==============================] - 0s 9ms/step - loss: 1.9208 - val_loss: 1.7942\n",
            "Epoch 59/200\n",
            "22/22 [==============================] - 0s 7ms/step - loss: 1.8956 - val_loss: 1.7627\n",
            "Epoch 60/200\n",
            "22/22 [==============================] - 0s 8ms/step - loss: 1.8931 - val_loss: 1.8070\n",
            "Epoch 61/200\n",
            "22/22 [==============================] - 0s 7ms/step - loss: 1.9099 - val_loss: 1.8003\n",
            "Epoch 62/200\n",
            "22/22 [==============================] - 0s 8ms/step - loss: 1.8941 - val_loss: 1.9492\n",
            "Epoch 63/200\n",
            "22/22 [==============================] - 0s 8ms/step - loss: 1.9086 - val_loss: 1.8086\n",
            "Epoch 64/200\n",
            "22/22 [==============================] - 0s 7ms/step - loss: 1.8893 - val_loss: 1.7619\n",
            "Epoch 65/200\n",
            "22/22 [==============================] - 0s 9ms/step - loss: 1.8861 - val_loss: 1.7860\n",
            "Epoch 66/200\n",
            "22/22 [==============================] - 0s 10ms/step - loss: 1.8814 - val_loss: 1.8334\n",
            "Epoch 67/200\n",
            "22/22 [==============================] - 0s 8ms/step - loss: 1.9468 - val_loss: 1.7977\n",
            "Epoch 68/200\n",
            "22/22 [==============================] - 0s 7ms/step - loss: 1.8859 - val_loss: 1.8783\n",
            "Epoch 69/200\n",
            "22/22 [==============================] - 0s 8ms/step - loss: 1.8883 - val_loss: 1.7676\n",
            "Epoch 70/200\n",
            "22/22 [==============================] - 0s 7ms/step - loss: 1.8935 - val_loss: 1.7709\n",
            "Epoch 71/200\n",
            "22/22 [==============================] - 0s 8ms/step - loss: 1.9002 - val_loss: 1.7726\n",
            "Epoch 72/200\n",
            "22/22 [==============================] - 0s 8ms/step - loss: 1.8826 - val_loss: 1.7653\n",
            "Epoch 73/200\n",
            "22/22 [==============================] - 0s 8ms/step - loss: 1.8873 - val_loss: 1.7601\n",
            "Epoch 74/200\n",
            "22/22 [==============================] - 0s 9ms/step - loss: 1.8888 - val_loss: 1.7603\n",
            "Epoch 75/200\n",
            "22/22 [==============================] - 0s 7ms/step - loss: 1.8799 - val_loss: 1.7661\n",
            "Epoch 76/200\n",
            "22/22 [==============================] - 0s 9ms/step - loss: 1.8767 - val_loss: 1.8849\n",
            "Epoch 77/200\n",
            "22/22 [==============================] - 0s 7ms/step - loss: 1.8635 - val_loss: 1.7736\n",
            "Epoch 78/200\n",
            "22/22 [==============================] - 0s 7ms/step - loss: 1.9080 - val_loss: 1.7810\n",
            "Epoch 79/200\n",
            "22/22 [==============================] - 0s 8ms/step - loss: 1.8940 - val_loss: 1.9814\n",
            "Epoch 80/200\n",
            "22/22 [==============================] - 0s 7ms/step - loss: 1.9079 - val_loss: 1.7599\n",
            "Epoch 81/200\n",
            "22/22 [==============================] - 0s 7ms/step - loss: 1.8965 - val_loss: 1.7635\n",
            "Epoch 82/200\n",
            "22/22 [==============================] - 0s 7ms/step - loss: 1.8769 - val_loss: 1.7644\n",
            "Epoch 83/200\n",
            "22/22 [==============================] - 0s 7ms/step - loss: 1.8831 - val_loss: 1.8859\n",
            "Epoch 84/200\n",
            "22/22 [==============================] - 0s 8ms/step - loss: 1.8933 - val_loss: 2.0166\n",
            "Epoch 85/200\n",
            "22/22 [==============================] - 0s 8ms/step - loss: 1.8835 - val_loss: 1.7583\n",
            "Epoch 86/200\n",
            "22/22 [==============================] - 0s 8ms/step - loss: 1.8724 - val_loss: 1.7795\n",
            "Epoch 87/200\n",
            "22/22 [==============================] - 0s 7ms/step - loss: 1.8725 - val_loss: 1.7638\n",
            "Epoch 88/200\n",
            "22/22 [==============================] - 0s 9ms/step - loss: 1.8861 - val_loss: 1.7564\n",
            "Epoch 89/200\n",
            "22/22 [==============================] - 0s 8ms/step - loss: 1.8670 - val_loss: 2.1036\n",
            "Epoch 90/200\n",
            "22/22 [==============================] - 0s 8ms/step - loss: 1.9021 - val_loss: 1.8915\n",
            "Epoch 91/200\n",
            "22/22 [==============================] - 0s 8ms/step - loss: 1.9112 - val_loss: 1.8667\n",
            "Epoch 92/200\n",
            "22/22 [==============================] - 0s 9ms/step - loss: 1.8614 - val_loss: 1.7688\n",
            "Epoch 93/200\n",
            "22/22 [==============================] - 0s 9ms/step - loss: 1.9162 - val_loss: 1.7528\n",
            "Epoch 94/200\n",
            "22/22 [==============================] - 0s 8ms/step - loss: 1.8588 - val_loss: 1.7559\n",
            "Epoch 95/200\n",
            "22/22 [==============================] - 0s 8ms/step - loss: 1.8745 - val_loss: 1.8512\n",
            "Epoch 96/200\n",
            "22/22 [==============================] - 0s 8ms/step - loss: 1.9017 - val_loss: 1.8165\n",
            "Epoch 97/200\n",
            "22/22 [==============================] - 0s 7ms/step - loss: 1.8736 - val_loss: 1.7973\n",
            "Epoch 98/200\n",
            "22/22 [==============================] - 0s 8ms/step - loss: 1.8878 - val_loss: 1.7528\n",
            "Epoch 99/200\n",
            "22/22 [==============================] - 0s 8ms/step - loss: 1.8686 - val_loss: 1.9061\n",
            "Epoch 100/200\n",
            "22/22 [==============================] - 0s 9ms/step - loss: 1.8795 - val_loss: 1.9397\n",
            "Epoch 101/200\n",
            "22/22 [==============================] - 0s 8ms/step - loss: 1.8600 - val_loss: 1.7791\n",
            "Epoch 102/200\n",
            "22/22 [==============================] - 0s 7ms/step - loss: 1.8807 - val_loss: 1.7734\n",
            "Epoch 103/200\n",
            "22/22 [==============================] - 0s 9ms/step - loss: 1.8949 - val_loss: 1.7543\n",
            "Epoch 104/200\n",
            "22/22 [==============================] - 0s 7ms/step - loss: 1.8897 - val_loss: 1.7496\n",
            "Epoch 105/200\n",
            "22/22 [==============================] - 0s 8ms/step - loss: 1.8584 - val_loss: 1.8288\n",
            "Epoch 106/200\n",
            "22/22 [==============================] - 0s 8ms/step - loss: 1.8734 - val_loss: 1.8215\n",
            "Epoch 107/200\n",
            "22/22 [==============================] - 0s 8ms/step - loss: 1.8497 - val_loss: 1.7570\n",
            "Epoch 108/200\n",
            "22/22 [==============================] - 0s 8ms/step - loss: 1.8547 - val_loss: 1.7520\n",
            "Epoch 109/200\n",
            "22/22 [==============================] - 0s 9ms/step - loss: 1.8365 - val_loss: 1.7972\n",
            "Epoch 110/200\n",
            "22/22 [==============================] - 0s 10ms/step - loss: 1.8732 - val_loss: 1.7520\n",
            "Epoch 111/200\n",
            "22/22 [==============================] - 0s 9ms/step - loss: 1.8674 - val_loss: 1.8434\n",
            "Epoch 112/200\n",
            "22/22 [==============================] - 0s 10ms/step - loss: 1.8756 - val_loss: 1.7540\n",
            "Epoch 113/200\n",
            "22/22 [==============================] - 0s 7ms/step - loss: 1.8498 - val_loss: 1.7640\n",
            "Epoch 114/200\n",
            "22/22 [==============================] - 0s 8ms/step - loss: 1.8561 - val_loss: 1.8279\n",
            "Epoch 115/200\n",
            "22/22 [==============================] - 0s 10ms/step - loss: 1.8888 - val_loss: 1.8656\n",
            "Epoch 116/200\n",
            "22/22 [==============================] - 0s 9ms/step - loss: 1.8673 - val_loss: 1.7490\n",
            "Epoch 117/200\n",
            "22/22 [==============================] - 0s 8ms/step - loss: 1.8518 - val_loss: 1.9576\n",
            "Epoch 118/200\n",
            "22/22 [==============================] - 0s 9ms/step - loss: 1.8427 - val_loss: 1.7905\n",
            "Epoch 119/200\n",
            "22/22 [==============================] - 0s 10ms/step - loss: 1.8402 - val_loss: 1.7627\n",
            "Epoch 120/200\n",
            "22/22 [==============================] - 0s 8ms/step - loss: 1.8968 - val_loss: 1.7887\n",
            "Epoch 121/200\n",
            "22/22 [==============================] - 0s 8ms/step - loss: 1.8642 - val_loss: 1.7627\n",
            "Epoch 122/200\n",
            "22/22 [==============================] - 0s 7ms/step - loss: 1.8323 - val_loss: 1.7458\n",
            "Epoch 123/200\n",
            "22/22 [==============================] - 0s 8ms/step - loss: 1.8494 - val_loss: 1.7634\n",
            "Epoch 124/200\n",
            "22/22 [==============================] - 0s 9ms/step - loss: 1.8570 - val_loss: 1.7465\n",
            "Epoch 125/200\n",
            "22/22 [==============================] - 0s 8ms/step - loss: 1.8440 - val_loss: 1.7664\n",
            "Epoch 126/200\n",
            "22/22 [==============================] - 0s 8ms/step - loss: 1.8560 - val_loss: 1.8161\n",
            "Epoch 127/200\n",
            "22/22 [==============================] - 0s 8ms/step - loss: 1.8431 - val_loss: 1.9352\n",
            "Epoch 128/200\n",
            "22/22 [==============================] - 0s 8ms/step - loss: 1.8359 - val_loss: 1.7785\n",
            "Epoch 129/200\n",
            "22/22 [==============================] - 0s 8ms/step - loss: 1.8433 - val_loss: 1.7932\n",
            "Epoch 130/200\n",
            "22/22 [==============================] - 0s 8ms/step - loss: 1.8464 - val_loss: 1.7537\n",
            "Epoch 131/200\n",
            "22/22 [==============================] - 0s 8ms/step - loss: 1.8308 - val_loss: 1.8436\n",
            "Epoch 132/200\n",
            "22/22 [==============================] - 0s 8ms/step - loss: 1.8534 - val_loss: 1.8651\n",
            "Epoch 133/200\n",
            "22/22 [==============================] - 0s 10ms/step - loss: 1.8578 - val_loss: 1.8101\n",
            "Epoch 134/200\n",
            "22/22 [==============================] - 0s 8ms/step - loss: 1.8452 - val_loss: 1.7406\n",
            "Epoch 135/200\n",
            "22/22 [==============================] - 0s 7ms/step - loss: 1.8409 - val_loss: 1.8925\n",
            "Epoch 136/200\n",
            "22/22 [==============================] - 0s 8ms/step - loss: 1.8424 - val_loss: 1.7671\n",
            "Epoch 137/200\n",
            "22/22 [==============================] - 0s 8ms/step - loss: 1.8746 - val_loss: 1.7994\n",
            "Epoch 138/200\n",
            "22/22 [==============================] - 0s 8ms/step - loss: 1.8429 - val_loss: 1.9218\n",
            "Epoch 139/200\n",
            "22/22 [==============================] - 0s 8ms/step - loss: 1.8532 - val_loss: 1.7674\n",
            "Epoch 140/200\n",
            "22/22 [==============================] - 0s 8ms/step - loss: 1.8274 - val_loss: 1.8748\n",
            "Epoch 141/200\n",
            "22/22 [==============================] - 0s 10ms/step - loss: 1.8191 - val_loss: 1.8567\n",
            "Epoch 142/200\n",
            "22/22 [==============================] - 0s 8ms/step - loss: 1.8719 - val_loss: 1.7732\n",
            "Epoch 143/200\n",
            "22/22 [==============================] - 0s 8ms/step - loss: 1.8294 - val_loss: 1.8719\n",
            "Epoch 144/200\n",
            "22/22 [==============================] - 0s 9ms/step - loss: 1.8399 - val_loss: 1.7385\n",
            "Epoch 145/200\n",
            "22/22 [==============================] - 0s 8ms/step - loss: 1.8278 - val_loss: 2.0113\n",
            "Epoch 146/200\n",
            "22/22 [==============================] - 0s 10ms/step - loss: 1.8484 - val_loss: 1.7892\n",
            "Epoch 147/200\n",
            "22/22 [==============================] - 0s 8ms/step - loss: 1.8805 - val_loss: 1.7449\n",
            "Epoch 148/200\n",
            "22/22 [==============================] - 0s 7ms/step - loss: 1.8253 - val_loss: 1.7382\n",
            "Epoch 149/200\n",
            "22/22 [==============================] - 0s 8ms/step - loss: 1.8576 - val_loss: 1.8578\n",
            "Epoch 150/200\n",
            "22/22 [==============================] - 0s 10ms/step - loss: 1.8394 - val_loss: 1.8359\n",
            "Epoch 151/200\n",
            "22/22 [==============================] - 0s 8ms/step - loss: 1.8253 - val_loss: 1.7411\n",
            "Epoch 152/200\n",
            "22/22 [==============================] - 0s 8ms/step - loss: 1.8323 - val_loss: 1.8380\n",
            "Epoch 153/200\n",
            "22/22 [==============================] - 0s 8ms/step - loss: 1.8274 - val_loss: 1.8032\n",
            "Epoch 154/200\n",
            "22/22 [==============================] - 0s 8ms/step - loss: 1.8152 - val_loss: 1.7466\n",
            "Epoch 155/200\n",
            "22/22 [==============================] - 0s 8ms/step - loss: 1.8347 - val_loss: 1.7562\n",
            "Epoch 156/200\n",
            "22/22 [==============================] - 0s 8ms/step - loss: 1.8307 - val_loss: 1.9394\n",
            "Epoch 157/200\n",
            "22/22 [==============================] - 0s 8ms/step - loss: 1.8246 - val_loss: 1.7452\n",
            "Epoch 158/200\n",
            "22/22 [==============================] - 0s 8ms/step - loss: 1.8091 - val_loss: 1.9702\n",
            "Epoch 159/200\n",
            "22/22 [==============================] - 0s 8ms/step - loss: 1.8245 - val_loss: 1.7449\n",
            "Epoch 160/200\n",
            "22/22 [==============================] - 0s 7ms/step - loss: 1.8499 - val_loss: 1.8070\n",
            "Epoch 161/200\n",
            "22/22 [==============================] - 0s 10ms/step - loss: 1.8243 - val_loss: 1.8502\n",
            "Epoch 162/200\n",
            "22/22 [==============================] - 0s 9ms/step - loss: 1.8498 - val_loss: 1.7539\n",
            "Epoch 163/200\n",
            "22/22 [==============================] - 0s 8ms/step - loss: 1.8209 - val_loss: 1.7689\n",
            "Epoch 164/200\n",
            "22/22 [==============================] - 0s 7ms/step - loss: 1.8375 - val_loss: 2.0081\n",
            "Epoch 165/200\n",
            "22/22 [==============================] - 0s 8ms/step - loss: 1.8203 - val_loss: 1.7501\n",
            "Epoch 166/200\n",
            "22/22 [==============================] - 0s 9ms/step - loss: 1.8309 - val_loss: 1.7539\n",
            "Epoch 167/200\n",
            "22/22 [==============================] - 0s 10ms/step - loss: 1.7980 - val_loss: 1.7555\n",
            "Epoch 168/200\n",
            "22/22 [==============================] - 0s 8ms/step - loss: 1.8654 - val_loss: 1.7486\n",
            "Epoch 169/200\n",
            "22/22 [==============================] - 0s 8ms/step - loss: 1.8144 - val_loss: 1.7362\n",
            "Epoch 170/200\n",
            "22/22 [==============================] - 0s 8ms/step - loss: 1.8212 - val_loss: 1.7904\n",
            "Epoch 171/200\n",
            "22/22 [==============================] - 0s 8ms/step - loss: 1.8318 - val_loss: 1.7762\n",
            "Epoch 172/200\n",
            "22/22 [==============================] - 0s 8ms/step - loss: 1.8206 - val_loss: 1.7705\n",
            "Epoch 173/200\n",
            "22/22 [==============================] - 0s 8ms/step - loss: 1.8286 - val_loss: 1.7912\n",
            "Epoch 174/200\n",
            "22/22 [==============================] - 0s 8ms/step - loss: 1.7860 - val_loss: 1.7885\n",
            "Epoch 175/200\n",
            "22/22 [==============================] - 0s 7ms/step - loss: 1.8124 - val_loss: 1.8400\n",
            "Epoch 176/200\n",
            "22/22 [==============================] - 0s 7ms/step - loss: 1.8096 - val_loss: 2.0257\n",
            "Epoch 177/200\n",
            "22/22 [==============================] - 0s 10ms/step - loss: 1.8304 - val_loss: 1.8820\n",
            "Epoch 178/200\n",
            "22/22 [==============================] - 0s 10ms/step - loss: 1.8188 - val_loss: 1.7767\n",
            "Epoch 179/200\n",
            "22/22 [==============================] - 0s 8ms/step - loss: 1.8253 - val_loss: 1.8046\n",
            "Epoch 180/200\n",
            "22/22 [==============================] - 0s 10ms/step - loss: 1.8030 - val_loss: 1.9351\n",
            "Epoch 181/200\n",
            "22/22 [==============================] - 0s 8ms/step - loss: 1.8003 - val_loss: 1.7537\n",
            "Epoch 182/200\n",
            "22/22 [==============================] - 0s 9ms/step - loss: 1.7859 - val_loss: 1.7350\n",
            "Epoch 183/200\n",
            "22/22 [==============================] - 0s 10ms/step - loss: 1.8608 - val_loss: 1.8409\n",
            "Epoch 184/200\n",
            "22/22 [==============================] - 0s 8ms/step - loss: 1.7967 - val_loss: 1.8122\n",
            "Epoch 185/200\n",
            "22/22 [==============================] - 0s 8ms/step - loss: 1.8288 - val_loss: 2.2063\n",
            "Epoch 186/200\n",
            "22/22 [==============================] - 0s 8ms/step - loss: 1.8754 - val_loss: 1.7533\n",
            "Epoch 187/200\n",
            "22/22 [==============================] - 0s 8ms/step - loss: 1.7855 - val_loss: 1.7647\n",
            "Epoch 188/200\n",
            "22/22 [==============================] - 0s 8ms/step - loss: 1.7970 - val_loss: 1.7869\n",
            "Epoch 189/200\n",
            "22/22 [==============================] - 0s 9ms/step - loss: 1.7956 - val_loss: 1.7491\n",
            "Epoch 190/200\n",
            "22/22 [==============================] - 0s 8ms/step - loss: 1.8291 - val_loss: 1.7806\n",
            "Epoch 191/200\n",
            "22/22 [==============================] - 0s 8ms/step - loss: 1.8097 - val_loss: 1.8139\n",
            "Epoch 192/200\n",
            "22/22 [==============================] - 0s 10ms/step - loss: 1.8058 - val_loss: 1.8360\n",
            "Epoch 193/200\n",
            "22/22 [==============================] - 0s 8ms/step - loss: 1.8008 - val_loss: 1.7593\n",
            "Epoch 194/200\n",
            "22/22 [==============================] - 0s 8ms/step - loss: 1.7983 - val_loss: 2.3310\n",
            "Epoch 195/200\n",
            "22/22 [==============================] - 0s 8ms/step - loss: 1.9244 - val_loss: 1.7736\n",
            "Epoch 196/200\n",
            "22/22 [==============================] - 0s 7ms/step - loss: 1.8397 - val_loss: 1.7392\n",
            "Epoch 197/200\n",
            "22/22 [==============================] - 0s 8ms/step - loss: 1.8104 - val_loss: 1.7509\n",
            "Epoch 198/200\n",
            "22/22 [==============================] - 0s 8ms/step - loss: 1.8155 - val_loss: 1.8134\n",
            "Epoch 199/200\n",
            "22/22 [==============================] - 0s 10ms/step - loss: 1.7828 - val_loss: 1.7666\n",
            "Epoch 200/200\n",
            "22/22 [==============================] - 0s 7ms/step - loss: 1.7885 - val_loss: 1.7670\n"
          ]
        }
      ],
      "source": [
        "history4 = model_conv1D_lstm.fit(X_train_3D, \n",
        "                                 y_train, \n",
        "                                 epochs=200, \n",
        "                                 batch_size=100,\n",
        "                                 validation_data=(X_valid_3D, y_valid))"
      ]
    },
    {
      "cell_type": "code",
      "execution_count": null,
      "metadata": {
        "colab": {
          "base_uri": "https://localhost:8080/"
        },
        "id": "E9JIxrI776Gr",
        "outputId": "fd875b40-27a1-41df-a89a-4789f2e78a84"
      },
      "outputs": [
        {
          "output_type": "stream",
          "name": "stdout",
          "text": [
            "23/23 [==============================] - 0s 4ms/step - loss: 1.7291\n"
          ]
        },
        {
          "output_type": "execute_result",
          "data": {
            "text/plain": [
              "1.7291136980056763"
            ]
          },
          "metadata": {},
          "execution_count": 73
        }
      ],
      "source": [
        "score_conv1D_lstm = model_conv1D_lstm.evaluate(X_test_3D, y_test)\n",
        "score_conv1D_lstm"
      ]
    }
  ],
  "metadata": {
    "accelerator": "GPU",
    "colab": {
      "provenance": []
    },
    "kernelspec": {
      "display_name": "Python 3 (ipykernel)",
      "language": "python",
      "name": "python3"
    },
    "language_info": {
      "codemirror_mode": {
        "name": "ipython",
        "version": 3
      },
      "file_extension": ".py",
      "mimetype": "text/x-python",
      "name": "python",
      "nbconvert_exporter": "python",
      "pygments_lexer": "ipython3",
      "version": "3.9.12"
    },
    "vscode": {
      "interpreter": {
        "hash": "31f2aee4e71d21fbe5cf8b01ff0e069b9275f58929596ceb00d14d90e3e16cd6"
      }
    }
  },
  "nbformat": 4,
  "nbformat_minor": 0
}